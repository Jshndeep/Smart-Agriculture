{
 "cells": [
  {
   "cell_type": "code",
   "execution_count": 1,
   "id": "da745168",
   "metadata": {
    "_cell_guid": "b1076dfc-b9ad-4769-8c92-a6c4dae69d19",
    "_uuid": "8f2839f25d086af736a60e9eeb907d3b93b6e0e5",
    "execution": {
     "iopub.execute_input": "2023-09-19T15:47:46.052827Z",
     "iopub.status.busy": "2023-09-19T15:47:46.052201Z",
     "iopub.status.idle": "2023-09-19T15:47:46.065738Z",
     "shell.execute_reply": "2023-09-19T15:47:46.064072Z"
    },
    "papermill": {
     "duration": 0.031962,
     "end_time": "2023-09-19T15:47:46.068803",
     "exception": false,
     "start_time": "2023-09-19T15:47:46.036841",
     "status": "completed"
    },
    "tags": []
   },
   "outputs": [
    {
     "name": "stdout",
     "output_type": "stream",
     "text": [
      "/kaggle/input/soil-moisture-levels/Soil Moisture.csv\n"
     ]
    }
   ],
   "source": [
    "# This Python 3 environment comes with many helpful analytics libraries installed\n",
    "# It is defined by the kaggle/python Docker image: https://github.com/kaggle/docker-python\n",
    "# For example, here's several helpful packages to load\n",
    "\n",
    "import numpy as np # linear algebra\n",
    "import pandas as pd # data processing, CSV file I/O (e.g. pd.read_csv)\n",
    "\n",
    "# Input data files are available in the read-only \"../input/\" directory\n",
    "# For example, running this (by clicking run or pressing Shift+Enter) will list all files under the input directory\n",
    "\n",
    "import os\n",
    "for dirname, _, filenames in os.walk('/kaggle/input'):\n",
    "    for filename in filenames:\n",
    "        print(os.path.join(dirname, filename))\n",
    "\n",
    "# You can write up to 20GB to the current directory (/kaggle/working/) that gets preserved as output when you create a version using \"Save & Run All\" \n",
    "# You can also write temporary files to /kaggle/temp/, but they won't be saved outside of the current session"
   ]
  },
  {
   "cell_type": "code",
   "execution_count": 2,
   "id": "e9175e7c",
   "metadata": {
    "execution": {
     "iopub.execute_input": "2023-09-19T15:47:46.099174Z",
     "iopub.status.busy": "2023-09-19T15:47:46.098780Z",
     "iopub.status.idle": "2023-09-19T15:47:46.104292Z",
     "shell.execute_reply": "2023-09-19T15:47:46.103074Z"
    },
    "papermill": {
     "duration": 0.0226,
     "end_time": "2023-09-19T15:47:46.106264",
     "exception": false,
     "start_time": "2023-09-19T15:47:46.083664",
     "status": "completed"
    },
    "tags": []
   },
   "outputs": [],
   "source": [
    "#Description : This program detects soil moisture,based off of data"
   ]
  },
  {
   "cell_type": "markdown",
   "id": "a2a8b305",
   "metadata": {
    "papermill": {
     "duration": 0.014063,
     "end_time": "2023-09-19T15:47:46.133545",
     "exception": false,
     "start_time": "2023-09-19T15:47:46.119482",
     "status": "completed"
    },
    "tags": []
   },
   "source": [
    "# **Loading the data**"
   ]
  },
  {
   "cell_type": "code",
   "execution_count": 3,
   "id": "b1d92af9",
   "metadata": {
    "execution": {
     "iopub.execute_input": "2023-09-19T15:47:46.164254Z",
     "iopub.status.busy": "2023-09-19T15:47:46.163836Z",
     "iopub.status.idle": "2023-09-19T15:47:47.851703Z",
     "shell.execute_reply": "2023-09-19T15:47:47.850611Z"
    },
    "papermill": {
     "duration": 1.706369,
     "end_time": "2023-09-19T15:47:47.854067",
     "exception": false,
     "start_time": "2023-09-19T15:47:46.147698",
     "status": "completed"
    },
    "tags": []
   },
   "outputs": [],
   "source": [
    "#Import libraries\n",
    "import numpy as np\n",
    "import pandas as pd\n",
    "import matplotlib.pyplot as plt\n",
    "import seaborn as sns"
   ]
  },
  {
   "cell_type": "code",
   "execution_count": 4,
   "id": "36714924",
   "metadata": {
    "execution": {
     "iopub.execute_input": "2023-09-19T15:47:47.883440Z",
     "iopub.status.busy": "2023-09-19T15:47:47.883017Z",
     "iopub.status.idle": "2023-09-19T15:47:47.888056Z",
     "shell.execute_reply": "2023-09-19T15:47:47.886659Z"
    },
    "papermill": {
     "duration": 0.022848,
     "end_time": "2023-09-19T15:47:47.890611",
     "exception": false,
     "start_time": "2023-09-19T15:47:47.867763",
     "status": "completed"
    },
    "tags": []
   },
   "outputs": [],
   "source": [
    "url = \"/kaggle/input/soil-moisture-levels/Soil Moisture.csv\""
   ]
  },
  {
   "cell_type": "code",
   "execution_count": 5,
   "id": "811425af",
   "metadata": {
    "execution": {
     "iopub.execute_input": "2023-09-19T15:47:47.919091Z",
     "iopub.status.busy": "2023-09-19T15:47:47.918745Z",
     "iopub.status.idle": "2023-09-19T15:47:48.029845Z",
     "shell.execute_reply": "2023-09-19T15:47:48.029011Z"
    },
    "papermill": {
     "duration": 0.127432,
     "end_time": "2023-09-19T15:47:48.031634",
     "exception": false,
     "start_time": "2023-09-19T15:47:47.904202",
     "status": "completed"
    },
    "tags": []
   },
   "outputs": [
    {
     "data": {
      "text/html": [
       "<div>\n",
       "<style scoped>\n",
       "    .dataframe tbody tr th:only-of-type {\n",
       "        vertical-align: middle;\n",
       "    }\n",
       "\n",
       "    .dataframe tbody tr th {\n",
       "        vertical-align: top;\n",
       "    }\n",
       "\n",
       "    .dataframe thead th {\n",
       "        text-align: right;\n",
       "    }\n",
       "</style>\n",
       "<table border=\"1\" class=\"dataframe\">\n",
       "  <thead>\n",
       "    <tr style=\"text-align: right;\">\n",
       "      <th></th>\n",
       "      <th>ttime</th>\n",
       "      <th>pm1</th>\n",
       "      <th>pm2</th>\n",
       "      <th>pm3</th>\n",
       "      <th>am</th>\n",
       "      <th>sm</th>\n",
       "      <th>lum</th>\n",
       "      <th>temp</th>\n",
       "      <th>humd</th>\n",
       "      <th>pres</th>\n",
       "    </tr>\n",
       "  </thead>\n",
       "  <tbody>\n",
       "    <tr>\n",
       "      <th>0</th>\n",
       "      <td>2022-07-18 15:39:58</td>\n",
       "      <td>0.83</td>\n",
       "      <td>0.00</td>\n",
       "      <td>0.00</td>\n",
       "      <td>0.0</td>\n",
       "      <td>7463.0</td>\n",
       "      <td>6547.0</td>\n",
       "      <td>23.02</td>\n",
       "      <td>90.57</td>\n",
       "      <td>92849.25</td>\n",
       "    </tr>\n",
       "    <tr>\n",
       "      <th>1</th>\n",
       "      <td>2022-07-18 15:44:55</td>\n",
       "      <td>1.39</td>\n",
       "      <td>0.00</td>\n",
       "      <td>0.00</td>\n",
       "      <td>0.0</td>\n",
       "      <td>7576.0</td>\n",
       "      <td>10249.0</td>\n",
       "      <td>23.47</td>\n",
       "      <td>88.37</td>\n",
       "      <td>92848.31</td>\n",
       "    </tr>\n",
       "    <tr>\n",
       "      <th>2</th>\n",
       "      <td>2022-07-18 15:49:55</td>\n",
       "      <td>1.95</td>\n",
       "      <td>0.00</td>\n",
       "      <td>0.00</td>\n",
       "      <td>0.0</td>\n",
       "      <td>7576.0</td>\n",
       "      <td>12636.0</td>\n",
       "      <td>23.64</td>\n",
       "      <td>85.26</td>\n",
       "      <td>92844.82</td>\n",
       "    </tr>\n",
       "    <tr>\n",
       "      <th>3</th>\n",
       "      <td>2022-07-18 15:54:55</td>\n",
       "      <td>2.51</td>\n",
       "      <td>0.00</td>\n",
       "      <td>0.00</td>\n",
       "      <td>0.0</td>\n",
       "      <td>7463.0</td>\n",
       "      <td>8318.0</td>\n",
       "      <td>23.62</td>\n",
       "      <td>85.93</td>\n",
       "      <td>92834.94</td>\n",
       "    </tr>\n",
       "    <tr>\n",
       "      <th>4</th>\n",
       "      <td>2022-07-18 15:59:56</td>\n",
       "      <td>0.55</td>\n",
       "      <td>2.51</td>\n",
       "      <td>2.51</td>\n",
       "      <td>0.0</td>\n",
       "      <td>7463.0</td>\n",
       "      <td>4149.0</td>\n",
       "      <td>23.82</td>\n",
       "      <td>86.06</td>\n",
       "      <td>92815.25</td>\n",
       "    </tr>\n",
       "    <tr>\n",
       "      <th>...</th>\n",
       "      <td>...</td>\n",
       "      <td>...</td>\n",
       "      <td>...</td>\n",
       "      <td>...</td>\n",
       "      <td>...</td>\n",
       "      <td>...</td>\n",
       "      <td>...</td>\n",
       "      <td>...</td>\n",
       "      <td>...</td>\n",
       "      <td>...</td>\n",
       "    </tr>\n",
       "    <tr>\n",
       "      <th>20161</th>\n",
       "      <td>2023-03-10 08:59:16</td>\n",
       "      <td>0.55</td>\n",
       "      <td>1.11</td>\n",
       "      <td>27.38</td>\n",
       "      <td>3.2</td>\n",
       "      <td>327.0</td>\n",
       "      <td>6352.0</td>\n",
       "      <td>27.04</td>\n",
       "      <td>32.24</td>\n",
       "      <td>93560.72</td>\n",
       "    </tr>\n",
       "    <tr>\n",
       "      <th>20162</th>\n",
       "      <td>2023-03-10 09:27:12</td>\n",
       "      <td>1.11</td>\n",
       "      <td>1.11</td>\n",
       "      <td>27.38</td>\n",
       "      <td>3.2</td>\n",
       "      <td>327.0</td>\n",
       "      <td>7057.0</td>\n",
       "      <td>28.53</td>\n",
       "      <td>28.69</td>\n",
       "      <td>93574.12</td>\n",
       "    </tr>\n",
       "    <tr>\n",
       "      <th>20163</th>\n",
       "      <td>2023-03-10 09:55:12</td>\n",
       "      <td>1.67</td>\n",
       "      <td>1.11</td>\n",
       "      <td>27.38</td>\n",
       "      <td>4.8</td>\n",
       "      <td>327.0</td>\n",
       "      <td>7661.0</td>\n",
       "      <td>30.07</td>\n",
       "      <td>24.39</td>\n",
       "      <td>93571.75</td>\n",
       "    </tr>\n",
       "    <tr>\n",
       "      <th>20164</th>\n",
       "      <td>2023-03-10 10:23:12</td>\n",
       "      <td>0.55</td>\n",
       "      <td>1.67</td>\n",
       "      <td>27.93</td>\n",
       "      <td>4.0</td>\n",
       "      <td>327.0</td>\n",
       "      <td>8386.0</td>\n",
       "      <td>31.55</td>\n",
       "      <td>22.99</td>\n",
       "      <td>93558.36</td>\n",
       "    </tr>\n",
       "    <tr>\n",
       "      <th>20165</th>\n",
       "      <td>2023-03-10 10:51:14</td>\n",
       "      <td>1.11</td>\n",
       "      <td>1.67</td>\n",
       "      <td>27.93</td>\n",
       "      <td>2.4</td>\n",
       "      <td>328.0</td>\n",
       "      <td>8954.0</td>\n",
       "      <td>32.68</td>\n",
       "      <td>20.85</td>\n",
       "      <td>93541.99</td>\n",
       "    </tr>\n",
       "  </tbody>\n",
       "</table>\n",
       "<p>20166 rows × 10 columns</p>\n",
       "</div>"
      ],
      "text/plain": [
       "                     ttime   pm1   pm2    pm3   am      sm      lum   temp  \\\n",
       "0      2022-07-18 15:39:58  0.83  0.00   0.00  0.0  7463.0   6547.0  23.02   \n",
       "1      2022-07-18 15:44:55  1.39  0.00   0.00  0.0  7576.0  10249.0  23.47   \n",
       "2      2022-07-18 15:49:55  1.95  0.00   0.00  0.0  7576.0  12636.0  23.64   \n",
       "3      2022-07-18 15:54:55  2.51  0.00   0.00  0.0  7463.0   8318.0  23.62   \n",
       "4      2022-07-18 15:59:56  0.55  2.51   2.51  0.0  7463.0   4149.0  23.82   \n",
       "...                    ...   ...   ...    ...  ...     ...      ...    ...   \n",
       "20161  2023-03-10 08:59:16  0.55  1.11  27.38  3.2   327.0   6352.0  27.04   \n",
       "20162  2023-03-10 09:27:12  1.11  1.11  27.38  3.2   327.0   7057.0  28.53   \n",
       "20163  2023-03-10 09:55:12  1.67  1.11  27.38  4.8   327.0   7661.0  30.07   \n",
       "20164  2023-03-10 10:23:12  0.55  1.67  27.93  4.0   327.0   8386.0  31.55   \n",
       "20165  2023-03-10 10:51:14  1.11  1.67  27.93  2.4   328.0   8954.0  32.68   \n",
       "\n",
       "        humd      pres  \n",
       "0      90.57  92849.25  \n",
       "1      88.37  92848.31  \n",
       "2      85.26  92844.82  \n",
       "3      85.93  92834.94  \n",
       "4      86.06  92815.25  \n",
       "...      ...       ...  \n",
       "20161  32.24  93560.72  \n",
       "20162  28.69  93574.12  \n",
       "20163  24.39  93571.75  \n",
       "20164  22.99  93558.36  \n",
       "20165  20.85  93541.99  \n",
       "\n",
       "[20166 rows x 10 columns]"
      ]
     },
     "execution_count": 5,
     "metadata": {},
     "output_type": "execute_result"
    }
   ],
   "source": [
    "#Load the data\n",
    "df = pd.read_csv(url)\n",
    "df"
   ]
  },
  {
   "cell_type": "code",
   "execution_count": 6,
   "id": "62be49e8",
   "metadata": {
    "execution": {
     "iopub.execute_input": "2023-09-19T15:47:48.062388Z",
     "iopub.status.busy": "2023-09-19T15:47:48.061750Z",
     "iopub.status.idle": "2023-09-19T15:47:48.077690Z",
     "shell.execute_reply": "2023-09-19T15:47:48.076499Z"
    },
    "papermill": {
     "duration": 0.034509,
     "end_time": "2023-09-19T15:47:48.080018",
     "exception": false,
     "start_time": "2023-09-19T15:47:48.045509",
     "status": "completed"
    },
    "tags": []
   },
   "outputs": [
    {
     "data": {
      "text/html": [
       "<div>\n",
       "<style scoped>\n",
       "    .dataframe tbody tr th:only-of-type {\n",
       "        vertical-align: middle;\n",
       "    }\n",
       "\n",
       "    .dataframe tbody tr th {\n",
       "        vertical-align: top;\n",
       "    }\n",
       "\n",
       "    .dataframe thead th {\n",
       "        text-align: right;\n",
       "    }\n",
       "</style>\n",
       "<table border=\"1\" class=\"dataframe\">\n",
       "  <thead>\n",
       "    <tr style=\"text-align: right;\">\n",
       "      <th></th>\n",
       "      <th>ttime</th>\n",
       "      <th>pm1</th>\n",
       "      <th>pm2</th>\n",
       "      <th>pm3</th>\n",
       "      <th>am</th>\n",
       "      <th>sm</th>\n",
       "      <th>lum</th>\n",
       "      <th>temp</th>\n",
       "      <th>humd</th>\n",
       "      <th>pres</th>\n",
       "    </tr>\n",
       "  </thead>\n",
       "  <tbody>\n",
       "    <tr>\n",
       "      <th>0</th>\n",
       "      <td>2022-07-18 15:39:58</td>\n",
       "      <td>0.83</td>\n",
       "      <td>0.00</td>\n",
       "      <td>0.00</td>\n",
       "      <td>0.0</td>\n",
       "      <td>7463.0</td>\n",
       "      <td>6547.0</td>\n",
       "      <td>23.02</td>\n",
       "      <td>90.57</td>\n",
       "      <td>92849.25</td>\n",
       "    </tr>\n",
       "    <tr>\n",
       "      <th>1</th>\n",
       "      <td>2022-07-18 15:44:55</td>\n",
       "      <td>1.39</td>\n",
       "      <td>0.00</td>\n",
       "      <td>0.00</td>\n",
       "      <td>0.0</td>\n",
       "      <td>7576.0</td>\n",
       "      <td>10249.0</td>\n",
       "      <td>23.47</td>\n",
       "      <td>88.37</td>\n",
       "      <td>92848.31</td>\n",
       "    </tr>\n",
       "    <tr>\n",
       "      <th>2</th>\n",
       "      <td>2022-07-18 15:49:55</td>\n",
       "      <td>1.95</td>\n",
       "      <td>0.00</td>\n",
       "      <td>0.00</td>\n",
       "      <td>0.0</td>\n",
       "      <td>7576.0</td>\n",
       "      <td>12636.0</td>\n",
       "      <td>23.64</td>\n",
       "      <td>85.26</td>\n",
       "      <td>92844.82</td>\n",
       "    </tr>\n",
       "    <tr>\n",
       "      <th>3</th>\n",
       "      <td>2022-07-18 15:54:55</td>\n",
       "      <td>2.51</td>\n",
       "      <td>0.00</td>\n",
       "      <td>0.00</td>\n",
       "      <td>0.0</td>\n",
       "      <td>7463.0</td>\n",
       "      <td>8318.0</td>\n",
       "      <td>23.62</td>\n",
       "      <td>85.93</td>\n",
       "      <td>92834.94</td>\n",
       "    </tr>\n",
       "    <tr>\n",
       "      <th>4</th>\n",
       "      <td>2022-07-18 15:59:56</td>\n",
       "      <td>0.55</td>\n",
       "      <td>2.51</td>\n",
       "      <td>2.51</td>\n",
       "      <td>0.0</td>\n",
       "      <td>7463.0</td>\n",
       "      <td>4149.0</td>\n",
       "      <td>23.82</td>\n",
       "      <td>86.06</td>\n",
       "      <td>92815.25</td>\n",
       "    </tr>\n",
       "  </tbody>\n",
       "</table>\n",
       "</div>"
      ],
      "text/plain": [
       "                 ttime   pm1   pm2   pm3   am      sm      lum   temp   humd  \\\n",
       "0  2022-07-18 15:39:58  0.83  0.00  0.00  0.0  7463.0   6547.0  23.02  90.57   \n",
       "1  2022-07-18 15:44:55  1.39  0.00  0.00  0.0  7576.0  10249.0  23.47  88.37   \n",
       "2  2022-07-18 15:49:55  1.95  0.00  0.00  0.0  7576.0  12636.0  23.64  85.26   \n",
       "3  2022-07-18 15:54:55  2.51  0.00  0.00  0.0  7463.0   8318.0  23.62  85.93   \n",
       "4  2022-07-18 15:59:56  0.55  2.51  2.51  0.0  7463.0   4149.0  23.82  86.06   \n",
       "\n",
       "       pres  \n",
       "0  92849.25  \n",
       "1  92848.31  \n",
       "2  92844.82  \n",
       "3  92834.94  \n",
       "4  92815.25  "
      ]
     },
     "execution_count": 6,
     "metadata": {},
     "output_type": "execute_result"
    }
   ],
   "source": [
    "#To display first five records\n",
    "df.head(5)"
   ]
  },
  {
   "cell_type": "code",
   "execution_count": 7,
   "id": "e621f654",
   "metadata": {
    "execution": {
     "iopub.execute_input": "2023-09-19T15:47:48.110665Z",
     "iopub.status.busy": "2023-09-19T15:47:48.110005Z",
     "iopub.status.idle": "2023-09-19T15:47:48.124906Z",
     "shell.execute_reply": "2023-09-19T15:47:48.124063Z"
    },
    "papermill": {
     "duration": 0.032896,
     "end_time": "2023-09-19T15:47:48.126817",
     "exception": false,
     "start_time": "2023-09-19T15:47:48.093921",
     "status": "completed"
    },
    "tags": []
   },
   "outputs": [
    {
     "data": {
      "text/html": [
       "<div>\n",
       "<style scoped>\n",
       "    .dataframe tbody tr th:only-of-type {\n",
       "        vertical-align: middle;\n",
       "    }\n",
       "\n",
       "    .dataframe tbody tr th {\n",
       "        vertical-align: top;\n",
       "    }\n",
       "\n",
       "    .dataframe thead th {\n",
       "        text-align: right;\n",
       "    }\n",
       "</style>\n",
       "<table border=\"1\" class=\"dataframe\">\n",
       "  <thead>\n",
       "    <tr style=\"text-align: right;\">\n",
       "      <th></th>\n",
       "      <th>ttime</th>\n",
       "      <th>pm1</th>\n",
       "      <th>pm2</th>\n",
       "      <th>pm3</th>\n",
       "      <th>am</th>\n",
       "      <th>sm</th>\n",
       "      <th>lum</th>\n",
       "      <th>temp</th>\n",
       "      <th>humd</th>\n",
       "      <th>pres</th>\n",
       "    </tr>\n",
       "  </thead>\n",
       "  <tbody>\n",
       "    <tr>\n",
       "      <th>20161</th>\n",
       "      <td>2023-03-10 08:59:16</td>\n",
       "      <td>0.55</td>\n",
       "      <td>1.11</td>\n",
       "      <td>27.38</td>\n",
       "      <td>3.2</td>\n",
       "      <td>327.0</td>\n",
       "      <td>6352.0</td>\n",
       "      <td>27.04</td>\n",
       "      <td>32.24</td>\n",
       "      <td>93560.72</td>\n",
       "    </tr>\n",
       "    <tr>\n",
       "      <th>20162</th>\n",
       "      <td>2023-03-10 09:27:12</td>\n",
       "      <td>1.11</td>\n",
       "      <td>1.11</td>\n",
       "      <td>27.38</td>\n",
       "      <td>3.2</td>\n",
       "      <td>327.0</td>\n",
       "      <td>7057.0</td>\n",
       "      <td>28.53</td>\n",
       "      <td>28.69</td>\n",
       "      <td>93574.12</td>\n",
       "    </tr>\n",
       "    <tr>\n",
       "      <th>20163</th>\n",
       "      <td>2023-03-10 09:55:12</td>\n",
       "      <td>1.67</td>\n",
       "      <td>1.11</td>\n",
       "      <td>27.38</td>\n",
       "      <td>4.8</td>\n",
       "      <td>327.0</td>\n",
       "      <td>7661.0</td>\n",
       "      <td>30.07</td>\n",
       "      <td>24.39</td>\n",
       "      <td>93571.75</td>\n",
       "    </tr>\n",
       "    <tr>\n",
       "      <th>20164</th>\n",
       "      <td>2023-03-10 10:23:12</td>\n",
       "      <td>0.55</td>\n",
       "      <td>1.67</td>\n",
       "      <td>27.93</td>\n",
       "      <td>4.0</td>\n",
       "      <td>327.0</td>\n",
       "      <td>8386.0</td>\n",
       "      <td>31.55</td>\n",
       "      <td>22.99</td>\n",
       "      <td>93558.36</td>\n",
       "    </tr>\n",
       "    <tr>\n",
       "      <th>20165</th>\n",
       "      <td>2023-03-10 10:51:14</td>\n",
       "      <td>1.11</td>\n",
       "      <td>1.67</td>\n",
       "      <td>27.93</td>\n",
       "      <td>2.4</td>\n",
       "      <td>328.0</td>\n",
       "      <td>8954.0</td>\n",
       "      <td>32.68</td>\n",
       "      <td>20.85</td>\n",
       "      <td>93541.99</td>\n",
       "    </tr>\n",
       "  </tbody>\n",
       "</table>\n",
       "</div>"
      ],
      "text/plain": [
       "                     ttime   pm1   pm2    pm3   am     sm     lum   temp  \\\n",
       "20161  2023-03-10 08:59:16  0.55  1.11  27.38  3.2  327.0  6352.0  27.04   \n",
       "20162  2023-03-10 09:27:12  1.11  1.11  27.38  3.2  327.0  7057.0  28.53   \n",
       "20163  2023-03-10 09:55:12  1.67  1.11  27.38  4.8  327.0  7661.0  30.07   \n",
       "20164  2023-03-10 10:23:12  0.55  1.67  27.93  4.0  327.0  8386.0  31.55   \n",
       "20165  2023-03-10 10:51:14  1.11  1.67  27.93  2.4  328.0  8954.0  32.68   \n",
       "\n",
       "        humd      pres  \n",
       "20161  32.24  93560.72  \n",
       "20162  28.69  93574.12  \n",
       "20163  24.39  93571.75  \n",
       "20164  22.99  93558.36  \n",
       "20165  20.85  93541.99  "
      ]
     },
     "execution_count": 7,
     "metadata": {},
     "output_type": "execute_result"
    }
   ],
   "source": [
    "#To display last five records\n",
    "df.tail(5)"
   ]
  },
  {
   "cell_type": "code",
   "execution_count": 8,
   "id": "e091fe51",
   "metadata": {
    "execution": {
     "iopub.execute_input": "2023-09-19T15:47:48.158897Z",
     "iopub.status.busy": "2023-09-19T15:47:48.157432Z",
     "iopub.status.idle": "2023-09-19T15:47:48.167564Z",
     "shell.execute_reply": "2023-09-19T15:47:48.165896Z"
    },
    "papermill": {
     "duration": 0.028215,
     "end_time": "2023-09-19T15:47:48.169941",
     "exception": false,
     "start_time": "2023-09-19T15:47:48.141726",
     "status": "completed"
    },
    "tags": []
   },
   "outputs": [
    {
     "data": {
      "text/plain": [
       "0        7463.0\n",
       "1        7576.0\n",
       "2        7576.0\n",
       "3        7463.0\n",
       "4        7463.0\n",
       "          ...  \n",
       "20161     327.0\n",
       "20162     327.0\n",
       "20163     327.0\n",
       "20164     327.0\n",
       "20165     328.0\n",
       "Name: sm, Length: 20166, dtype: float64"
      ]
     },
     "execution_count": 8,
     "metadata": {},
     "output_type": "execute_result"
    }
   ],
   "source": [
    "#To display soil moisture\n",
    "df['sm']"
   ]
  },
  {
   "cell_type": "markdown",
   "id": "fc348ff5",
   "metadata": {
    "papermill": {
     "duration": 0.01433,
     "end_time": "2023-09-19T15:47:48.199396",
     "exception": false,
     "start_time": "2023-09-19T15:47:48.185066",
     "status": "completed"
    },
    "tags": []
   },
   "source": [
    "# **Describing the data**"
   ]
  },
  {
   "cell_type": "code",
   "execution_count": 9,
   "id": "052272bf",
   "metadata": {
    "execution": {
     "iopub.execute_input": "2023-09-19T15:47:48.230225Z",
     "iopub.status.busy": "2023-09-19T15:47:48.229813Z",
     "iopub.status.idle": "2023-09-19T15:47:48.272937Z",
     "shell.execute_reply": "2023-09-19T15:47:48.271032Z"
    },
    "papermill": {
     "duration": 0.061638,
     "end_time": "2023-09-19T15:47:48.275416",
     "exception": false,
     "start_time": "2023-09-19T15:47:48.213778",
     "status": "completed"
    },
    "tags": []
   },
   "outputs": [
    {
     "data": {
      "text/html": [
       "<div>\n",
       "<style scoped>\n",
       "    .dataframe tbody tr th:only-of-type {\n",
       "        vertical-align: middle;\n",
       "    }\n",
       "\n",
       "    .dataframe tbody tr th {\n",
       "        vertical-align: top;\n",
       "    }\n",
       "\n",
       "    .dataframe thead th {\n",
       "        text-align: right;\n",
       "    }\n",
       "</style>\n",
       "<table border=\"1\" class=\"dataframe\">\n",
       "  <thead>\n",
       "    <tr style=\"text-align: right;\">\n",
       "      <th></th>\n",
       "      <th>pm1</th>\n",
       "      <th>pm2</th>\n",
       "      <th>pm3</th>\n",
       "      <th>am</th>\n",
       "      <th>sm</th>\n",
       "      <th>lum</th>\n",
       "      <th>temp</th>\n",
       "      <th>humd</th>\n",
       "      <th>pres</th>\n",
       "    </tr>\n",
       "  </thead>\n",
       "  <tbody>\n",
       "    <tr>\n",
       "      <th>count</th>\n",
       "      <td>20166.000000</td>\n",
       "      <td>20166.000000</td>\n",
       "      <td>20166.000000</td>\n",
       "      <td>20166.000000</td>\n",
       "      <td>20166.000000</td>\n",
       "      <td>20166.000000</td>\n",
       "      <td>20166.000000</td>\n",
       "      <td>20166.000000</td>\n",
       "      <td>20166.000000</td>\n",
       "    </tr>\n",
       "    <tr>\n",
       "      <th>mean</th>\n",
       "      <td>1.585495</td>\n",
       "      <td>2.581223</td>\n",
       "      <td>59.172185</td>\n",
       "      <td>0.729346</td>\n",
       "      <td>4339.095656</td>\n",
       "      <td>2891.423039</td>\n",
       "      <td>22.625972</td>\n",
       "      <td>78.329035</td>\n",
       "      <td>93154.619405</td>\n",
       "    </tr>\n",
       "    <tr>\n",
       "      <th>std</th>\n",
       "      <td>1.045641</td>\n",
       "      <td>1.288723</td>\n",
       "      <td>28.166706</td>\n",
       "      <td>1.795355</td>\n",
       "      <td>3077.733911</td>\n",
       "      <td>4277.275782</td>\n",
       "      <td>4.666760</td>\n",
       "      <td>24.007034</td>\n",
       "      <td>290.963485</td>\n",
       "    </tr>\n",
       "    <tr>\n",
       "      <th>min</th>\n",
       "      <td>0.550000</td>\n",
       "      <td>0.000000</td>\n",
       "      <td>0.000000</td>\n",
       "      <td>0.000000</td>\n",
       "      <td>0.000000</td>\n",
       "      <td>0.000000</td>\n",
       "      <td>8.610000</td>\n",
       "      <td>13.320000</td>\n",
       "      <td>92352.450000</td>\n",
       "    </tr>\n",
       "    <tr>\n",
       "      <th>25%</th>\n",
       "      <td>0.550000</td>\n",
       "      <td>1.670000</td>\n",
       "      <td>36.880000</td>\n",
       "      <td>0.000000</td>\n",
       "      <td>465.250000</td>\n",
       "      <td>2.000000</td>\n",
       "      <td>20.000000</td>\n",
       "      <td>61.690000</td>\n",
       "      <td>92976.272500</td>\n",
       "    </tr>\n",
       "    <tr>\n",
       "      <th>50%</th>\n",
       "      <td>1.110000</td>\n",
       "      <td>2.230000</td>\n",
       "      <td>51.400000</td>\n",
       "      <td>0.000000</td>\n",
       "      <td>6410.000000</td>\n",
       "      <td>165.500000</td>\n",
       "      <td>21.430000</td>\n",
       "      <td>88.220000</td>\n",
       "      <td>93152.930000</td>\n",
       "    </tr>\n",
       "    <tr>\n",
       "      <th>75%</th>\n",
       "      <td>2.230000</td>\n",
       "      <td>3.350000</td>\n",
       "      <td>77.110000</td>\n",
       "      <td>0.000000</td>\n",
       "      <td>7042.000000</td>\n",
       "      <td>5275.000000</td>\n",
       "      <td>26.110000</td>\n",
       "      <td>100.000000</td>\n",
       "      <td>93350.997500</td>\n",
       "    </tr>\n",
       "    <tr>\n",
       "      <th>max</th>\n",
       "      <td>6.700000</td>\n",
       "      <td>6.700000</td>\n",
       "      <td>153.660000</td>\n",
       "      <td>18.390000</td>\n",
       "      <td>7937.000000</td>\n",
       "      <td>19767.000000</td>\n",
       "      <td>36.880000</td>\n",
       "      <td>100.000000</td>\n",
       "      <td>94042.780000</td>\n",
       "    </tr>\n",
       "  </tbody>\n",
       "</table>\n",
       "</div>"
      ],
      "text/plain": [
       "                pm1           pm2           pm3            am            sm  \\\n",
       "count  20166.000000  20166.000000  20166.000000  20166.000000  20166.000000   \n",
       "mean       1.585495      2.581223     59.172185      0.729346   4339.095656   \n",
       "std        1.045641      1.288723     28.166706      1.795355   3077.733911   \n",
       "min        0.550000      0.000000      0.000000      0.000000      0.000000   \n",
       "25%        0.550000      1.670000     36.880000      0.000000    465.250000   \n",
       "50%        1.110000      2.230000     51.400000      0.000000   6410.000000   \n",
       "75%        2.230000      3.350000     77.110000      0.000000   7042.000000   \n",
       "max        6.700000      6.700000    153.660000     18.390000   7937.000000   \n",
       "\n",
       "                lum          temp          humd          pres  \n",
       "count  20166.000000  20166.000000  20166.000000  20166.000000  \n",
       "mean    2891.423039     22.625972     78.329035  93154.619405  \n",
       "std     4277.275782      4.666760     24.007034    290.963485  \n",
       "min        0.000000      8.610000     13.320000  92352.450000  \n",
       "25%        2.000000     20.000000     61.690000  92976.272500  \n",
       "50%      165.500000     21.430000     88.220000  93152.930000  \n",
       "75%     5275.000000     26.110000    100.000000  93350.997500  \n",
       "max    19767.000000     36.880000    100.000000  94042.780000  "
      ]
     },
     "execution_count": 9,
     "metadata": {},
     "output_type": "execute_result"
    }
   ],
   "source": [
    "#describe() method returns description of the data in the DataFrame.\n",
    "df.describe()"
   ]
  },
  {
   "cell_type": "code",
   "execution_count": 10,
   "id": "b90024bf",
   "metadata": {
    "execution": {
     "iopub.execute_input": "2023-09-19T15:47:48.306085Z",
     "iopub.status.busy": "2023-09-19T15:47:48.305695Z",
     "iopub.status.idle": "2023-09-19T15:47:48.312789Z",
     "shell.execute_reply": "2023-09-19T15:47:48.311507Z"
    },
    "papermill": {
     "duration": 0.025578,
     "end_time": "2023-09-19T15:47:48.315408",
     "exception": false,
     "start_time": "2023-09-19T15:47:48.289830",
     "status": "completed"
    },
    "tags": []
   },
   "outputs": [
    {
     "data": {
      "text/plain": [
       "(20166, 10)"
      ]
     },
     "execution_count": 10,
     "metadata": {},
     "output_type": "execute_result"
    }
   ],
   "source": [
    "#To display number of rows and columns\n",
    "df.shape"
   ]
  },
  {
   "cell_type": "code",
   "execution_count": 11,
   "id": "e7b3b621",
   "metadata": {
    "execution": {
     "iopub.execute_input": "2023-09-19T15:47:48.346207Z",
     "iopub.status.busy": "2023-09-19T15:47:48.345749Z",
     "iopub.status.idle": "2023-09-19T15:47:48.371125Z",
     "shell.execute_reply": "2023-09-19T15:47:48.370214Z"
    },
    "papermill": {
     "duration": 0.042771,
     "end_time": "2023-09-19T15:47:48.372892",
     "exception": false,
     "start_time": "2023-09-19T15:47:48.330121",
     "status": "completed"
    },
    "tags": []
   },
   "outputs": [
    {
     "name": "stdout",
     "output_type": "stream",
     "text": [
      "<class 'pandas.core.frame.DataFrame'>\n",
      "RangeIndex: 20166 entries, 0 to 20165\n",
      "Data columns (total 10 columns):\n",
      " #   Column  Non-Null Count  Dtype  \n",
      "---  ------  --------------  -----  \n",
      " 0   ttime   20166 non-null  object \n",
      " 1   pm1     20166 non-null  float64\n",
      " 2   pm2     20166 non-null  float64\n",
      " 3   pm3     20166 non-null  float64\n",
      " 4   am      20166 non-null  float64\n",
      " 5   sm      20166 non-null  float64\n",
      " 6   lum     20166 non-null  float64\n",
      " 7   temp    20166 non-null  float64\n",
      " 8   humd    20166 non-null  float64\n",
      " 9   pres    20166 non-null  float64\n",
      "dtypes: float64(9), object(1)\n",
      "memory usage: 1.5+ MB\n"
     ]
    }
   ],
   "source": [
    "#To display number of columns, column labels, column data types, memory usage, range index, and the number of cells in each column (non-null values).\n",
    "df.info()"
   ]
  },
  {
   "cell_type": "code",
   "execution_count": 12,
   "id": "d635ee3c",
   "metadata": {
    "execution": {
     "iopub.execute_input": "2023-09-19T15:47:48.404597Z",
     "iopub.status.busy": "2023-09-19T15:47:48.403603Z",
     "iopub.status.idle": "2023-09-19T15:47:48.411322Z",
     "shell.execute_reply": "2023-09-19T15:47:48.410071Z"
    },
    "papermill": {
     "duration": 0.025695,
     "end_time": "2023-09-19T15:47:48.413196",
     "exception": false,
     "start_time": "2023-09-19T15:47:48.387501",
     "status": "completed"
    },
    "tags": []
   },
   "outputs": [
    {
     "data": {
      "text/plain": [
       "pandas.core.frame.DataFrame"
      ]
     },
     "execution_count": 12,
     "metadata": {},
     "output_type": "execute_result"
    }
   ],
   "source": [
    "type(df)"
   ]
  },
  {
   "cell_type": "code",
   "execution_count": 13,
   "id": "c4bcd86e",
   "metadata": {
    "execution": {
     "iopub.execute_input": "2023-09-19T15:47:48.446233Z",
     "iopub.status.busy": "2023-09-19T15:47:48.445869Z",
     "iopub.status.idle": "2023-09-19T15:47:48.454377Z",
     "shell.execute_reply": "2023-09-19T15:47:48.452620Z"
    },
    "papermill": {
     "duration": 0.027595,
     "end_time": "2023-09-19T15:47:48.456960",
     "exception": false,
     "start_time": "2023-09-19T15:47:48.429365",
     "status": "completed"
    },
    "tags": []
   },
   "outputs": [
    {
     "data": {
      "text/plain": [
       "ttime     object\n",
       "pm1      float64\n",
       "pm2      float64\n",
       "pm3      float64\n",
       "am       float64\n",
       "sm       float64\n",
       "lum      float64\n",
       "temp     float64\n",
       "humd     float64\n",
       "pres     float64\n",
       "dtype: object"
      ]
     },
     "execution_count": 13,
     "metadata": {},
     "output_type": "execute_result"
    }
   ],
   "source": [
    "#To return data type of each column. \n",
    "df.dtypes"
   ]
  },
  {
   "cell_type": "code",
   "execution_count": 14,
   "id": "c556d11d",
   "metadata": {
    "execution": {
     "iopub.execute_input": "2023-09-19T15:47:48.488717Z",
     "iopub.status.busy": "2023-09-19T15:47:48.488368Z",
     "iopub.status.idle": "2023-09-19T15:47:48.504084Z",
     "shell.execute_reply": "2023-09-19T15:47:48.502800Z"
    },
    "papermill": {
     "duration": 0.035043,
     "end_time": "2023-09-19T15:47:48.507131",
     "exception": false,
     "start_time": "2023-09-19T15:47:48.472088",
     "status": "completed"
    },
    "tags": []
   },
   "outputs": [
    {
     "data": {
      "text/plain": [
       "ttime    20166\n",
       "pm1         20\n",
       "pm2         17\n",
       "pm3        224\n",
       "am          23\n",
       "sm         924\n",
       "lum       6707\n",
       "temp      1979\n",
       "humd      6346\n",
       "pres     17581\n",
       "dtype: int64"
      ]
     },
     "execution_count": 14,
     "metadata": {},
     "output_type": "execute_result"
    }
   ],
   "source": [
    "#To return the number of unique values for each column\n",
    "df.nunique()"
   ]
  },
  {
   "cell_type": "code",
   "execution_count": 15,
   "id": "1f4a00de",
   "metadata": {
    "execution": {
     "iopub.execute_input": "2023-09-19T15:47:48.539227Z",
     "iopub.status.busy": "2023-09-19T15:47:48.538834Z",
     "iopub.status.idle": "2023-09-19T15:47:48.549971Z",
     "shell.execute_reply": "2023-09-19T15:47:48.548873Z"
    },
    "papermill": {
     "duration": 0.029481,
     "end_time": "2023-09-19T15:47:48.551865",
     "exception": false,
     "start_time": "2023-09-19T15:47:48.522384",
     "status": "completed"
    },
    "tags": []
   },
   "outputs": [
    {
     "data": {
      "text/plain": [
       "ttime    20166\n",
       "pm1      20166\n",
       "pm2      20166\n",
       "pm3      20166\n",
       "am       20166\n",
       "sm       20166\n",
       "lum      20166\n",
       "temp     20166\n",
       "humd     20166\n",
       "pres     20166\n",
       "dtype: int64"
      ]
     },
     "execution_count": 15,
     "metadata": {},
     "output_type": "execute_result"
    }
   ],
   "source": [
    "#To count the number of not empty values for each row\n",
    "df.count()"
   ]
  },
  {
   "cell_type": "markdown",
   "id": "875a359c",
   "metadata": {
    "papermill": {
     "duration": 0.018921,
     "end_time": "2023-09-19T15:47:48.586614",
     "exception": false,
     "start_time": "2023-09-19T15:47:48.567693",
     "status": "completed"
    },
    "tags": []
   },
   "source": [
    "# **Data wrangling**"
   ]
  },
  {
   "cell_type": "code",
   "execution_count": 16,
   "id": "c555e80c",
   "metadata": {
    "execution": {
     "iopub.execute_input": "2023-09-19T15:47:48.630508Z",
     "iopub.status.busy": "2023-09-19T15:47:48.628789Z",
     "iopub.status.idle": "2023-09-19T15:47:48.650266Z",
     "shell.execute_reply": "2023-09-19T15:47:48.649606Z"
    },
    "papermill": {
     "duration": 0.046425,
     "end_time": "2023-09-19T15:47:48.652242",
     "exception": false,
     "start_time": "2023-09-19T15:47:48.605817",
     "status": "completed"
    },
    "tags": []
   },
   "outputs": [
    {
     "data": {
      "text/html": [
       "<div>\n",
       "<style scoped>\n",
       "    .dataframe tbody tr th:only-of-type {\n",
       "        vertical-align: middle;\n",
       "    }\n",
       "\n",
       "    .dataframe tbody tr th {\n",
       "        vertical-align: top;\n",
       "    }\n",
       "\n",
       "    .dataframe thead th {\n",
       "        text-align: right;\n",
       "    }\n",
       "</style>\n",
       "<table border=\"1\" class=\"dataframe\">\n",
       "  <thead>\n",
       "    <tr style=\"text-align: right;\">\n",
       "      <th></th>\n",
       "      <th>ttime</th>\n",
       "      <th>pm1</th>\n",
       "      <th>pm2</th>\n",
       "      <th>pm3</th>\n",
       "      <th>am</th>\n",
       "      <th>sm</th>\n",
       "      <th>lum</th>\n",
       "      <th>temp</th>\n",
       "      <th>humd</th>\n",
       "      <th>pres</th>\n",
       "    </tr>\n",
       "  </thead>\n",
       "  <tbody>\n",
       "    <tr>\n",
       "      <th>0</th>\n",
       "      <td>False</td>\n",
       "      <td>False</td>\n",
       "      <td>False</td>\n",
       "      <td>False</td>\n",
       "      <td>False</td>\n",
       "      <td>False</td>\n",
       "      <td>False</td>\n",
       "      <td>False</td>\n",
       "      <td>False</td>\n",
       "      <td>False</td>\n",
       "    </tr>\n",
       "    <tr>\n",
       "      <th>1</th>\n",
       "      <td>False</td>\n",
       "      <td>False</td>\n",
       "      <td>False</td>\n",
       "      <td>False</td>\n",
       "      <td>False</td>\n",
       "      <td>False</td>\n",
       "      <td>False</td>\n",
       "      <td>False</td>\n",
       "      <td>False</td>\n",
       "      <td>False</td>\n",
       "    </tr>\n",
       "    <tr>\n",
       "      <th>2</th>\n",
       "      <td>False</td>\n",
       "      <td>False</td>\n",
       "      <td>False</td>\n",
       "      <td>False</td>\n",
       "      <td>False</td>\n",
       "      <td>False</td>\n",
       "      <td>False</td>\n",
       "      <td>False</td>\n",
       "      <td>False</td>\n",
       "      <td>False</td>\n",
       "    </tr>\n",
       "    <tr>\n",
       "      <th>3</th>\n",
       "      <td>False</td>\n",
       "      <td>False</td>\n",
       "      <td>False</td>\n",
       "      <td>False</td>\n",
       "      <td>False</td>\n",
       "      <td>False</td>\n",
       "      <td>False</td>\n",
       "      <td>False</td>\n",
       "      <td>False</td>\n",
       "      <td>False</td>\n",
       "    </tr>\n",
       "    <tr>\n",
       "      <th>4</th>\n",
       "      <td>False</td>\n",
       "      <td>False</td>\n",
       "      <td>False</td>\n",
       "      <td>False</td>\n",
       "      <td>False</td>\n",
       "      <td>False</td>\n",
       "      <td>False</td>\n",
       "      <td>False</td>\n",
       "      <td>False</td>\n",
       "      <td>False</td>\n",
       "    </tr>\n",
       "    <tr>\n",
       "      <th>...</th>\n",
       "      <td>...</td>\n",
       "      <td>...</td>\n",
       "      <td>...</td>\n",
       "      <td>...</td>\n",
       "      <td>...</td>\n",
       "      <td>...</td>\n",
       "      <td>...</td>\n",
       "      <td>...</td>\n",
       "      <td>...</td>\n",
       "      <td>...</td>\n",
       "    </tr>\n",
       "    <tr>\n",
       "      <th>20161</th>\n",
       "      <td>False</td>\n",
       "      <td>False</td>\n",
       "      <td>False</td>\n",
       "      <td>False</td>\n",
       "      <td>False</td>\n",
       "      <td>False</td>\n",
       "      <td>False</td>\n",
       "      <td>False</td>\n",
       "      <td>False</td>\n",
       "      <td>False</td>\n",
       "    </tr>\n",
       "    <tr>\n",
       "      <th>20162</th>\n",
       "      <td>False</td>\n",
       "      <td>False</td>\n",
       "      <td>False</td>\n",
       "      <td>False</td>\n",
       "      <td>False</td>\n",
       "      <td>False</td>\n",
       "      <td>False</td>\n",
       "      <td>False</td>\n",
       "      <td>False</td>\n",
       "      <td>False</td>\n",
       "    </tr>\n",
       "    <tr>\n",
       "      <th>20163</th>\n",
       "      <td>False</td>\n",
       "      <td>False</td>\n",
       "      <td>False</td>\n",
       "      <td>False</td>\n",
       "      <td>False</td>\n",
       "      <td>False</td>\n",
       "      <td>False</td>\n",
       "      <td>False</td>\n",
       "      <td>False</td>\n",
       "      <td>False</td>\n",
       "    </tr>\n",
       "    <tr>\n",
       "      <th>20164</th>\n",
       "      <td>False</td>\n",
       "      <td>False</td>\n",
       "      <td>False</td>\n",
       "      <td>False</td>\n",
       "      <td>False</td>\n",
       "      <td>False</td>\n",
       "      <td>False</td>\n",
       "      <td>False</td>\n",
       "      <td>False</td>\n",
       "      <td>False</td>\n",
       "    </tr>\n",
       "    <tr>\n",
       "      <th>20165</th>\n",
       "      <td>False</td>\n",
       "      <td>False</td>\n",
       "      <td>False</td>\n",
       "      <td>False</td>\n",
       "      <td>False</td>\n",
       "      <td>False</td>\n",
       "      <td>False</td>\n",
       "      <td>False</td>\n",
       "      <td>False</td>\n",
       "      <td>False</td>\n",
       "    </tr>\n",
       "  </tbody>\n",
       "</table>\n",
       "<p>20166 rows × 10 columns</p>\n",
       "</div>"
      ],
      "text/plain": [
       "       ttime    pm1    pm2    pm3     am     sm    lum   temp   humd   pres\n",
       "0      False  False  False  False  False  False  False  False  False  False\n",
       "1      False  False  False  False  False  False  False  False  False  False\n",
       "2      False  False  False  False  False  False  False  False  False  False\n",
       "3      False  False  False  False  False  False  False  False  False  False\n",
       "4      False  False  False  False  False  False  False  False  False  False\n",
       "...      ...    ...    ...    ...    ...    ...    ...    ...    ...    ...\n",
       "20161  False  False  False  False  False  False  False  False  False  False\n",
       "20162  False  False  False  False  False  False  False  False  False  False\n",
       "20163  False  False  False  False  False  False  False  False  False  False\n",
       "20164  False  False  False  False  False  False  False  False  False  False\n",
       "20165  False  False  False  False  False  False  False  False  False  False\n",
       "\n",
       "[20166 rows x 10 columns]"
      ]
     },
     "execution_count": 16,
     "metadata": {},
     "output_type": "execute_result"
    }
   ],
   "source": [
    "#To display the number of empty values (NaN,NAN,na) in each column\n",
    "df.isna()"
   ]
  },
  {
   "cell_type": "code",
   "execution_count": 17,
   "id": "05794842",
   "metadata": {
    "execution": {
     "iopub.execute_input": "2023-09-19T15:47:48.689263Z",
     "iopub.status.busy": "2023-09-19T15:47:48.688451Z",
     "iopub.status.idle": "2023-09-19T15:47:48.701978Z",
     "shell.execute_reply": "2023-09-19T15:47:48.700154Z"
    },
    "papermill": {
     "duration": 0.033826,
     "end_time": "2023-09-19T15:47:48.704652",
     "exception": false,
     "start_time": "2023-09-19T15:47:48.670826",
     "status": "completed"
    },
    "tags": []
   },
   "outputs": [
    {
     "data": {
      "text/plain": [
       "ttime    0\n",
       "pm1      0\n",
       "pm2      0\n",
       "pm3      0\n",
       "am       0\n",
       "sm       0\n",
       "lum      0\n",
       "temp     0\n",
       "humd     0\n",
       "pres     0\n",
       "dtype: int64"
      ]
     },
     "execution_count": 17,
     "metadata": {},
     "output_type": "execute_result"
    }
   ],
   "source": [
    "#Count the number of empty values (NaN,NAN,na) in each column\n",
    "df.isna().sum()"
   ]
  },
  {
   "cell_type": "code",
   "execution_count": 18,
   "id": "09093220",
   "metadata": {
    "execution": {
     "iopub.execute_input": "2023-09-19T15:47:48.744346Z",
     "iopub.status.busy": "2023-09-19T15:47:48.743714Z",
     "iopub.status.idle": "2023-09-19T15:47:48.749455Z",
     "shell.execute_reply": "2023-09-19T15:47:48.748238Z"
    },
    "papermill": {
     "duration": 0.029451,
     "end_time": "2023-09-19T15:47:48.751668",
     "exception": false,
     "start_time": "2023-09-19T15:47:48.722217",
     "status": "completed"
    },
    "tags": []
   },
   "outputs": [],
   "source": [
    "#Dropping unnecessary column \n",
    "df.drop(labels=['am'],axis=1,inplace=True)"
   ]
  },
  {
   "cell_type": "code",
   "execution_count": 19,
   "id": "37ca0027",
   "metadata": {
    "execution": {
     "iopub.execute_input": "2023-09-19T15:47:48.790369Z",
     "iopub.status.busy": "2023-09-19T15:47:48.789616Z",
     "iopub.status.idle": "2023-09-19T15:47:48.807501Z",
     "shell.execute_reply": "2023-09-19T15:47:48.806127Z"
    },
    "papermill": {
     "duration": 0.037852,
     "end_time": "2023-09-19T15:47:48.810284",
     "exception": false,
     "start_time": "2023-09-19T15:47:48.772432",
     "status": "completed"
    },
    "tags": []
   },
   "outputs": [
    {
     "data": {
      "text/html": [
       "<div>\n",
       "<style scoped>\n",
       "    .dataframe tbody tr th:only-of-type {\n",
       "        vertical-align: middle;\n",
       "    }\n",
       "\n",
       "    .dataframe tbody tr th {\n",
       "        vertical-align: top;\n",
       "    }\n",
       "\n",
       "    .dataframe thead th {\n",
       "        text-align: right;\n",
       "    }\n",
       "</style>\n",
       "<table border=\"1\" class=\"dataframe\">\n",
       "  <thead>\n",
       "    <tr style=\"text-align: right;\">\n",
       "      <th></th>\n",
       "      <th>ttime</th>\n",
       "      <th>pm1</th>\n",
       "      <th>pm2</th>\n",
       "      <th>pm3</th>\n",
       "      <th>sm</th>\n",
       "      <th>lum</th>\n",
       "      <th>temp</th>\n",
       "      <th>humd</th>\n",
       "      <th>pres</th>\n",
       "    </tr>\n",
       "  </thead>\n",
       "  <tbody>\n",
       "    <tr>\n",
       "      <th>0</th>\n",
       "      <td>2022-07-18 15:39:58</td>\n",
       "      <td>0.83</td>\n",
       "      <td>0.00</td>\n",
       "      <td>0.00</td>\n",
       "      <td>7463.0</td>\n",
       "      <td>6547.0</td>\n",
       "      <td>23.02</td>\n",
       "      <td>90.57</td>\n",
       "      <td>92849.25</td>\n",
       "    </tr>\n",
       "    <tr>\n",
       "      <th>1</th>\n",
       "      <td>2022-07-18 15:44:55</td>\n",
       "      <td>1.39</td>\n",
       "      <td>0.00</td>\n",
       "      <td>0.00</td>\n",
       "      <td>7576.0</td>\n",
       "      <td>10249.0</td>\n",
       "      <td>23.47</td>\n",
       "      <td>88.37</td>\n",
       "      <td>92848.31</td>\n",
       "    </tr>\n",
       "    <tr>\n",
       "      <th>2</th>\n",
       "      <td>2022-07-18 15:49:55</td>\n",
       "      <td>1.95</td>\n",
       "      <td>0.00</td>\n",
       "      <td>0.00</td>\n",
       "      <td>7576.0</td>\n",
       "      <td>12636.0</td>\n",
       "      <td>23.64</td>\n",
       "      <td>85.26</td>\n",
       "      <td>92844.82</td>\n",
       "    </tr>\n",
       "    <tr>\n",
       "      <th>3</th>\n",
       "      <td>2022-07-18 15:54:55</td>\n",
       "      <td>2.51</td>\n",
       "      <td>0.00</td>\n",
       "      <td>0.00</td>\n",
       "      <td>7463.0</td>\n",
       "      <td>8318.0</td>\n",
       "      <td>23.62</td>\n",
       "      <td>85.93</td>\n",
       "      <td>92834.94</td>\n",
       "    </tr>\n",
       "    <tr>\n",
       "      <th>4</th>\n",
       "      <td>2022-07-18 15:59:56</td>\n",
       "      <td>0.55</td>\n",
       "      <td>2.51</td>\n",
       "      <td>2.51</td>\n",
       "      <td>7463.0</td>\n",
       "      <td>4149.0</td>\n",
       "      <td>23.82</td>\n",
       "      <td>86.06</td>\n",
       "      <td>92815.25</td>\n",
       "    </tr>\n",
       "  </tbody>\n",
       "</table>\n",
       "</div>"
      ],
      "text/plain": [
       "                 ttime   pm1   pm2   pm3      sm      lum   temp   humd  \\\n",
       "0  2022-07-18 15:39:58  0.83  0.00  0.00  7463.0   6547.0  23.02  90.57   \n",
       "1  2022-07-18 15:44:55  1.39  0.00  0.00  7576.0  10249.0  23.47  88.37   \n",
       "2  2022-07-18 15:49:55  1.95  0.00  0.00  7576.0  12636.0  23.64  85.26   \n",
       "3  2022-07-18 15:54:55  2.51  0.00  0.00  7463.0   8318.0  23.62  85.93   \n",
       "4  2022-07-18 15:59:56  0.55  2.51  2.51  7463.0   4149.0  23.82  86.06   \n",
       "\n",
       "       pres  \n",
       "0  92849.25  \n",
       "1  92848.31  \n",
       "2  92844.82  \n",
       "3  92834.94  \n",
       "4  92815.25  "
      ]
     },
     "execution_count": 19,
     "metadata": {},
     "output_type": "execute_result"
    }
   ],
   "source": [
    "#Checking whether the column has been removed or not\n",
    "df.head()"
   ]
  },
  {
   "cell_type": "code",
   "execution_count": 20,
   "id": "c770cc41",
   "metadata": {
    "execution": {
     "iopub.execute_input": "2023-09-19T15:47:48.858066Z",
     "iopub.status.busy": "2023-09-19T15:47:48.857670Z",
     "iopub.status.idle": "2023-09-19T15:47:48.864077Z",
     "shell.execute_reply": "2023-09-19T15:47:48.862902Z"
    },
    "papermill": {
     "duration": 0.039342,
     "end_time": "2023-09-19T15:47:48.866038",
     "exception": false,
     "start_time": "2023-09-19T15:47:48.826696",
     "status": "completed"
    },
    "tags": []
   },
   "outputs": [
    {
     "data": {
      "text/plain": [
       "(20166, 9)"
      ]
     },
     "execution_count": 20,
     "metadata": {},
     "output_type": "execute_result"
    }
   ],
   "source": [
    "#Checking number of rows and columns again\n",
    "df.shape"
   ]
  },
  {
   "cell_type": "markdown",
   "id": "71f6662c",
   "metadata": {
    "papermill": {
     "duration": 0.020782,
     "end_time": "2023-09-19T15:47:48.910586",
     "exception": false,
     "start_time": "2023-09-19T15:47:48.889804",
     "status": "completed"
    },
    "tags": []
   },
   "source": [
    "# **Data Analysis**"
   ]
  },
  {
   "cell_type": "code",
   "execution_count": 21,
   "id": "e6825a11",
   "metadata": {
    "execution": {
     "iopub.execute_input": "2023-09-19T15:47:48.946548Z",
     "iopub.status.busy": "2023-09-19T15:47:48.946237Z",
     "iopub.status.idle": "2023-09-19T15:47:49.168975Z",
     "shell.execute_reply": "2023-09-19T15:47:49.168067Z"
    },
    "papermill": {
     "duration": 0.244318,
     "end_time": "2023-09-19T15:47:49.171846",
     "exception": false,
     "start_time": "2023-09-19T15:47:48.927528",
     "status": "completed"
    },
    "tags": []
   },
   "outputs": [
    {
     "data": {
      "image/png": "[encoded data removed]",
      "text/plain": [
       "<Figure size 640x480 with 1 Axes>"
      ]
     },
     "metadata": {},
     "output_type": "display_data"
    }
   ],
   "source": [
    "#Visualization of data using matplotlib.pyplot library\n",
    "import matplotlib.pyplot as plt\n",
    "plt.hist(df['sm'])\n",
    "plt.show()"
   ]
  },
  {
   "cell_type": "code",
   "execution_count": 22,
   "id": "75555357",
   "metadata": {
    "execution": {
     "iopub.execute_input": "2023-09-19T15:47:49.207760Z",
     "iopub.status.busy": "2023-09-19T15:47:49.207148Z",
     "iopub.status.idle": "2023-09-19T15:47:49.229458Z",
     "shell.execute_reply": "2023-09-19T15:47:49.228553Z"
    },
    "papermill": {
     "duration": 0.042335,
     "end_time": "2023-09-19T15:47:49.231428",
     "exception": false,
     "start_time": "2023-09-19T15:47:49.189093",
     "status": "completed"
    },
    "tags": []
   },
   "outputs": [
    {
     "data": {
      "text/html": [
       "<div>\n",
       "<style scoped>\n",
       "    .dataframe tbody tr th:only-of-type {\n",
       "        vertical-align: middle;\n",
       "    }\n",
       "\n",
       "    .dataframe tbody tr th {\n",
       "        vertical-align: top;\n",
       "    }\n",
       "\n",
       "    .dataframe thead th {\n",
       "        text-align: right;\n",
       "    }\n",
       "</style>\n",
       "<table border=\"1\" class=\"dataframe\">\n",
       "  <thead>\n",
       "    <tr style=\"text-align: right;\">\n",
       "      <th></th>\n",
       "      <th>pm1</th>\n",
       "      <th>pm2</th>\n",
       "      <th>pm3</th>\n",
       "      <th>sm</th>\n",
       "      <th>lum</th>\n",
       "      <th>temp</th>\n",
       "      <th>humd</th>\n",
       "      <th>pres</th>\n",
       "    </tr>\n",
       "  </thead>\n",
       "  <tbody>\n",
       "    <tr>\n",
       "      <th>pm1</th>\n",
       "      <td>1.000000</td>\n",
       "      <td>0.579420</td>\n",
       "      <td>0.559228</td>\n",
       "      <td>0.428794</td>\n",
       "      <td>0.043378</td>\n",
       "      <td>0.023540</td>\n",
       "      <td>0.226858</td>\n",
       "      <td>-0.342037</td>\n",
       "    </tr>\n",
       "    <tr>\n",
       "      <th>pm2</th>\n",
       "      <td>0.579420</td>\n",
       "      <td>1.000000</td>\n",
       "      <td>0.925259</td>\n",
       "      <td>0.702341</td>\n",
       "      <td>0.067508</td>\n",
       "      <td>0.039710</td>\n",
       "      <td>0.372843</td>\n",
       "      <td>-0.562632</td>\n",
       "    </tr>\n",
       "    <tr>\n",
       "      <th>pm3</th>\n",
       "      <td>0.559228</td>\n",
       "      <td>0.925259</td>\n",
       "      <td>1.000000</td>\n",
       "      <td>0.712649</td>\n",
       "      <td>0.081057</td>\n",
       "      <td>0.050155</td>\n",
       "      <td>0.376119</td>\n",
       "      <td>-0.573092</td>\n",
       "    </tr>\n",
       "    <tr>\n",
       "      <th>sm</th>\n",
       "      <td>0.428794</td>\n",
       "      <td>0.702341</td>\n",
       "      <td>0.712649</td>\n",
       "      <td>1.000000</td>\n",
       "      <td>0.089096</td>\n",
       "      <td>0.045897</td>\n",
       "      <td>0.545820</td>\n",
       "      <td>-0.637177</td>\n",
       "    </tr>\n",
       "    <tr>\n",
       "      <th>lum</th>\n",
       "      <td>0.043378</td>\n",
       "      <td>0.067508</td>\n",
       "      <td>0.081057</td>\n",
       "      <td>0.089096</td>\n",
       "      <td>1.000000</td>\n",
       "      <td>0.484641</td>\n",
       "      <td>-0.264182</td>\n",
       "      <td>-0.030602</td>\n",
       "    </tr>\n",
       "    <tr>\n",
       "      <th>temp</th>\n",
       "      <td>0.023540</td>\n",
       "      <td>0.039710</td>\n",
       "      <td>0.050155</td>\n",
       "      <td>0.045897</td>\n",
       "      <td>0.484641</td>\n",
       "      <td>1.000000</td>\n",
       "      <td>-0.645547</td>\n",
       "      <td>-0.071332</td>\n",
       "    </tr>\n",
       "    <tr>\n",
       "      <th>humd</th>\n",
       "      <td>0.226858</td>\n",
       "      <td>0.372843</td>\n",
       "      <td>0.376119</td>\n",
       "      <td>0.545820</td>\n",
       "      <td>-0.264182</td>\n",
       "      <td>-0.645547</td>\n",
       "      <td>1.000000</td>\n",
       "      <td>-0.369464</td>\n",
       "    </tr>\n",
       "    <tr>\n",
       "      <th>pres</th>\n",
       "      <td>-0.342037</td>\n",
       "      <td>-0.562632</td>\n",
       "      <td>-0.573092</td>\n",
       "      <td>-0.637177</td>\n",
       "      <td>-0.030602</td>\n",
       "      <td>-0.071332</td>\n",
       "      <td>-0.369464</td>\n",
       "      <td>1.000000</td>\n",
       "    </tr>\n",
       "  </tbody>\n",
       "</table>\n",
       "</div>"
      ],
      "text/plain": [
       "           pm1       pm2       pm3        sm       lum      temp      humd  \\\n",
       "pm1   1.000000  0.579420  0.559228  0.428794  0.043378  0.023540  0.226858   \n",
       "pm2   0.579420  1.000000  0.925259  0.702341  0.067508  0.039710  0.372843   \n",
       "pm3   0.559228  0.925259  1.000000  0.712649  0.081057  0.050155  0.376119   \n",
       "sm    0.428794  0.702341  0.712649  1.000000  0.089096  0.045897  0.545820   \n",
       "lum   0.043378  0.067508  0.081057  0.089096  1.000000  0.484641 -0.264182   \n",
       "temp  0.023540  0.039710  0.050155  0.045897  0.484641  1.000000 -0.645547   \n",
       "humd  0.226858  0.372843  0.376119  0.545820 -0.264182 -0.645547  1.000000   \n",
       "pres -0.342037 -0.562632 -0.573092 -0.637177 -0.030602 -0.071332 -0.369464   \n",
       "\n",
       "          pres  \n",
       "pm1  -0.342037  \n",
       "pm2  -0.562632  \n",
       "pm3  -0.573092  \n",
       "sm   -0.637177  \n",
       "lum  -0.030602  \n",
       "temp -0.071332  \n",
       "humd -0.369464  \n",
       "pres  1.000000  "
      ]
     },
     "execution_count": 22,
     "metadata": {},
     "output_type": "execute_result"
    }
   ],
   "source": [
    "#Finding the correlation \n",
    "#corr() function tells us how one column can influence the other\n",
    "data=df.iloc[:,1:9].corr()\n",
    "data"
   ]
  },
  {
   "cell_type": "code",
   "execution_count": 23,
   "id": "d85d51fe",
   "metadata": {
    "execution": {
     "iopub.execute_input": "2023-09-19T15:47:49.267122Z",
     "iopub.status.busy": "2023-09-19T15:47:49.266396Z",
     "iopub.status.idle": "2023-09-19T15:47:49.734445Z",
     "shell.execute_reply": "2023-09-19T15:47:49.733256Z"
    },
    "papermill": {
     "duration": 0.488869,
     "end_time": "2023-09-19T15:47:49.737153",
     "exception": false,
     "start_time": "2023-09-19T15:47:49.248284",
     "status": "completed"
    },
    "tags": []
   },
   "outputs": [
    {
     "data": {
      "text/plain": [
       "<Axes: >"
      ]
     },
     "execution_count": 23,
     "metadata": {},
     "output_type": "execute_result"
    },
    {
     "data": {
      "image/png": "[encoded data removed]",
      "text/plain": [
       "<Figure size 640x480 with 2 Axes>"
      ]
     },
     "metadata": {},
     "output_type": "display_data"
    }
   ],
   "source": [
    "#Visualize the correlation of above data using heatmap\n",
    "sns.heatmap(data,annot=True,fmt='.0%')"
   ]
  },
  {
   "cell_type": "markdown",
   "id": "83f6ef58",
   "metadata": {
    "papermill": {
     "duration": 0.020101,
     "end_time": "2023-09-19T15:47:49.780070",
     "exception": false,
     "start_time": "2023-09-19T15:47:49.759969",
     "status": "completed"
    },
    "tags": []
   },
   "source": [
    "# **Machine Learning**"
   ]
  },
  {
   "cell_type": "code",
   "execution_count": 24,
   "id": "fd193605",
   "metadata": {
    "execution": {
     "iopub.execute_input": "2023-09-19T15:47:49.816610Z",
     "iopub.status.busy": "2023-09-19T15:47:49.816208Z",
     "iopub.status.idle": "2023-09-19T15:47:49.821817Z",
     "shell.execute_reply": "2023-09-19T15:47:49.820814Z"
    },
    "papermill": {
     "duration": 0.02684,
     "end_time": "2023-09-19T15:47:49.824484",
     "exception": false,
     "start_time": "2023-09-19T15:47:49.797644",
     "status": "completed"
    },
    "tags": []
   },
   "outputs": [],
   "source": [
    "#Dividing data into X and Y(converting into numpy)\n",
    "X=df.iloc[:,[1,2,3,5,6,7,8]].values\n",
    "Y=df.iloc[:,4].values"
   ]
  },
  {
   "cell_type": "code",
   "execution_count": 25,
   "id": "287aa83f",
   "metadata": {
    "execution": {
     "iopub.execute_input": "2023-09-19T15:47:49.863872Z",
     "iopub.status.busy": "2023-09-19T15:47:49.863484Z",
     "iopub.status.idle": "2023-09-19T15:47:49.868770Z",
     "shell.execute_reply": "2023-09-19T15:47:49.867821Z"
    },
    "papermill": {
     "duration": 0.028722,
     "end_time": "2023-09-19T15:47:49.871653",
     "exception": false,
     "start_time": "2023-09-19T15:47:49.842931",
     "status": "completed"
    },
    "tags": []
   },
   "outputs": [
    {
     "name": "stdout",
     "output_type": "stream",
     "text": [
      "[[8.300000e-01 0.000000e+00 0.000000e+00 ... 2.302000e+01 9.057000e+01\n",
      "  9.284925e+04]\n",
      " [1.390000e+00 0.000000e+00 0.000000e+00 ... 2.347000e+01 8.837000e+01\n",
      "  9.284831e+04]\n",
      " [1.950000e+00 0.000000e+00 0.000000e+00 ... 2.364000e+01 8.526000e+01\n",
      "  9.284482e+04]\n",
      " ...\n",
      " [1.670000e+00 1.110000e+00 2.738000e+01 ... 3.007000e+01 2.439000e+01\n",
      "  9.357175e+04]\n",
      " [5.500000e-01 1.670000e+00 2.793000e+01 ... 3.155000e+01 2.299000e+01\n",
      "  9.355836e+04]\n",
      " [1.110000e+00 1.670000e+00 2.793000e+01 ... 3.268000e+01 2.085000e+01\n",
      "  9.354199e+04]]\n"
     ]
    }
   ],
   "source": [
    "print(X)"
   ]
  },
  {
   "cell_type": "code",
   "execution_count": 26,
   "id": "0f8d2786",
   "metadata": {
    "execution": {
     "iopub.execute_input": "2023-09-19T15:47:49.909725Z",
     "iopub.status.busy": "2023-09-19T15:47:49.909316Z",
     "iopub.status.idle": "2023-09-19T15:47:49.915558Z",
     "shell.execute_reply": "2023-09-19T15:47:49.913488Z"
    },
    "papermill": {
     "duration": 0.028049,
     "end_time": "2023-09-19T15:47:49.917754",
     "exception": false,
     "start_time": "2023-09-19T15:47:49.889705",
     "status": "completed"
    },
    "tags": []
   },
   "outputs": [
    {
     "name": "stdout",
     "output_type": "stream",
     "text": [
      "[7463. 7576. 7576. ...  327.  327.  328.]\n"
     ]
    }
   ],
   "source": [
    "print(Y)"
   ]
  },
  {
   "cell_type": "code",
   "execution_count": 27,
   "id": "4bd242a1",
   "metadata": {
    "execution": {
     "iopub.execute_input": "2023-09-19T15:47:49.955391Z",
     "iopub.status.busy": "2023-09-19T15:47:49.955021Z",
     "iopub.status.idle": "2023-09-19T15:47:50.315650Z",
     "shell.execute_reply": "2023-09-19T15:47:50.313800Z"
    },
    "papermill": {
     "duration": 0.382356,
     "end_time": "2023-09-19T15:47:50.318636",
     "exception": false,
     "start_time": "2023-09-19T15:47:49.936280",
     "status": "completed"
    },
    "tags": []
   },
   "outputs": [],
   "source": [
    "#Splitting dataset into 80% training and 20% testing\n",
    "from sklearn.model_selection import train_test_split\n",
    "X_train,X_test,Y_train,Y_test=train_test_split(X,Y,test_size=0.20,random_state=0)"
   ]
  },
  {
   "cell_type": "code",
   "execution_count": 28,
   "id": "8df93f43",
   "metadata": {
    "execution": {
     "iopub.execute_input": "2023-09-19T15:47:50.361448Z",
     "iopub.status.busy": "2023-09-19T15:47:50.360789Z",
     "iopub.status.idle": "2023-09-19T15:47:50.373336Z",
     "shell.execute_reply": "2023-09-19T15:47:50.372088Z"
    },
    "papermill": {
     "duration": 0.03851,
     "end_time": "2023-09-19T15:47:50.377864",
     "exception": false,
     "start_time": "2023-09-19T15:47:50.339354",
     "status": "completed"
    },
    "tags": []
   },
   "outputs": [],
   "source": [
    "from sklearn.preprocessing import StandardScaler\n",
    "sc = StandardScaler()\n",
    "X_train = sc.fit_transform(X_train)\n",
    "X_test = sc.transform(X_test)"
   ]
  },
  {
   "cell_type": "code",
   "execution_count": 29,
   "id": "173f1108",
   "metadata": {
    "execution": {
     "iopub.execute_input": "2023-09-19T15:47:50.414337Z",
     "iopub.status.busy": "2023-09-19T15:47:50.413819Z",
     "iopub.status.idle": "2023-09-19T15:47:50.420792Z",
     "shell.execute_reply": "2023-09-19T15:47:50.419660Z"
    },
    "papermill": {
     "duration": 0.027528,
     "end_time": "2023-09-19T15:47:50.423064",
     "exception": false,
     "start_time": "2023-09-19T15:47:50.395536",
     "status": "completed"
    },
    "tags": []
   },
   "outputs": [
    {
     "data": {
      "text/plain": [
       "array([[-0.45307831,  1.45957952,  1.80162477, ...,  0.35900234,\n",
       "         0.19703726, -0.25900487],\n",
       "       [-0.9857129 , -1.13997327, -0.81078524, ..., -0.78608658,\n",
       "        -0.403716  ,  0.92933768],\n",
       "       [-0.45307831,  0.15980312,  0.37641627, ..., -0.38648707,\n",
       "         0.90277654,  0.05466617],\n",
       "       ...,\n",
       "       [-0.45307831, -0.27345567, -0.27668623, ..., -0.22535823,\n",
       "         0.62364707,  0.48257118],\n",
       "       [ 0.61219089, -0.27345567, -0.39533555, ...,  0.34181527,\n",
       "        -0.07875931, -1.14927404],\n",
       "       [ 2.74272928,  1.02632072,  1.30683941, ..., -0.28336461,\n",
       "         0.77612675, -1.27962102]])"
      ]
     },
     "execution_count": 29,
     "metadata": {},
     "output_type": "execute_result"
    }
   ],
   "source": [
    "X_train"
   ]
  },
  {
   "cell_type": "code",
   "execution_count": 30,
   "id": "a62a3480",
   "metadata": {
    "execution": {
     "iopub.execute_input": "2023-09-19T15:47:50.465715Z",
     "iopub.status.busy": "2023-09-19T15:47:50.465268Z",
     "iopub.status.idle": "2023-09-19T15:47:50.476735Z",
     "shell.execute_reply": "2023-09-19T15:47:50.474384Z"
    },
    "papermill": {
     "duration": 0.039038,
     "end_time": "2023-09-19T15:47:50.479617",
     "exception": false,
     "start_time": "2023-09-19T15:47:50.440579",
     "status": "completed"
    },
    "tags": []
   },
   "outputs": [
    {
     "data": {
      "text/plain": [
       "array([[-9.85712905e-01, -7.06714473e-01, -4.94150946e-01, ...,\n",
       "        -7.53860815e-01,  7.96957307e-01,  1.16718484e+00],\n",
       "       [ 7.95562910e-02, -7.06714473e-01, -8.50453070e-01, ...,\n",
       "        -7.02299587e-01,  6.16564683e-01,  1.26338187e+00],\n",
       "       [ 7.95562910e-02, -7.06714473e-01, -9.09954817e-01, ...,\n",
       "        -1.60462107e+00,  9.02776538e-01,  1.55602698e+00],\n",
       "       ...,\n",
       "       [ 6.12190889e-01,  1.59803125e-01,  6.34409892e-04, ...,\n",
       "        -3.45667764e-01,  8.88195148e-01, -4.72699703e-01],\n",
       "       [ 6.12190889e-01,  1.59803125e-01,  1.78785472e-01, ...,\n",
       "        -2.12467927e-01,  8.67781202e-01, -4.62152385e-01],\n",
       "       [-9.85712905e-01, -1.13997327e+00, -1.04843805e+00, ...,\n",
       "        -1.90109812e+00,  9.02776538e-01,  7.15299281e-01]])"
      ]
     },
     "execution_count": 30,
     "metadata": {},
     "output_type": "execute_result"
    }
   ],
   "source": [
    "X_test"
   ]
  },
  {
   "cell_type": "code",
   "execution_count": 31,
   "id": "971e36f1",
   "metadata": {
    "execution": {
     "iopub.execute_input": "2023-09-19T15:47:50.518841Z",
     "iopub.status.busy": "2023-09-19T15:47:50.518471Z",
     "iopub.status.idle": "2023-09-19T15:47:50.526587Z",
     "shell.execute_reply": "2023-09-19T15:47:50.524821Z"
    },
    "papermill": {
     "duration": 0.030221,
     "end_time": "2023-09-19T15:47:50.529416",
     "exception": false,
     "start_time": "2023-09-19T15:47:50.499195",
     "status": "completed"
    },
    "tags": []
   },
   "outputs": [
    {
     "data": {
      "text/plain": [
       "array([7042.,  430., 6849., ..., 2439., 6250., 6410.])"
      ]
     },
     "execution_count": 31,
     "metadata": {},
     "output_type": "execute_result"
    }
   ],
   "source": [
    "Y_train"
   ]
  },
  {
   "cell_type": "code",
   "execution_count": 32,
   "id": "56e33fd7",
   "metadata": {
    "execution": {
     "iopub.execute_input": "2023-09-19T15:47:50.572920Z",
     "iopub.status.busy": "2023-09-19T15:47:50.571282Z",
     "iopub.status.idle": "2023-09-19T15:47:50.578764Z",
     "shell.execute_reply": "2023-09-19T15:47:50.577307Z"
    },
    "papermill": {
     "duration": 0.031921,
     "end_time": "2023-09-19T15:47:50.580832",
     "exception": false,
     "start_time": "2023-09-19T15:47:50.548911",
     "status": "completed"
    },
    "tags": []
   },
   "outputs": [
    {
     "data": {
      "text/plain": [
       "array([6849.,  414.,  359., ..., 7143., 6757.,  331.])"
      ]
     },
     "execution_count": 32,
     "metadata": {},
     "output_type": "execute_result"
    }
   ],
   "source": [
    "Y_test"
   ]
  },
  {
   "cell_type": "markdown",
   "id": "3c1c0dfc",
   "metadata": {
    "papermill": {
     "duration": 0.018075,
     "end_time": "2023-09-19T15:47:50.617432",
     "exception": false,
     "start_time": "2023-09-19T15:47:50.599357",
     "status": "completed"
    },
    "tags": []
   },
   "source": [
    "**Model 1: Linear Regression**"
   ]
  },
  {
   "cell_type": "code",
   "execution_count": 33,
   "id": "2bd15b86",
   "metadata": {
    "execution": {
     "iopub.execute_input": "2023-09-19T15:47:50.659121Z",
     "iopub.status.busy": "2023-09-19T15:47:50.658740Z",
     "iopub.status.idle": "2023-09-19T15:47:50.829362Z",
     "shell.execute_reply": "2023-09-19T15:47:50.828595Z"
    },
    "papermill": {
     "duration": 0.194039,
     "end_time": "2023-09-19T15:47:50.831707",
     "exception": false,
     "start_time": "2023-09-19T15:47:50.637668",
     "status": "completed"
    },
    "tags": []
   },
   "outputs": [
    {
     "data": {
      "text/html": [
       "<style>#sk-container-id-1 {color: black;background-color: white;}#sk-container-id-1 pre{padding: 0;}#sk-container-id-1 div.sk-toggleable {background-color: white;}#sk-container-id-1 label.sk-toggleable__label {cursor: pointer;display: block;width: 100%;margin-bottom: 0;padding: 0.3em;box-sizing: border-box;text-align: center;}#sk-container-id-1 label.sk-toggleable__label-arrow:before {content: \"▸\";float: left;margin-right: 0.25em;color: #696969;}#sk-container-id-1 label.sk-toggleable__label-arrow:hover:before {color: black;}#sk-container-id-1 div.sk-estimator:hover label.sk-toggleable__label-arrow:before {color: black;}#sk-container-id-1 div.sk-toggleable__content {max-height: 0;max-width: 0;overflow: hidden;text-align: left;background-color: #f0f8ff;}#sk-container-id-1 div.sk-toggleable__content pre {margin: 0.2em;color: black;border-radius: 0.25em;background-color: #f0f8ff;}#sk-container-id-1 input.sk-toggleable__control:checked~div.sk-toggleable__content {max-height: 200px;max-width: 100%;overflow: auto;}#sk-container-id-1 input.sk-toggleable__control:checked~label.sk-toggleable__label-arrow:before {content: \"▾\";}#sk-container-id-1 div.sk-estimator input.sk-toggleable__control:checked~label.sk-toggleable__label {background-color: #d4ebff;}#sk-container-id-1 div.sk-label input.sk-toggleable__control:checked~label.sk-toggleable__label {background-color: #d4ebff;}#sk-container-id-1 input.sk-hidden--visually {border: 0;clip: rect(1px 1px 1px 1px);clip: rect(1px, 1px, 1px, 1px);height: 1px;margin: -1px;overflow: hidden;padding: 0;position: absolute;width: 1px;}#sk-container-id-1 div.sk-estimator {font-family: monospace;background-color: #f0f8ff;border: 1px dotted black;border-radius: 0.25em;box-sizing: border-box;margin-bottom: 0.5em;}#sk-container-id-1 div.sk-estimator:hover {background-color: #d4ebff;}#sk-container-id-1 div.sk-parallel-item::after {content: \"\";width: 100%;border-bottom: 1px solid gray;flex-grow: 1;}#sk-container-id-1 div.sk-label:hover label.sk-toggleable__label {background-color: #d4ebff;}#sk-container-id-1 div.sk-serial::before {content: \"\";position: absolute;border-left: 1px solid gray;box-sizing: border-box;top: 0;bottom: 0;left: 50%;z-index: 0;}#sk-container-id-1 div.sk-serial {display: flex;flex-direction: column;align-items: center;background-color: white;padding-right: 0.2em;padding-left: 0.2em;position: relative;}#sk-container-id-1 div.sk-item {position: relative;z-index: 1;}#sk-container-id-1 div.sk-parallel {display: flex;align-items: stretch;justify-content: center;background-color: white;position: relative;}#sk-container-id-1 div.sk-item::before, #sk-container-id-1 div.sk-parallel-item::before {content: \"\";position: absolute;border-left: 1px solid gray;box-sizing: border-box;top: 0;bottom: 0;left: 50%;z-index: -1;}#sk-container-id-1 div.sk-parallel-item {display: flex;flex-direction: column;z-index: 1;position: relative;background-color: white;}#sk-container-id-1 div.sk-parallel-item:first-child::after {align-self: flex-end;width: 50%;}#sk-container-id-1 div.sk-parallel-item:last-child::after {align-self: flex-start;width: 50%;}#sk-container-id-1 div.sk-parallel-item:only-child::after {width: 0;}#sk-container-id-1 div.sk-dashed-wrapped {border: 1px dashed gray;margin: 0 0.4em 0.5em 0.4em;box-sizing: border-box;padding-bottom: 0.4em;background-color: white;}#sk-container-id-1 div.sk-label label {font-family: monospace;font-weight: bold;display: inline-block;line-height: 1.2em;}#sk-container-id-1 div.sk-label-container {text-align: center;}#sk-container-id-1 div.sk-container {/* jupyter's `normalize.less` sets `[hidden] { display: none; }` but bootstrap.min.css set `[hidden] { display: none !important; }` so we also need the `!important` here to be able to override the default hidden behavior on the sphinx rendered scikit-learn.org. See: https://github.com/scikit-learn/scikit-learn/issues/21755 */display: inline-block !important;position: relative;}#sk-container-id-1 div.sk-text-repr-fallback {display: none;}</style><div id=\"sk-container-id-1\" class=\"sk-top-container\"><div class=\"sk-text-repr-fallback\"><pre>LinearRegression()</pre><b>In a Jupyter environment, please rerun this cell to show the HTML representation or trust the notebook. <br />On GitHub, the HTML representation is unable to render, please try loading this page with nbviewer.org.</b></div><div class=\"sk-container\" hidden><div class=\"sk-item\"><div class=\"sk-estimator sk-toggleable\"><input class=\"sk-toggleable__control sk-hidden--visually\" id=\"sk-estimator-id-1\" type=\"checkbox\" checked><label for=\"sk-estimator-id-1\" class=\"sk-toggleable__label sk-toggleable__label-arrow\">LinearRegression</label><div class=\"sk-toggleable__content\"><pre>LinearRegression()</pre></div></div></div></div></div>"
      ],
      "text/plain": [
       "LinearRegression()"
      ]
     },
     "execution_count": 33,
     "metadata": {},
     "output_type": "execute_result"
    }
   ],
   "source": [
    "from sklearn.linear_model import LinearRegression  \n",
    "regressor1= LinearRegression()  \n",
    "regressor1.fit(X_train, Y_train)"
   ]
  },
  {
   "cell_type": "code",
   "execution_count": 34,
   "id": "4a9521a7",
   "metadata": {
    "execution": {
     "iopub.execute_input": "2023-09-19T15:47:50.876552Z",
     "iopub.status.busy": "2023-09-19T15:47:50.875057Z",
     "iopub.status.idle": "2023-09-19T15:47:50.886170Z",
     "shell.execute_reply": "2023-09-19T15:47:50.885363Z"
    },
    "papermill": {
     "duration": 0.035534,
     "end_time": "2023-09-19T15:47:50.889308",
     "exception": false,
     "start_time": "2023-09-19T15:47:50.853774",
     "status": "completed"
    },
    "tags": []
   },
   "outputs": [
    {
     "data": {
      "text/plain": [
       "array([3535.42463097, 3028.02218979, 2283.75536225, ..., 5862.63312688,\n",
       "       6090.41181696, 2005.80570659])"
      ]
     },
     "execution_count": 34,
     "metadata": {},
     "output_type": "execute_result"
    }
   ],
   "source": [
    "pred1=regressor1.predict(X_test)\n",
    "pred1"
   ]
  },
  {
   "cell_type": "code",
   "execution_count": 35,
   "id": "023a542e",
   "metadata": {
    "execution": {
     "iopub.execute_input": "2023-09-19T15:47:50.947645Z",
     "iopub.status.busy": "2023-09-19T15:47:50.946159Z",
     "iopub.status.idle": "2023-09-19T15:47:50.959355Z",
     "shell.execute_reply": "2023-09-19T15:47:50.958259Z"
    },
    "papermill": {
     "duration": 0.046904,
     "end_time": "2023-09-19T15:47:50.961734",
     "exception": false,
     "start_time": "2023-09-19T15:47:50.914830",
     "status": "completed"
    },
    "tags": []
   },
   "outputs": [
    {
     "name": "stdout",
     "output_type": "stream",
     "text": [
      "R-squared: 0.7222420104895361\n"
     ]
    }
   ],
   "source": [
    "from sklearn.metrics import r2_score\n",
    "rscore1=r2_score(Y_test,pred1)\n",
    "print(\"R-squared:\",rscore1)"
   ]
  },
  {
   "cell_type": "markdown",
   "id": "7015f336",
   "metadata": {
    "papermill": {
     "duration": 0.020408,
     "end_time": "2023-09-19T15:47:51.011905",
     "exception": false,
     "start_time": "2023-09-19T15:47:50.991497",
     "status": "completed"
    },
    "tags": []
   },
   "source": [
    "**Model 2: XGBoost Regressor**"
   ]
  },
  {
   "cell_type": "code",
   "execution_count": 36,
   "id": "1caa9637",
   "metadata": {
    "execution": {
     "iopub.execute_input": "2023-09-19T15:47:51.052488Z",
     "iopub.status.busy": "2023-09-19T15:47:51.052160Z",
     "iopub.status.idle": "2023-09-19T15:47:52.217292Z",
     "shell.execute_reply": "2023-09-19T15:47:52.216366Z"
    },
    "papermill": {
     "duration": 1.188768,
     "end_time": "2023-09-19T15:47:52.219151",
     "exception": false,
     "start_time": "2023-09-19T15:47:51.030383",
     "status": "completed"
    },
    "tags": []
   },
   "outputs": [
    {
     "data": {
      "text/html": [
       "<style>#sk-container-id-2 {color: black;background-color: white;}#sk-container-id-2 pre{padding: 0;}#sk-container-id-2 div.sk-toggleable {background-color: white;}#sk-container-id-2 label.sk-toggleable__label {cursor: pointer;display: block;width: 100%;margin-bottom: 0;padding: 0.3em;box-sizing: border-box;text-align: center;}#sk-container-id-2 label.sk-toggleable__label-arrow:before {content: \"▸\";float: left;margin-right: 0.25em;color: #696969;}#sk-container-id-2 label.sk-toggleable__label-arrow:hover:before {color: black;}#sk-container-id-2 div.sk-estimator:hover label.sk-toggleable__label-arrow:before {color: black;}#sk-container-id-2 div.sk-toggleable__content {max-height: 0;max-width: 0;overflow: hidden;text-align: left;background-color: #f0f8ff;}#sk-container-id-2 div.sk-toggleable__content pre {margin: 0.2em;color: black;border-radius: 0.25em;background-color: #f0f8ff;}#sk-container-id-2 input.sk-toggleable__control:checked~div.sk-toggleable__content {max-height: 200px;max-width: 100%;overflow: auto;}#sk-container-id-2 input.sk-toggleable__control:checked~label.sk-toggleable__label-arrow:before {content: \"▾\";}#sk-container-id-2 div.sk-estimator input.sk-toggleable__control:checked~label.sk-toggleable__label {background-color: #d4ebff;}#sk-container-id-2 div.sk-label input.sk-toggleable__control:checked~label.sk-toggleable__label {background-color: #d4ebff;}#sk-container-id-2 input.sk-hidden--visually {border: 0;clip: rect(1px 1px 1px 1px);clip: rect(1px, 1px, 1px, 1px);height: 1px;margin: -1px;overflow: hidden;padding: 0;position: absolute;width: 1px;}#sk-container-id-2 div.sk-estimator {font-family: monospace;background-color: #f0f8ff;border: 1px dotted black;border-radius: 0.25em;box-sizing: border-box;margin-bottom: 0.5em;}#sk-container-id-2 div.sk-estimator:hover {background-color: #d4ebff;}#sk-container-id-2 div.sk-parallel-item::after {content: \"\";width: 100%;border-bottom: 1px solid gray;flex-grow: 1;}#sk-container-id-2 div.sk-label:hover label.sk-toggleable__label {background-color: #d4ebff;}#sk-container-id-2 div.sk-serial::before {content: \"\";position: absolute;border-left: 1px solid gray;box-sizing: border-box;top: 0;bottom: 0;left: 50%;z-index: 0;}#sk-container-id-2 div.sk-serial {display: flex;flex-direction: column;align-items: center;background-color: white;padding-right: 0.2em;padding-left: 0.2em;position: relative;}#sk-container-id-2 div.sk-item {position: relative;z-index: 1;}#sk-container-id-2 div.sk-parallel {display: flex;align-items: stretch;justify-content: center;background-color: white;position: relative;}#sk-container-id-2 div.sk-item::before, #sk-container-id-2 div.sk-parallel-item::before {content: \"\";position: absolute;border-left: 1px solid gray;box-sizing: border-box;top: 0;bottom: 0;left: 50%;z-index: -1;}#sk-container-id-2 div.sk-parallel-item {display: flex;flex-direction: column;z-index: 1;position: relative;background-color: white;}#sk-container-id-2 div.sk-parallel-item:first-child::after {align-self: flex-end;width: 50%;}#sk-container-id-2 div.sk-parallel-item:last-child::after {align-self: flex-start;width: 50%;}#sk-container-id-2 div.sk-parallel-item:only-child::after {width: 0;}#sk-container-id-2 div.sk-dashed-wrapped {border: 1px dashed gray;margin: 0 0.4em 0.5em 0.4em;box-sizing: border-box;padding-bottom: 0.4em;background-color: white;}#sk-container-id-2 div.sk-label label {font-family: monospace;font-weight: bold;display: inline-block;line-height: 1.2em;}#sk-container-id-2 div.sk-label-container {text-align: center;}#sk-container-id-2 div.sk-container {/* jupyter's `normalize.less` sets `[hidden] { display: none; }` but bootstrap.min.css set `[hidden] { display: none !important; }` so we also need the `!important` here to be able to override the default hidden behavior on the sphinx rendered scikit-learn.org. See: https://github.com/scikit-learn/scikit-learn/issues/21755 */display: inline-block !important;position: relative;}#sk-container-id-2 div.sk-text-repr-fallback {display: none;}</style><div id=\"sk-container-id-2\" class=\"sk-top-container\"><div class=\"sk-text-repr-fallback\"><pre>XGBRegressor(base_score=None, booster=None, callbacks=None,\n",
       "             colsample_bylevel=None, colsample_bynode=None,\n",
       "             colsample_bytree=None, early_stopping_rounds=None,\n",
       "             enable_categorical=False, eval_metric=None, feature_types=None,\n",
       "             gamma=None, gpu_id=None, grow_policy=None, importance_type=None,\n",
       "             interaction_constraints=None, learning_rate=None, max_bin=None,\n",
       "             max_cat_threshold=None, max_cat_to_onehot=None,\n",
       "             max_delta_step=None, max_depth=None, max_leaves=None,\n",
       "             min_child_weight=None, missing=nan, monotone_constraints=None,\n",
       "             n_estimators=100, n_jobs=None, num_parallel_tree=None,\n",
       "             predictor=None, random_state=None, ...)</pre><b>In a Jupyter environment, please rerun this cell to show the HTML representation or trust the notebook. <br />On GitHub, the HTML representation is unable to render, please try loading this page with nbviewer.org.</b></div><div class=\"sk-container\" hidden><div class=\"sk-item\"><div class=\"sk-estimator sk-toggleable\"><input class=\"sk-toggleable__control sk-hidden--visually\" id=\"sk-estimator-id-2\" type=\"checkbox\" checked><label for=\"sk-estimator-id-2\" class=\"sk-toggleable__label sk-toggleable__label-arrow\">XGBRegressor</label><div class=\"sk-toggleable__content\"><pre>XGBRegressor(base_score=None, booster=None, callbacks=None,\n",
       "             colsample_bylevel=None, colsample_bynode=None,\n",
       "             colsample_bytree=None, early_stopping_rounds=None,\n",
       "             enable_categorical=False, eval_metric=None, feature_types=None,\n",
       "             gamma=None, gpu_id=None, grow_policy=None, importance_type=None,\n",
       "             interaction_constraints=None, learning_rate=None, max_bin=None,\n",
       "             max_cat_threshold=None, max_cat_to_onehot=None,\n",
       "             max_delta_step=None, max_depth=None, max_leaves=None,\n",
       "             min_child_weight=None, missing=nan, monotone_constraints=None,\n",
       "             n_estimators=100, n_jobs=None, num_parallel_tree=None,\n",
       "             predictor=None, random_state=None, ...)</pre></div></div></div></div></div>"
      ],
      "text/plain": [
       "XGBRegressor(base_score=None, booster=None, callbacks=None,\n",
       "             colsample_bylevel=None, colsample_bynode=None,\n",
       "             colsample_bytree=None, early_stopping_rounds=None,\n",
       "             enable_categorical=False, eval_metric=None, feature_types=None,\n",
       "             gamma=None, gpu_id=None, grow_policy=None, importance_type=None,\n",
       "             interaction_constraints=None, learning_rate=None, max_bin=None,\n",
       "             max_cat_threshold=None, max_cat_to_onehot=None,\n",
       "             max_delta_step=None, max_depth=None, max_leaves=None,\n",
       "             min_child_weight=None, missing=nan, monotone_constraints=None,\n",
       "             n_estimators=100, n_jobs=None, num_parallel_tree=None,\n",
       "             predictor=None, random_state=None, ...)"
      ]
     },
     "execution_count": 36,
     "metadata": {},
     "output_type": "execute_result"
    }
   ],
   "source": [
    "import xgboost as xgb\n",
    "regressor2=xgb.XGBRegressor()\n",
    "regressor2.fit(X_train,Y_train)"
   ]
  },
  {
   "cell_type": "code",
   "execution_count": 37,
   "id": "43abb95a",
   "metadata": {
    "execution": {
     "iopub.execute_input": "2023-09-19T15:47:52.259625Z",
     "iopub.status.busy": "2023-09-19T15:47:52.258829Z",
     "iopub.status.idle": "2023-09-19T15:47:52.272425Z",
     "shell.execute_reply": "2023-09-19T15:47:52.271760Z"
    },
    "papermill": {
     "duration": 0.036138,
     "end_time": "2023-09-19T15:47:52.274183",
     "exception": false,
     "start_time": "2023-09-19T15:47:52.238045",
     "status": "completed"
    },
    "tags": []
   },
   "outputs": [
    {
     "data": {
      "text/plain": [
       "array([6717.4365 ,  401.24396,  351.56387, ..., 7170.2886 , 6577.261  ,\n",
       "        356.85605], dtype=float32)"
      ]
     },
     "execution_count": 37,
     "metadata": {},
     "output_type": "execute_result"
    }
   ],
   "source": [
    "pred2=regressor2.predict(X_test)\n",
    "pred2"
   ]
  },
  {
   "cell_type": "code",
   "execution_count": 38,
   "id": "589b1e35",
   "metadata": {
    "execution": {
     "iopub.execute_input": "2023-09-19T15:47:52.313176Z",
     "iopub.status.busy": "2023-09-19T15:47:52.312479Z",
     "iopub.status.idle": "2023-09-19T15:47:52.317702Z",
     "shell.execute_reply": "2023-09-19T15:47:52.316766Z"
    },
    "papermill": {
     "duration": 0.026748,
     "end_time": "2023-09-19T15:47:52.319502",
     "exception": false,
     "start_time": "2023-09-19T15:47:52.292754",
     "status": "completed"
    },
    "tags": []
   },
   "outputs": [
    {
     "name": "stdout",
     "output_type": "stream",
     "text": [
      "R-squared: 0.9796308619186347\n"
     ]
    }
   ],
   "source": [
    "from sklearn.metrics import r2_score\n",
    "rscore2=r2_score(Y_test,pred2)\n",
    "print(\"R-squared:\",rscore2)"
   ]
  },
  {
   "cell_type": "markdown",
   "id": "265a6472",
   "metadata": {
    "papermill": {
     "duration": 0.019395,
     "end_time": "2023-09-19T15:47:52.357844",
     "exception": false,
     "start_time": "2023-09-19T15:47:52.338449",
     "status": "completed"
    },
    "tags": []
   },
   "source": [
    "**Model 3: Decision Tree Regressor**"
   ]
  },
  {
   "cell_type": "code",
   "execution_count": 39,
   "id": "88a763b7",
   "metadata": {
    "execution": {
     "iopub.execute_input": "2023-09-19T15:47:52.398762Z",
     "iopub.status.busy": "2023-09-19T15:47:52.397616Z",
     "iopub.status.idle": "2023-09-19T15:47:52.686430Z",
     "shell.execute_reply": "2023-09-19T15:47:52.685586Z"
    },
    "papermill": {
     "duration": 0.311296,
     "end_time": "2023-09-19T15:47:52.688332",
     "exception": false,
     "start_time": "2023-09-19T15:47:52.377036",
     "status": "completed"
    },
    "tags": []
   },
   "outputs": [
    {
     "data": {
      "text/html": [
       "<style>#sk-container-id-3 {color: black;background-color: white;}#sk-container-id-3 pre{padding: 0;}#sk-container-id-3 div.sk-toggleable {background-color: white;}#sk-container-id-3 label.sk-toggleable__label {cursor: pointer;display: block;width: 100%;margin-bottom: 0;padding: 0.3em;box-sizing: border-box;text-align: center;}#sk-container-id-3 label.sk-toggleable__label-arrow:before {content: \"▸\";float: left;margin-right: 0.25em;color: #696969;}#sk-container-id-3 label.sk-toggleable__label-arrow:hover:before {color: black;}#sk-container-id-3 div.sk-estimator:hover label.sk-toggleable__label-arrow:before {color: black;}#sk-container-id-3 div.sk-toggleable__content {max-height: 0;max-width: 0;overflow: hidden;text-align: left;background-color: #f0f8ff;}#sk-container-id-3 div.sk-toggleable__content pre {margin: 0.2em;color: black;border-radius: 0.25em;background-color: #f0f8ff;}#sk-container-id-3 input.sk-toggleable__control:checked~div.sk-toggleable__content {max-height: 200px;max-width: 100%;overflow: auto;}#sk-container-id-3 input.sk-toggleable__control:checked~label.sk-toggleable__label-arrow:before {content: \"▾\";}#sk-container-id-3 div.sk-estimator input.sk-toggleable__control:checked~label.sk-toggleable__label {background-color: #d4ebff;}#sk-container-id-3 div.sk-label input.sk-toggleable__control:checked~label.sk-toggleable__label {background-color: #d4ebff;}#sk-container-id-3 input.sk-hidden--visually {border: 0;clip: rect(1px 1px 1px 1px);clip: rect(1px, 1px, 1px, 1px);height: 1px;margin: -1px;overflow: hidden;padding: 0;position: absolute;width: 1px;}#sk-container-id-3 div.sk-estimator {font-family: monospace;background-color: #f0f8ff;border: 1px dotted black;border-radius: 0.25em;box-sizing: border-box;margin-bottom: 0.5em;}#sk-container-id-3 div.sk-estimator:hover {background-color: #d4ebff;}#sk-container-id-3 div.sk-parallel-item::after {content: \"\";width: 100%;border-bottom: 1px solid gray;flex-grow: 1;}#sk-container-id-3 div.sk-label:hover label.sk-toggleable__label {background-color: #d4ebff;}#sk-container-id-3 div.sk-serial::before {content: \"\";position: absolute;border-left: 1px solid gray;box-sizing: border-box;top: 0;bottom: 0;left: 50%;z-index: 0;}#sk-container-id-3 div.sk-serial {display: flex;flex-direction: column;align-items: center;background-color: white;padding-right: 0.2em;padding-left: 0.2em;position: relative;}#sk-container-id-3 div.sk-item {position: relative;z-index: 1;}#sk-container-id-3 div.sk-parallel {display: flex;align-items: stretch;justify-content: center;background-color: white;position: relative;}#sk-container-id-3 div.sk-item::before, #sk-container-id-3 div.sk-parallel-item::before {content: \"\";position: absolute;border-left: 1px solid gray;box-sizing: border-box;top: 0;bottom: 0;left: 50%;z-index: -1;}#sk-container-id-3 div.sk-parallel-item {display: flex;flex-direction: column;z-index: 1;position: relative;background-color: white;}#sk-container-id-3 div.sk-parallel-item:first-child::after {align-self: flex-end;width: 50%;}#sk-container-id-3 div.sk-parallel-item:last-child::after {align-self: flex-start;width: 50%;}#sk-container-id-3 div.sk-parallel-item:only-child::after {width: 0;}#sk-container-id-3 div.sk-dashed-wrapped {border: 1px dashed gray;margin: 0 0.4em 0.5em 0.4em;box-sizing: border-box;padding-bottom: 0.4em;background-color: white;}#sk-container-id-3 div.sk-label label {font-family: monospace;font-weight: bold;display: inline-block;line-height: 1.2em;}#sk-container-id-3 div.sk-label-container {text-align: center;}#sk-container-id-3 div.sk-container {/* jupyter's `normalize.less` sets `[hidden] { display: none; }` but bootstrap.min.css set `[hidden] { display: none !important; }` so we also need the `!important` here to be able to override the default hidden behavior on the sphinx rendered scikit-learn.org. See: https://github.com/scikit-learn/scikit-learn/issues/21755 */display: inline-block !important;position: relative;}#sk-container-id-3 div.sk-text-repr-fallback {display: none;}</style><div id=\"sk-container-id-3\" class=\"sk-top-container\"><div class=\"sk-text-repr-fallback\"><pre>DecisionTreeRegressor()</pre><b>In a Jupyter environment, please rerun this cell to show the HTML representation or trust the notebook. <br />On GitHub, the HTML representation is unable to render, please try loading this page with nbviewer.org.</b></div><div class=\"sk-container\" hidden><div class=\"sk-item\"><div class=\"sk-estimator sk-toggleable\"><input class=\"sk-toggleable__control sk-hidden--visually\" id=\"sk-estimator-id-3\" type=\"checkbox\" checked><label for=\"sk-estimator-id-3\" class=\"sk-toggleable__label sk-toggleable__label-arrow\">DecisionTreeRegressor</label><div class=\"sk-toggleable__content\"><pre>DecisionTreeRegressor()</pre></div></div></div></div></div>"
      ],
      "text/plain": [
       "DecisionTreeRegressor()"
      ]
     },
     "execution_count": 39,
     "metadata": {},
     "output_type": "execute_result"
    }
   ],
   "source": [
    "from sklearn.tree import DecisionTreeRegressor\n",
    "regressor3 = DecisionTreeRegressor()\n",
    "regressor3.fit(X_train, Y_train)"
   ]
  },
  {
   "cell_type": "code",
   "execution_count": 40,
   "id": "82055c7f",
   "metadata": {
    "execution": {
     "iopub.execute_input": "2023-09-19T15:47:52.730148Z",
     "iopub.status.busy": "2023-09-19T15:47:52.729558Z",
     "iopub.status.idle": "2023-09-19T15:47:52.737420Z",
     "shell.execute_reply": "2023-09-19T15:47:52.736204Z"
    },
    "papermill": {
     "duration": 0.031925,
     "end_time": "2023-09-19T15:47:52.740346",
     "exception": false,
     "start_time": "2023-09-19T15:47:52.708421",
     "status": "completed"
    },
    "tags": []
   },
   "outputs": [
    {
     "data": {
      "text/plain": [
       "array([6849.,  405.,  359., ..., 7143., 6250.,  331.])"
      ]
     },
     "execution_count": 40,
     "metadata": {},
     "output_type": "execute_result"
    }
   ],
   "source": [
    "pred3=regressor3.predict(X_test)\n",
    "pred3"
   ]
  },
  {
   "cell_type": "code",
   "execution_count": 41,
   "id": "50e6077a",
   "metadata": {
    "execution": {
     "iopub.execute_input": "2023-09-19T15:47:52.783557Z",
     "iopub.status.busy": "2023-09-19T15:47:52.783113Z",
     "iopub.status.idle": "2023-09-19T15:47:52.791299Z",
     "shell.execute_reply": "2023-09-19T15:47:52.790410Z"
    },
    "papermill": {
     "duration": 0.034731,
     "end_time": "2023-09-19T15:47:52.793882",
     "exception": false,
     "start_time": "2023-09-19T15:47:52.759151",
     "status": "completed"
    },
    "tags": []
   },
   "outputs": [
    {
     "name": "stdout",
     "output_type": "stream",
     "text": [
      "R-squared: 0.9687933451268324\n"
     ]
    }
   ],
   "source": [
    "from sklearn.metrics import r2_score\n",
    "rscore3=r2_score(Y_test,pred3)\n",
    "print(\"R-squared:\",rscore3)"
   ]
  },
  {
   "cell_type": "markdown",
   "id": "00acee23",
   "metadata": {
    "papermill": {
     "duration": 0.019894,
     "end_time": "2023-09-19T15:47:52.833701",
     "exception": false,
     "start_time": "2023-09-19T15:47:52.813807",
     "status": "completed"
    },
    "tags": []
   },
   "source": [
    "**Taking Different Features**"
   ]
  },
  {
   "cell_type": "code",
   "execution_count": 42,
   "id": "f0a9d3b7",
   "metadata": {
    "execution": {
     "iopub.execute_input": "2023-09-19T15:47:52.876430Z",
     "iopub.status.busy": "2023-09-19T15:47:52.875834Z",
     "iopub.status.idle": "2023-09-19T15:47:52.882427Z",
     "shell.execute_reply": "2023-09-19T15:47:52.881100Z"
    },
    "papermill": {
     "duration": 0.031324,
     "end_time": "2023-09-19T15:47:52.884947",
     "exception": false,
     "start_time": "2023-09-19T15:47:52.853623",
     "status": "completed"
    },
    "tags": []
   },
   "outputs": [],
   "source": [
    "#Dividing data into X and Y(converting into numpy)\n",
    "x=df.iloc[:,[1,2,3]].values\n",
    "y=df.iloc[:,4].values"
   ]
  },
  {
   "cell_type": "code",
   "execution_count": 43,
   "id": "839a2b9b",
   "metadata": {
    "execution": {
     "iopub.execute_input": "2023-09-19T15:47:52.925858Z",
     "iopub.status.busy": "2023-09-19T15:47:52.925248Z",
     "iopub.status.idle": "2023-09-19T15:47:52.930908Z",
     "shell.execute_reply": "2023-09-19T15:47:52.929376Z"
    },
    "papermill": {
     "duration": 0.028367,
     "end_time": "2023-09-19T15:47:52.933160",
     "exception": false,
     "start_time": "2023-09-19T15:47:52.904793",
     "status": "completed"
    },
    "tags": []
   },
   "outputs": [
    {
     "name": "stdout",
     "output_type": "stream",
     "text": [
      "[[ 0.83  0.    0.  ]\n",
      " [ 1.39  0.    0.  ]\n",
      " [ 1.95  0.    0.  ]\n",
      " ...\n",
      " [ 1.67  1.11 27.38]\n",
      " [ 0.55  1.67 27.93]\n",
      " [ 1.11  1.67 27.93]]\n"
     ]
    }
   ],
   "source": [
    "print(x)"
   ]
  },
  {
   "cell_type": "code",
   "execution_count": 44,
   "id": "f98fe160",
   "metadata": {
    "execution": {
     "iopub.execute_input": "2023-09-19T15:47:52.972687Z",
     "iopub.status.busy": "2023-09-19T15:47:52.972215Z",
     "iopub.status.idle": "2023-09-19T15:47:52.977724Z",
     "shell.execute_reply": "2023-09-19T15:47:52.976882Z"
    },
    "papermill": {
     "duration": 0.027579,
     "end_time": "2023-09-19T15:47:52.979497",
     "exception": false,
     "start_time": "2023-09-19T15:47:52.951918",
     "status": "completed"
    },
    "tags": []
   },
   "outputs": [
    {
     "name": "stdout",
     "output_type": "stream",
     "text": [
      "[7463. 7576. 7576. ...  327.  327.  328.]\n"
     ]
    }
   ],
   "source": [
    "print(y)"
   ]
  },
  {
   "cell_type": "code",
   "execution_count": 45,
   "id": "066927e8",
   "metadata": {
    "execution": {
     "iopub.execute_input": "2023-09-19T15:47:53.020369Z",
     "iopub.status.busy": "2023-09-19T15:47:53.019940Z",
     "iopub.status.idle": "2023-09-19T15:47:53.026897Z",
     "shell.execute_reply": "2023-09-19T15:47:53.026148Z"
    },
    "papermill": {
     "duration": 0.02998,
     "end_time": "2023-09-19T15:47:53.029093",
     "exception": false,
     "start_time": "2023-09-19T15:47:52.999113",
     "status": "completed"
    },
    "tags": []
   },
   "outputs": [],
   "source": [
    "#Splitting dataset into 80% training and 20% testing\n",
    "from sklearn.model_selection import train_test_split\n",
    "x_train,x_test,y_train,y_test=train_test_split(x,y,test_size=0.20,random_state=0)"
   ]
  },
  {
   "cell_type": "code",
   "execution_count": 46,
   "id": "f2f95ac9",
   "metadata": {
    "execution": {
     "iopub.execute_input": "2023-09-19T15:47:53.071373Z",
     "iopub.status.busy": "2023-09-19T15:47:53.070312Z",
     "iopub.status.idle": "2023-09-19T15:47:53.080339Z",
     "shell.execute_reply": "2023-09-19T15:47:53.078851Z"
    },
    "papermill": {
     "duration": 0.033866,
     "end_time": "2023-09-19T15:47:53.082914",
     "exception": false,
     "start_time": "2023-09-19T15:47:53.049048",
     "status": "completed"
    },
    "tags": []
   },
   "outputs": [],
   "source": [
    "from sklearn.preprocessing import StandardScaler\n",
    "sc = StandardScaler()\n",
    "x_train = sc.fit_transform(x_train)\n",
    "x_test = sc.transform(x_test)"
   ]
  },
  {
   "cell_type": "code",
   "execution_count": 47,
   "id": "b022c3dc",
   "metadata": {
    "execution": {
     "iopub.execute_input": "2023-09-19T15:47:53.124672Z",
     "iopub.status.busy": "2023-09-19T15:47:53.124257Z",
     "iopub.status.idle": "2023-09-19T15:47:53.134301Z",
     "shell.execute_reply": "2023-09-19T15:47:53.133036Z"
    },
    "papermill": {
     "duration": 0.033916,
     "end_time": "2023-09-19T15:47:53.137280",
     "exception": false,
     "start_time": "2023-09-19T15:47:53.103364",
     "status": "completed"
    },
    "tags": []
   },
   "outputs": [
    {
     "data": {
      "text/plain": [
       "array([[-0.45307831,  1.45957952,  1.80162477],\n",
       "       [-0.9857129 , -1.13997327, -0.81078524],\n",
       "       [-0.45307831,  0.15980312,  0.37641627],\n",
       "       ...,\n",
       "       [-0.45307831, -0.27345567, -0.27668623],\n",
       "       [ 0.61219089, -0.27345567, -0.39533555],\n",
       "       [ 2.74272928,  1.02632072,  1.30683941]])"
      ]
     },
     "execution_count": 47,
     "metadata": {},
     "output_type": "execute_result"
    }
   ],
   "source": [
    "x_train"
   ]
  },
  {
   "cell_type": "code",
   "execution_count": 48,
   "id": "5dbd389f",
   "metadata": {
    "execution": {
     "iopub.execute_input": "2023-09-19T15:47:53.181151Z",
     "iopub.status.busy": "2023-09-19T15:47:53.180724Z",
     "iopub.status.idle": "2023-09-19T15:47:53.190213Z",
     "shell.execute_reply": "2023-09-19T15:47:53.188521Z"
    },
    "papermill": {
     "duration": 0.035511,
     "end_time": "2023-09-19T15:47:53.193404",
     "exception": false,
     "start_time": "2023-09-19T15:47:53.157893",
     "status": "completed"
    },
    "tags": []
   },
   "outputs": [
    {
     "data": {
      "text/plain": [
       "array([[-9.85712905e-01, -7.06714473e-01, -4.94150946e-01],\n",
       "       [ 7.95562910e-02, -7.06714473e-01, -8.50453070e-01],\n",
       "       [ 7.95562910e-02, -7.06714473e-01, -9.09954817e-01],\n",
       "       ...,\n",
       "       [ 6.12190889e-01,  1.59803125e-01,  6.34409892e-04],\n",
       "       [ 6.12190889e-01,  1.59803125e-01,  1.78785472e-01],\n",
       "       [-9.85712905e-01, -1.13997327e+00, -1.04843805e+00]])"
      ]
     },
     "execution_count": 48,
     "metadata": {},
     "output_type": "execute_result"
    }
   ],
   "source": [
    "x_test"
   ]
  },
  {
   "cell_type": "code",
   "execution_count": 49,
   "id": "2fff49df",
   "metadata": {
    "execution": {
     "iopub.execute_input": "2023-09-19T15:47:53.236809Z",
     "iopub.status.busy": "2023-09-19T15:47:53.236433Z",
     "iopub.status.idle": "2023-09-19T15:47:53.246249Z",
     "shell.execute_reply": "2023-09-19T15:47:53.244619Z"
    },
    "papermill": {
     "duration": 0.034558,
     "end_time": "2023-09-19T15:47:53.249063",
     "exception": false,
     "start_time": "2023-09-19T15:47:53.214505",
     "status": "completed"
    },
    "tags": []
   },
   "outputs": [
    {
     "data": {
      "text/plain": [
       "array([7042.,  430., 6849., ..., 2439., 6250., 6410.])"
      ]
     },
     "execution_count": 49,
     "metadata": {},
     "output_type": "execute_result"
    }
   ],
   "source": [
    "y_train"
   ]
  },
  {
   "cell_type": "code",
   "execution_count": 50,
   "id": "d035fdf0",
   "metadata": {
    "execution": {
     "iopub.execute_input": "2023-09-19T15:47:53.293411Z",
     "iopub.status.busy": "2023-09-19T15:47:53.292955Z",
     "iopub.status.idle": "2023-09-19T15:47:53.300903Z",
     "shell.execute_reply": "2023-09-19T15:47:53.299477Z"
    },
    "papermill": {
     "duration": 0.034468,
     "end_time": "2023-09-19T15:47:53.303223",
     "exception": false,
     "start_time": "2023-09-19T15:47:53.268755",
     "status": "completed"
    },
    "tags": []
   },
   "outputs": [
    {
     "data": {
      "text/plain": [
       "array([6849.,  414.,  359., ..., 7143., 6757.,  331.])"
      ]
     },
     "execution_count": 50,
     "metadata": {},
     "output_type": "execute_result"
    }
   ],
   "source": [
    "y_test"
   ]
  },
  {
   "cell_type": "markdown",
   "id": "93ba1a32",
   "metadata": {
    "papermill": {
     "duration": 0.020352,
     "end_time": "2023-09-19T15:47:53.344301",
     "exception": false,
     "start_time": "2023-09-19T15:47:53.323949",
     "status": "completed"
    },
    "tags": []
   },
   "source": [
    "**Model 1: Linear Regression**"
   ]
  },
  {
   "cell_type": "code",
   "execution_count": 51,
   "id": "66c7e390",
   "metadata": {
    "execution": {
     "iopub.execute_input": "2023-09-19T15:47:53.388803Z",
     "iopub.status.busy": "2023-09-19T15:47:53.388471Z",
     "iopub.status.idle": "2023-09-19T15:47:53.399277Z",
     "shell.execute_reply": "2023-09-19T15:47:53.398382Z"
    },
    "papermill": {
     "duration": 0.035186,
     "end_time": "2023-09-19T15:47:53.401010",
     "exception": false,
     "start_time": "2023-09-19T15:47:53.365824",
     "status": "completed"
    },
    "tags": []
   },
   "outputs": [
    {
     "data": {
      "text/html": [
       "<style>#sk-container-id-4 {color: black;background-color: white;}#sk-container-id-4 pre{padding: 0;}#sk-container-id-4 div.sk-toggleable {background-color: white;}#sk-container-id-4 label.sk-toggleable__label {cursor: pointer;display: block;width: 100%;margin-bottom: 0;padding: 0.3em;box-sizing: border-box;text-align: center;}#sk-container-id-4 label.sk-toggleable__label-arrow:before {content: \"▸\";float: left;margin-right: 0.25em;color: #696969;}#sk-container-id-4 label.sk-toggleable__label-arrow:hover:before {color: black;}#sk-container-id-4 div.sk-estimator:hover label.sk-toggleable__label-arrow:before {color: black;}#sk-container-id-4 div.sk-toggleable__content {max-height: 0;max-width: 0;overflow: hidden;text-align: left;background-color: #f0f8ff;}#sk-container-id-4 div.sk-toggleable__content pre {margin: 0.2em;color: black;border-radius: 0.25em;background-color: #f0f8ff;}#sk-container-id-4 input.sk-toggleable__control:checked~div.sk-toggleable__content {max-height: 200px;max-width: 100%;overflow: auto;}#sk-container-id-4 input.sk-toggleable__control:checked~label.sk-toggleable__label-arrow:before {content: \"▾\";}#sk-container-id-4 div.sk-estimator input.sk-toggleable__control:checked~label.sk-toggleable__label {background-color: #d4ebff;}#sk-container-id-4 div.sk-label input.sk-toggleable__control:checked~label.sk-toggleable__label {background-color: #d4ebff;}#sk-container-id-4 input.sk-hidden--visually {border: 0;clip: rect(1px 1px 1px 1px);clip: rect(1px, 1px, 1px, 1px);height: 1px;margin: -1px;overflow: hidden;padding: 0;position: absolute;width: 1px;}#sk-container-id-4 div.sk-estimator {font-family: monospace;background-color: #f0f8ff;border: 1px dotted black;border-radius: 0.25em;box-sizing: border-box;margin-bottom: 0.5em;}#sk-container-id-4 div.sk-estimator:hover {background-color: #d4ebff;}#sk-container-id-4 div.sk-parallel-item::after {content: \"\";width: 100%;border-bottom: 1px solid gray;flex-grow: 1;}#sk-container-id-4 div.sk-label:hover label.sk-toggleable__label {background-color: #d4ebff;}#sk-container-id-4 div.sk-serial::before {content: \"\";position: absolute;border-left: 1px solid gray;box-sizing: border-box;top: 0;bottom: 0;left: 50%;z-index: 0;}#sk-container-id-4 div.sk-serial {display: flex;flex-direction: column;align-items: center;background-color: white;padding-right: 0.2em;padding-left: 0.2em;position: relative;}#sk-container-id-4 div.sk-item {position: relative;z-index: 1;}#sk-container-id-4 div.sk-parallel {display: flex;align-items: stretch;justify-content: center;background-color: white;position: relative;}#sk-container-id-4 div.sk-item::before, #sk-container-id-4 div.sk-parallel-item::before {content: \"\";position: absolute;border-left: 1px solid gray;box-sizing: border-box;top: 0;bottom: 0;left: 50%;z-index: -1;}#sk-container-id-4 div.sk-parallel-item {display: flex;flex-direction: column;z-index: 1;position: relative;background-color: white;}#sk-container-id-4 div.sk-parallel-item:first-child::after {align-self: flex-end;width: 50%;}#sk-container-id-4 div.sk-parallel-item:last-child::after {align-self: flex-start;width: 50%;}#sk-container-id-4 div.sk-parallel-item:only-child::after {width: 0;}#sk-container-id-4 div.sk-dashed-wrapped {border: 1px dashed gray;margin: 0 0.4em 0.5em 0.4em;box-sizing: border-box;padding-bottom: 0.4em;background-color: white;}#sk-container-id-4 div.sk-label label {font-family: monospace;font-weight: bold;display: inline-block;line-height: 1.2em;}#sk-container-id-4 div.sk-label-container {text-align: center;}#sk-container-id-4 div.sk-container {/* jupyter's `normalize.less` sets `[hidden] { display: none; }` but bootstrap.min.css set `[hidden] { display: none !important; }` so we also need the `!important` here to be able to override the default hidden behavior on the sphinx rendered scikit-learn.org. See: https://github.com/scikit-learn/scikit-learn/issues/21755 */display: inline-block !important;position: relative;}#sk-container-id-4 div.sk-text-repr-fallback {display: none;}</style><div id=\"sk-container-id-4\" class=\"sk-top-container\"><div class=\"sk-text-repr-fallback\"><pre>LinearRegression()</pre><b>In a Jupyter environment, please rerun this cell to show the HTML representation or trust the notebook. <br />On GitHub, the HTML representation is unable to render, please try loading this page with nbviewer.org.</b></div><div class=\"sk-container\" hidden><div class=\"sk-item\"><div class=\"sk-estimator sk-toggleable\"><input class=\"sk-toggleable__control sk-hidden--visually\" id=\"sk-estimator-id-4\" type=\"checkbox\" checked><label for=\"sk-estimator-id-4\" class=\"sk-toggleable__label sk-toggleable__label-arrow\">LinearRegression</label><div class=\"sk-toggleable__content\"><pre>LinearRegression()</pre></div></div></div></div></div>"
      ],
      "text/plain": [
       "LinearRegression()"
      ]
     },
     "execution_count": 51,
     "metadata": {},
     "output_type": "execute_result"
    }
   ],
   "source": [
    "from sklearn.linear_model import LinearRegression  \n",
    "regressor4= LinearRegression()  \n",
    "regressor4.fit(x_train, y_train)"
   ]
  },
  {
   "cell_type": "code",
   "execution_count": 52,
   "id": "e58348ca",
   "metadata": {
    "execution": {
     "iopub.execute_input": "2023-09-19T15:47:53.448077Z",
     "iopub.status.busy": "2023-09-19T15:47:53.447313Z",
     "iopub.status.idle": "2023-09-19T15:47:53.456920Z",
     "shell.execute_reply": "2023-09-19T15:47:53.456165Z"
    },
    "papermill": {
     "duration": 0.036525,
     "end_time": "2023-09-19T15:47:53.459300",
     "exception": false,
     "start_time": "2023-09-19T15:47:53.422775",
     "status": "completed"
    },
    "tags": []
   },
   "outputs": [
    {
     "data": {
      "text/plain": [
       "array([2989.0226249 , 2569.25781203, 2490.25380205, ..., 4510.46432485,\n",
       "       4747.00609282, 1860.80882529])"
      ]
     },
     "execution_count": 52,
     "metadata": {},
     "output_type": "execute_result"
    }
   ],
   "source": [
    "pred4=regressor4.predict(x_test)\n",
    "pred4"
   ]
  },
  {
   "cell_type": "code",
   "execution_count": 53,
   "id": "4fa578f4",
   "metadata": {
    "execution": {
     "iopub.execute_input": "2023-09-19T15:47:53.514350Z",
     "iopub.status.busy": "2023-09-19T15:47:53.513900Z",
     "iopub.status.idle": "2023-09-19T15:47:53.521137Z",
     "shell.execute_reply": "2023-09-19T15:47:53.520298Z"
    },
    "papermill": {
     "duration": 0.040854,
     "end_time": "2023-09-19T15:47:53.527094",
     "exception": false,
     "start_time": "2023-09-19T15:47:53.486240",
     "status": "completed"
    },
    "tags": []
   },
   "outputs": [
    {
     "name": "stdout",
     "output_type": "stream",
     "text": [
      "R-squared: 0.5199385350350991\n"
     ]
    }
   ],
   "source": [
    "from sklearn.metrics import r2_score\n",
    "rscore4=r2_score(y_test,pred4)\n",
    "print(\"R-squared:\",rscore4)"
   ]
  },
  {
   "cell_type": "code",
   "execution_count": 54,
   "id": "a0f5c28d",
   "metadata": {
    "execution": {
     "iopub.execute_input": "2023-09-19T15:47:53.579505Z",
     "iopub.status.busy": "2023-09-19T15:47:53.579104Z",
     "iopub.status.idle": "2023-09-19T15:47:53.585537Z",
     "shell.execute_reply": "2023-09-19T15:47:53.584807Z"
    },
    "papermill": {
     "duration": 0.033856,
     "end_time": "2023-09-19T15:47:53.587313",
     "exception": false,
     "start_time": "2023-09-19T15:47:53.553457",
     "status": "completed"
    },
    "tags": []
   },
   "outputs": [],
   "source": [
    "from sklearn.metrics import mean_absolute_error, mean_squared_error, max_error, median_absolute_error, r2_score, explained_variance_score\n",
    "def regression_report(y_true, y_pred):\n",
    "    metrics = [\n",
    "        ('mean absolute error', mean_absolute_error(y_true, y_pred)),\n",
    "        ('median absolute error', median_absolute_error(y_true, y_pred)),\n",
    "        ('mean squared error', mean_squared_error(y_true, y_pred)),\n",
    "        ('max error', max_error(y_true, y_pred)),\n",
    "        ('r2 score', r2_score(y_true, y_pred)),\n",
    "        ('explained variance score', explained_variance_score(y_true, y_pred))\n",
    "    ]\n",
    "    \n",
    "    print('Metrics for regression:')\n",
    "    for metric_name, metric_value in metrics:\n",
    "        print(f'{metric_name:>25s}: {metric_value: >20.3f}') "
   ]
  },
  {
   "cell_type": "code",
   "execution_count": 55,
   "id": "339ae907",
   "metadata": {
    "execution": {
     "iopub.execute_input": "2023-09-19T15:47:53.631126Z",
     "iopub.status.busy": "2023-09-19T15:47:53.630252Z",
     "iopub.status.idle": "2023-09-19T15:47:53.637860Z",
     "shell.execute_reply": "2023-09-19T15:47:53.636911Z"
    },
    "papermill": {
     "duration": 0.032703,
     "end_time": "2023-09-19T15:47:53.639582",
     "exception": false,
     "start_time": "2023-09-19T15:47:53.606879",
     "status": "completed"
    },
    "tags": []
   },
   "outputs": [
    {
     "name": "stdout",
     "output_type": "stream",
     "text": [
      "Metrics for regression:\n",
      "      mean absolute error:             1970.378\n",
      "    median absolute error:             1998.457\n",
      "       mean squared error:          4541225.140\n",
      "                max error:             5789.329\n",
      "                 r2 score:                0.520\n",
      " explained variance score:                0.520\n",
      "None\n"
     ]
    }
   ],
   "source": [
    "print(regression_report(y_test, pred4))"
   ]
  },
  {
   "cell_type": "markdown",
   "id": "bb1f6bbc",
   "metadata": {
    "papermill": {
     "duration": 0.024465,
     "end_time": "2023-09-19T15:47:53.686089",
     "exception": false,
     "start_time": "2023-09-19T15:47:53.661624",
     "status": "completed"
    },
    "tags": []
   },
   "source": [
    "**Model 2 : XGBoost Regressor**"
   ]
  },
  {
   "cell_type": "code",
   "execution_count": 56,
   "id": "30e29c8e",
   "metadata": {
    "execution": {
     "iopub.execute_input": "2023-09-19T15:47:53.737696Z",
     "iopub.status.busy": "2023-09-19T15:47:53.737260Z",
     "iopub.status.idle": "2023-09-19T15:47:54.219439Z",
     "shell.execute_reply": "2023-09-19T15:47:54.217470Z"
    },
    "papermill": {
     "duration": 0.506917,
     "end_time": "2023-09-19T15:47:54.222108",
     "exception": false,
     "start_time": "2023-09-19T15:47:53.715191",
     "status": "completed"
    },
    "tags": []
   },
   "outputs": [
    {
     "data": {
      "text/html": [
       "<style>#sk-container-id-5 {color: black;background-color: white;}#sk-container-id-5 pre{padding: 0;}#sk-container-id-5 div.sk-toggleable {background-color: white;}#sk-container-id-5 label.sk-toggleable__label {cursor: pointer;display: block;width: 100%;margin-bottom: 0;padding: 0.3em;box-sizing: border-box;text-align: center;}#sk-container-id-5 label.sk-toggleable__label-arrow:before {content: \"▸\";float: left;margin-right: 0.25em;color: #696969;}#sk-container-id-5 label.sk-toggleable__label-arrow:hover:before {color: black;}#sk-container-id-5 div.sk-estimator:hover label.sk-toggleable__label-arrow:before {color: black;}#sk-container-id-5 div.sk-toggleable__content {max-height: 0;max-width: 0;overflow: hidden;text-align: left;background-color: #f0f8ff;}#sk-container-id-5 div.sk-toggleable__content pre {margin: 0.2em;color: black;border-radius: 0.25em;background-color: #f0f8ff;}#sk-container-id-5 input.sk-toggleable__control:checked~div.sk-toggleable__content {max-height: 200px;max-width: 100%;overflow: auto;}#sk-container-id-5 input.sk-toggleable__control:checked~label.sk-toggleable__label-arrow:before {content: \"▾\";}#sk-container-id-5 div.sk-estimator input.sk-toggleable__control:checked~label.sk-toggleable__label {background-color: #d4ebff;}#sk-container-id-5 div.sk-label input.sk-toggleable__control:checked~label.sk-toggleable__label {background-color: #d4ebff;}#sk-container-id-5 input.sk-hidden--visually {border: 0;clip: rect(1px 1px 1px 1px);clip: rect(1px, 1px, 1px, 1px);height: 1px;margin: -1px;overflow: hidden;padding: 0;position: absolute;width: 1px;}#sk-container-id-5 div.sk-estimator {font-family: monospace;background-color: #f0f8ff;border: 1px dotted black;border-radius: 0.25em;box-sizing: border-box;margin-bottom: 0.5em;}#sk-container-id-5 div.sk-estimator:hover {background-color: #d4ebff;}#sk-container-id-5 div.sk-parallel-item::after {content: \"\";width: 100%;border-bottom: 1px solid gray;flex-grow: 1;}#sk-container-id-5 div.sk-label:hover label.sk-toggleable__label {background-color: #d4ebff;}#sk-container-id-5 div.sk-serial::before {content: \"\";position: absolute;border-left: 1px solid gray;box-sizing: border-box;top: 0;bottom: 0;left: 50%;z-index: 0;}#sk-container-id-5 div.sk-serial {display: flex;flex-direction: column;align-items: center;background-color: white;padding-right: 0.2em;padding-left: 0.2em;position: relative;}#sk-container-id-5 div.sk-item {position: relative;z-index: 1;}#sk-container-id-5 div.sk-parallel {display: flex;align-items: stretch;justify-content: center;background-color: white;position: relative;}#sk-container-id-5 div.sk-item::before, #sk-container-id-5 div.sk-parallel-item::before {content: \"\";position: absolute;border-left: 1px solid gray;box-sizing: border-box;top: 0;bottom: 0;left: 50%;z-index: -1;}#sk-container-id-5 div.sk-parallel-item {display: flex;flex-direction: column;z-index: 1;position: relative;background-color: white;}#sk-container-id-5 div.sk-parallel-item:first-child::after {align-self: flex-end;width: 50%;}#sk-container-id-5 div.sk-parallel-item:last-child::after {align-self: flex-start;width: 50%;}#sk-container-id-5 div.sk-parallel-item:only-child::after {width: 0;}#sk-container-id-5 div.sk-dashed-wrapped {border: 1px dashed gray;margin: 0 0.4em 0.5em 0.4em;box-sizing: border-box;padding-bottom: 0.4em;background-color: white;}#sk-container-id-5 div.sk-label label {font-family: monospace;font-weight: bold;display: inline-block;line-height: 1.2em;}#sk-container-id-5 div.sk-label-container {text-align: center;}#sk-container-id-5 div.sk-container {/* jupyter's `normalize.less` sets `[hidden] { display: none; }` but bootstrap.min.css set `[hidden] { display: none !important; }` so we also need the `!important` here to be able to override the default hidden behavior on the sphinx rendered scikit-learn.org. See: https://github.com/scikit-learn/scikit-learn/issues/21755 */display: inline-block !important;position: relative;}#sk-container-id-5 div.sk-text-repr-fallback {display: none;}</style><div id=\"sk-container-id-5\" class=\"sk-top-container\"><div class=\"sk-text-repr-fallback\"><pre>XGBRegressor(base_score=None, booster=None, callbacks=None,\n",
       "             colsample_bylevel=None, colsample_bynode=None,\n",
       "             colsample_bytree=None, early_stopping_rounds=None,\n",
       "             enable_categorical=False, eval_metric=None, feature_types=None,\n",
       "             gamma=None, gpu_id=None, grow_policy=None, importance_type=None,\n",
       "             interaction_constraints=None, learning_rate=None, max_bin=None,\n",
       "             max_cat_threshold=None, max_cat_to_onehot=None,\n",
       "             max_delta_step=None, max_depth=None, max_leaves=None,\n",
       "             min_child_weight=None, missing=nan, monotone_constraints=None,\n",
       "             n_estimators=100, n_jobs=None, num_parallel_tree=None,\n",
       "             predictor=None, random_state=None, ...)</pre><b>In a Jupyter environment, please rerun this cell to show the HTML representation or trust the notebook. <br />On GitHub, the HTML representation is unable to render, please try loading this page with nbviewer.org.</b></div><div class=\"sk-container\" hidden><div class=\"sk-item\"><div class=\"sk-estimator sk-toggleable\"><input class=\"sk-toggleable__control sk-hidden--visually\" id=\"sk-estimator-id-5\" type=\"checkbox\" checked><label for=\"sk-estimator-id-5\" class=\"sk-toggleable__label sk-toggleable__label-arrow\">XGBRegressor</label><div class=\"sk-toggleable__content\"><pre>XGBRegressor(base_score=None, booster=None, callbacks=None,\n",
       "             colsample_bylevel=None, colsample_bynode=None,\n",
       "             colsample_bytree=None, early_stopping_rounds=None,\n",
       "             enable_categorical=False, eval_metric=None, feature_types=None,\n",
       "             gamma=None, gpu_id=None, grow_policy=None, importance_type=None,\n",
       "             interaction_constraints=None, learning_rate=None, max_bin=None,\n",
       "             max_cat_threshold=None, max_cat_to_onehot=None,\n",
       "             max_delta_step=None, max_depth=None, max_leaves=None,\n",
       "             min_child_weight=None, missing=nan, monotone_constraints=None,\n",
       "             n_estimators=100, n_jobs=None, num_parallel_tree=None,\n",
       "             predictor=None, random_state=None, ...)</pre></div></div></div></div></div>"
      ],
      "text/plain": [
       "XGBRegressor(base_score=None, booster=None, callbacks=None,\n",
       "             colsample_bylevel=None, colsample_bynode=None,\n",
       "             colsample_bytree=None, early_stopping_rounds=None,\n",
       "             enable_categorical=False, eval_metric=None, feature_types=None,\n",
       "             gamma=None, gpu_id=None, grow_policy=None, importance_type=None,\n",
       "             interaction_constraints=None, learning_rate=None, max_bin=None,\n",
       "             max_cat_threshold=None, max_cat_to_onehot=None,\n",
       "             max_delta_step=None, max_depth=None, max_leaves=None,\n",
       "             min_child_weight=None, missing=nan, monotone_constraints=None,\n",
       "             n_estimators=100, n_jobs=None, num_parallel_tree=None,\n",
       "             predictor=None, random_state=None, ...)"
      ]
     },
     "execution_count": 56,
     "metadata": {},
     "output_type": "execute_result"
    }
   ],
   "source": [
    "import xgboost as xgb\n",
    "regressor5=xgb.XGBRegressor()\n",
    "regressor5.fit(x_train,y_train)"
   ]
  },
  {
   "cell_type": "code",
   "execution_count": 57,
   "id": "06fabd40",
   "metadata": {
    "execution": {
     "iopub.execute_input": "2023-09-19T15:47:54.267277Z",
     "iopub.status.busy": "2023-09-19T15:47:54.266568Z",
     "iopub.status.idle": "2023-09-19T15:47:54.285463Z",
     "shell.execute_reply": "2023-09-19T15:47:54.284171Z"
    },
    "papermill": {
     "duration": 0.045956,
     "end_time": "2023-09-19T15:47:54.288038",
     "exception": false,
     "start_time": "2023-09-19T15:47:54.242082",
     "status": "completed"
    },
    "tags": []
   },
   "outputs": [
    {
     "data": {
      "text/plain": [
       "array([6621.6406 ,  397.9831 ,  371.6124 , ..., 7158.1206 , 6700.095  ,\n",
       "        336.70276], dtype=float32)"
      ]
     },
     "execution_count": 57,
     "metadata": {},
     "output_type": "execute_result"
    }
   ],
   "source": [
    "pred5=regressor5.predict(x_test)\n",
    "pred5"
   ]
  },
  {
   "cell_type": "code",
   "execution_count": 58,
   "id": "bdf63ac6",
   "metadata": {
    "execution": {
     "iopub.execute_input": "2023-09-19T15:47:54.332511Z",
     "iopub.status.busy": "2023-09-19T15:47:54.332177Z",
     "iopub.status.idle": "2023-09-19T15:47:54.339946Z",
     "shell.execute_reply": "2023-09-19T15:47:54.338284Z"
    },
    "papermill": {
     "duration": 0.032204,
     "end_time": "2023-09-19T15:47:54.342052",
     "exception": false,
     "start_time": "2023-09-19T15:47:54.309848",
     "status": "completed"
    },
    "tags": []
   },
   "outputs": [
    {
     "name": "stdout",
     "output_type": "stream",
     "text": [
      "R-squared: 0.9584707433712214\n"
     ]
    }
   ],
   "source": [
    "from sklearn.metrics import r2_score\n",
    "rscore5=r2_score(y_test,pred5)\n",
    "print(\"R-squared:\",rscore5)"
   ]
  },
  {
   "cell_type": "code",
   "execution_count": 59,
   "id": "ba5e5bd0",
   "metadata": {
    "execution": {
     "iopub.execute_input": "2023-09-19T15:47:54.385184Z",
     "iopub.status.busy": "2023-09-19T15:47:54.384494Z",
     "iopub.status.idle": "2023-09-19T15:47:54.391447Z",
     "shell.execute_reply": "2023-09-19T15:47:54.390331Z"
    },
    "papermill": {
     "duration": 0.031667,
     "end_time": "2023-09-19T15:47:54.394175",
     "exception": false,
     "start_time": "2023-09-19T15:47:54.362508",
     "status": "completed"
    },
    "tags": []
   },
   "outputs": [
    {
     "name": "stdout",
     "output_type": "stream",
     "text": [
      "Metrics for regression:\n",
      "      mean absolute error:              250.971\n",
      "    median absolute error:               64.482\n",
      "       mean squared error:           392853.245\n",
      "                max error:             4065.497\n",
      "                 r2 score:                0.958\n",
      " explained variance score:                0.958\n",
      "None\n"
     ]
    }
   ],
   "source": [
    "print(regression_report(y_test, pred5))"
   ]
  },
  {
   "cell_type": "markdown",
   "id": "20df2c25",
   "metadata": {
    "papermill": {
     "duration": 0.020801,
     "end_time": "2023-09-19T15:47:54.435938",
     "exception": false,
     "start_time": "2023-09-19T15:47:54.415137",
     "status": "completed"
    },
    "tags": []
   },
   "source": [
    "**Model 3: Decision Tree Regressor**"
   ]
  },
  {
   "cell_type": "code",
   "execution_count": 60,
   "id": "f4572dd4",
   "metadata": {
    "execution": {
     "iopub.execute_input": "2023-09-19T15:47:54.480917Z",
     "iopub.status.busy": "2023-09-19T15:47:54.480547Z",
     "iopub.status.idle": "2023-09-19T15:47:54.500417Z",
     "shell.execute_reply": "2023-09-19T15:47:54.497967Z"
    },
    "papermill": {
     "duration": 0.044339,
     "end_time": "2023-09-19T15:47:54.502668",
     "exception": false,
     "start_time": "2023-09-19T15:47:54.458329",
     "status": "completed"
    },
    "tags": []
   },
   "outputs": [
    {
     "data": {
      "text/html": [
       "<style>#sk-container-id-6 {color: black;background-color: white;}#sk-container-id-6 pre{padding: 0;}#sk-container-id-6 div.sk-toggleable {background-color: white;}#sk-container-id-6 label.sk-toggleable__label {cursor: pointer;display: block;width: 100%;margin-bottom: 0;padding: 0.3em;box-sizing: border-box;text-align: center;}#sk-container-id-6 label.sk-toggleable__label-arrow:before {content: \"▸\";float: left;margin-right: 0.25em;color: #696969;}#sk-container-id-6 label.sk-toggleable__label-arrow:hover:before {color: black;}#sk-container-id-6 div.sk-estimator:hover label.sk-toggleable__label-arrow:before {color: black;}#sk-container-id-6 div.sk-toggleable__content {max-height: 0;max-width: 0;overflow: hidden;text-align: left;background-color: #f0f8ff;}#sk-container-id-6 div.sk-toggleable__content pre {margin: 0.2em;color: black;border-radius: 0.25em;background-color: #f0f8ff;}#sk-container-id-6 input.sk-toggleable__control:checked~div.sk-toggleable__content {max-height: 200px;max-width: 100%;overflow: auto;}#sk-container-id-6 input.sk-toggleable__control:checked~label.sk-toggleable__label-arrow:before {content: \"▾\";}#sk-container-id-6 div.sk-estimator input.sk-toggleable__control:checked~label.sk-toggleable__label {background-color: #d4ebff;}#sk-container-id-6 div.sk-label input.sk-toggleable__control:checked~label.sk-toggleable__label {background-color: #d4ebff;}#sk-container-id-6 input.sk-hidden--visually {border: 0;clip: rect(1px 1px 1px 1px);clip: rect(1px, 1px, 1px, 1px);height: 1px;margin: -1px;overflow: hidden;padding: 0;position: absolute;width: 1px;}#sk-container-id-6 div.sk-estimator {font-family: monospace;background-color: #f0f8ff;border: 1px dotted black;border-radius: 0.25em;box-sizing: border-box;margin-bottom: 0.5em;}#sk-container-id-6 div.sk-estimator:hover {background-color: #d4ebff;}#sk-container-id-6 div.sk-parallel-item::after {content: \"\";width: 100%;border-bottom: 1px solid gray;flex-grow: 1;}#sk-container-id-6 div.sk-label:hover label.sk-toggleable__label {background-color: #d4ebff;}#sk-container-id-6 div.sk-serial::before {content: \"\";position: absolute;border-left: 1px solid gray;box-sizing: border-box;top: 0;bottom: 0;left: 50%;z-index: 0;}#sk-container-id-6 div.sk-serial {display: flex;flex-direction: column;align-items: center;background-color: white;padding-right: 0.2em;padding-left: 0.2em;position: relative;}#sk-container-id-6 div.sk-item {position: relative;z-index: 1;}#sk-container-id-6 div.sk-parallel {display: flex;align-items: stretch;justify-content: center;background-color: white;position: relative;}#sk-container-id-6 div.sk-item::before, #sk-container-id-6 div.sk-parallel-item::before {content: \"\";position: absolute;border-left: 1px solid gray;box-sizing: border-box;top: 0;bottom: 0;left: 50%;z-index: -1;}#sk-container-id-6 div.sk-parallel-item {display: flex;flex-direction: column;z-index: 1;position: relative;background-color: white;}#sk-container-id-6 div.sk-parallel-item:first-child::after {align-self: flex-end;width: 50%;}#sk-container-id-6 div.sk-parallel-item:last-child::after {align-self: flex-start;width: 50%;}#sk-container-id-6 div.sk-parallel-item:only-child::after {width: 0;}#sk-container-id-6 div.sk-dashed-wrapped {border: 1px dashed gray;margin: 0 0.4em 0.5em 0.4em;box-sizing: border-box;padding-bottom: 0.4em;background-color: white;}#sk-container-id-6 div.sk-label label {font-family: monospace;font-weight: bold;display: inline-block;line-height: 1.2em;}#sk-container-id-6 div.sk-label-container {text-align: center;}#sk-container-id-6 div.sk-container {/* jupyter's `normalize.less` sets `[hidden] { display: none; }` but bootstrap.min.css set `[hidden] { display: none !important; }` so we also need the `!important` here to be able to override the default hidden behavior on the sphinx rendered scikit-learn.org. See: https://github.com/scikit-learn/scikit-learn/issues/21755 */display: inline-block !important;position: relative;}#sk-container-id-6 div.sk-text-repr-fallback {display: none;}</style><div id=\"sk-container-id-6\" class=\"sk-top-container\"><div class=\"sk-text-repr-fallback\"><pre>DecisionTreeRegressor()</pre><b>In a Jupyter environment, please rerun this cell to show the HTML representation or trust the notebook. <br />On GitHub, the HTML representation is unable to render, please try loading this page with nbviewer.org.</b></div><div class=\"sk-container\" hidden><div class=\"sk-item\"><div class=\"sk-estimator sk-toggleable\"><input class=\"sk-toggleable__control sk-hidden--visually\" id=\"sk-estimator-id-6\" type=\"checkbox\" checked><label for=\"sk-estimator-id-6\" class=\"sk-toggleable__label sk-toggleable__label-arrow\">DecisionTreeRegressor</label><div class=\"sk-toggleable__content\"><pre>DecisionTreeRegressor()</pre></div></div></div></div></div>"
      ],
      "text/plain": [
       "DecisionTreeRegressor()"
      ]
     },
     "execution_count": 60,
     "metadata": {},
     "output_type": "execute_result"
    }
   ],
   "source": [
    "from sklearn.tree import DecisionTreeRegressor\n",
    "regressor6 = DecisionTreeRegressor()\n",
    "regressor6.fit(x_train, y_train)"
   ]
  },
  {
   "cell_type": "code",
   "execution_count": 61,
   "id": "4b76d04d",
   "metadata": {
    "execution": {
     "iopub.execute_input": "2023-09-19T15:47:54.548379Z",
     "iopub.status.busy": "2023-09-19T15:47:54.547963Z",
     "iopub.status.idle": "2023-09-19T15:47:54.555852Z",
     "shell.execute_reply": "2023-09-19T15:47:54.554846Z"
    },
    "papermill": {
     "duration": 0.033926,
     "end_time": "2023-09-19T15:47:54.558760",
     "exception": false,
     "start_time": "2023-09-19T15:47:54.524834",
     "status": "completed"
    },
    "tags": []
   },
   "outputs": [
    {
     "data": {
      "text/plain": [
       "array([6625.88043478,  398.65714286,  372.24074074, ..., 7155.90410959,\n",
       "       6694.55932203,  336.51308901])"
      ]
     },
     "execution_count": 61,
     "metadata": {},
     "output_type": "execute_result"
    }
   ],
   "source": [
    "pred6=regressor6.predict(x_test)\n",
    "pred6"
   ]
  },
  {
   "cell_type": "code",
   "execution_count": 62,
   "id": "d42958ea",
   "metadata": {
    "execution": {
     "iopub.execute_input": "2023-09-19T15:47:54.602964Z",
     "iopub.status.busy": "2023-09-19T15:47:54.602587Z",
     "iopub.status.idle": "2023-09-19T15:47:54.608353Z",
     "shell.execute_reply": "2023-09-19T15:47:54.607718Z"
    },
    "papermill": {
     "duration": 0.030027,
     "end_time": "2023-09-19T15:47:54.610048",
     "exception": false,
     "start_time": "2023-09-19T15:47:54.580021",
     "status": "completed"
    },
    "tags": []
   },
   "outputs": [
    {
     "name": "stdout",
     "output_type": "stream",
     "text": [
      "R-squared: 0.9583028182602895\n"
     ]
    }
   ],
   "source": [
    "from sklearn.metrics import r2_score\n",
    "rscore6=r2_score(y_test,pred6)\n",
    "print(\"R-squared:\",rscore6)"
   ]
  },
  {
   "cell_type": "code",
   "execution_count": 63,
   "id": "ace6b0b0",
   "metadata": {
    "execution": {
     "iopub.execute_input": "2023-09-19T15:47:54.653955Z",
     "iopub.status.busy": "2023-09-19T15:47:54.653609Z",
     "iopub.status.idle": "2023-09-19T15:47:54.663914Z",
     "shell.execute_reply": "2023-09-19T15:47:54.662102Z"
    },
    "papermill": {
     "duration": 0.035339,
     "end_time": "2023-09-19T15:47:54.666188",
     "exception": false,
     "start_time": "2023-09-19T15:47:54.630849",
     "status": "completed"
    },
    "tags": []
   },
   "outputs": [
    {
     "name": "stdout",
     "output_type": "stream",
     "text": [
      "Metrics for regression:\n",
      "      mean absolute error:              251.765\n",
      "    median absolute error:               68.667\n",
      "       mean squared error:           394441.762\n",
      "                max error:             4062.912\n",
      "                 r2 score:                0.958\n",
      " explained variance score:                0.958\n",
      "None\n"
     ]
    }
   ],
   "source": [
    "print(regression_report(y_test, pred6))"
   ]
  }
 ],
 "metadata": {
  "kernelspec": {
   "display_name": "Python 3",
   "language": "python",
   "name": "python3"
  },
  "language_info": {
   "codemirror_mode": {
    "name": "ipython",
    "version": 3
   },
   "file_extension": ".py",
   "mimetype": "text/x-python",
   "name": "python",
   "nbconvert_exporter": "python",
   "pygments_lexer": "ipython3",
   "version": "3.10.10"
  },
  "papermill": {
   "default_parameters": {},
   "duration": 22.298749,
   "end_time": "2023-09-19T15:47:55.913555",
   "environment_variables": {},
   "exception": null,
   "input_path": "__notebook__.ipynb",
   "output_path": "__notebook__.ipynb",
   "parameters": {},
   "start_time": "2023-09-19T15:47:33.614806",
   "version": "2.4.0"
  }
 },
 "nbformat": 4,
 "nbformat_minor": 5
}
