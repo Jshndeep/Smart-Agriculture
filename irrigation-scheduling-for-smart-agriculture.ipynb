{
 "cells": [
  {
   "cell_type": "code",
   "execution_count": 1,
   "id": "6947ab25",
   "metadata": {
    "_cell_guid": "b1076dfc-b9ad-4769-8c92-a6c4dae69d19",
    "_uuid": "8f2839f25d086af736a60e9eeb907d3b93b6e0e5",
    "execution": {
     "iopub.execute_input": "2023-08-29T17:48:24.243802Z",
     "iopub.status.busy": "2023-08-29T17:48:24.242649Z",
     "iopub.status.idle": "2023-08-29T17:48:24.263249Z",
     "shell.execute_reply": "2023-08-29T17:48:24.262376Z"
    },
    "papermill": {
     "duration": 0.045852,
     "end_time": "2023-08-29T17:48:24.266001",
     "exception": false,
     "start_time": "2023-08-29T17:48:24.220149",
     "status": "completed"
    },
    "tags": []
   },
   "outputs": [
    {
     "name": "stdout",
     "output_type": "stream",
     "text": [
      "/kaggle/input/irrigation-scheduling/Irrigation Scheduling.csv\n"
     ]
    }
   ],
   "source": [
    "# This Python 3 environment comes with many helpful analytics libraries installed\n",
    "# It is defined by the kaggle/python Docker image: https://github.com/kaggle/docker-python\n",
    "# For example, here's several helpful packages to load\n",
    "\n",
    "import numpy as np # linear algebra\n",
    "import pandas as pd # data processing, CSV file I/O (e.g. pd.read_csv)\n",
    "\n",
    "# Input data files are available in the read-only \"../input/\" directory\n",
    "# For example, running this (by clicking run or pressing Shift+Enter) will list all files under the input directory\n",
    "\n",
    "import os\n",
    "for dirname, _, filenames in os.walk('/kaggle/input'):\n",
    "    for filename in filenames:\n",
    "        print(os.path.join(dirname, filename))\n",
    "\n",
    "# You can write up to 20GB to the current directory (/kaggle/working/) that gets preserved as output when you create a version using \"Save & Run All\" \n",
    "# You can also write temporary files to /kaggle/temp/, but they won't be saved outside of the current session"
   ]
  },
  {
   "cell_type": "markdown",
   "id": "b7118fbb",
   "metadata": {
    "papermill": {
     "duration": 0.019101,
     "end_time": "2023-08-29T17:48:24.306416",
     "exception": false,
     "start_time": "2023-08-29T17:48:24.287315",
     "status": "completed"
    },
    "tags": []
   },
   "source": [
    "# **Loading the data**"
   ]
  },
  {
   "cell_type": "code",
   "execution_count": 2,
   "id": "e3a86a7e",
   "metadata": {
    "execution": {
     "iopub.execute_input": "2023-08-29T17:48:24.347518Z",
     "iopub.status.busy": "2023-08-29T17:48:24.346712Z",
     "iopub.status.idle": "2023-08-29T17:48:25.726597Z",
     "shell.execute_reply": "2023-08-29T17:48:25.725641Z"
    },
    "papermill": {
     "duration": 1.403254,
     "end_time": "2023-08-29T17:48:25.729340",
     "exception": false,
     "start_time": "2023-08-29T17:48:24.326086",
     "status": "completed"
    },
    "tags": []
   },
   "outputs": [
    {
     "name": "stderr",
     "output_type": "stream",
     "text": [
      "/opt/conda/lib/python3.10/site-packages/scipy/__init__.py:146: UserWarning: A NumPy version >=1.16.5 and <1.23.0 is required for this version of SciPy (detected version 1.23.5\n",
      "  warnings.warn(f\"A NumPy version >={np_minversion} and <{np_maxversion}\"\n"
     ]
    }
   ],
   "source": [
    "#Import libraries\n",
    "import numpy as np\n",
    "import pandas as pd\n",
    "import matplotlib.pyplot as plt\n",
    "import seaborn as sns"
   ]
  },
  {
   "cell_type": "code",
   "execution_count": 3,
   "id": "65f7f159",
   "metadata": {
    "execution": {
     "iopub.execute_input": "2023-08-29T17:48:25.770710Z",
     "iopub.status.busy": "2023-08-29T17:48:25.769996Z",
     "iopub.status.idle": "2023-08-29T17:48:25.775446Z",
     "shell.execute_reply": "2023-08-29T17:48:25.774241Z"
    },
    "papermill": {
     "duration": 0.028719,
     "end_time": "2023-08-29T17:48:25.777837",
     "exception": false,
     "start_time": "2023-08-29T17:48:25.749118",
     "status": "completed"
    },
    "tags": []
   },
   "outputs": [],
   "source": [
    "url = '/kaggle/input/irrigation-scheduling/Irrigation Scheduling.csv'"
   ]
  },
  {
   "cell_type": "code",
   "execution_count": 4,
   "id": "0bbc4e3a",
   "metadata": {
    "execution": {
     "iopub.execute_input": "2023-08-29T17:48:25.818679Z",
     "iopub.status.busy": "2023-08-29T17:48:25.817971Z",
     "iopub.status.idle": "2023-08-29T17:48:25.880130Z",
     "shell.execute_reply": "2023-08-29T17:48:25.878922Z"
    },
    "papermill": {
     "duration": 0.085562,
     "end_time": "2023-08-29T17:48:25.882649",
     "exception": false,
     "start_time": "2023-08-29T17:48:25.797087",
     "status": "completed"
    },
    "tags": []
   },
   "outputs": [
    {
     "data": {
      "text/html": [
       "<div>\n",
       "<style scoped>\n",
       "    .dataframe tbody tr th:only-of-type {\n",
       "        vertical-align: middle;\n",
       "    }\n",
       "\n",
       "    .dataframe tbody tr th {\n",
       "        vertical-align: top;\n",
       "    }\n",
       "\n",
       "    .dataframe thead th {\n",
       "        text-align: right;\n",
       "    }\n",
       "</style>\n",
       "<table border=\"1\" class=\"dataframe\">\n",
       "  <thead>\n",
       "    <tr style=\"text-align: right;\">\n",
       "      <th></th>\n",
       "      <th>id</th>\n",
       "      <th>temperature</th>\n",
       "      <th>pressure</th>\n",
       "      <th>altitude</th>\n",
       "      <th>soilmiosture</th>\n",
       "      <th>note</th>\n",
       "      <th>status</th>\n",
       "      <th>class</th>\n",
       "      <th>date</th>\n",
       "      <th>time</th>\n",
       "    </tr>\n",
       "  </thead>\n",
       "  <tbody>\n",
       "    <tr>\n",
       "      <th>0</th>\n",
       "      <td>1</td>\n",
       "      <td>29.10</td>\n",
       "      <td>9984.53</td>\n",
       "      <td>-12.21</td>\n",
       "      <td>377</td>\n",
       "      <td>0</td>\n",
       "      <td>0</td>\n",
       "      <td>Very Dry</td>\n",
       "      <td>08-10-2022</td>\n",
       "      <td>22:06:24</td>\n",
       "    </tr>\n",
       "    <tr>\n",
       "      <th>1</th>\n",
       "      <td>2</td>\n",
       "      <td>29.08</td>\n",
       "      <td>9984.36</td>\n",
       "      <td>-12.22</td>\n",
       "      <td>379</td>\n",
       "      <td>0</td>\n",
       "      <td>0</td>\n",
       "      <td>Very Dry</td>\n",
       "      <td>08-10-2022</td>\n",
       "      <td>22:06:24</td>\n",
       "    </tr>\n",
       "    <tr>\n",
       "      <th>2</th>\n",
       "      <td>3</td>\n",
       "      <td>29.06</td>\n",
       "      <td>9984.56</td>\n",
       "      <td>-12.20</td>\n",
       "      <td>376</td>\n",
       "      <td>0</td>\n",
       "      <td>0</td>\n",
       "      <td>Very Dry</td>\n",
       "      <td>08-10-2022</td>\n",
       "      <td>22:06:24</td>\n",
       "    </tr>\n",
       "    <tr>\n",
       "      <th>3</th>\n",
       "      <td>4</td>\n",
       "      <td>29.05</td>\n",
       "      <td>9984.39</td>\n",
       "      <td>-12.22</td>\n",
       "      <td>377</td>\n",
       "      <td>0</td>\n",
       "      <td>0</td>\n",
       "      <td>Very Dry</td>\n",
       "      <td>08-10-2022</td>\n",
       "      <td>22:06:24</td>\n",
       "    </tr>\n",
       "    <tr>\n",
       "      <th>4</th>\n",
       "      <td>5</td>\n",
       "      <td>29.03</td>\n",
       "      <td>9984.42</td>\n",
       "      <td>-12.21</td>\n",
       "      <td>379</td>\n",
       "      <td>0</td>\n",
       "      <td>0</td>\n",
       "      <td>Very Dry</td>\n",
       "      <td>08-10-2022</td>\n",
       "      <td>22:06:24</td>\n",
       "    </tr>\n",
       "    <tr>\n",
       "      <th>...</th>\n",
       "      <td>...</td>\n",
       "      <td>...</td>\n",
       "      <td>...</td>\n",
       "      <td>...</td>\n",
       "      <td>...</td>\n",
       "      <td>...</td>\n",
       "      <td>...</td>\n",
       "      <td>...</td>\n",
       "      <td>...</td>\n",
       "      <td>...</td>\n",
       "    </tr>\n",
       "    <tr>\n",
       "      <th>4683</th>\n",
       "      <td>4684</td>\n",
       "      <td>29.34</td>\n",
       "      <td>9921.75</td>\n",
       "      <td>-17.49</td>\n",
       "      <td>327</td>\n",
       "      <td>1</td>\n",
       "      <td>0</td>\n",
       "      <td>Dry</td>\n",
       "      <td>08-10-2022</td>\n",
       "      <td>22:06:24</td>\n",
       "    </tr>\n",
       "    <tr>\n",
       "      <th>4684</th>\n",
       "      <td>4685</td>\n",
       "      <td>29.31</td>\n",
       "      <td>9921.45</td>\n",
       "      <td>-17.52</td>\n",
       "      <td>328</td>\n",
       "      <td>1</td>\n",
       "      <td>0</td>\n",
       "      <td>Dry</td>\n",
       "      <td>08-10-2022</td>\n",
       "      <td>22:06:24</td>\n",
       "    </tr>\n",
       "    <tr>\n",
       "      <th>4685</th>\n",
       "      <td>4686</td>\n",
       "      <td>29.29</td>\n",
       "      <td>9921.48</td>\n",
       "      <td>-17.51</td>\n",
       "      <td>328</td>\n",
       "      <td>1</td>\n",
       "      <td>0</td>\n",
       "      <td>Dry</td>\n",
       "      <td>08-10-2022</td>\n",
       "      <td>22:06:24</td>\n",
       "    </tr>\n",
       "    <tr>\n",
       "      <th>4686</th>\n",
       "      <td>4687</td>\n",
       "      <td>29.26</td>\n",
       "      <td>9921.51</td>\n",
       "      <td>-17.51</td>\n",
       "      <td>327</td>\n",
       "      <td>1</td>\n",
       "      <td>0</td>\n",
       "      <td>Dry</td>\n",
       "      <td>08-10-2022</td>\n",
       "      <td>22:06:24</td>\n",
       "    </tr>\n",
       "    <tr>\n",
       "      <th>4687</th>\n",
       "      <td>4688</td>\n",
       "      <td>29.28</td>\n",
       "      <td>9922.20</td>\n",
       "      <td>-17.45</td>\n",
       "      <td>323</td>\n",
       "      <td>1</td>\n",
       "      <td>0</td>\n",
       "      <td>Dry</td>\n",
       "      <td>08-10-2022</td>\n",
       "      <td>22:06:24</td>\n",
       "    </tr>\n",
       "  </tbody>\n",
       "</table>\n",
       "<p>4688 rows × 10 columns</p>\n",
       "</div>"
      ],
      "text/plain": [
       "        id  temperature  pressure  altitude  soilmiosture  note  status  \\\n",
       "0        1        29.10   9984.53    -12.21           377     0       0   \n",
       "1        2        29.08   9984.36    -12.22           379     0       0   \n",
       "2        3        29.06   9984.56    -12.20           376     0       0   \n",
       "3        4        29.05   9984.39    -12.22           377     0       0   \n",
       "4        5        29.03   9984.42    -12.21           379     0       0   \n",
       "...    ...          ...       ...       ...           ...   ...     ...   \n",
       "4683  4684        29.34   9921.75    -17.49           327     1       0   \n",
       "4684  4685        29.31   9921.45    -17.52           328     1       0   \n",
       "4685  4686        29.29   9921.48    -17.51           328     1       0   \n",
       "4686  4687        29.26   9921.51    -17.51           327     1       0   \n",
       "4687  4688        29.28   9922.20    -17.45           323     1       0   \n",
       "\n",
       "         class        date      time  \n",
       "0     Very Dry  08-10-2022  22:06:24  \n",
       "1     Very Dry  08-10-2022  22:06:24  \n",
       "2     Very Dry  08-10-2022  22:06:24  \n",
       "3     Very Dry  08-10-2022  22:06:24  \n",
       "4     Very Dry  08-10-2022  22:06:24  \n",
       "...        ...         ...       ...  \n",
       "4683       Dry  08-10-2022  22:06:24  \n",
       "4684       Dry  08-10-2022  22:06:24  \n",
       "4685       Dry  08-10-2022  22:06:24  \n",
       "4686       Dry  08-10-2022  22:06:24  \n",
       "4687       Dry  08-10-2022  22:06:24  \n",
       "\n",
       "[4688 rows x 10 columns]"
      ]
     },
     "execution_count": 4,
     "metadata": {},
     "output_type": "execute_result"
    }
   ],
   "source": [
    "#Load the data\n",
    "df=pd.read_csv(url)\n",
    "df"
   ]
  },
  {
   "cell_type": "code",
   "execution_count": 5,
   "id": "820b3304",
   "metadata": {
    "execution": {
     "iopub.execute_input": "2023-08-29T17:48:25.925111Z",
     "iopub.status.busy": "2023-08-29T17:48:25.924402Z",
     "iopub.status.idle": "2023-08-29T17:48:25.940649Z",
     "shell.execute_reply": "2023-08-29T17:48:25.939432Z"
    },
    "papermill": {
     "duration": 0.040133,
     "end_time": "2023-08-29T17:48:25.943033",
     "exception": false,
     "start_time": "2023-08-29T17:48:25.902900",
     "status": "completed"
    },
    "tags": []
   },
   "outputs": [
    {
     "data": {
      "text/html": [
       "<div>\n",
       "<style scoped>\n",
       "    .dataframe tbody tr th:only-of-type {\n",
       "        vertical-align: middle;\n",
       "    }\n",
       "\n",
       "    .dataframe tbody tr th {\n",
       "        vertical-align: top;\n",
       "    }\n",
       "\n",
       "    .dataframe thead th {\n",
       "        text-align: right;\n",
       "    }\n",
       "</style>\n",
       "<table border=\"1\" class=\"dataframe\">\n",
       "  <thead>\n",
       "    <tr style=\"text-align: right;\">\n",
       "      <th></th>\n",
       "      <th>id</th>\n",
       "      <th>temperature</th>\n",
       "      <th>pressure</th>\n",
       "      <th>altitude</th>\n",
       "      <th>soilmiosture</th>\n",
       "      <th>note</th>\n",
       "      <th>status</th>\n",
       "      <th>class</th>\n",
       "      <th>date</th>\n",
       "      <th>time</th>\n",
       "    </tr>\n",
       "  </thead>\n",
       "  <tbody>\n",
       "    <tr>\n",
       "      <th>0</th>\n",
       "      <td>1</td>\n",
       "      <td>29.10</td>\n",
       "      <td>9984.53</td>\n",
       "      <td>-12.21</td>\n",
       "      <td>377</td>\n",
       "      <td>0</td>\n",
       "      <td>0</td>\n",
       "      <td>Very Dry</td>\n",
       "      <td>08-10-2022</td>\n",
       "      <td>22:06:24</td>\n",
       "    </tr>\n",
       "    <tr>\n",
       "      <th>1</th>\n",
       "      <td>2</td>\n",
       "      <td>29.08</td>\n",
       "      <td>9984.36</td>\n",
       "      <td>-12.22</td>\n",
       "      <td>379</td>\n",
       "      <td>0</td>\n",
       "      <td>0</td>\n",
       "      <td>Very Dry</td>\n",
       "      <td>08-10-2022</td>\n",
       "      <td>22:06:24</td>\n",
       "    </tr>\n",
       "    <tr>\n",
       "      <th>2</th>\n",
       "      <td>3</td>\n",
       "      <td>29.06</td>\n",
       "      <td>9984.56</td>\n",
       "      <td>-12.20</td>\n",
       "      <td>376</td>\n",
       "      <td>0</td>\n",
       "      <td>0</td>\n",
       "      <td>Very Dry</td>\n",
       "      <td>08-10-2022</td>\n",
       "      <td>22:06:24</td>\n",
       "    </tr>\n",
       "    <tr>\n",
       "      <th>3</th>\n",
       "      <td>4</td>\n",
       "      <td>29.05</td>\n",
       "      <td>9984.39</td>\n",
       "      <td>-12.22</td>\n",
       "      <td>377</td>\n",
       "      <td>0</td>\n",
       "      <td>0</td>\n",
       "      <td>Very Dry</td>\n",
       "      <td>08-10-2022</td>\n",
       "      <td>22:06:24</td>\n",
       "    </tr>\n",
       "    <tr>\n",
       "      <th>4</th>\n",
       "      <td>5</td>\n",
       "      <td>29.03</td>\n",
       "      <td>9984.42</td>\n",
       "      <td>-12.21</td>\n",
       "      <td>379</td>\n",
       "      <td>0</td>\n",
       "      <td>0</td>\n",
       "      <td>Very Dry</td>\n",
       "      <td>08-10-2022</td>\n",
       "      <td>22:06:24</td>\n",
       "    </tr>\n",
       "  </tbody>\n",
       "</table>\n",
       "</div>"
      ],
      "text/plain": [
       "   id  temperature  pressure  altitude  soilmiosture  note  status     class  \\\n",
       "0   1        29.10   9984.53    -12.21           377     0       0  Very Dry   \n",
       "1   2        29.08   9984.36    -12.22           379     0       0  Very Dry   \n",
       "2   3        29.06   9984.56    -12.20           376     0       0  Very Dry   \n",
       "3   4        29.05   9984.39    -12.22           377     0       0  Very Dry   \n",
       "4   5        29.03   9984.42    -12.21           379     0       0  Very Dry   \n",
       "\n",
       "         date      time  \n",
       "0  08-10-2022  22:06:24  \n",
       "1  08-10-2022  22:06:24  \n",
       "2  08-10-2022  22:06:24  \n",
       "3  08-10-2022  22:06:24  \n",
       "4  08-10-2022  22:06:24  "
      ]
     },
     "execution_count": 5,
     "metadata": {},
     "output_type": "execute_result"
    }
   ],
   "source": [
    "#To display first five records\n",
    "df.head(5)"
   ]
  },
  {
   "cell_type": "code",
   "execution_count": 6,
   "id": "6d2afc58",
   "metadata": {
    "execution": {
     "iopub.execute_input": "2023-08-29T17:48:25.986058Z",
     "iopub.status.busy": "2023-08-29T17:48:25.985352Z",
     "iopub.status.idle": "2023-08-29T17:48:26.001576Z",
     "shell.execute_reply": "2023-08-29T17:48:26.000361Z"
    },
    "papermill": {
     "duration": 0.040524,
     "end_time": "2023-08-29T17:48:26.003936",
     "exception": false,
     "start_time": "2023-08-29T17:48:25.963412",
     "status": "completed"
    },
    "tags": []
   },
   "outputs": [
    {
     "data": {
      "text/html": [
       "<div>\n",
       "<style scoped>\n",
       "    .dataframe tbody tr th:only-of-type {\n",
       "        vertical-align: middle;\n",
       "    }\n",
       "\n",
       "    .dataframe tbody tr th {\n",
       "        vertical-align: top;\n",
       "    }\n",
       "\n",
       "    .dataframe thead th {\n",
       "        text-align: right;\n",
       "    }\n",
       "</style>\n",
       "<table border=\"1\" class=\"dataframe\">\n",
       "  <thead>\n",
       "    <tr style=\"text-align: right;\">\n",
       "      <th></th>\n",
       "      <th>id</th>\n",
       "      <th>temperature</th>\n",
       "      <th>pressure</th>\n",
       "      <th>altitude</th>\n",
       "      <th>soilmiosture</th>\n",
       "      <th>note</th>\n",
       "      <th>status</th>\n",
       "      <th>class</th>\n",
       "      <th>date</th>\n",
       "      <th>time</th>\n",
       "    </tr>\n",
       "  </thead>\n",
       "  <tbody>\n",
       "    <tr>\n",
       "      <th>4683</th>\n",
       "      <td>4684</td>\n",
       "      <td>29.34</td>\n",
       "      <td>9921.75</td>\n",
       "      <td>-17.49</td>\n",
       "      <td>327</td>\n",
       "      <td>1</td>\n",
       "      <td>0</td>\n",
       "      <td>Dry</td>\n",
       "      <td>08-10-2022</td>\n",
       "      <td>22:06:24</td>\n",
       "    </tr>\n",
       "    <tr>\n",
       "      <th>4684</th>\n",
       "      <td>4685</td>\n",
       "      <td>29.31</td>\n",
       "      <td>9921.45</td>\n",
       "      <td>-17.52</td>\n",
       "      <td>328</td>\n",
       "      <td>1</td>\n",
       "      <td>0</td>\n",
       "      <td>Dry</td>\n",
       "      <td>08-10-2022</td>\n",
       "      <td>22:06:24</td>\n",
       "    </tr>\n",
       "    <tr>\n",
       "      <th>4685</th>\n",
       "      <td>4686</td>\n",
       "      <td>29.29</td>\n",
       "      <td>9921.48</td>\n",
       "      <td>-17.51</td>\n",
       "      <td>328</td>\n",
       "      <td>1</td>\n",
       "      <td>0</td>\n",
       "      <td>Dry</td>\n",
       "      <td>08-10-2022</td>\n",
       "      <td>22:06:24</td>\n",
       "    </tr>\n",
       "    <tr>\n",
       "      <th>4686</th>\n",
       "      <td>4687</td>\n",
       "      <td>29.26</td>\n",
       "      <td>9921.51</td>\n",
       "      <td>-17.51</td>\n",
       "      <td>327</td>\n",
       "      <td>1</td>\n",
       "      <td>0</td>\n",
       "      <td>Dry</td>\n",
       "      <td>08-10-2022</td>\n",
       "      <td>22:06:24</td>\n",
       "    </tr>\n",
       "    <tr>\n",
       "      <th>4687</th>\n",
       "      <td>4688</td>\n",
       "      <td>29.28</td>\n",
       "      <td>9922.20</td>\n",
       "      <td>-17.45</td>\n",
       "      <td>323</td>\n",
       "      <td>1</td>\n",
       "      <td>0</td>\n",
       "      <td>Dry</td>\n",
       "      <td>08-10-2022</td>\n",
       "      <td>22:06:24</td>\n",
       "    </tr>\n",
       "  </tbody>\n",
       "</table>\n",
       "</div>"
      ],
      "text/plain": [
       "        id  temperature  pressure  altitude  soilmiosture  note  status class  \\\n",
       "4683  4684        29.34   9921.75    -17.49           327     1       0   Dry   \n",
       "4684  4685        29.31   9921.45    -17.52           328     1       0   Dry   \n",
       "4685  4686        29.29   9921.48    -17.51           328     1       0   Dry   \n",
       "4686  4687        29.26   9921.51    -17.51           327     1       0   Dry   \n",
       "4687  4688        29.28   9922.20    -17.45           323     1       0   Dry   \n",
       "\n",
       "            date      time  \n",
       "4683  08-10-2022  22:06:24  \n",
       "4684  08-10-2022  22:06:24  \n",
       "4685  08-10-2022  22:06:24  \n",
       "4686  08-10-2022  22:06:24  \n",
       "4687  08-10-2022  22:06:24  "
      ]
     },
     "execution_count": 6,
     "metadata": {},
     "output_type": "execute_result"
    }
   ],
   "source": [
    "#To display last five records\n",
    "df.tail(5)"
   ]
  },
  {
   "cell_type": "code",
   "execution_count": 7,
   "id": "8bb3961d",
   "metadata": {
    "execution": {
     "iopub.execute_input": "2023-08-29T17:48:26.047423Z",
     "iopub.status.busy": "2023-08-29T17:48:26.046760Z",
     "iopub.status.idle": "2023-08-29T17:48:26.055420Z",
     "shell.execute_reply": "2023-08-29T17:48:26.054397Z"
    },
    "papermill": {
     "duration": 0.033493,
     "end_time": "2023-08-29T17:48:26.057689",
     "exception": false,
     "start_time": "2023-08-29T17:48:26.024196",
     "status": "completed"
    },
    "tags": []
   },
   "outputs": [
    {
     "data": {
      "text/plain": [
       "0       Very Dry\n",
       "1       Very Dry\n",
       "2       Very Dry\n",
       "3       Very Dry\n",
       "4       Very Dry\n",
       "          ...   \n",
       "4683         Dry\n",
       "4684         Dry\n",
       "4685         Dry\n",
       "4686         Dry\n",
       "4687         Dry\n",
       "Name: class, Length: 4688, dtype: object"
      ]
     },
     "execution_count": 7,
     "metadata": {},
     "output_type": "execute_result"
    }
   ],
   "source": [
    "#To display class\n",
    "df['class']"
   ]
  },
  {
   "cell_type": "markdown",
   "id": "6f9f2c6e",
   "metadata": {
    "papermill": {
     "duration": 0.020269,
     "end_time": "2023-08-29T17:48:26.098443",
     "exception": false,
     "start_time": "2023-08-29T17:48:26.078174",
     "status": "completed"
    },
    "tags": []
   },
   "source": [
    "# **Describing the data**"
   ]
  },
  {
   "cell_type": "code",
   "execution_count": 8,
   "id": "d48d2ee7",
   "metadata": {
    "execution": {
     "iopub.execute_input": "2023-08-29T17:48:26.143277Z",
     "iopub.status.busy": "2023-08-29T17:48:26.142613Z",
     "iopub.status.idle": "2023-08-29T17:48:26.182686Z",
     "shell.execute_reply": "2023-08-29T17:48:26.181564Z"
    },
    "papermill": {
     "duration": 0.066309,
     "end_time": "2023-08-29T17:48:26.185227",
     "exception": false,
     "start_time": "2023-08-29T17:48:26.118918",
     "status": "completed"
    },
    "tags": []
   },
   "outputs": [
    {
     "data": {
      "text/html": [
       "<div>\n",
       "<style scoped>\n",
       "    .dataframe tbody tr th:only-of-type {\n",
       "        vertical-align: middle;\n",
       "    }\n",
       "\n",
       "    .dataframe tbody tr th {\n",
       "        vertical-align: top;\n",
       "    }\n",
       "\n",
       "    .dataframe thead th {\n",
       "        text-align: right;\n",
       "    }\n",
       "</style>\n",
       "<table border=\"1\" class=\"dataframe\">\n",
       "  <thead>\n",
       "    <tr style=\"text-align: right;\">\n",
       "      <th></th>\n",
       "      <th>id</th>\n",
       "      <th>temperature</th>\n",
       "      <th>pressure</th>\n",
       "      <th>altitude</th>\n",
       "      <th>soilmiosture</th>\n",
       "      <th>note</th>\n",
       "      <th>status</th>\n",
       "    </tr>\n",
       "  </thead>\n",
       "  <tbody>\n",
       "    <tr>\n",
       "      <th>count</th>\n",
       "      <td>4688.000000</td>\n",
       "      <td>4688.000000</td>\n",
       "      <td>4688.000000</td>\n",
       "      <td>4682.000000</td>\n",
       "      <td>4688.000000</td>\n",
       "      <td>4688.000000</td>\n",
       "      <td>4688.000000</td>\n",
       "    </tr>\n",
       "    <tr>\n",
       "      <th>mean</th>\n",
       "      <td>2344.500000</td>\n",
       "      <td>29.599089</td>\n",
       "      <td>9963.153215</td>\n",
       "      <td>-14.291506</td>\n",
       "      <td>243.692406</td>\n",
       "      <td>1.878413</td>\n",
       "      <td>0.703712</td>\n",
       "    </tr>\n",
       "    <tr>\n",
       "      <th>std</th>\n",
       "      <td>1353.453361</td>\n",
       "      <td>5.842685</td>\n",
       "      <td>1383.602527</td>\n",
       "      <td>2.649815</td>\n",
       "      <td>76.176855</td>\n",
       "      <td>1.152977</td>\n",
       "      <td>0.456668</td>\n",
       "    </tr>\n",
       "    <tr>\n",
       "      <th>min</th>\n",
       "      <td>1.000000</td>\n",
       "      <td>27.970000</td>\n",
       "      <td>-2120.400000</td>\n",
       "      <td>-17.610000</td>\n",
       "      <td>-243.000000</td>\n",
       "      <td>0.000000</td>\n",
       "      <td>0.000000</td>\n",
       "    </tr>\n",
       "    <tr>\n",
       "      <th>25%</th>\n",
       "      <td>1172.750000</td>\n",
       "      <td>28.630000</td>\n",
       "      <td>9935.255000</td>\n",
       "      <td>-16.340000</td>\n",
       "      <td>171.000000</td>\n",
       "      <td>1.000000</td>\n",
       "      <td>0.000000</td>\n",
       "    </tr>\n",
       "    <tr>\n",
       "      <th>50%</th>\n",
       "      <td>2344.500000</td>\n",
       "      <td>29.180000</td>\n",
       "      <td>9969.535000</td>\n",
       "      <td>-13.470000</td>\n",
       "      <td>233.000000</td>\n",
       "      <td>2.000000</td>\n",
       "      <td>1.000000</td>\n",
       "    </tr>\n",
       "    <tr>\n",
       "      <th>75%</th>\n",
       "      <td>3516.250000</td>\n",
       "      <td>29.990000</td>\n",
       "      <td>9975.700000</td>\n",
       "      <td>-12.950000</td>\n",
       "      <td>326.000000</td>\n",
       "      <td>3.000000</td>\n",
       "      <td>1.000000</td>\n",
       "    </tr>\n",
       "    <tr>\n",
       "      <th>max</th>\n",
       "      <td>4688.000000</td>\n",
       "      <td>178.700000</td>\n",
       "      <td>99931.100000</td>\n",
       "      <td>116.700000</td>\n",
       "      <td>480.000000</td>\n",
       "      <td>3.000000</td>\n",
       "      <td>1.000000</td>\n",
       "    </tr>\n",
       "  </tbody>\n",
       "</table>\n",
       "</div>"
      ],
      "text/plain": [
       "                id  temperature      pressure     altitude  soilmiosture  \\\n",
       "count  4688.000000  4688.000000   4688.000000  4682.000000   4688.000000   \n",
       "mean   2344.500000    29.599089   9963.153215   -14.291506    243.692406   \n",
       "std    1353.453361     5.842685   1383.602527     2.649815     76.176855   \n",
       "min       1.000000    27.970000  -2120.400000   -17.610000   -243.000000   \n",
       "25%    1172.750000    28.630000   9935.255000   -16.340000    171.000000   \n",
       "50%    2344.500000    29.180000   9969.535000   -13.470000    233.000000   \n",
       "75%    3516.250000    29.990000   9975.700000   -12.950000    326.000000   \n",
       "max    4688.000000   178.700000  99931.100000   116.700000    480.000000   \n",
       "\n",
       "              note       status  \n",
       "count  4688.000000  4688.000000  \n",
       "mean      1.878413     0.703712  \n",
       "std       1.152977     0.456668  \n",
       "min       0.000000     0.000000  \n",
       "25%       1.000000     0.000000  \n",
       "50%       2.000000     1.000000  \n",
       "75%       3.000000     1.000000  \n",
       "max       3.000000     1.000000  "
      ]
     },
     "execution_count": 8,
     "metadata": {},
     "output_type": "execute_result"
    }
   ],
   "source": [
    "#describe() method returns description of the data in the DataFrame.\n",
    "df.describe()"
   ]
  },
  {
   "cell_type": "code",
   "execution_count": 9,
   "id": "ee195056",
   "metadata": {
    "execution": {
     "iopub.execute_input": "2023-08-29T17:48:26.229284Z",
     "iopub.status.busy": "2023-08-29T17:48:26.228804Z",
     "iopub.status.idle": "2023-08-29T17:48:26.236355Z",
     "shell.execute_reply": "2023-08-29T17:48:26.235177Z"
    },
    "papermill": {
     "duration": 0.032796,
     "end_time": "2023-08-29T17:48:26.238927",
     "exception": false,
     "start_time": "2023-08-29T17:48:26.206131",
     "status": "completed"
    },
    "tags": []
   },
   "outputs": [
    {
     "data": {
      "text/plain": [
       "(4688, 10)"
      ]
     },
     "execution_count": 9,
     "metadata": {},
     "output_type": "execute_result"
    }
   ],
   "source": [
    "#To display number of rows and columns\n",
    "df.shape"
   ]
  },
  {
   "cell_type": "code",
   "execution_count": 10,
   "id": "d0a24a8e",
   "metadata": {
    "execution": {
     "iopub.execute_input": "2023-08-29T17:48:26.283506Z",
     "iopub.status.busy": "2023-08-29T17:48:26.282809Z",
     "iopub.status.idle": "2023-08-29T17:48:26.311966Z",
     "shell.execute_reply": "2023-08-29T17:48:26.310489Z"
    },
    "papermill": {
     "duration": 0.054592,
     "end_time": "2023-08-29T17:48:26.314574",
     "exception": false,
     "start_time": "2023-08-29T17:48:26.259982",
     "status": "completed"
    },
    "tags": []
   },
   "outputs": [
    {
     "name": "stdout",
     "output_type": "stream",
     "text": [
      "<class 'pandas.core.frame.DataFrame'>\n",
      "RangeIndex: 4688 entries, 0 to 4687\n",
      "Data columns (total 10 columns):\n",
      " #   Column        Non-Null Count  Dtype  \n",
      "---  ------        --------------  -----  \n",
      " 0   id            4688 non-null   int64  \n",
      " 1   temperature   4688 non-null   float64\n",
      " 2   pressure      4688 non-null   float64\n",
      " 3   altitude      4682 non-null   float64\n",
      " 4   soilmiosture  4688 non-null   int64  \n",
      " 5   note          4688 non-null   int64  \n",
      " 6   status        4688 non-null   int64  \n",
      " 7   class         4688 non-null   object \n",
      " 8   date          4688 non-null   object \n",
      " 9   time          4688 non-null   object \n",
      "dtypes: float64(3), int64(4), object(3)\n",
      "memory usage: 366.4+ KB\n"
     ]
    }
   ],
   "source": [
    "#To display number of columns, column labels, column data types, memory usage, range index, and the number of cells in each column (non-null values).\n",
    "df.info()"
   ]
  },
  {
   "cell_type": "code",
   "execution_count": 11,
   "id": "57009752",
   "metadata": {
    "execution": {
     "iopub.execute_input": "2023-08-29T17:48:26.360066Z",
     "iopub.status.busy": "2023-08-29T17:48:26.359663Z",
     "iopub.status.idle": "2023-08-29T17:48:26.366599Z",
     "shell.execute_reply": "2023-08-29T17:48:26.365652Z"
    },
    "papermill": {
     "duration": 0.033172,
     "end_time": "2023-08-29T17:48:26.369078",
     "exception": false,
     "start_time": "2023-08-29T17:48:26.335906",
     "status": "completed"
    },
    "tags": []
   },
   "outputs": [
    {
     "data": {
      "text/plain": [
       "pandas.core.frame.DataFrame"
      ]
     },
     "execution_count": 11,
     "metadata": {},
     "output_type": "execute_result"
    }
   ],
   "source": [
    "type(df)"
   ]
  },
  {
   "cell_type": "code",
   "execution_count": 12,
   "id": "f0f8bbb8",
   "metadata": {
    "execution": {
     "iopub.execute_input": "2023-08-29T17:48:26.414936Z",
     "iopub.status.busy": "2023-08-29T17:48:26.414515Z",
     "iopub.status.idle": "2023-08-29T17:48:26.423030Z",
     "shell.execute_reply": "2023-08-29T17:48:26.421737Z"
    },
    "papermill": {
     "duration": 0.034587,
     "end_time": "2023-08-29T17:48:26.425683",
     "exception": false,
     "start_time": "2023-08-29T17:48:26.391096",
     "status": "completed"
    },
    "tags": []
   },
   "outputs": [
    {
     "data": {
      "text/plain": [
       "id                int64\n",
       "temperature     float64\n",
       "pressure        float64\n",
       "altitude        float64\n",
       "soilmiosture      int64\n",
       "note              int64\n",
       "status            int64\n",
       "class            object\n",
       "date             object\n",
       "time             object\n",
       "dtype: object"
      ]
     },
     "execution_count": 12,
     "metadata": {},
     "output_type": "execute_result"
    }
   ],
   "source": [
    "#To return data type of each column. \n",
    "df.dtypes"
   ]
  },
  {
   "cell_type": "code",
   "execution_count": 13,
   "id": "b38758e1",
   "metadata": {
    "execution": {
     "iopub.execute_input": "2023-08-29T17:48:26.471638Z",
     "iopub.status.busy": "2023-08-29T17:48:26.471059Z",
     "iopub.status.idle": "2023-08-29T17:48:26.486041Z",
     "shell.execute_reply": "2023-08-29T17:48:26.484793Z"
    },
    "papermill": {
     "duration": 0.041136,
     "end_time": "2023-08-29T17:48:26.488720",
     "exception": false,
     "start_time": "2023-08-29T17:48:26.447584",
     "status": "completed"
    },
    "tags": []
   },
   "outputs": [
    {
     "data": {
      "text/plain": [
       "id              4688\n",
       "temperature      426\n",
       "pressure        2593\n",
       "altitude         555\n",
       "soilmiosture     262\n",
       "note               4\n",
       "status             2\n",
       "class              4\n",
       "date               1\n",
       "time               1\n",
       "dtype: int64"
      ]
     },
     "execution_count": 13,
     "metadata": {},
     "output_type": "execute_result"
    }
   ],
   "source": [
    "#To return the number of unique values for each column\n",
    "df.nunique()"
   ]
  },
  {
   "cell_type": "code",
   "execution_count": 14,
   "id": "d8f9aa76",
   "metadata": {
    "execution": {
     "iopub.execute_input": "2023-08-29T17:48:26.534436Z",
     "iopub.status.busy": "2023-08-29T17:48:26.533580Z",
     "iopub.status.idle": "2023-08-29T17:48:26.549045Z",
     "shell.execute_reply": "2023-08-29T17:48:26.547970Z"
    },
    "papermill": {
     "duration": 0.04134,
     "end_time": "2023-08-29T17:48:26.551604",
     "exception": false,
     "start_time": "2023-08-29T17:48:26.510264",
     "status": "completed"
    },
    "tags": []
   },
   "outputs": [
    {
     "data": {
      "text/plain": [
       "id              4688\n",
       "temperature     4688\n",
       "pressure        4688\n",
       "altitude        4682\n",
       "soilmiosture    4688\n",
       "note            4688\n",
       "status          4688\n",
       "class           4688\n",
       "date            4688\n",
       "time            4688\n",
       "dtype: int64"
      ]
     },
     "execution_count": 14,
     "metadata": {},
     "output_type": "execute_result"
    }
   ],
   "source": [
    "#To count the number of not empty values for each row\n",
    "df.count()"
   ]
  },
  {
   "cell_type": "markdown",
   "id": "94c853bb",
   "metadata": {
    "papermill": {
     "duration": 0.021518,
     "end_time": "2023-08-29T17:48:26.594859",
     "exception": false,
     "start_time": "2023-08-29T17:48:26.573341",
     "status": "completed"
    },
    "tags": []
   },
   "source": [
    "# **Data Wrangling**"
   ]
  },
  {
   "cell_type": "code",
   "execution_count": 15,
   "id": "2cf6403f",
   "metadata": {
    "execution": {
     "iopub.execute_input": "2023-08-29T17:48:26.640531Z",
     "iopub.status.busy": "2023-08-29T17:48:26.640095Z",
     "iopub.status.idle": "2023-08-29T17:48:26.646964Z",
     "shell.execute_reply": "2023-08-29T17:48:26.645756Z"
    },
    "papermill": {
     "duration": 0.032216,
     "end_time": "2023-08-29T17:48:26.649171",
     "exception": false,
     "start_time": "2023-08-29T17:48:26.616955",
     "status": "completed"
    },
    "tags": []
   },
   "outputs": [],
   "source": [
    "#Dropping unnecessary column \n",
    "df.drop(\"id\",axis=1,inplace=True)"
   ]
  },
  {
   "cell_type": "code",
   "execution_count": 16,
   "id": "c8076e0f",
   "metadata": {
    "execution": {
     "iopub.execute_input": "2023-08-29T17:48:26.695532Z",
     "iopub.status.busy": "2023-08-29T17:48:26.695057Z",
     "iopub.status.idle": "2023-08-29T17:48:26.712067Z",
     "shell.execute_reply": "2023-08-29T17:48:26.710939Z"
    },
    "papermill": {
     "duration": 0.043202,
     "end_time": "2023-08-29T17:48:26.714650",
     "exception": false,
     "start_time": "2023-08-29T17:48:26.671448",
     "status": "completed"
    },
    "tags": []
   },
   "outputs": [
    {
     "data": {
      "text/html": [
       "<div>\n",
       "<style scoped>\n",
       "    .dataframe tbody tr th:only-of-type {\n",
       "        vertical-align: middle;\n",
       "    }\n",
       "\n",
       "    .dataframe tbody tr th {\n",
       "        vertical-align: top;\n",
       "    }\n",
       "\n",
       "    .dataframe thead th {\n",
       "        text-align: right;\n",
       "    }\n",
       "</style>\n",
       "<table border=\"1\" class=\"dataframe\">\n",
       "  <thead>\n",
       "    <tr style=\"text-align: right;\">\n",
       "      <th></th>\n",
       "      <th>temperature</th>\n",
       "      <th>pressure</th>\n",
       "      <th>altitude</th>\n",
       "      <th>soilmiosture</th>\n",
       "      <th>note</th>\n",
       "      <th>status</th>\n",
       "      <th>class</th>\n",
       "      <th>date</th>\n",
       "      <th>time</th>\n",
       "    </tr>\n",
       "  </thead>\n",
       "  <tbody>\n",
       "    <tr>\n",
       "      <th>0</th>\n",
       "      <td>29.10</td>\n",
       "      <td>9984.53</td>\n",
       "      <td>-12.21</td>\n",
       "      <td>377</td>\n",
       "      <td>0</td>\n",
       "      <td>0</td>\n",
       "      <td>Very Dry</td>\n",
       "      <td>08-10-2022</td>\n",
       "      <td>22:06:24</td>\n",
       "    </tr>\n",
       "    <tr>\n",
       "      <th>1</th>\n",
       "      <td>29.08</td>\n",
       "      <td>9984.36</td>\n",
       "      <td>-12.22</td>\n",
       "      <td>379</td>\n",
       "      <td>0</td>\n",
       "      <td>0</td>\n",
       "      <td>Very Dry</td>\n",
       "      <td>08-10-2022</td>\n",
       "      <td>22:06:24</td>\n",
       "    </tr>\n",
       "    <tr>\n",
       "      <th>2</th>\n",
       "      <td>29.06</td>\n",
       "      <td>9984.56</td>\n",
       "      <td>-12.20</td>\n",
       "      <td>376</td>\n",
       "      <td>0</td>\n",
       "      <td>0</td>\n",
       "      <td>Very Dry</td>\n",
       "      <td>08-10-2022</td>\n",
       "      <td>22:06:24</td>\n",
       "    </tr>\n",
       "    <tr>\n",
       "      <th>3</th>\n",
       "      <td>29.05</td>\n",
       "      <td>9984.39</td>\n",
       "      <td>-12.22</td>\n",
       "      <td>377</td>\n",
       "      <td>0</td>\n",
       "      <td>0</td>\n",
       "      <td>Very Dry</td>\n",
       "      <td>08-10-2022</td>\n",
       "      <td>22:06:24</td>\n",
       "    </tr>\n",
       "    <tr>\n",
       "      <th>4</th>\n",
       "      <td>29.03</td>\n",
       "      <td>9984.42</td>\n",
       "      <td>-12.21</td>\n",
       "      <td>379</td>\n",
       "      <td>0</td>\n",
       "      <td>0</td>\n",
       "      <td>Very Dry</td>\n",
       "      <td>08-10-2022</td>\n",
       "      <td>22:06:24</td>\n",
       "    </tr>\n",
       "  </tbody>\n",
       "</table>\n",
       "</div>"
      ],
      "text/plain": [
       "   temperature  pressure  altitude  soilmiosture  note  status     class  \\\n",
       "0        29.10   9984.53    -12.21           377     0       0  Very Dry   \n",
       "1        29.08   9984.36    -12.22           379     0       0  Very Dry   \n",
       "2        29.06   9984.56    -12.20           376     0       0  Very Dry   \n",
       "3        29.05   9984.39    -12.22           377     0       0  Very Dry   \n",
       "4        29.03   9984.42    -12.21           379     0       0  Very Dry   \n",
       "\n",
       "         date      time  \n",
       "0  08-10-2022  22:06:24  \n",
       "1  08-10-2022  22:06:24  \n",
       "2  08-10-2022  22:06:24  \n",
       "3  08-10-2022  22:06:24  \n",
       "4  08-10-2022  22:06:24  "
      ]
     },
     "execution_count": 16,
     "metadata": {},
     "output_type": "execute_result"
    }
   ],
   "source": [
    "#Checking whether the column has been removed or not\n",
    "df.head()"
   ]
  },
  {
   "cell_type": "code",
   "execution_count": 17,
   "id": "bd1390be",
   "metadata": {
    "execution": {
     "iopub.execute_input": "2023-08-29T17:48:26.761175Z",
     "iopub.status.busy": "2023-08-29T17:48:26.760778Z",
     "iopub.status.idle": "2023-08-29T17:48:26.785766Z",
     "shell.execute_reply": "2023-08-29T17:48:26.784490Z"
    },
    "papermill": {
     "duration": 0.051802,
     "end_time": "2023-08-29T17:48:26.788445",
     "exception": false,
     "start_time": "2023-08-29T17:48:26.736643",
     "status": "completed"
    },
    "tags": []
   },
   "outputs": [
    {
     "data": {
      "text/html": [
       "<div>\n",
       "<style scoped>\n",
       "    .dataframe tbody tr th:only-of-type {\n",
       "        vertical-align: middle;\n",
       "    }\n",
       "\n",
       "    .dataframe tbody tr th {\n",
       "        vertical-align: top;\n",
       "    }\n",
       "\n",
       "    .dataframe thead th {\n",
       "        text-align: right;\n",
       "    }\n",
       "</style>\n",
       "<table border=\"1\" class=\"dataframe\">\n",
       "  <thead>\n",
       "    <tr style=\"text-align: right;\">\n",
       "      <th></th>\n",
       "      <th>temperature</th>\n",
       "      <th>pressure</th>\n",
       "      <th>altitude</th>\n",
       "      <th>soilmiosture</th>\n",
       "      <th>note</th>\n",
       "      <th>status</th>\n",
       "      <th>class</th>\n",
       "      <th>date</th>\n",
       "      <th>time</th>\n",
       "    </tr>\n",
       "  </thead>\n",
       "  <tbody>\n",
       "    <tr>\n",
       "      <th>0</th>\n",
       "      <td>False</td>\n",
       "      <td>False</td>\n",
       "      <td>False</td>\n",
       "      <td>False</td>\n",
       "      <td>False</td>\n",
       "      <td>False</td>\n",
       "      <td>False</td>\n",
       "      <td>False</td>\n",
       "      <td>False</td>\n",
       "    </tr>\n",
       "    <tr>\n",
       "      <th>1</th>\n",
       "      <td>False</td>\n",
       "      <td>False</td>\n",
       "      <td>False</td>\n",
       "      <td>False</td>\n",
       "      <td>False</td>\n",
       "      <td>False</td>\n",
       "      <td>False</td>\n",
       "      <td>False</td>\n",
       "      <td>False</td>\n",
       "    </tr>\n",
       "    <tr>\n",
       "      <th>2</th>\n",
       "      <td>False</td>\n",
       "      <td>False</td>\n",
       "      <td>False</td>\n",
       "      <td>False</td>\n",
       "      <td>False</td>\n",
       "      <td>False</td>\n",
       "      <td>False</td>\n",
       "      <td>False</td>\n",
       "      <td>False</td>\n",
       "    </tr>\n",
       "    <tr>\n",
       "      <th>3</th>\n",
       "      <td>False</td>\n",
       "      <td>False</td>\n",
       "      <td>False</td>\n",
       "      <td>False</td>\n",
       "      <td>False</td>\n",
       "      <td>False</td>\n",
       "      <td>False</td>\n",
       "      <td>False</td>\n",
       "      <td>False</td>\n",
       "    </tr>\n",
       "    <tr>\n",
       "      <th>4</th>\n",
       "      <td>False</td>\n",
       "      <td>False</td>\n",
       "      <td>False</td>\n",
       "      <td>False</td>\n",
       "      <td>False</td>\n",
       "      <td>False</td>\n",
       "      <td>False</td>\n",
       "      <td>False</td>\n",
       "      <td>False</td>\n",
       "    </tr>\n",
       "    <tr>\n",
       "      <th>...</th>\n",
       "      <td>...</td>\n",
       "      <td>...</td>\n",
       "      <td>...</td>\n",
       "      <td>...</td>\n",
       "      <td>...</td>\n",
       "      <td>...</td>\n",
       "      <td>...</td>\n",
       "      <td>...</td>\n",
       "      <td>...</td>\n",
       "    </tr>\n",
       "    <tr>\n",
       "      <th>4683</th>\n",
       "      <td>False</td>\n",
       "      <td>False</td>\n",
       "      <td>False</td>\n",
       "      <td>False</td>\n",
       "      <td>False</td>\n",
       "      <td>False</td>\n",
       "      <td>False</td>\n",
       "      <td>False</td>\n",
       "      <td>False</td>\n",
       "    </tr>\n",
       "    <tr>\n",
       "      <th>4684</th>\n",
       "      <td>False</td>\n",
       "      <td>False</td>\n",
       "      <td>False</td>\n",
       "      <td>False</td>\n",
       "      <td>False</td>\n",
       "      <td>False</td>\n",
       "      <td>False</td>\n",
       "      <td>False</td>\n",
       "      <td>False</td>\n",
       "    </tr>\n",
       "    <tr>\n",
       "      <th>4685</th>\n",
       "      <td>False</td>\n",
       "      <td>False</td>\n",
       "      <td>False</td>\n",
       "      <td>False</td>\n",
       "      <td>False</td>\n",
       "      <td>False</td>\n",
       "      <td>False</td>\n",
       "      <td>False</td>\n",
       "      <td>False</td>\n",
       "    </tr>\n",
       "    <tr>\n",
       "      <th>4686</th>\n",
       "      <td>False</td>\n",
       "      <td>False</td>\n",
       "      <td>False</td>\n",
       "      <td>False</td>\n",
       "      <td>False</td>\n",
       "      <td>False</td>\n",
       "      <td>False</td>\n",
       "      <td>False</td>\n",
       "      <td>False</td>\n",
       "    </tr>\n",
       "    <tr>\n",
       "      <th>4687</th>\n",
       "      <td>False</td>\n",
       "      <td>False</td>\n",
       "      <td>False</td>\n",
       "      <td>False</td>\n",
       "      <td>False</td>\n",
       "      <td>False</td>\n",
       "      <td>False</td>\n",
       "      <td>False</td>\n",
       "      <td>False</td>\n",
       "    </tr>\n",
       "  </tbody>\n",
       "</table>\n",
       "<p>4688 rows × 9 columns</p>\n",
       "</div>"
      ],
      "text/plain": [
       "      temperature  pressure  altitude  soilmiosture   note  status  class  \\\n",
       "0           False     False     False         False  False   False  False   \n",
       "1           False     False     False         False  False   False  False   \n",
       "2           False     False     False         False  False   False  False   \n",
       "3           False     False     False         False  False   False  False   \n",
       "4           False     False     False         False  False   False  False   \n",
       "...           ...       ...       ...           ...    ...     ...    ...   \n",
       "4683        False     False     False         False  False   False  False   \n",
       "4684        False     False     False         False  False   False  False   \n",
       "4685        False     False     False         False  False   False  False   \n",
       "4686        False     False     False         False  False   False  False   \n",
       "4687        False     False     False         False  False   False  False   \n",
       "\n",
       "       date   time  \n",
       "0     False  False  \n",
       "1     False  False  \n",
       "2     False  False  \n",
       "3     False  False  \n",
       "4     False  False  \n",
       "...     ...    ...  \n",
       "4683  False  False  \n",
       "4684  False  False  \n",
       "4685  False  False  \n",
       "4686  False  False  \n",
       "4687  False  False  \n",
       "\n",
       "[4688 rows x 9 columns]"
      ]
     },
     "execution_count": 17,
     "metadata": {},
     "output_type": "execute_result"
    }
   ],
   "source": [
    "#To display the number of empty values (NaN,NAN,na) in each column\n",
    "df.isna()"
   ]
  },
  {
   "cell_type": "code",
   "execution_count": 18,
   "id": "c598c4d3",
   "metadata": {
    "execution": {
     "iopub.execute_input": "2023-08-29T17:48:26.835408Z",
     "iopub.status.busy": "2023-08-29T17:48:26.835020Z",
     "iopub.status.idle": "2023-08-29T17:48:26.849838Z",
     "shell.execute_reply": "2023-08-29T17:48:26.848569Z"
    },
    "papermill": {
     "duration": 0.041393,
     "end_time": "2023-08-29T17:48:26.852408",
     "exception": false,
     "start_time": "2023-08-29T17:48:26.811015",
     "status": "completed"
    },
    "tags": []
   },
   "outputs": [
    {
     "data": {
      "text/plain": [
       "temperature     0\n",
       "pressure        0\n",
       "altitude        6\n",
       "soilmiosture    0\n",
       "note            0\n",
       "status          0\n",
       "class           0\n",
       "date            0\n",
       "time            0\n",
       "dtype: int64"
      ]
     },
     "execution_count": 18,
     "metadata": {},
     "output_type": "execute_result"
    }
   ],
   "source": [
    "#Count the number of empty values (NaN,NAN,na) in each column\n",
    "df.isna().sum()"
   ]
  },
  {
   "cell_type": "code",
   "execution_count": 19,
   "id": "97c0a7cd",
   "metadata": {
    "execution": {
     "iopub.execute_input": "2023-08-29T17:48:26.899686Z",
     "iopub.status.busy": "2023-08-29T17:48:26.899265Z",
     "iopub.status.idle": "2023-08-29T17:48:26.905813Z",
     "shell.execute_reply": "2023-08-29T17:48:26.904800Z"
    },
    "papermill": {
     "duration": 0.033544,
     "end_time": "2023-08-29T17:48:26.908616",
     "exception": false,
     "start_time": "2023-08-29T17:48:26.875072",
     "status": "completed"
    },
    "tags": []
   },
   "outputs": [],
   "source": [
    "#Filling the empty values(NaN,NAN,na) of column Altitude with average of all values of same column\n",
    "df['altitude'].fillna(int(df['altitude'].mean()),inplace=True)"
   ]
  },
  {
   "cell_type": "code",
   "execution_count": 20,
   "id": "3439b00c",
   "metadata": {
    "execution": {
     "iopub.execute_input": "2023-08-29T17:48:26.956650Z",
     "iopub.status.busy": "2023-08-29T17:48:26.956242Z",
     "iopub.status.idle": "2023-08-29T17:48:26.963034Z",
     "shell.execute_reply": "2023-08-29T17:48:26.962218Z"
    },
    "papermill": {
     "duration": 0.033827,
     "end_time": "2023-08-29T17:48:26.965200",
     "exception": false,
     "start_time": "2023-08-29T17:48:26.931373",
     "status": "completed"
    },
    "tags": []
   },
   "outputs": [
    {
     "data": {
      "text/plain": [
       "0"
      ]
     },
     "execution_count": 20,
     "metadata": {},
     "output_type": "execute_result"
    }
   ],
   "source": [
    "#Now checking the number of empty values (NaN,NAN,na) in Altitude column\n",
    "df['altitude'].isna().sum()"
   ]
  },
  {
   "cell_type": "code",
   "execution_count": 21,
   "id": "bbdd7efc",
   "metadata": {
    "execution": {
     "iopub.execute_input": "2023-08-29T17:48:27.021445Z",
     "iopub.status.busy": "2023-08-29T17:48:27.021032Z",
     "iopub.status.idle": "2023-08-29T17:48:27.031866Z",
     "shell.execute_reply": "2023-08-29T17:48:27.030626Z"
    },
    "papermill": {
     "duration": 0.046086,
     "end_time": "2023-08-29T17:48:27.034684",
     "exception": false,
     "start_time": "2023-08-29T17:48:26.988598",
     "status": "completed"
    },
    "tags": []
   },
   "outputs": [
    {
     "data": {
      "text/plain": [
       "Very Wet    1842\n",
       "Wet         1457\n",
       "Very Dry    1023\n",
       "Dry          366\n",
       "Name: class, dtype: int64"
      ]
     },
     "execution_count": 21,
     "metadata": {},
     "output_type": "execute_result"
    }
   ],
   "source": [
    "#Checking the number of non empty values of each class\n",
    "df['class'].value_counts()"
   ]
  },
  {
   "cell_type": "code",
   "execution_count": 22,
   "id": "d4c15864",
   "metadata": {
    "execution": {
     "iopub.execute_input": "2023-08-29T17:48:27.091105Z",
     "iopub.status.busy": "2023-08-29T17:48:27.090385Z",
     "iopub.status.idle": "2023-08-29T17:48:27.102862Z",
     "shell.execute_reply": "2023-08-29T17:48:27.101803Z"
    },
    "papermill": {
     "duration": 0.046345,
     "end_time": "2023-08-29T17:48:27.105167",
     "exception": false,
     "start_time": "2023-08-29T17:48:27.058822",
     "status": "completed"
    },
    "tags": []
   },
   "outputs": [
    {
     "data": {
      "text/plain": [
       "class\n",
       "Dry          366\n",
       "Very Dry    1023\n",
       "Very Wet    1842\n",
       "Wet         1457\n",
       "dtype: int64"
      ]
     },
     "execution_count": 22,
     "metadata": {},
     "output_type": "execute_result"
    }
   ],
   "source": [
    "#Another method\n",
    "df.groupby('class').size()"
   ]
  },
  {
   "cell_type": "markdown",
   "id": "3c5e7966",
   "metadata": {
    "papermill": {
     "duration": 0.025361,
     "end_time": "2023-08-29T17:48:27.153657",
     "exception": false,
     "start_time": "2023-08-29T17:48:27.128296",
     "status": "completed"
    },
    "tags": []
   },
   "source": [
    "# **Exploratory Data Analysis**"
   ]
  },
  {
   "cell_type": "code",
   "execution_count": 23,
   "id": "7b7484f9",
   "metadata": {
    "execution": {
     "iopub.execute_input": "2023-08-29T17:48:27.202118Z",
     "iopub.status.busy": "2023-08-29T17:48:27.201719Z",
     "iopub.status.idle": "2023-08-29T17:48:27.469694Z",
     "shell.execute_reply": "2023-08-29T17:48:27.468418Z"
    },
    "papermill": {
     "duration": 0.295295,
     "end_time": "2023-08-29T17:48:27.472378",
     "exception": false,
     "start_time": "2023-08-29T17:48:27.177083",
     "status": "completed"
    },
    "tags": []
   },
   "outputs": [
    {
     "data": {
      "image/png": "[encoded data removed]",
      "text/plain": [
       "<Figure size 640x480 with 1 Axes>"
      ]
     },
     "metadata": {},
     "output_type": "display_data"
    }
   ],
   "source": [
    "#Visualization of data using matplotlib.pyplot library\n",
    "import matplotlib.pyplot as plt\n",
    "plt.hist(df['class'])\n",
    "plt.show()"
   ]
  },
  {
   "cell_type": "code",
   "execution_count": 24,
   "id": "152aa066",
   "metadata": {
    "execution": {
     "iopub.execute_input": "2023-08-29T17:48:27.521982Z",
     "iopub.status.busy": "2023-08-29T17:48:27.521169Z",
     "iopub.status.idle": "2023-08-29T17:48:27.531646Z",
     "shell.execute_reply": "2023-08-29T17:48:27.530453Z"
    },
    "papermill": {
     "duration": 0.037865,
     "end_time": "2023-08-29T17:48:27.534231",
     "exception": false,
     "start_time": "2023-08-29T17:48:27.496366",
     "status": "completed"
    },
    "tags": []
   },
   "outputs": [
    {
     "data": {
      "text/plain": [
       "class\n",
       "Dry          366\n",
       "Very Dry    1023\n",
       "Very Wet    1842\n",
       "Wet         1457\n",
       "dtype: int64"
      ]
     },
     "execution_count": 24,
     "metadata": {},
     "output_type": "execute_result"
    }
   ],
   "source": [
    "#Again getting number of non empty values of each class\n",
    "df.groupby('class').size()"
   ]
  },
  {
   "cell_type": "code",
   "execution_count": 25,
   "id": "96618c0f",
   "metadata": {
    "execution": {
     "iopub.execute_input": "2023-08-29T17:48:27.584578Z",
     "iopub.status.busy": "2023-08-29T17:48:27.583373Z",
     "iopub.status.idle": "2023-08-29T17:48:27.589113Z",
     "shell.execute_reply": "2023-08-29T17:48:27.588292Z"
    },
    "papermill": {
     "duration": 0.033066,
     "end_time": "2023-08-29T17:48:27.591488",
     "exception": false,
     "start_time": "2023-08-29T17:48:27.558422",
     "status": "completed"
    },
    "tags": []
   },
   "outputs": [],
   "source": [
    "#Putting the count in a list\n",
    "List=[366,1023,1842,1457]"
   ]
  },
  {
   "cell_type": "code",
   "execution_count": 26,
   "id": "da5da136",
   "metadata": {
    "execution": {
     "iopub.execute_input": "2023-08-29T17:48:27.641619Z",
     "iopub.status.busy": "2023-08-29T17:48:27.640535Z",
     "iopub.status.idle": "2023-08-29T17:48:27.782630Z",
     "shell.execute_reply": "2023-08-29T17:48:27.780864Z"
    },
    "papermill": {
     "duration": 0.171736,
     "end_time": "2023-08-29T17:48:27.787257",
     "exception": false,
     "start_time": "2023-08-29T17:48:27.615521",
     "status": "completed"
    },
    "tags": []
   },
   "outputs": [
    {
     "data": {
      "image/png": "[encoded data removed]",
      "text/plain": [
       "<Figure size 640x480 with 1 Axes>"
      ]
     },
     "metadata": {},
     "output_type": "display_data"
    }
   ],
   "source": [
    "#Visualizing it using piechart\n",
    "import matplotlib.pyplot as plt\n",
    "plt.pie(List,labels=[\"Dry\",\"Very Dry\",\"Very wet\",\"Wet\"])\n",
    "plt.show()"
   ]
  },
  {
   "cell_type": "code",
   "execution_count": 27,
   "id": "78a9a843",
   "metadata": {
    "execution": {
     "iopub.execute_input": "2023-08-29T17:48:27.870653Z",
     "iopub.status.busy": "2023-08-29T17:48:27.869814Z",
     "iopub.status.idle": "2023-08-29T17:48:28.140952Z",
     "shell.execute_reply": "2023-08-29T17:48:28.139502Z"
    },
    "papermill": {
     "duration": 0.305523,
     "end_time": "2023-08-29T17:48:28.144498",
     "exception": false,
     "start_time": "2023-08-29T17:48:27.838975",
     "status": "completed"
    },
    "tags": []
   },
   "outputs": [
    {
     "data": {
      "text/plain": [
       "<Axes: xlabel='class', ylabel='count'>"
      ]
     },
     "execution_count": 27,
     "metadata": {},
     "output_type": "execute_result"
    },
    {
     "data": {
      "image/png": "[encoded data removed]",
      "text/plain": [
       "<Figure size 640x480 with 1 Axes>"
      ]
     },
     "metadata": {},
     "output_type": "display_data"
    }
   ],
   "source": [
    "#Visualization of data using seaborn library\n",
    "import seaborn as sns\n",
    "#Visualizing class using countplot\n",
    "#A count plot is helpful when dealing with categorical values. It is used to plot the frequency of the different categories.\n",
    "sns.countplot(x='class',data=df)"
   ]
  },
  {
   "cell_type": "markdown",
   "id": "636b3a57",
   "metadata": {
    "papermill": {
     "duration": 0.024293,
     "end_time": "2023-08-29T17:48:28.194901",
     "exception": false,
     "start_time": "2023-08-29T17:48:28.170608",
     "status": "completed"
    },
    "tags": []
   },
   "source": [
    "# **Encoding categorical values**"
   ]
  },
  {
   "cell_type": "code",
   "execution_count": 28,
   "id": "48608ebc",
   "metadata": {
    "execution": {
     "iopub.execute_input": "2023-08-29T17:48:28.248431Z",
     "iopub.status.busy": "2023-08-29T17:48:28.247740Z",
     "iopub.status.idle": "2023-08-29T17:48:28.255663Z",
     "shell.execute_reply": "2023-08-29T17:48:28.254544Z"
    },
    "papermill": {
     "duration": 0.037746,
     "end_time": "2023-08-29T17:48:28.258091",
     "exception": false,
     "start_time": "2023-08-29T17:48:28.220345",
     "status": "completed"
    },
    "tags": []
   },
   "outputs": [
    {
     "data": {
      "text/plain": [
       "array(['Very Dry', 'Very Dry', 'Very Dry', ..., 'Dry', 'Dry', 'Dry'],\n",
       "      dtype=object)"
      ]
     },
     "execution_count": 28,
     "metadata": {},
     "output_type": "execute_result"
    }
   ],
   "source": [
    "#To display the values of column class\n",
    "df.iloc[:,6].values"
   ]
  },
  {
   "cell_type": "code",
   "execution_count": 29,
   "id": "20c6688e",
   "metadata": {
    "execution": {
     "iopub.execute_input": "2023-08-29T17:48:28.310267Z",
     "iopub.status.busy": "2023-08-29T17:48:28.309581Z",
     "iopub.status.idle": "2023-08-29T17:48:28.482044Z",
     "shell.execute_reply": "2023-08-29T17:48:28.480640Z"
    },
    "papermill": {
     "duration": 0.202432,
     "end_time": "2023-08-29T17:48:28.485236",
     "exception": false,
     "start_time": "2023-08-29T17:48:28.282804",
     "status": "completed"
    },
    "tags": []
   },
   "outputs": [
    {
     "data": {
      "text/plain": [
       "array([0., 0., 0., ..., 1., 1., 1.])"
      ]
     },
     "execution_count": 29,
     "metadata": {},
     "output_type": "execute_result"
    }
   ],
   "source": [
    "from sklearn.preprocessing import OneHotEncoder\n",
    "onehot_encoder=OneHotEncoder()\n",
    "df['class']=onehot_encoder.fit_transform(df[['class']]).toarray()\n",
    "df['class'].values"
   ]
  },
  {
   "cell_type": "code",
   "execution_count": 30,
   "id": "b1b4b876",
   "metadata": {
    "execution": {
     "iopub.execute_input": "2023-08-29T17:48:28.537603Z",
     "iopub.status.busy": "2023-08-29T17:48:28.536779Z",
     "iopub.status.idle": "2023-08-29T17:48:28.544108Z",
     "shell.execute_reply": "2023-08-29T17:48:28.543133Z"
    },
    "papermill": {
     "duration": 0.0363,
     "end_time": "2023-08-29T17:48:28.546593",
     "exception": false,
     "start_time": "2023-08-29T17:48:28.510293",
     "status": "completed"
    },
    "tags": []
   },
   "outputs": [
    {
     "data": {
      "text/plain": [
       "dtype('float64')"
      ]
     },
     "execution_count": 30,
     "metadata": {},
     "output_type": "execute_result"
    }
   ],
   "source": [
    "#Now checking data type of column class\n",
    "df['class'].dtype"
   ]
  },
  {
   "cell_type": "code",
   "execution_count": 31,
   "id": "5ef3c345",
   "metadata": {
    "execution": {
     "iopub.execute_input": "2023-08-29T17:48:28.599183Z",
     "iopub.status.busy": "2023-08-29T17:48:28.598335Z",
     "iopub.status.idle": "2023-08-29T17:48:28.615382Z",
     "shell.execute_reply": "2023-08-29T17:48:28.614161Z"
    },
    "papermill": {
     "duration": 0.046204,
     "end_time": "2023-08-29T17:48:28.617914",
     "exception": false,
     "start_time": "2023-08-29T17:48:28.571710",
     "status": "completed"
    },
    "tags": []
   },
   "outputs": [
    {
     "data": {
      "text/html": [
       "<div>\n",
       "<style scoped>\n",
       "    .dataframe tbody tr th:only-of-type {\n",
       "        vertical-align: middle;\n",
       "    }\n",
       "\n",
       "    .dataframe tbody tr th {\n",
       "        vertical-align: top;\n",
       "    }\n",
       "\n",
       "    .dataframe thead th {\n",
       "        text-align: right;\n",
       "    }\n",
       "</style>\n",
       "<table border=\"1\" class=\"dataframe\">\n",
       "  <thead>\n",
       "    <tr style=\"text-align: right;\">\n",
       "      <th></th>\n",
       "      <th>temperature</th>\n",
       "      <th>pressure</th>\n",
       "      <th>altitude</th>\n",
       "      <th>soilmiosture</th>\n",
       "      <th>note</th>\n",
       "      <th>status</th>\n",
       "      <th>class</th>\n",
       "      <th>date</th>\n",
       "      <th>time</th>\n",
       "    </tr>\n",
       "  </thead>\n",
       "  <tbody>\n",
       "    <tr>\n",
       "      <th>0</th>\n",
       "      <td>29.10</td>\n",
       "      <td>9984.53</td>\n",
       "      <td>-12.21</td>\n",
       "      <td>377</td>\n",
       "      <td>0</td>\n",
       "      <td>0</td>\n",
       "      <td>0.0</td>\n",
       "      <td>08-10-2022</td>\n",
       "      <td>22:06:24</td>\n",
       "    </tr>\n",
       "    <tr>\n",
       "      <th>1</th>\n",
       "      <td>29.08</td>\n",
       "      <td>9984.36</td>\n",
       "      <td>-12.22</td>\n",
       "      <td>379</td>\n",
       "      <td>0</td>\n",
       "      <td>0</td>\n",
       "      <td>0.0</td>\n",
       "      <td>08-10-2022</td>\n",
       "      <td>22:06:24</td>\n",
       "    </tr>\n",
       "    <tr>\n",
       "      <th>2</th>\n",
       "      <td>29.06</td>\n",
       "      <td>9984.56</td>\n",
       "      <td>-12.20</td>\n",
       "      <td>376</td>\n",
       "      <td>0</td>\n",
       "      <td>0</td>\n",
       "      <td>0.0</td>\n",
       "      <td>08-10-2022</td>\n",
       "      <td>22:06:24</td>\n",
       "    </tr>\n",
       "    <tr>\n",
       "      <th>3</th>\n",
       "      <td>29.05</td>\n",
       "      <td>9984.39</td>\n",
       "      <td>-12.22</td>\n",
       "      <td>377</td>\n",
       "      <td>0</td>\n",
       "      <td>0</td>\n",
       "      <td>0.0</td>\n",
       "      <td>08-10-2022</td>\n",
       "      <td>22:06:24</td>\n",
       "    </tr>\n",
       "    <tr>\n",
       "      <th>4</th>\n",
       "      <td>29.03</td>\n",
       "      <td>9984.42</td>\n",
       "      <td>-12.21</td>\n",
       "      <td>379</td>\n",
       "      <td>0</td>\n",
       "      <td>0</td>\n",
       "      <td>0.0</td>\n",
       "      <td>08-10-2022</td>\n",
       "      <td>22:06:24</td>\n",
       "    </tr>\n",
       "  </tbody>\n",
       "</table>\n",
       "</div>"
      ],
      "text/plain": [
       "   temperature  pressure  altitude  soilmiosture  note  status  class  \\\n",
       "0        29.10   9984.53    -12.21           377     0       0    0.0   \n",
       "1        29.08   9984.36    -12.22           379     0       0    0.0   \n",
       "2        29.06   9984.56    -12.20           376     0       0    0.0   \n",
       "3        29.05   9984.39    -12.22           377     0       0    0.0   \n",
       "4        29.03   9984.42    -12.21           379     0       0    0.0   \n",
       "\n",
       "         date      time  \n",
       "0  08-10-2022  22:06:24  \n",
       "1  08-10-2022  22:06:24  \n",
       "2  08-10-2022  22:06:24  \n",
       "3  08-10-2022  22:06:24  \n",
       "4  08-10-2022  22:06:24  "
      ]
     },
     "execution_count": 31,
     "metadata": {},
     "output_type": "execute_result"
    }
   ],
   "source": [
    "#To display first 5 rows of new data\n",
    "df.head(5)"
   ]
  },
  {
   "cell_type": "markdown",
   "id": "155794e1",
   "metadata": {
    "papermill": {
     "duration": 0.025142,
     "end_time": "2023-08-29T17:48:28.668849",
     "exception": false,
     "start_time": "2023-08-29T17:48:28.643707",
     "status": "completed"
    },
    "tags": []
   },
   "source": [
    "# **Correlation of columns**"
   ]
  },
  {
   "cell_type": "code",
   "execution_count": 32,
   "id": "cebd52fc",
   "metadata": {
    "execution": {
     "iopub.execute_input": "2023-08-29T17:48:28.721763Z",
     "iopub.status.busy": "2023-08-29T17:48:28.721341Z",
     "iopub.status.idle": "2023-08-29T17:48:28.741766Z",
     "shell.execute_reply": "2023-08-29T17:48:28.740534Z"
    },
    "papermill": {
     "duration": 0.050274,
     "end_time": "2023-08-29T17:48:28.744542",
     "exception": false,
     "start_time": "2023-08-29T17:48:28.694268",
     "status": "completed"
    },
    "tags": []
   },
   "outputs": [
    {
     "data": {
      "text/html": [
       "<div>\n",
       "<style scoped>\n",
       "    .dataframe tbody tr th:only-of-type {\n",
       "        vertical-align: middle;\n",
       "    }\n",
       "\n",
       "    .dataframe tbody tr th {\n",
       "        vertical-align: top;\n",
       "    }\n",
       "\n",
       "    .dataframe thead th {\n",
       "        text-align: right;\n",
       "    }\n",
       "</style>\n",
       "<table border=\"1\" class=\"dataframe\">\n",
       "  <thead>\n",
       "    <tr style=\"text-align: right;\">\n",
       "      <th></th>\n",
       "      <th>temperature</th>\n",
       "      <th>pressure</th>\n",
       "      <th>altitude</th>\n",
       "      <th>soilmiosture</th>\n",
       "      <th>note</th>\n",
       "      <th>status</th>\n",
       "      <th>class</th>\n",
       "    </tr>\n",
       "  </thead>\n",
       "  <tbody>\n",
       "    <tr>\n",
       "      <th>temperature</th>\n",
       "      <td>1.000000</td>\n",
       "      <td>0.069229</td>\n",
       "      <td>0.290575</td>\n",
       "      <td>-0.139279</td>\n",
       "      <td>0.034205</td>\n",
       "      <td>0.028588</td>\n",
       "      <td>-0.027064</td>\n",
       "    </tr>\n",
       "    <tr>\n",
       "      <th>pressure</th>\n",
       "      <td>0.069229</td>\n",
       "      <td>1.000000</td>\n",
       "      <td>0.695914</td>\n",
       "      <td>-0.054813</td>\n",
       "      <td>-0.007703</td>\n",
       "      <td>0.003589</td>\n",
       "      <td>-0.003265</td>\n",
       "    </tr>\n",
       "    <tr>\n",
       "      <th>altitude</th>\n",
       "      <td>0.290575</td>\n",
       "      <td>0.695914</td>\n",
       "      <td>1.000000</td>\n",
       "      <td>-0.134397</td>\n",
       "      <td>0.076287</td>\n",
       "      <td>0.087809</td>\n",
       "      <td>-0.112191</td>\n",
       "    </tr>\n",
       "    <tr>\n",
       "      <th>soilmiosture</th>\n",
       "      <td>-0.139279</td>\n",
       "      <td>-0.054813</td>\n",
       "      <td>-0.134397</td>\n",
       "      <td>1.000000</td>\n",
       "      <td>-0.969905</td>\n",
       "      <td>-0.894602</td>\n",
       "      <td>0.291649</td>\n",
       "    </tr>\n",
       "    <tr>\n",
       "      <th>note</th>\n",
       "      <td>0.034205</td>\n",
       "      <td>-0.007703</td>\n",
       "      <td>0.076287</td>\n",
       "      <td>-0.969905</td>\n",
       "      <td>1.000000</td>\n",
       "      <td>0.908939</td>\n",
       "      <td>-0.221729</td>\n",
       "    </tr>\n",
       "    <tr>\n",
       "      <th>status</th>\n",
       "      <td>0.028588</td>\n",
       "      <td>0.003589</td>\n",
       "      <td>0.087809</td>\n",
       "      <td>-0.894602</td>\n",
       "      <td>0.908939</td>\n",
       "      <td>1.000000</td>\n",
       "      <td>-0.448475</td>\n",
       "    </tr>\n",
       "    <tr>\n",
       "      <th>class</th>\n",
       "      <td>-0.027064</td>\n",
       "      <td>-0.003265</td>\n",
       "      <td>-0.112191</td>\n",
       "      <td>0.291649</td>\n",
       "      <td>-0.221729</td>\n",
       "      <td>-0.448475</td>\n",
       "      <td>1.000000</td>\n",
       "    </tr>\n",
       "  </tbody>\n",
       "</table>\n",
       "</div>"
      ],
      "text/plain": [
       "              temperature  pressure  altitude  soilmiosture      note  \\\n",
       "temperature      1.000000  0.069229  0.290575     -0.139279  0.034205   \n",
       "pressure         0.069229  1.000000  0.695914     -0.054813 -0.007703   \n",
       "altitude         0.290575  0.695914  1.000000     -0.134397  0.076287   \n",
       "soilmiosture    -0.139279 -0.054813 -0.134397      1.000000 -0.969905   \n",
       "note             0.034205 -0.007703  0.076287     -0.969905  1.000000   \n",
       "status           0.028588  0.003589  0.087809     -0.894602  0.908939   \n",
       "class           -0.027064 -0.003265 -0.112191      0.291649 -0.221729   \n",
       "\n",
       "                status     class  \n",
       "temperature   0.028588 -0.027064  \n",
       "pressure      0.003589 -0.003265  \n",
       "altitude      0.087809 -0.112191  \n",
       "soilmiosture -0.894602  0.291649  \n",
       "note          0.908939 -0.221729  \n",
       "status        1.000000 -0.448475  \n",
       "class        -0.448475  1.000000  "
      ]
     },
     "execution_count": 32,
     "metadata": {},
     "output_type": "execute_result"
    }
   ],
   "source": [
    "#Finding the correlation \n",
    "#corr() function tells us how one column can influence the other\n",
    "data=df.iloc[:,0:7].corr()\n",
    "data"
   ]
  },
  {
   "cell_type": "code",
   "execution_count": 33,
   "id": "b7bf0447",
   "metadata": {
    "execution": {
     "iopub.execute_input": "2023-08-29T17:48:28.797713Z",
     "iopub.status.busy": "2023-08-29T17:48:28.797256Z",
     "iopub.status.idle": "2023-08-29T17:48:29.365567Z",
     "shell.execute_reply": "2023-08-29T17:48:29.364598Z"
    },
    "papermill": {
     "duration": 0.597484,
     "end_time": "2023-08-29T17:48:29.367919",
     "exception": false,
     "start_time": "2023-08-29T17:48:28.770435",
     "status": "completed"
    },
    "tags": []
   },
   "outputs": [
    {
     "data": {
      "text/plain": [
       "<Axes: >"
      ]
     },
     "execution_count": 33,
     "metadata": {},
     "output_type": "execute_result"
    },
    {
     "data": {
      "image/png": "[encoded data removed]",
      "text/plain": [
       "<Figure size 640x480 with 2 Axes>"
      ]
     },
     "metadata": {},
     "output_type": "display_data"
    }
   ],
   "source": [
    "#Visualize the correlation of above data using heatmap\n",
    "sns.heatmap(data,annot=True,fmt='.0%')"
   ]
  },
  {
   "cell_type": "markdown",
   "id": "97aaed72",
   "metadata": {
    "papermill": {
     "duration": 0.027168,
     "end_time": "2023-08-29T17:48:29.423364",
     "exception": false,
     "start_time": "2023-08-29T17:48:29.396196",
     "status": "completed"
    },
    "tags": []
   },
   "source": [
    "# **Machine Learning**"
   ]
  },
  {
   "cell_type": "code",
   "execution_count": 34,
   "id": "e25e6327",
   "metadata": {
    "execution": {
     "iopub.execute_input": "2023-08-29T17:48:29.480142Z",
     "iopub.status.busy": "2023-08-29T17:48:29.479114Z",
     "iopub.status.idle": "2023-08-29T17:48:29.485268Z",
     "shell.execute_reply": "2023-08-29T17:48:29.484381Z"
    },
    "papermill": {
     "duration": 0.036698,
     "end_time": "2023-08-29T17:48:29.487747",
     "exception": false,
     "start_time": "2023-08-29T17:48:29.451049",
     "status": "completed"
    },
    "tags": []
   },
   "outputs": [],
   "source": [
    "#Dividing data into X and Y(converting into numpy)\n",
    "X=df.iloc[:,0:4].values  #Independent dataset \n",
    "Y=df.iloc[:,6].values    #Dependent dataset "
   ]
  },
  {
   "cell_type": "code",
   "execution_count": 35,
   "id": "f7966e02",
   "metadata": {
    "execution": {
     "iopub.execute_input": "2023-08-29T17:48:29.543696Z",
     "iopub.status.busy": "2023-08-29T17:48:29.543266Z",
     "iopub.status.idle": "2023-08-29T17:48:29.550032Z",
     "shell.execute_reply": "2023-08-29T17:48:29.548725Z"
    },
    "papermill": {
     "duration": 0.037919,
     "end_time": "2023-08-29T17:48:29.553001",
     "exception": false,
     "start_time": "2023-08-29T17:48:29.515082",
     "status": "completed"
    },
    "tags": []
   },
   "outputs": [
    {
     "name": "stdout",
     "output_type": "stream",
     "text": [
      "[[  29.1  9984.53  -12.21  377.  ]\n",
      " [  29.08 9984.36  -12.22  379.  ]\n",
      " [  29.06 9984.56  -12.2   376.  ]\n",
      " ...\n",
      " [  29.29 9921.48  -17.51  328.  ]\n",
      " [  29.26 9921.51  -17.51  327.  ]\n",
      " [  29.28 9922.2   -17.45  323.  ]]\n"
     ]
    }
   ],
   "source": [
    "print(X)"
   ]
  },
  {
   "cell_type": "code",
   "execution_count": 36,
   "id": "c55435ba",
   "metadata": {
    "execution": {
     "iopub.execute_input": "2023-08-29T17:48:29.609797Z",
     "iopub.status.busy": "2023-08-29T17:48:29.608684Z",
     "iopub.status.idle": "2023-08-29T17:48:29.614337Z",
     "shell.execute_reply": "2023-08-29T17:48:29.613519Z"
    },
    "papermill": {
     "duration": 0.036202,
     "end_time": "2023-08-29T17:48:29.616563",
     "exception": false,
     "start_time": "2023-08-29T17:48:29.580361",
     "status": "completed"
    },
    "tags": []
   },
   "outputs": [
    {
     "name": "stdout",
     "output_type": "stream",
     "text": [
      "[0. 0. 0. ... 1. 1. 1.]\n"
     ]
    }
   ],
   "source": [
    "print(Y)"
   ]
  },
  {
   "cell_type": "code",
   "execution_count": 37,
   "id": "cf739118",
   "metadata": {
    "execution": {
     "iopub.execute_input": "2023-08-29T17:48:29.673377Z",
     "iopub.status.busy": "2023-08-29T17:48:29.672739Z",
     "iopub.status.idle": "2023-08-29T17:48:29.772058Z",
     "shell.execute_reply": "2023-08-29T17:48:29.771053Z"
    },
    "papermill": {
     "duration": 0.130781,
     "end_time": "2023-08-29T17:48:29.774782",
     "exception": false,
     "start_time": "2023-08-29T17:48:29.644001",
     "status": "completed"
    },
    "tags": []
   },
   "outputs": [],
   "source": [
    "#Splitting dataset into 80% training and 20% testing\n",
    "from sklearn.model_selection import train_test_split\n",
    "X_train,X_test,Y_train,Y_test=train_test_split(X,Y,test_size=0.20,random_state=0)"
   ]
  },
  {
   "cell_type": "code",
   "execution_count": 38,
   "id": "500989f2",
   "metadata": {
    "execution": {
     "iopub.execute_input": "2023-08-29T17:48:29.831298Z",
     "iopub.status.busy": "2023-08-29T17:48:29.830862Z",
     "iopub.status.idle": "2023-08-29T17:48:29.838797Z",
     "shell.execute_reply": "2023-08-29T17:48:29.837545Z"
    },
    "papermill": {
     "duration": 0.039299,
     "end_time": "2023-08-29T17:48:29.841256",
     "exception": false,
     "start_time": "2023-08-29T17:48:29.801957",
     "status": "completed"
    },
    "tags": []
   },
   "outputs": [],
   "source": [
    "from sklearn.preprocessing import StandardScaler\n",
    "sc = StandardScaler()\n",
    "X_train = sc.fit_transform(X_train)\n",
    "X_test = sc.transform(X_test)"
   ]
  },
  {
   "cell_type": "code",
   "execution_count": 39,
   "id": "cc5763a2",
   "metadata": {
    "execution": {
     "iopub.execute_input": "2023-08-29T17:48:29.898754Z",
     "iopub.status.busy": "2023-08-29T17:48:29.897697Z",
     "iopub.status.idle": "2023-08-29T17:48:29.905409Z",
     "shell.execute_reply": "2023-08-29T17:48:29.904242Z"
    },
    "papermill": {
     "duration": 0.03876,
     "end_time": "2023-08-29T17:48:29.907970",
     "exception": false,
     "start_time": "2023-08-29T17:48:29.869210",
     "status": "completed"
    },
    "tags": []
   },
   "outputs": [
    {
     "data": {
      "text/plain": [
       "array([[-1.45684277e-01,  1.22858351e-02,  7.87251455e-01,\n",
       "        -1.36027109e-01],\n",
       "       [-2.26787465e-01, -1.34352582e-02, -3.92021632e-01,\n",
       "         1.27957479e+00],\n",
       "       [ 5.29357750e-02,  4.87766487e-04,  2.47343295e-01,\n",
       "        -1.00111716e+00],\n",
       "       ...,\n",
       "       [-2.35063301e-01,  7.54053459e-03,  5.70577785e-01,\n",
       "        -9.48687457e-01],\n",
       "       [-1.20856771e-01, -3.05817237e-03,  8.39500357e-02,\n",
       "         1.25335994e+00],\n",
       "       [ 1.65220987e-02, -3.39060414e-03,  6.61898988e-02,\n",
       "        -1.04043943e+00]])"
      ]
     },
     "execution_count": 39,
     "metadata": {},
     "output_type": "execute_result"
    }
   ],
   "source": [
    "X_train"
   ]
  },
  {
   "cell_type": "code",
   "execution_count": 40,
   "id": "b7d6e08c",
   "metadata": {
    "execution": {
     "iopub.execute_input": "2023-08-29T17:48:29.963974Z",
     "iopub.status.busy": "2023-08-29T17:48:29.963532Z",
     "iopub.status.idle": "2023-08-29T17:48:29.971027Z",
     "shell.execute_reply": "2023-08-29T17:48:29.969865Z"
    },
    "papermill": {
     "duration": 0.03853,
     "end_time": "2023-08-29T17:48:29.973714",
     "exception": false,
     "start_time": "2023-08-29T17:48:29.935184",
     "status": "completed"
    },
    "tags": []
   },
   "outputs": [
    {
     "data": {
      "text/plain": [
       "array([[-1.04305100e-01,  4.15103421e-03,  4.14288581e-01,\n",
       "         1.64658269e+00],\n",
       "       [-9.43740972e-02,  1.67409162e-03,  3.00623705e-01,\n",
       "         1.16160796e+00],\n",
       "       [ 1.55556135e-01, -2.68889674e-02, -1.01007439e+00,\n",
       "        -1.00111716e+00],\n",
       "       ...,\n",
       "       [ 1.15565974e-02,  1.19173964e-03,  2.79311541e-01,\n",
       "         1.18782281e+00],\n",
       "       [-2.44994304e-01, -2.44576527e-02, -8.99961546e-01,\n",
       "         1.05674856e+00],\n",
       "       [-2.36718468e-01,  7.42320573e-03,  5.63473731e-01,\n",
       "        -9.22472607e-01]])"
      ]
     },
     "execution_count": 40,
     "metadata": {},
     "output_type": "execute_result"
    }
   ],
   "source": [
    "X_test"
   ]
  },
  {
   "cell_type": "code",
   "execution_count": 41,
   "id": "0c65b932",
   "metadata": {
    "execution": {
     "iopub.execute_input": "2023-08-29T17:48:30.030935Z",
     "iopub.status.busy": "2023-08-29T17:48:30.029724Z",
     "iopub.status.idle": "2023-08-29T17:48:30.037386Z",
     "shell.execute_reply": "2023-08-29T17:48:30.036494Z"
    },
    "papermill": {
     "duration": 0.038755,
     "end_time": "2023-08-29T17:48:30.039806",
     "exception": false,
     "start_time": "2023-08-29T17:48:30.001051",
     "status": "completed"
    },
    "tags": []
   },
   "outputs": [
    {
     "data": {
      "text/plain": [
       "array([0., 0., 0., ..., 0., 0., 0.])"
      ]
     },
     "execution_count": 41,
     "metadata": {},
     "output_type": "execute_result"
    }
   ],
   "source": [
    "Y_train"
   ]
  },
  {
   "cell_type": "code",
   "execution_count": 42,
   "id": "e1145a35",
   "metadata": {
    "execution": {
     "iopub.execute_input": "2023-08-29T17:48:30.097885Z",
     "iopub.status.busy": "2023-08-29T17:48:30.096686Z",
     "iopub.status.idle": "2023-08-29T17:48:30.115080Z",
     "shell.execute_reply": "2023-08-29T17:48:30.113811Z"
    },
    "papermill": {
     "duration": 0.050052,
     "end_time": "2023-08-29T17:48:30.117799",
     "exception": false,
     "start_time": "2023-08-29T17:48:30.067747",
     "status": "completed"
    },
    "tags": []
   },
   "outputs": [
    {
     "data": {
      "text/plain": [
       "array([0., 0., 0., 0., 0., 0., 0., 0., 1., 0., 0., 0., 0., 0., 0., 0., 0.,\n",
       "       0., 0., 0., 0., 0., 0., 0., 0., 0., 0., 0., 0., 0., 0., 0., 0., 0.,\n",
       "       0., 0., 0., 0., 0., 0., 0., 0., 0., 0., 1., 0., 0., 0., 0., 0., 0.,\n",
       "       0., 0., 0., 0., 0., 0., 0., 0., 1., 0., 0., 0., 0., 0., 0., 1., 0.,\n",
       "       0., 0., 0., 0., 0., 1., 0., 0., 0., 0., 0., 1., 0., 1., 0., 0., 0.,\n",
       "       0., 0., 0., 0., 0., 0., 0., 0., 0., 0., 0., 0., 0., 0., 0., 0., 0.,\n",
       "       0., 0., 0., 1., 1., 0., 0., 0., 0., 0., 0., 0., 0., 0., 0., 0., 1.,\n",
       "       0., 0., 0., 0., 0., 0., 1., 0., 0., 0., 0., 1., 0., 1., 0., 0., 0.,\n",
       "       0., 0., 0., 0., 0., 0., 0., 0., 0., 0., 0., 0., 0., 0., 0., 0., 0.,\n",
       "       0., 0., 0., 0., 0., 0., 0., 0., 0., 0., 0., 0., 0., 0., 0., 0., 0.,\n",
       "       1., 0., 0., 0., 0., 0., 0., 0., 0., 0., 0., 1., 0., 0., 0., 0., 1.,\n",
       "       0., 0., 0., 1., 0., 0., 0., 0., 0., 0., 0., 0., 0., 0., 0., 0., 0.,\n",
       "       0., 1., 0., 0., 0., 0., 0., 0., 0., 0., 0., 0., 0., 0., 0., 0., 0.,\n",
       "       0., 1., 1., 1., 0., 1., 0., 0., 0., 0., 0., 0., 0., 0., 0., 0., 0.,\n",
       "       0., 0., 0., 0., 0., 1., 0., 0., 0., 0., 0., 0., 1., 0., 0., 0., 0.,\n",
       "       0., 0., 0., 1., 1., 0., 0., 0., 0., 0., 0., 0., 0., 0., 0., 1., 0.,\n",
       "       0., 0., 0., 0., 0., 0., 0., 0., 0., 0., 0., 0., 0., 0., 1., 0., 0.,\n",
       "       1., 0., 0., 0., 0., 0., 0., 0., 0., 0., 0., 0., 0., 1., 0., 0., 0.,\n",
       "       0., 0., 0., 0., 0., 0., 0., 0., 0., 0., 0., 0., 0., 0., 0., 0., 0.,\n",
       "       0., 0., 1., 0., 0., 0., 0., 0., 0., 0., 0., 0., 0., 0., 1., 0., 0.,\n",
       "       0., 0., 0., 0., 0., 1., 0., 0., 0., 0., 0., 0., 0., 1., 0., 0., 0.,\n",
       "       0., 0., 0., 0., 0., 0., 1., 0., 0., 0., 0., 0., 0., 0., 0., 0., 0.,\n",
       "       0., 0., 0., 0., 0., 0., 0., 0., 0., 0., 1., 0., 0., 1., 0., 0., 0.,\n",
       "       0., 0., 0., 0., 0., 0., 0., 0., 0., 1., 0., 0., 0., 1., 0., 1., 0.,\n",
       "       0., 0., 1., 0., 0., 0., 0., 1., 0., 0., 0., 0., 0., 0., 0., 0., 0.,\n",
       "       0., 0., 0., 0., 0., 0., 0., 0., 0., 0., 0., 0., 0., 0., 0., 1., 0.,\n",
       "       0., 0., 0., 0., 0., 0., 0., 0., 0., 0., 0., 0., 0., 0., 0., 0., 0.,\n",
       "       0., 0., 0., 0., 0., 0., 0., 0., 0., 0., 0., 0., 0., 0., 0., 0., 0.,\n",
       "       0., 0., 0., 0., 0., 0., 0., 0., 0., 0., 0., 0., 0., 0., 0., 0., 1.,\n",
       "       0., 0., 0., 0., 0., 0., 0., 1., 1., 0., 0., 0., 1., 0., 0., 0., 0.,\n",
       "       0., 0., 0., 0., 0., 0., 0., 0., 0., 0., 1., 0., 0., 0., 0., 0., 0.,\n",
       "       0., 0., 0., 0., 0., 0., 0., 0., 0., 0., 0., 0., 0., 0., 0., 0., 0.,\n",
       "       0., 0., 0., 0., 1., 0., 0., 0., 0., 1., 0., 0., 0., 0., 0., 0., 0.,\n",
       "       0., 0., 0., 0., 0., 0., 0., 0., 0., 0., 1., 0., 1., 0., 1., 0., 0.,\n",
       "       0., 0., 0., 0., 0., 0., 0., 0., 0., 0., 0., 0., 0., 0., 0., 0., 0.,\n",
       "       0., 0., 0., 0., 0., 1., 0., 0., 0., 0., 0., 0., 0., 0., 0., 0., 0.,\n",
       "       0., 0., 0., 0., 0., 0., 0., 0., 0., 0., 1., 0., 0., 0., 0., 0., 0.,\n",
       "       0., 0., 0., 0., 0., 0., 0., 0., 0., 0., 0., 0., 1., 0., 0., 0., 0.,\n",
       "       0., 0., 0., 0., 0., 0., 0., 0., 0., 0., 0., 0., 0., 0., 0., 0., 0.,\n",
       "       0., 0., 0., 1., 0., 0., 0., 0., 1., 0., 0., 0., 0., 0., 0., 0., 1.,\n",
       "       0., 0., 0., 0., 0., 0., 0., 0., 0., 0., 0., 0., 0., 0., 0., 0., 0.,\n",
       "       0., 0., 0., 0., 0., 0., 0., 1., 1., 0., 0., 0., 0., 0., 0., 0., 0.,\n",
       "       0., 1., 0., 0., 0., 0., 0., 1., 1., 0., 0., 0., 0., 0., 0., 0., 0.,\n",
       "       0., 0., 0., 0., 0., 0., 0., 0., 0., 0., 0., 0., 0., 0., 0., 0., 0.,\n",
       "       0., 0., 0., 0., 0., 0., 0., 0., 1., 1., 1., 0., 0., 0., 0., 0., 0.,\n",
       "       0., 0., 1., 0., 0., 1., 0., 0., 1., 0., 0., 0., 0., 0., 0., 0., 0.,\n",
       "       0., 0., 0., 0., 0., 0., 0., 0., 0., 0., 0., 0., 0., 0., 0., 0., 1.,\n",
       "       0., 0., 0., 0., 0., 0., 0., 0., 0., 0., 0., 0., 0., 0., 0., 0., 0.,\n",
       "       0., 0., 0., 0., 0., 0., 0., 0., 0., 0., 0., 1., 0., 0., 0., 0., 0.,\n",
       "       0., 0., 0., 0., 0., 0., 0., 0., 0., 0., 0., 1., 0., 0., 0., 0., 0.,\n",
       "       0., 0., 0., 0., 0., 0., 0., 0., 0., 0., 0., 1., 1., 0., 0., 0., 0.,\n",
       "       0., 0., 0., 0., 0., 0., 0., 0., 1., 0., 1., 0., 0., 0., 0., 0., 0.,\n",
       "       0., 0., 0., 1., 0., 0., 0., 0., 0., 0., 0., 0., 0., 0., 0., 1., 0.,\n",
       "       0., 0., 0., 1., 1., 0., 0., 0., 0., 0., 0., 0., 0., 0., 1., 0., 1.,\n",
       "       0., 0., 0., 0., 1., 0., 0., 0., 0., 0., 0., 0., 0., 0., 0., 0., 0.,\n",
       "       0., 1., 0.])"
      ]
     },
     "execution_count": 42,
     "metadata": {},
     "output_type": "execute_result"
    }
   ],
   "source": [
    "Y_test"
   ]
  },
  {
   "cell_type": "markdown",
   "id": "ecbba523",
   "metadata": {
    "papermill": {
     "duration": 0.028622,
     "end_time": "2023-08-29T17:48:30.174196",
     "exception": false,
     "start_time": "2023-08-29T17:48:30.145574",
     "status": "completed"
    },
    "tags": []
   },
   "source": [
    "**Model 1: Logistic Regression**"
   ]
  },
  {
   "cell_type": "code",
   "execution_count": 43,
   "id": "269be01b",
   "metadata": {
    "execution": {
     "iopub.execute_input": "2023-08-29T17:48:30.231485Z",
     "iopub.status.busy": "2023-08-29T17:48:30.231005Z",
     "iopub.status.idle": "2023-08-29T17:48:30.367136Z",
     "shell.execute_reply": "2023-08-29T17:48:30.365899Z"
    },
    "papermill": {
     "duration": 0.170265,
     "end_time": "2023-08-29T17:48:30.372121",
     "exception": false,
     "start_time": "2023-08-29T17:48:30.201856",
     "status": "completed"
    },
    "tags": []
   },
   "outputs": [
    {
     "data": {
      "text/html": [
       "<style>#sk-container-id-1 {color: black;background-color: white;}#sk-container-id-1 pre{padding: 0;}#sk-container-id-1 div.sk-toggleable {background-color: white;}#sk-container-id-1 label.sk-toggleable__label {cursor: pointer;display: block;width: 100%;margin-bottom: 0;padding: 0.3em;box-sizing: border-box;text-align: center;}#sk-container-id-1 label.sk-toggleable__label-arrow:before {content: \"▸\";float: left;margin-right: 0.25em;color: #696969;}#sk-container-id-1 label.sk-toggleable__label-arrow:hover:before {color: black;}#sk-container-id-1 div.sk-estimator:hover label.sk-toggleable__label-arrow:before {color: black;}#sk-container-id-1 div.sk-toggleable__content {max-height: 0;max-width: 0;overflow: hidden;text-align: left;background-color: #f0f8ff;}#sk-container-id-1 div.sk-toggleable__content pre {margin: 0.2em;color: black;border-radius: 0.25em;background-color: #f0f8ff;}#sk-container-id-1 input.sk-toggleable__control:checked~div.sk-toggleable__content {max-height: 200px;max-width: 100%;overflow: auto;}#sk-container-id-1 input.sk-toggleable__control:checked~label.sk-toggleable__label-arrow:before {content: \"▾\";}#sk-container-id-1 div.sk-estimator input.sk-toggleable__control:checked~label.sk-toggleable__label {background-color: #d4ebff;}#sk-container-id-1 div.sk-label input.sk-toggleable__control:checked~label.sk-toggleable__label {background-color: #d4ebff;}#sk-container-id-1 input.sk-hidden--visually {border: 0;clip: rect(1px 1px 1px 1px);clip: rect(1px, 1px, 1px, 1px);height: 1px;margin: -1px;overflow: hidden;padding: 0;position: absolute;width: 1px;}#sk-container-id-1 div.sk-estimator {font-family: monospace;background-color: #f0f8ff;border: 1px dotted black;border-radius: 0.25em;box-sizing: border-box;margin-bottom: 0.5em;}#sk-container-id-1 div.sk-estimator:hover {background-color: #d4ebff;}#sk-container-id-1 div.sk-parallel-item::after {content: \"\";width: 100%;border-bottom: 1px solid gray;flex-grow: 1;}#sk-container-id-1 div.sk-label:hover label.sk-toggleable__label {background-color: #d4ebff;}#sk-container-id-1 div.sk-serial::before {content: \"\";position: absolute;border-left: 1px solid gray;box-sizing: border-box;top: 0;bottom: 0;left: 50%;z-index: 0;}#sk-container-id-1 div.sk-serial {display: flex;flex-direction: column;align-items: center;background-color: white;padding-right: 0.2em;padding-left: 0.2em;position: relative;}#sk-container-id-1 div.sk-item {position: relative;z-index: 1;}#sk-container-id-1 div.sk-parallel {display: flex;align-items: stretch;justify-content: center;background-color: white;position: relative;}#sk-container-id-1 div.sk-item::before, #sk-container-id-1 div.sk-parallel-item::before {content: \"\";position: absolute;border-left: 1px solid gray;box-sizing: border-box;top: 0;bottom: 0;left: 50%;z-index: -1;}#sk-container-id-1 div.sk-parallel-item {display: flex;flex-direction: column;z-index: 1;position: relative;background-color: white;}#sk-container-id-1 div.sk-parallel-item:first-child::after {align-self: flex-end;width: 50%;}#sk-container-id-1 div.sk-parallel-item:last-child::after {align-self: flex-start;width: 50%;}#sk-container-id-1 div.sk-parallel-item:only-child::after {width: 0;}#sk-container-id-1 div.sk-dashed-wrapped {border: 1px dashed gray;margin: 0 0.4em 0.5em 0.4em;box-sizing: border-box;padding-bottom: 0.4em;background-color: white;}#sk-container-id-1 div.sk-label label {font-family: monospace;font-weight: bold;display: inline-block;line-height: 1.2em;}#sk-container-id-1 div.sk-label-container {text-align: center;}#sk-container-id-1 div.sk-container {/* jupyter's `normalize.less` sets `[hidden] { display: none; }` but bootstrap.min.css set `[hidden] { display: none !important; }` so we also need the `!important` here to be able to override the default hidden behavior on the sphinx rendered scikit-learn.org. See: https://github.com/scikit-learn/scikit-learn/issues/21755 */display: inline-block !important;position: relative;}#sk-container-id-1 div.sk-text-repr-fallback {display: none;}</style><div id=\"sk-container-id-1\" class=\"sk-top-container\"><div class=\"sk-text-repr-fallback\"><pre>LogisticRegression()</pre><b>In a Jupyter environment, please rerun this cell to show the HTML representation or trust the notebook. <br />On GitHub, the HTML representation is unable to render, please try loading this page with nbviewer.org.</b></div><div class=\"sk-container\" hidden><div class=\"sk-item\"><div class=\"sk-estimator sk-toggleable\"><input class=\"sk-toggleable__control sk-hidden--visually\" id=\"sk-estimator-id-1\" type=\"checkbox\" checked><label for=\"sk-estimator-id-1\" class=\"sk-toggleable__label sk-toggleable__label-arrow\">LogisticRegression</label><div class=\"sk-toggleable__content\"><pre>LogisticRegression()</pre></div></div></div></div></div>"
      ],
      "text/plain": [
       "LogisticRegression()"
      ]
     },
     "execution_count": 43,
     "metadata": {},
     "output_type": "execute_result"
    }
   ],
   "source": [
    "#Fitting the Logistic Regression model on X and Y\n",
    "from sklearn.linear_model import LogisticRegression\n",
    "model1=LogisticRegression()\n",
    "model1.fit(X_train,Y_train)"
   ]
  },
  {
   "cell_type": "code",
   "execution_count": 44,
   "id": "04c28ba5",
   "metadata": {
    "execution": {
     "iopub.execute_input": "2023-08-29T17:48:30.480605Z",
     "iopub.status.busy": "2023-08-29T17:48:30.480163Z",
     "iopub.status.idle": "2023-08-29T17:48:30.485647Z",
     "shell.execute_reply": "2023-08-29T17:48:30.484558Z"
    },
    "papermill": {
     "duration": 0.054829,
     "end_time": "2023-08-29T17:48:30.488023",
     "exception": false,
     "start_time": "2023-08-29T17:48:30.433194",
     "status": "completed"
    },
    "tags": []
   },
   "outputs": [],
   "source": [
    "# prediction of this model \n",
    "pred1=model1.predict(X_test)"
   ]
  },
  {
   "cell_type": "code",
   "execution_count": 45,
   "id": "f0cd23e8",
   "metadata": {
    "execution": {
     "iopub.execute_input": "2023-08-29T17:48:30.547225Z",
     "iopub.status.busy": "2023-08-29T17:48:30.546370Z",
     "iopub.status.idle": "2023-08-29T17:48:30.555137Z",
     "shell.execute_reply": "2023-08-29T17:48:30.553995Z"
    },
    "papermill": {
     "duration": 0.041283,
     "end_time": "2023-08-29T17:48:30.557602",
     "exception": false,
     "start_time": "2023-08-29T17:48:30.516319",
     "status": "completed"
    },
    "tags": []
   },
   "outputs": [
    {
     "data": {
      "text/plain": [
       "0.9093816631130064"
      ]
     },
     "execution_count": 45,
     "metadata": {},
     "output_type": "execute_result"
    }
   ],
   "source": [
    "#Testing model accuracy on test data\n",
    "from sklearn.metrics import accuracy_score\n",
    "accuracy_score(Y_test,pred1)"
   ]
  },
  {
   "cell_type": "code",
   "execution_count": 46,
   "id": "a937d435",
   "metadata": {
    "execution": {
     "iopub.execute_input": "2023-08-29T17:48:30.616554Z",
     "iopub.status.busy": "2023-08-29T17:48:30.615714Z",
     "iopub.status.idle": "2023-08-29T17:48:30.627511Z",
     "shell.execute_reply": "2023-08-29T17:48:30.625601Z"
    },
    "papermill": {
     "duration": 0.04482,
     "end_time": "2023-08-29T17:48:30.630621",
     "exception": false,
     "start_time": "2023-08-29T17:48:30.585801",
     "status": "completed"
    },
    "tags": []
   },
   "outputs": [
    {
     "name": "stdout",
     "output_type": "stream",
     "text": [
      "[[853   0]\n",
      " [ 85   0]]\n"
     ]
    }
   ],
   "source": [
    "#Confusion Matrix\n",
    "from sklearn.metrics import confusion_matrix\n",
    "print(confusion_matrix(Y_test,pred1))"
   ]
  },
  {
   "cell_type": "code",
   "execution_count": 47,
   "id": "76115ea9",
   "metadata": {
    "execution": {
     "iopub.execute_input": "2023-08-29T17:48:30.692332Z",
     "iopub.status.busy": "2023-08-29T17:48:30.691177Z",
     "iopub.status.idle": "2023-08-29T17:48:30.712310Z",
     "shell.execute_reply": "2023-08-29T17:48:30.711032Z"
    },
    "papermill": {
     "duration": 0.054309,
     "end_time": "2023-08-29T17:48:30.715352",
     "exception": false,
     "start_time": "2023-08-29T17:48:30.661043",
     "status": "completed"
    },
    "tags": []
   },
   "outputs": [
    {
     "name": "stdout",
     "output_type": "stream",
     "text": [
      "              precision    recall  f1-score   support\n",
      "\n",
      "         0.0       0.91      1.00      0.95       853\n",
      "         1.0       0.00      0.00      0.00        85\n",
      "\n",
      "    accuracy                           0.91       938\n",
      "   macro avg       0.45      0.50      0.48       938\n",
      "weighted avg       0.83      0.91      0.87       938\n",
      "\n"
     ]
    },
    {
     "name": "stderr",
     "output_type": "stream",
     "text": [
      "/opt/conda/lib/python3.10/site-packages/sklearn/metrics/_classification.py:1344: UndefinedMetricWarning: Precision and F-score are ill-defined and being set to 0.0 in labels with no predicted samples. Use `zero_division` parameter to control this behavior.\n",
      "  _warn_prf(average, modifier, msg_start, len(result))\n",
      "/opt/conda/lib/python3.10/site-packages/sklearn/metrics/_classification.py:1344: UndefinedMetricWarning: Precision and F-score are ill-defined and being set to 0.0 in labels with no predicted samples. Use `zero_division` parameter to control this behavior.\n",
      "  _warn_prf(average, modifier, msg_start, len(result))\n",
      "/opt/conda/lib/python3.10/site-packages/sklearn/metrics/_classification.py:1344: UndefinedMetricWarning: Precision and F-score are ill-defined and being set to 0.0 in labels with no predicted samples. Use `zero_division` parameter to control this behavior.\n",
      "  _warn_prf(average, modifier, msg_start, len(result))\n"
     ]
    }
   ],
   "source": [
    "#Classification report\n",
    "from sklearn.metrics import classification_report\n",
    "print(classification_report(Y_test,pred1))"
   ]
  },
  {
   "cell_type": "markdown",
   "id": "a9895806",
   "metadata": {
    "papermill": {
     "duration": 0.028236,
     "end_time": "2023-08-29T17:48:30.772355",
     "exception": false,
     "start_time": "2023-08-29T17:48:30.744119",
     "status": "completed"
    },
    "tags": []
   },
   "source": [
    "**Model 2: Gaussian Naive Bayes Classifier**"
   ]
  },
  {
   "cell_type": "code",
   "execution_count": 48,
   "id": "c7afb343",
   "metadata": {
    "execution": {
     "iopub.execute_input": "2023-08-29T17:48:30.832833Z",
     "iopub.status.busy": "2023-08-29T17:48:30.831806Z",
     "iopub.status.idle": "2023-08-29T17:48:30.852715Z",
     "shell.execute_reply": "2023-08-29T17:48:30.851548Z"
    },
    "papermill": {
     "duration": 0.054086,
     "end_time": "2023-08-29T17:48:30.855157",
     "exception": false,
     "start_time": "2023-08-29T17:48:30.801071",
     "status": "completed"
    },
    "tags": []
   },
   "outputs": [
    {
     "data": {
      "text/html": [
       "<style>#sk-container-id-2 {color: black;background-color: white;}#sk-container-id-2 pre{padding: 0;}#sk-container-id-2 div.sk-toggleable {background-color: white;}#sk-container-id-2 label.sk-toggleable__label {cursor: pointer;display: block;width: 100%;margin-bottom: 0;padding: 0.3em;box-sizing: border-box;text-align: center;}#sk-container-id-2 label.sk-toggleable__label-arrow:before {content: \"▸\";float: left;margin-right: 0.25em;color: #696969;}#sk-container-id-2 label.sk-toggleable__label-arrow:hover:before {color: black;}#sk-container-id-2 div.sk-estimator:hover label.sk-toggleable__label-arrow:before {color: black;}#sk-container-id-2 div.sk-toggleable__content {max-height: 0;max-width: 0;overflow: hidden;text-align: left;background-color: #f0f8ff;}#sk-container-id-2 div.sk-toggleable__content pre {margin: 0.2em;color: black;border-radius: 0.25em;background-color: #f0f8ff;}#sk-container-id-2 input.sk-toggleable__control:checked~div.sk-toggleable__content {max-height: 200px;max-width: 100%;overflow: auto;}#sk-container-id-2 input.sk-toggleable__control:checked~label.sk-toggleable__label-arrow:before {content: \"▾\";}#sk-container-id-2 div.sk-estimator input.sk-toggleable__control:checked~label.sk-toggleable__label {background-color: #d4ebff;}#sk-container-id-2 div.sk-label input.sk-toggleable__control:checked~label.sk-toggleable__label {background-color: #d4ebff;}#sk-container-id-2 input.sk-hidden--visually {border: 0;clip: rect(1px 1px 1px 1px);clip: rect(1px, 1px, 1px, 1px);height: 1px;margin: -1px;overflow: hidden;padding: 0;position: absolute;width: 1px;}#sk-container-id-2 div.sk-estimator {font-family: monospace;background-color: #f0f8ff;border: 1px dotted black;border-radius: 0.25em;box-sizing: border-box;margin-bottom: 0.5em;}#sk-container-id-2 div.sk-estimator:hover {background-color: #d4ebff;}#sk-container-id-2 div.sk-parallel-item::after {content: \"\";width: 100%;border-bottom: 1px solid gray;flex-grow: 1;}#sk-container-id-2 div.sk-label:hover label.sk-toggleable__label {background-color: #d4ebff;}#sk-container-id-2 div.sk-serial::before {content: \"\";position: absolute;border-left: 1px solid gray;box-sizing: border-box;top: 0;bottom: 0;left: 50%;z-index: 0;}#sk-container-id-2 div.sk-serial {display: flex;flex-direction: column;align-items: center;background-color: white;padding-right: 0.2em;padding-left: 0.2em;position: relative;}#sk-container-id-2 div.sk-item {position: relative;z-index: 1;}#sk-container-id-2 div.sk-parallel {display: flex;align-items: stretch;justify-content: center;background-color: white;position: relative;}#sk-container-id-2 div.sk-item::before, #sk-container-id-2 div.sk-parallel-item::before {content: \"\";position: absolute;border-left: 1px solid gray;box-sizing: border-box;top: 0;bottom: 0;left: 50%;z-index: -1;}#sk-container-id-2 div.sk-parallel-item {display: flex;flex-direction: column;z-index: 1;position: relative;background-color: white;}#sk-container-id-2 div.sk-parallel-item:first-child::after {align-self: flex-end;width: 50%;}#sk-container-id-2 div.sk-parallel-item:last-child::after {align-self: flex-start;width: 50%;}#sk-container-id-2 div.sk-parallel-item:only-child::after {width: 0;}#sk-container-id-2 div.sk-dashed-wrapped {border: 1px dashed gray;margin: 0 0.4em 0.5em 0.4em;box-sizing: border-box;padding-bottom: 0.4em;background-color: white;}#sk-container-id-2 div.sk-label label {font-family: monospace;font-weight: bold;display: inline-block;line-height: 1.2em;}#sk-container-id-2 div.sk-label-container {text-align: center;}#sk-container-id-2 div.sk-container {/* jupyter's `normalize.less` sets `[hidden] { display: none; }` but bootstrap.min.css set `[hidden] { display: none !important; }` so we also need the `!important` here to be able to override the default hidden behavior on the sphinx rendered scikit-learn.org. See: https://github.com/scikit-learn/scikit-learn/issues/21755 */display: inline-block !important;position: relative;}#sk-container-id-2 div.sk-text-repr-fallback {display: none;}</style><div id=\"sk-container-id-2\" class=\"sk-top-container\"><div class=\"sk-text-repr-fallback\"><pre>GaussianNB()</pre><b>In a Jupyter environment, please rerun this cell to show the HTML representation or trust the notebook. <br />On GitHub, the HTML representation is unable to render, please try loading this page with nbviewer.org.</b></div><div class=\"sk-container\" hidden><div class=\"sk-item\"><div class=\"sk-estimator sk-toggleable\"><input class=\"sk-toggleable__control sk-hidden--visually\" id=\"sk-estimator-id-2\" type=\"checkbox\" checked><label for=\"sk-estimator-id-2\" class=\"sk-toggleable__label sk-toggleable__label-arrow\">GaussianNB</label><div class=\"sk-toggleable__content\"><pre>GaussianNB()</pre></div></div></div></div></div>"
      ],
      "text/plain": [
       "GaussianNB()"
      ]
     },
     "execution_count": 48,
     "metadata": {},
     "output_type": "execute_result"
    }
   ],
   "source": [
    "#Fitting the Gaussian Naive Bayes Classifier model on X and Y\n",
    "from sklearn.naive_bayes import GaussianNB\n",
    "model2=GaussianNB()\n",
    "model2.fit(X_train,Y_train) "
   ]
  },
  {
   "cell_type": "code",
   "execution_count": 49,
   "id": "54f06fc3",
   "metadata": {
    "execution": {
     "iopub.execute_input": "2023-08-29T17:48:30.916004Z",
     "iopub.status.busy": "2023-08-29T17:48:30.915168Z",
     "iopub.status.idle": "2023-08-29T17:48:30.921427Z",
     "shell.execute_reply": "2023-08-29T17:48:30.920521Z"
    },
    "papermill": {
     "duration": 0.039246,
     "end_time": "2023-08-29T17:48:30.923849",
     "exception": false,
     "start_time": "2023-08-29T17:48:30.884603",
     "status": "completed"
    },
    "tags": []
   },
   "outputs": [],
   "source": [
    "#prediction of this model\n",
    "pred2=model2.predict(X_test)"
   ]
  },
  {
   "cell_type": "code",
   "execution_count": 50,
   "id": "d769414e",
   "metadata": {
    "execution": {
     "iopub.execute_input": "2023-08-29T17:48:30.984340Z",
     "iopub.status.busy": "2023-08-29T17:48:30.983597Z",
     "iopub.status.idle": "2023-08-29T17:48:30.991088Z",
     "shell.execute_reply": "2023-08-29T17:48:30.990178Z"
    },
    "papermill": {
     "duration": 0.040604,
     "end_time": "2023-08-29T17:48:30.993408",
     "exception": false,
     "start_time": "2023-08-29T17:48:30.952804",
     "status": "completed"
    },
    "tags": []
   },
   "outputs": [
    {
     "data": {
      "text/plain": [
       "0.8699360341151386"
      ]
     },
     "execution_count": 50,
     "metadata": {},
     "output_type": "execute_result"
    }
   ],
   "source": [
    "#Testing model accuracy on test data\n",
    "from sklearn.metrics import accuracy_score\n",
    "accuracy_score(Y_test,pred2)"
   ]
  },
  {
   "cell_type": "code",
   "execution_count": 51,
   "id": "7545958d",
   "metadata": {
    "execution": {
     "iopub.execute_input": "2023-08-29T17:48:31.054074Z",
     "iopub.status.busy": "2023-08-29T17:48:31.053357Z",
     "iopub.status.idle": "2023-08-29T17:48:31.061633Z",
     "shell.execute_reply": "2023-08-29T17:48:31.060451Z"
    },
    "papermill": {
     "duration": 0.041558,
     "end_time": "2023-08-29T17:48:31.064148",
     "exception": false,
     "start_time": "2023-08-29T17:48:31.022590",
     "status": "completed"
    },
    "tags": []
   },
   "outputs": [
    {
     "name": "stdout",
     "output_type": "stream",
     "text": [
      "[[737 116]\n",
      " [  6  79]]\n"
     ]
    }
   ],
   "source": [
    "#Confusion Matrix\n",
    "from sklearn.metrics import confusion_matrix\n",
    "print(confusion_matrix(Y_test,pred2))"
   ]
  },
  {
   "cell_type": "code",
   "execution_count": 52,
   "id": "b525b1a1",
   "metadata": {
    "execution": {
     "iopub.execute_input": "2023-08-29T17:48:31.124644Z",
     "iopub.status.busy": "2023-08-29T17:48:31.123935Z",
     "iopub.status.idle": "2023-08-29T17:48:31.140640Z",
     "shell.execute_reply": "2023-08-29T17:48:31.139558Z"
    },
    "papermill": {
     "duration": 0.049864,
     "end_time": "2023-08-29T17:48:31.143312",
     "exception": false,
     "start_time": "2023-08-29T17:48:31.093448",
     "status": "completed"
    },
    "tags": []
   },
   "outputs": [
    {
     "name": "stdout",
     "output_type": "stream",
     "text": [
      "              precision    recall  f1-score   support\n",
      "\n",
      "         0.0       0.99      0.86      0.92       853\n",
      "         1.0       0.41      0.93      0.56        85\n",
      "\n",
      "    accuracy                           0.87       938\n",
      "   macro avg       0.70      0.90      0.74       938\n",
      "weighted avg       0.94      0.87      0.89       938\n",
      "\n"
     ]
    }
   ],
   "source": [
    "#Classification report\n",
    "from sklearn.metrics import classification_report\n",
    "print(classification_report(Y_test,pred2))"
   ]
  },
  {
   "cell_type": "markdown",
   "id": "9e8ceb3e",
   "metadata": {
    "papermill": {
     "duration": 0.028996,
     "end_time": "2023-08-29T17:48:31.203386",
     "exception": false,
     "start_time": "2023-08-29T17:48:31.174390",
     "status": "completed"
    },
    "tags": []
   },
   "source": [
    "**Model 3: Support Vector Classifier**"
   ]
  },
  {
   "cell_type": "code",
   "execution_count": 53,
   "id": "49253aed",
   "metadata": {
    "execution": {
     "iopub.execute_input": "2023-08-29T17:48:31.264003Z",
     "iopub.status.busy": "2023-08-29T17:48:31.263608Z",
     "iopub.status.idle": "2023-08-29T17:48:31.334732Z",
     "shell.execute_reply": "2023-08-29T17:48:31.333567Z"
    },
    "papermill": {
     "duration": 0.104454,
     "end_time": "2023-08-29T17:48:31.337185",
     "exception": false,
     "start_time": "2023-08-29T17:48:31.232731",
     "status": "completed"
    },
    "tags": []
   },
   "outputs": [
    {
     "data": {
      "text/html": [
       "<style>#sk-container-id-3 {color: black;background-color: white;}#sk-container-id-3 pre{padding: 0;}#sk-container-id-3 div.sk-toggleable {background-color: white;}#sk-container-id-3 label.sk-toggleable__label {cursor: pointer;display: block;width: 100%;margin-bottom: 0;padding: 0.3em;box-sizing: border-box;text-align: center;}#sk-container-id-3 label.sk-toggleable__label-arrow:before {content: \"▸\";float: left;margin-right: 0.25em;color: #696969;}#sk-container-id-3 label.sk-toggleable__label-arrow:hover:before {color: black;}#sk-container-id-3 div.sk-estimator:hover label.sk-toggleable__label-arrow:before {color: black;}#sk-container-id-3 div.sk-toggleable__content {max-height: 0;max-width: 0;overflow: hidden;text-align: left;background-color: #f0f8ff;}#sk-container-id-3 div.sk-toggleable__content pre {margin: 0.2em;color: black;border-radius: 0.25em;background-color: #f0f8ff;}#sk-container-id-3 input.sk-toggleable__control:checked~div.sk-toggleable__content {max-height: 200px;max-width: 100%;overflow: auto;}#sk-container-id-3 input.sk-toggleable__control:checked~label.sk-toggleable__label-arrow:before {content: \"▾\";}#sk-container-id-3 div.sk-estimator input.sk-toggleable__control:checked~label.sk-toggleable__label {background-color: #d4ebff;}#sk-container-id-3 div.sk-label input.sk-toggleable__control:checked~label.sk-toggleable__label {background-color: #d4ebff;}#sk-container-id-3 input.sk-hidden--visually {border: 0;clip: rect(1px 1px 1px 1px);clip: rect(1px, 1px, 1px, 1px);height: 1px;margin: -1px;overflow: hidden;padding: 0;position: absolute;width: 1px;}#sk-container-id-3 div.sk-estimator {font-family: monospace;background-color: #f0f8ff;border: 1px dotted black;border-radius: 0.25em;box-sizing: border-box;margin-bottom: 0.5em;}#sk-container-id-3 div.sk-estimator:hover {background-color: #d4ebff;}#sk-container-id-3 div.sk-parallel-item::after {content: \"\";width: 100%;border-bottom: 1px solid gray;flex-grow: 1;}#sk-container-id-3 div.sk-label:hover label.sk-toggleable__label {background-color: #d4ebff;}#sk-container-id-3 div.sk-serial::before {content: \"\";position: absolute;border-left: 1px solid gray;box-sizing: border-box;top: 0;bottom: 0;left: 50%;z-index: 0;}#sk-container-id-3 div.sk-serial {display: flex;flex-direction: column;align-items: center;background-color: white;padding-right: 0.2em;padding-left: 0.2em;position: relative;}#sk-container-id-3 div.sk-item {position: relative;z-index: 1;}#sk-container-id-3 div.sk-parallel {display: flex;align-items: stretch;justify-content: center;background-color: white;position: relative;}#sk-container-id-3 div.sk-item::before, #sk-container-id-3 div.sk-parallel-item::before {content: \"\";position: absolute;border-left: 1px solid gray;box-sizing: border-box;top: 0;bottom: 0;left: 50%;z-index: -1;}#sk-container-id-3 div.sk-parallel-item {display: flex;flex-direction: column;z-index: 1;position: relative;background-color: white;}#sk-container-id-3 div.sk-parallel-item:first-child::after {align-self: flex-end;width: 50%;}#sk-container-id-3 div.sk-parallel-item:last-child::after {align-self: flex-start;width: 50%;}#sk-container-id-3 div.sk-parallel-item:only-child::after {width: 0;}#sk-container-id-3 div.sk-dashed-wrapped {border: 1px dashed gray;margin: 0 0.4em 0.5em 0.4em;box-sizing: border-box;padding-bottom: 0.4em;background-color: white;}#sk-container-id-3 div.sk-label label {font-family: monospace;font-weight: bold;display: inline-block;line-height: 1.2em;}#sk-container-id-3 div.sk-label-container {text-align: center;}#sk-container-id-3 div.sk-container {/* jupyter's `normalize.less` sets `[hidden] { display: none; }` but bootstrap.min.css set `[hidden] { display: none !important; }` so we also need the `!important` here to be able to override the default hidden behavior on the sphinx rendered scikit-learn.org. See: https://github.com/scikit-learn/scikit-learn/issues/21755 */display: inline-block !important;position: relative;}#sk-container-id-3 div.sk-text-repr-fallback {display: none;}</style><div id=\"sk-container-id-3\" class=\"sk-top-container\"><div class=\"sk-text-repr-fallback\"><pre>SVC(kernel=&#x27;linear&#x27;)</pre><b>In a Jupyter environment, please rerun this cell to show the HTML representation or trust the notebook. <br />On GitHub, the HTML representation is unable to render, please try loading this page with nbviewer.org.</b></div><div class=\"sk-container\" hidden><div class=\"sk-item\"><div class=\"sk-estimator sk-toggleable\"><input class=\"sk-toggleable__control sk-hidden--visually\" id=\"sk-estimator-id-3\" type=\"checkbox\" checked><label for=\"sk-estimator-id-3\" class=\"sk-toggleable__label sk-toggleable__label-arrow\">SVC</label><div class=\"sk-toggleable__content\"><pre>SVC(kernel=&#x27;linear&#x27;)</pre></div></div></div></div></div>"
      ],
      "text/plain": [
       "SVC(kernel='linear')"
      ]
     },
     "execution_count": 53,
     "metadata": {},
     "output_type": "execute_result"
    }
   ],
   "source": [
    "from sklearn.svm import SVC\n",
    "model3=SVC(kernel='linear')\n",
    "model3.fit(X_train,Y_train) "
   ]
  },
  {
   "cell_type": "code",
   "execution_count": 54,
   "id": "d7af8159",
   "metadata": {
    "execution": {
     "iopub.execute_input": "2023-08-29T17:48:31.398625Z",
     "iopub.status.busy": "2023-08-29T17:48:31.397936Z",
     "iopub.status.idle": "2023-08-29T17:48:31.415248Z",
     "shell.execute_reply": "2023-08-29T17:48:31.414399Z"
    },
    "papermill": {
     "duration": 0.050791,
     "end_time": "2023-08-29T17:48:31.417733",
     "exception": false,
     "start_time": "2023-08-29T17:48:31.366942",
     "status": "completed"
    },
    "tags": []
   },
   "outputs": [],
   "source": [
    "# prediction of this model \n",
    "pred3=model3.predict(X_test)"
   ]
  },
  {
   "cell_type": "code",
   "execution_count": 55,
   "id": "1ed0e301",
   "metadata": {
    "execution": {
     "iopub.execute_input": "2023-08-29T17:48:31.479114Z",
     "iopub.status.busy": "2023-08-29T17:48:31.478387Z",
     "iopub.status.idle": "2023-08-29T17:48:31.485709Z",
     "shell.execute_reply": "2023-08-29T17:48:31.484301Z"
    },
    "papermill": {
     "duration": 0.04107,
     "end_time": "2023-08-29T17:48:31.488235",
     "exception": false,
     "start_time": "2023-08-29T17:48:31.447165",
     "status": "completed"
    },
    "tags": []
   },
   "outputs": [
    {
     "name": "stdout",
     "output_type": "stream",
     "text": [
      "0.9093816631130064\n"
     ]
    }
   ],
   "source": [
    "#Testing model accuracy on test data\n",
    "from sklearn.metrics import accuracy_score\n",
    "print(accuracy_score(Y_test,pred3))"
   ]
  },
  {
   "cell_type": "code",
   "execution_count": 56,
   "id": "a6c160d2",
   "metadata": {
    "execution": {
     "iopub.execute_input": "2023-08-29T17:48:31.549269Z",
     "iopub.status.busy": "2023-08-29T17:48:31.548859Z",
     "iopub.status.idle": "2023-08-29T17:48:31.558652Z",
     "shell.execute_reply": "2023-08-29T17:48:31.557186Z"
    },
    "papermill": {
     "duration": 0.043435,
     "end_time": "2023-08-29T17:48:31.561155",
     "exception": false,
     "start_time": "2023-08-29T17:48:31.517720",
     "status": "completed"
    },
    "tags": []
   },
   "outputs": [
    {
     "name": "stdout",
     "output_type": "stream",
     "text": [
      "[[853   0]\n",
      " [ 85   0]]\n"
     ]
    }
   ],
   "source": [
    "#Confusion Matrix\n",
    "from sklearn.metrics import confusion_matrix\n",
    "print(confusion_matrix(Y_test,pred3))"
   ]
  },
  {
   "cell_type": "code",
   "execution_count": 57,
   "id": "b1086a66",
   "metadata": {
    "execution": {
     "iopub.execute_input": "2023-08-29T17:48:31.622389Z",
     "iopub.status.busy": "2023-08-29T17:48:31.621998Z",
     "iopub.status.idle": "2023-08-29T17:48:31.639840Z",
     "shell.execute_reply": "2023-08-29T17:48:31.638904Z"
    },
    "papermill": {
     "duration": 0.051626,
     "end_time": "2023-08-29T17:48:31.642692",
     "exception": false,
     "start_time": "2023-08-29T17:48:31.591066",
     "status": "completed"
    },
    "tags": []
   },
   "outputs": [
    {
     "name": "stdout",
     "output_type": "stream",
     "text": [
      "              precision    recall  f1-score   support\n",
      "\n",
      "         0.0       0.91      1.00      0.95       853\n",
      "         1.0       0.00      0.00      0.00        85\n",
      "\n",
      "    accuracy                           0.91       938\n",
      "   macro avg       0.45      0.50      0.48       938\n",
      "weighted avg       0.83      0.91      0.87       938\n",
      "\n"
     ]
    },
    {
     "name": "stderr",
     "output_type": "stream",
     "text": [
      "/opt/conda/lib/python3.10/site-packages/sklearn/metrics/_classification.py:1344: UndefinedMetricWarning: Precision and F-score are ill-defined and being set to 0.0 in labels with no predicted samples. Use `zero_division` parameter to control this behavior.\n",
      "  _warn_prf(average, modifier, msg_start, len(result))\n",
      "/opt/conda/lib/python3.10/site-packages/sklearn/metrics/_classification.py:1344: UndefinedMetricWarning: Precision and F-score are ill-defined and being set to 0.0 in labels with no predicted samples. Use `zero_division` parameter to control this behavior.\n",
      "  _warn_prf(average, modifier, msg_start, len(result))\n",
      "/opt/conda/lib/python3.10/site-packages/sklearn/metrics/_classification.py:1344: UndefinedMetricWarning: Precision and F-score are ill-defined and being set to 0.0 in labels with no predicted samples. Use `zero_division` parameter to control this behavior.\n",
      "  _warn_prf(average, modifier, msg_start, len(result))\n"
     ]
    }
   ],
   "source": [
    "#Classification report\n",
    "from sklearn.metrics import classification_report\n",
    "print(classification_report(Y_test,pred3))"
   ]
  }
 ],
 "metadata": {
  "kernelspec": {
   "display_name": "Python 3",
   "language": "python",
   "name": "python3"
  },
  "language_info": {
   "codemirror_mode": {
    "name": "ipython",
    "version": 3
   },
   "file_extension": ".py",
   "mimetype": "text/x-python",
   "name": "python",
   "nbconvert_exporter": "python",
   "pygments_lexer": "ipython3",
   "version": "3.10.12"
  },
  "papermill": {
   "default_parameters": {},
   "duration": 20.223471,
   "end_time": "2023-08-29T17:48:32.695944",
   "environment_variables": {},
   "exception": null,
   "input_path": "__notebook__.ipynb",
   "output_path": "__notebook__.ipynb",
   "parameters": {},
   "start_time": "2023-08-29T17:48:12.472473",
   "version": "2.4.0"
  }
 },
 "nbformat": 4,
 "nbformat_minor": 5
}
