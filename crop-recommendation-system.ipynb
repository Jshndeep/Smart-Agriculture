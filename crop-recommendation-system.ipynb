{
 "cells": [
  {
   "cell_type": "code",
   "execution_count": 1,
   "id": "921d359a",
   "metadata": {
    "_cell_guid": "b1076dfc-b9ad-4769-8c92-a6c4dae69d19",
    "_uuid": "8f2839f25d086af736a60e9eeb907d3b93b6e0e5",
    "execution": {
     "iopub.execute_input": "2023-06-12T17:49:54.623173Z",
     "iopub.status.busy": "2023-06-12T17:49:54.622689Z",
     "iopub.status.idle": "2023-06-12T17:49:54.647290Z",
     "shell.execute_reply": "2023-06-12T17:49:54.646428Z"
    },
    "papermill": {
     "duration": 0.04196,
     "end_time": "2023-06-12T17:49:54.649946",
     "exception": false,
     "start_time": "2023-06-12T17:49:54.607986",
     "status": "completed"
    },
    "tags": []
   },
   "outputs": [
    {
     "name": "stdout",
     "output_type": "stream",
     "text": [
      "/kaggle/input/crop-recommendation/Crop recommendation.csv\n"
     ]
    }
   ],
   "source": [
    "# This Python 3 environment comes with many helpful analytics libraries installed\n",
    "# It is defined by the kaggle/python Docker image: https://github.com/kaggle/docker-python\n",
    "# For example, here's several helpful packages to load\n",
    "\n",
    "import numpy as np # linear algebra\n",
    "import pandas as pd # data processing, CSV file I/O (e.g. pd.read_csv)\n",
    "\n",
    "# Input data files are available in the read-only \"../input/\" directory\n",
    "# For example, running this (by clicking run or pressing Shift+Enter) will list all files under the input directory\n",
    "\n",
    "import os\n",
    "for dirname, _, filenames in os.walk('/kaggle/input'):\n",
    "    for filename in filenames:\n",
    "        print(os.path.join(dirname, filename))\n",
    "\n",
    "# You can write up to 20GB to the current directory (/kaggle/working/) that gets preserved as output when you create a version using \"Save & Run All\" \n",
    "# You can also write temporary files to /kaggle/temp/, but they won't be saved outside of the current session"
   ]
  },
  {
   "cell_type": "markdown",
   "id": "48243165",
   "metadata": {
    "papermill": {
     "duration": 0.012538,
     "end_time": "2023-06-12T17:49:54.673752",
     "exception": false,
     "start_time": "2023-06-12T17:49:54.661214",
     "status": "completed"
    },
    "tags": []
   },
   "source": [
    "# # **LOADING THE DATA**"
   ]
  },
  {
   "cell_type": "code",
   "execution_count": 2,
   "id": "cb83990e",
   "metadata": {
    "execution": {
     "iopub.execute_input": "2023-06-12T17:49:54.698206Z",
     "iopub.status.busy": "2023-06-12T17:49:54.697313Z",
     "iopub.status.idle": "2023-06-12T17:49:56.095869Z",
     "shell.execute_reply": "2023-06-12T17:49:56.094777Z"
    },
    "papermill": {
     "duration": 1.413174,
     "end_time": "2023-06-12T17:49:56.098776",
     "exception": false,
     "start_time": "2023-06-12T17:49:54.685602",
     "status": "completed"
    },
    "tags": []
   },
   "outputs": [],
   "source": [
    "#Import libraries\n",
    "import numpy as np\n",
    "import pandas as pd\n",
    "import matplotlib.pyplot as plt\n",
    "import seaborn as sns"
   ]
  },
  {
   "cell_type": "code",
   "execution_count": 3,
   "id": "7b722988",
   "metadata": {
    "execution": {
     "iopub.execute_input": "2023-06-12T17:49:56.121753Z",
     "iopub.status.busy": "2023-06-12T17:49:56.121403Z",
     "iopub.status.idle": "2023-06-12T17:49:56.178197Z",
     "shell.execute_reply": "2023-06-12T17:49:56.177316Z"
    },
    "papermill": {
     "duration": 0.071058,
     "end_time": "2023-06-12T17:49:56.180531",
     "exception": false,
     "start_time": "2023-06-12T17:49:56.109473",
     "status": "completed"
    },
    "tags": []
   },
   "outputs": [
    {
     "data": {
      "text/html": [
       "<div>\n",
       "<style scoped>\n",
       "    .dataframe tbody tr th:only-of-type {\n",
       "        vertical-align: middle;\n",
       "    }\n",
       "\n",
       "    .dataframe tbody tr th {\n",
       "        vertical-align: top;\n",
       "    }\n",
       "\n",
       "    .dataframe thead th {\n",
       "        text-align: right;\n",
       "    }\n",
       "</style>\n",
       "<table border=\"1\" class=\"dataframe\">\n",
       "  <thead>\n",
       "    <tr style=\"text-align: right;\">\n",
       "      <th></th>\n",
       "      <th>Nitrogen</th>\n",
       "      <th>Phosphorus</th>\n",
       "      <th>K(Potassium)</th>\n",
       "      <th>Temperature</th>\n",
       "      <th>Humidity</th>\n",
       "      <th>Ph Value</th>\n",
       "      <th>Rainfall</th>\n",
       "      <th>Crop Name</th>\n",
       "    </tr>\n",
       "  </thead>\n",
       "  <tbody>\n",
       "    <tr>\n",
       "      <th>0</th>\n",
       "      <td>90</td>\n",
       "      <td>42</td>\n",
       "      <td>43</td>\n",
       "      <td>20.879744</td>\n",
       "      <td>82.002744</td>\n",
       "      <td>6.502985</td>\n",
       "      <td>202.935536</td>\n",
       "      <td>rice</td>\n",
       "    </tr>\n",
       "    <tr>\n",
       "      <th>1</th>\n",
       "      <td>85</td>\n",
       "      <td>58</td>\n",
       "      <td>41</td>\n",
       "      <td>21.770462</td>\n",
       "      <td>80.319644</td>\n",
       "      <td>7.038096</td>\n",
       "      <td>226.655537</td>\n",
       "      <td>rice</td>\n",
       "    </tr>\n",
       "    <tr>\n",
       "      <th>2</th>\n",
       "      <td>60</td>\n",
       "      <td>55</td>\n",
       "      <td>44</td>\n",
       "      <td>23.004459</td>\n",
       "      <td>82.320763</td>\n",
       "      <td>7.840207</td>\n",
       "      <td>263.964248</td>\n",
       "      <td>rice</td>\n",
       "    </tr>\n",
       "    <tr>\n",
       "      <th>3</th>\n",
       "      <td>74</td>\n",
       "      <td>35</td>\n",
       "      <td>40</td>\n",
       "      <td>26.491096</td>\n",
       "      <td>80.158363</td>\n",
       "      <td>6.980401</td>\n",
       "      <td>242.864034</td>\n",
       "      <td>rice</td>\n",
       "    </tr>\n",
       "    <tr>\n",
       "      <th>4</th>\n",
       "      <td>78</td>\n",
       "      <td>42</td>\n",
       "      <td>42</td>\n",
       "      <td>20.130175</td>\n",
       "      <td>81.604873</td>\n",
       "      <td>7.628473</td>\n",
       "      <td>262.717340</td>\n",
       "      <td>rice</td>\n",
       "    </tr>\n",
       "    <tr>\n",
       "      <th>...</th>\n",
       "      <td>...</td>\n",
       "      <td>...</td>\n",
       "      <td>...</td>\n",
       "      <td>...</td>\n",
       "      <td>...</td>\n",
       "      <td>...</td>\n",
       "      <td>...</td>\n",
       "      <td>...</td>\n",
       "    </tr>\n",
       "    <tr>\n",
       "      <th>2195</th>\n",
       "      <td>107</td>\n",
       "      <td>34</td>\n",
       "      <td>32</td>\n",
       "      <td>26.774637</td>\n",
       "      <td>66.413269</td>\n",
       "      <td>6.780064</td>\n",
       "      <td>177.774507</td>\n",
       "      <td>coffee</td>\n",
       "    </tr>\n",
       "    <tr>\n",
       "      <th>2196</th>\n",
       "      <td>99</td>\n",
       "      <td>15</td>\n",
       "      <td>27</td>\n",
       "      <td>27.417112</td>\n",
       "      <td>56.636362</td>\n",
       "      <td>6.086922</td>\n",
       "      <td>127.924610</td>\n",
       "      <td>coffee</td>\n",
       "    </tr>\n",
       "    <tr>\n",
       "      <th>2197</th>\n",
       "      <td>118</td>\n",
       "      <td>33</td>\n",
       "      <td>30</td>\n",
       "      <td>24.131797</td>\n",
       "      <td>67.225123</td>\n",
       "      <td>6.362608</td>\n",
       "      <td>173.322839</td>\n",
       "      <td>coffee</td>\n",
       "    </tr>\n",
       "    <tr>\n",
       "      <th>2198</th>\n",
       "      <td>117</td>\n",
       "      <td>32</td>\n",
       "      <td>34</td>\n",
       "      <td>26.272418</td>\n",
       "      <td>52.127394</td>\n",
       "      <td>6.758793</td>\n",
       "      <td>127.175293</td>\n",
       "      <td>coffee</td>\n",
       "    </tr>\n",
       "    <tr>\n",
       "      <th>2199</th>\n",
       "      <td>104</td>\n",
       "      <td>18</td>\n",
       "      <td>30</td>\n",
       "      <td>23.603016</td>\n",
       "      <td>60.396475</td>\n",
       "      <td>6.779833</td>\n",
       "      <td>140.937041</td>\n",
       "      <td>coffee</td>\n",
       "    </tr>\n",
       "  </tbody>\n",
       "</table>\n",
       "<p>2200 rows × 8 columns</p>\n",
       "</div>"
      ],
      "text/plain": [
       "      Nitrogen  Phosphorus  K(Potassium)  Temperature   Humidity  Ph Value  \\\n",
       "0           90          42            43    20.879744  82.002744  6.502985   \n",
       "1           85          58            41    21.770462  80.319644  7.038096   \n",
       "2           60          55            44    23.004459  82.320763  7.840207   \n",
       "3           74          35            40    26.491096  80.158363  6.980401   \n",
       "4           78          42            42    20.130175  81.604873  7.628473   \n",
       "...        ...         ...           ...          ...        ...       ...   \n",
       "2195       107          34            32    26.774637  66.413269  6.780064   \n",
       "2196        99          15            27    27.417112  56.636362  6.086922   \n",
       "2197       118          33            30    24.131797  67.225123  6.362608   \n",
       "2198       117          32            34    26.272418  52.127394  6.758793   \n",
       "2199       104          18            30    23.603016  60.396475  6.779833   \n",
       "\n",
       "        Rainfall Crop Name  \n",
       "0     202.935536      rice  \n",
       "1     226.655537      rice  \n",
       "2     263.964248      rice  \n",
       "3     242.864034      rice  \n",
       "4     262.717340      rice  \n",
       "...          ...       ...  \n",
       "2195  177.774507    coffee  \n",
       "2196  127.924610    coffee  \n",
       "2197  173.322839    coffee  \n",
       "2198  127.175293    coffee  \n",
       "2199  140.937041    coffee  \n",
       "\n",
       "[2200 rows x 8 columns]"
      ]
     },
     "execution_count": 3,
     "metadata": {},
     "output_type": "execute_result"
    }
   ],
   "source": [
    "url =\"/kaggle/input/crop-recommendation/Crop recommendation.csv\"\n",
    "df=pd.read_csv(url)\n",
    "df"
   ]
  },
  {
   "cell_type": "code",
   "execution_count": 4,
   "id": "5cab0468",
   "metadata": {
    "execution": {
     "iopub.execute_input": "2023-06-12T17:49:56.205485Z",
     "iopub.status.busy": "2023-06-12T17:49:56.204356Z",
     "iopub.status.idle": "2023-06-12T17:49:56.221668Z",
     "shell.execute_reply": "2023-06-12T17:49:56.219468Z"
    },
    "papermill": {
     "duration": 0.032483,
     "end_time": "2023-06-12T17:49:56.224309",
     "exception": false,
     "start_time": "2023-06-12T17:49:56.191826",
     "status": "completed"
    },
    "tags": []
   },
   "outputs": [
    {
     "data": {
      "text/html": [
       "<div>\n",
       "<style scoped>\n",
       "    .dataframe tbody tr th:only-of-type {\n",
       "        vertical-align: middle;\n",
       "    }\n",
       "\n",
       "    .dataframe tbody tr th {\n",
       "        vertical-align: top;\n",
       "    }\n",
       "\n",
       "    .dataframe thead th {\n",
       "        text-align: right;\n",
       "    }\n",
       "</style>\n",
       "<table border=\"1\" class=\"dataframe\">\n",
       "  <thead>\n",
       "    <tr style=\"text-align: right;\">\n",
       "      <th></th>\n",
       "      <th>Nitrogen</th>\n",
       "      <th>Phosphorus</th>\n",
       "      <th>K(Potassium)</th>\n",
       "      <th>Temperature</th>\n",
       "      <th>Humidity</th>\n",
       "      <th>Ph Value</th>\n",
       "      <th>Rainfall</th>\n",
       "      <th>Crop Name</th>\n",
       "    </tr>\n",
       "  </thead>\n",
       "  <tbody>\n",
       "    <tr>\n",
       "      <th>0</th>\n",
       "      <td>90</td>\n",
       "      <td>42</td>\n",
       "      <td>43</td>\n",
       "      <td>20.879744</td>\n",
       "      <td>82.002744</td>\n",
       "      <td>6.502985</td>\n",
       "      <td>202.935536</td>\n",
       "      <td>rice</td>\n",
       "    </tr>\n",
       "    <tr>\n",
       "      <th>1</th>\n",
       "      <td>85</td>\n",
       "      <td>58</td>\n",
       "      <td>41</td>\n",
       "      <td>21.770462</td>\n",
       "      <td>80.319644</td>\n",
       "      <td>7.038096</td>\n",
       "      <td>226.655537</td>\n",
       "      <td>rice</td>\n",
       "    </tr>\n",
       "    <tr>\n",
       "      <th>2</th>\n",
       "      <td>60</td>\n",
       "      <td>55</td>\n",
       "      <td>44</td>\n",
       "      <td>23.004459</td>\n",
       "      <td>82.320763</td>\n",
       "      <td>7.840207</td>\n",
       "      <td>263.964248</td>\n",
       "      <td>rice</td>\n",
       "    </tr>\n",
       "    <tr>\n",
       "      <th>3</th>\n",
       "      <td>74</td>\n",
       "      <td>35</td>\n",
       "      <td>40</td>\n",
       "      <td>26.491096</td>\n",
       "      <td>80.158363</td>\n",
       "      <td>6.980401</td>\n",
       "      <td>242.864034</td>\n",
       "      <td>rice</td>\n",
       "    </tr>\n",
       "    <tr>\n",
       "      <th>4</th>\n",
       "      <td>78</td>\n",
       "      <td>42</td>\n",
       "      <td>42</td>\n",
       "      <td>20.130175</td>\n",
       "      <td>81.604873</td>\n",
       "      <td>7.628473</td>\n",
       "      <td>262.717340</td>\n",
       "      <td>rice</td>\n",
       "    </tr>\n",
       "  </tbody>\n",
       "</table>\n",
       "</div>"
      ],
      "text/plain": [
       "   Nitrogen  Phosphorus  K(Potassium)  Temperature   Humidity  Ph Value  \\\n",
       "0        90          42            43    20.879744  82.002744  6.502985   \n",
       "1        85          58            41    21.770462  80.319644  7.038096   \n",
       "2        60          55            44    23.004459  82.320763  7.840207   \n",
       "3        74          35            40    26.491096  80.158363  6.980401   \n",
       "4        78          42            42    20.130175  81.604873  7.628473   \n",
       "\n",
       "     Rainfall Crop Name  \n",
       "0  202.935536      rice  \n",
       "1  226.655537      rice  \n",
       "2  263.964248      rice  \n",
       "3  242.864034      rice  \n",
       "4  262.717340      rice  "
      ]
     },
     "execution_count": 4,
     "metadata": {},
     "output_type": "execute_result"
    }
   ],
   "source": [
    "df.head()"
   ]
  },
  {
   "cell_type": "code",
   "execution_count": 5,
   "id": "bdc038c7",
   "metadata": {
    "execution": {
     "iopub.execute_input": "2023-06-12T17:49:56.250782Z",
     "iopub.status.busy": "2023-06-12T17:49:56.250309Z",
     "iopub.status.idle": "2023-06-12T17:49:56.263192Z",
     "shell.execute_reply": "2023-06-12T17:49:56.261765Z"
    },
    "papermill": {
     "duration": 0.029823,
     "end_time": "2023-06-12T17:49:56.265887",
     "exception": false,
     "start_time": "2023-06-12T17:49:56.236064",
     "status": "completed"
    },
    "tags": []
   },
   "outputs": [
    {
     "data": {
      "text/html": [
       "<div>\n",
       "<style scoped>\n",
       "    .dataframe tbody tr th:only-of-type {\n",
       "        vertical-align: middle;\n",
       "    }\n",
       "\n",
       "    .dataframe tbody tr th {\n",
       "        vertical-align: top;\n",
       "    }\n",
       "\n",
       "    .dataframe thead th {\n",
       "        text-align: right;\n",
       "    }\n",
       "</style>\n",
       "<table border=\"1\" class=\"dataframe\">\n",
       "  <thead>\n",
       "    <tr style=\"text-align: right;\">\n",
       "      <th></th>\n",
       "      <th>Nitrogen</th>\n",
       "      <th>Phosphorus</th>\n",
       "      <th>K(Potassium)</th>\n",
       "      <th>Temperature</th>\n",
       "      <th>Humidity</th>\n",
       "      <th>Ph Value</th>\n",
       "      <th>Rainfall</th>\n",
       "      <th>Crop Name</th>\n",
       "    </tr>\n",
       "  </thead>\n",
       "  <tbody>\n",
       "    <tr>\n",
       "      <th>2195</th>\n",
       "      <td>107</td>\n",
       "      <td>34</td>\n",
       "      <td>32</td>\n",
       "      <td>26.774637</td>\n",
       "      <td>66.413269</td>\n",
       "      <td>6.780064</td>\n",
       "      <td>177.774507</td>\n",
       "      <td>coffee</td>\n",
       "    </tr>\n",
       "    <tr>\n",
       "      <th>2196</th>\n",
       "      <td>99</td>\n",
       "      <td>15</td>\n",
       "      <td>27</td>\n",
       "      <td>27.417112</td>\n",
       "      <td>56.636362</td>\n",
       "      <td>6.086922</td>\n",
       "      <td>127.924610</td>\n",
       "      <td>coffee</td>\n",
       "    </tr>\n",
       "    <tr>\n",
       "      <th>2197</th>\n",
       "      <td>118</td>\n",
       "      <td>33</td>\n",
       "      <td>30</td>\n",
       "      <td>24.131797</td>\n",
       "      <td>67.225123</td>\n",
       "      <td>6.362608</td>\n",
       "      <td>173.322839</td>\n",
       "      <td>coffee</td>\n",
       "    </tr>\n",
       "    <tr>\n",
       "      <th>2198</th>\n",
       "      <td>117</td>\n",
       "      <td>32</td>\n",
       "      <td>34</td>\n",
       "      <td>26.272418</td>\n",
       "      <td>52.127394</td>\n",
       "      <td>6.758793</td>\n",
       "      <td>127.175293</td>\n",
       "      <td>coffee</td>\n",
       "    </tr>\n",
       "    <tr>\n",
       "      <th>2199</th>\n",
       "      <td>104</td>\n",
       "      <td>18</td>\n",
       "      <td>30</td>\n",
       "      <td>23.603016</td>\n",
       "      <td>60.396475</td>\n",
       "      <td>6.779833</td>\n",
       "      <td>140.937041</td>\n",
       "      <td>coffee</td>\n",
       "    </tr>\n",
       "  </tbody>\n",
       "</table>\n",
       "</div>"
      ],
      "text/plain": [
       "      Nitrogen  Phosphorus  K(Potassium)  Temperature   Humidity  Ph Value  \\\n",
       "2195       107          34            32    26.774637  66.413269  6.780064   \n",
       "2196        99          15            27    27.417112  56.636362  6.086922   \n",
       "2197       118          33            30    24.131797  67.225123  6.362608   \n",
       "2198       117          32            34    26.272418  52.127394  6.758793   \n",
       "2199       104          18            30    23.603016  60.396475  6.779833   \n",
       "\n",
       "        Rainfall Crop Name  \n",
       "2195  177.774507    coffee  \n",
       "2196  127.924610    coffee  \n",
       "2197  173.322839    coffee  \n",
       "2198  127.175293    coffee  \n",
       "2199  140.937041    coffee  "
      ]
     },
     "execution_count": 5,
     "metadata": {},
     "output_type": "execute_result"
    }
   ],
   "source": [
    "df.tail()"
   ]
  },
  {
   "cell_type": "code",
   "execution_count": 6,
   "id": "2dd56868",
   "metadata": {
    "execution": {
     "iopub.execute_input": "2023-06-12T17:49:56.290280Z",
     "iopub.status.busy": "2023-06-12T17:49:56.289912Z",
     "iopub.status.idle": "2023-06-12T17:49:56.299623Z",
     "shell.execute_reply": "2023-06-12T17:49:56.298726Z"
    },
    "papermill": {
     "duration": 0.024001,
     "end_time": "2023-06-12T17:49:56.301471",
     "exception": false,
     "start_time": "2023-06-12T17:49:56.277470",
     "status": "completed"
    },
    "tags": []
   },
   "outputs": [
    {
     "data": {
      "text/plain": [
       "array(['rice', 'maize', 'chickpea', 'kidneybeans', 'pigeonpeas',\n",
       "       'mothbeans', 'mungbean', 'blackgram', 'lentil', 'pomegranate',\n",
       "       'banana', 'mango', 'grapes', 'watermelon', 'muskmelon', 'apple',\n",
       "       'orange', 'papaya', 'coconut', 'cotton', 'jute', 'coffee'],\n",
       "      dtype=object)"
      ]
     },
     "execution_count": 6,
     "metadata": {},
     "output_type": "execute_result"
    }
   ],
   "source": [
    "df['Crop Name'].unique()"
   ]
  },
  {
   "cell_type": "markdown",
   "id": "2ca8fc9c",
   "metadata": {
    "papermill": {
     "duration": 0.011266,
     "end_time": "2023-06-12T17:49:56.324106",
     "exception": false,
     "start_time": "2023-06-12T17:49:56.312840",
     "status": "completed"
    },
    "tags": []
   },
   "source": [
    "# # **DESCRIBING THE DATA**"
   ]
  },
  {
   "cell_type": "code",
   "execution_count": 7,
   "id": "e402a2b0",
   "metadata": {
    "execution": {
     "iopub.execute_input": "2023-06-12T17:49:56.348852Z",
     "iopub.status.busy": "2023-06-12T17:49:56.348494Z",
     "iopub.status.idle": "2023-06-12T17:49:56.379989Z",
     "shell.execute_reply": "2023-06-12T17:49:56.378738Z"
    },
    "papermill": {
     "duration": 0.046148,
     "end_time": "2023-06-12T17:49:56.381869",
     "exception": false,
     "start_time": "2023-06-12T17:49:56.335721",
     "status": "completed"
    },
    "tags": []
   },
   "outputs": [
    {
     "data": {
      "text/html": [
       "<div>\n",
       "<style scoped>\n",
       "    .dataframe tbody tr th:only-of-type {\n",
       "        vertical-align: middle;\n",
       "    }\n",
       "\n",
       "    .dataframe tbody tr th {\n",
       "        vertical-align: top;\n",
       "    }\n",
       "\n",
       "    .dataframe thead th {\n",
       "        text-align: right;\n",
       "    }\n",
       "</style>\n",
       "<table border=\"1\" class=\"dataframe\">\n",
       "  <thead>\n",
       "    <tr style=\"text-align: right;\">\n",
       "      <th></th>\n",
       "      <th>Nitrogen</th>\n",
       "      <th>Phosphorus</th>\n",
       "      <th>K(Potassium)</th>\n",
       "      <th>Temperature</th>\n",
       "      <th>Humidity</th>\n",
       "      <th>Ph Value</th>\n",
       "      <th>Rainfall</th>\n",
       "    </tr>\n",
       "  </thead>\n",
       "  <tbody>\n",
       "    <tr>\n",
       "      <th>count</th>\n",
       "      <td>2200.000000</td>\n",
       "      <td>2200.000000</td>\n",
       "      <td>2200.000000</td>\n",
       "      <td>2200.000000</td>\n",
       "      <td>2200.000000</td>\n",
       "      <td>2200.000000</td>\n",
       "      <td>2200.000000</td>\n",
       "    </tr>\n",
       "    <tr>\n",
       "      <th>mean</th>\n",
       "      <td>50.551818</td>\n",
       "      <td>53.362727</td>\n",
       "      <td>48.149091</td>\n",
       "      <td>25.616244</td>\n",
       "      <td>71.481779</td>\n",
       "      <td>6.469480</td>\n",
       "      <td>103.463655</td>\n",
       "    </tr>\n",
       "    <tr>\n",
       "      <th>std</th>\n",
       "      <td>36.917334</td>\n",
       "      <td>32.985883</td>\n",
       "      <td>50.647931</td>\n",
       "      <td>5.063749</td>\n",
       "      <td>22.263812</td>\n",
       "      <td>0.773938</td>\n",
       "      <td>54.958389</td>\n",
       "    </tr>\n",
       "    <tr>\n",
       "      <th>min</th>\n",
       "      <td>0.000000</td>\n",
       "      <td>5.000000</td>\n",
       "      <td>5.000000</td>\n",
       "      <td>8.825675</td>\n",
       "      <td>14.258040</td>\n",
       "      <td>3.504752</td>\n",
       "      <td>20.211267</td>\n",
       "    </tr>\n",
       "    <tr>\n",
       "      <th>25%</th>\n",
       "      <td>21.000000</td>\n",
       "      <td>28.000000</td>\n",
       "      <td>20.000000</td>\n",
       "      <td>22.769375</td>\n",
       "      <td>60.261953</td>\n",
       "      <td>5.971693</td>\n",
       "      <td>64.551686</td>\n",
       "    </tr>\n",
       "    <tr>\n",
       "      <th>50%</th>\n",
       "      <td>37.000000</td>\n",
       "      <td>51.000000</td>\n",
       "      <td>32.000000</td>\n",
       "      <td>25.598693</td>\n",
       "      <td>80.473146</td>\n",
       "      <td>6.425045</td>\n",
       "      <td>94.867624</td>\n",
       "    </tr>\n",
       "    <tr>\n",
       "      <th>75%</th>\n",
       "      <td>84.250000</td>\n",
       "      <td>68.000000</td>\n",
       "      <td>49.000000</td>\n",
       "      <td>28.561654</td>\n",
       "      <td>89.948771</td>\n",
       "      <td>6.923643</td>\n",
       "      <td>124.267508</td>\n",
       "    </tr>\n",
       "    <tr>\n",
       "      <th>max</th>\n",
       "      <td>140.000000</td>\n",
       "      <td>145.000000</td>\n",
       "      <td>205.000000</td>\n",
       "      <td>43.675493</td>\n",
       "      <td>99.981876</td>\n",
       "      <td>9.935091</td>\n",
       "      <td>298.560117</td>\n",
       "    </tr>\n",
       "  </tbody>\n",
       "</table>\n",
       "</div>"
      ],
      "text/plain": [
       "          Nitrogen   Phosphorus  K(Potassium)  Temperature     Humidity  \\\n",
       "count  2200.000000  2200.000000   2200.000000  2200.000000  2200.000000   \n",
       "mean     50.551818    53.362727     48.149091    25.616244    71.481779   \n",
       "std      36.917334    32.985883     50.647931     5.063749    22.263812   \n",
       "min       0.000000     5.000000      5.000000     8.825675    14.258040   \n",
       "25%      21.000000    28.000000     20.000000    22.769375    60.261953   \n",
       "50%      37.000000    51.000000     32.000000    25.598693    80.473146   \n",
       "75%      84.250000    68.000000     49.000000    28.561654    89.948771   \n",
       "max     140.000000   145.000000    205.000000    43.675493    99.981876   \n",
       "\n",
       "          Ph Value     Rainfall  \n",
       "count  2200.000000  2200.000000  \n",
       "mean      6.469480   103.463655  \n",
       "std       0.773938    54.958389  \n",
       "min       3.504752    20.211267  \n",
       "25%       5.971693    64.551686  \n",
       "50%       6.425045    94.867624  \n",
       "75%       6.923643   124.267508  \n",
       "max       9.935091   298.560117  "
      ]
     },
     "execution_count": 7,
     "metadata": {},
     "output_type": "execute_result"
    }
   ],
   "source": [
    "df.describe()"
   ]
  },
  {
   "cell_type": "code",
   "execution_count": 8,
   "id": "0b60cd6c",
   "metadata": {
    "execution": {
     "iopub.execute_input": "2023-06-12T17:49:56.405940Z",
     "iopub.status.busy": "2023-06-12T17:49:56.405561Z",
     "iopub.status.idle": "2023-06-12T17:49:56.412415Z",
     "shell.execute_reply": "2023-06-12T17:49:56.411377Z"
    },
    "papermill": {
     "duration": 0.021103,
     "end_time": "2023-06-12T17:49:56.414234",
     "exception": false,
     "start_time": "2023-06-12T17:49:56.393131",
     "status": "completed"
    },
    "tags": []
   },
   "outputs": [
    {
     "data": {
      "text/plain": [
       "17600"
      ]
     },
     "execution_count": 8,
     "metadata": {},
     "output_type": "execute_result"
    }
   ],
   "source": [
    "df.size"
   ]
  },
  {
   "cell_type": "code",
   "execution_count": 9,
   "id": "565abeb1",
   "metadata": {
    "execution": {
     "iopub.execute_input": "2023-06-12T17:49:56.438519Z",
     "iopub.status.busy": "2023-06-12T17:49:56.438120Z",
     "iopub.status.idle": "2023-06-12T17:49:56.445242Z",
     "shell.execute_reply": "2023-06-12T17:49:56.444028Z"
    },
    "papermill": {
     "duration": 0.021783,
     "end_time": "2023-06-12T17:49:56.447316",
     "exception": false,
     "start_time": "2023-06-12T17:49:56.425533",
     "status": "completed"
    },
    "tags": []
   },
   "outputs": [
    {
     "data": {
      "text/plain": [
       "(2200, 8)"
      ]
     },
     "execution_count": 9,
     "metadata": {},
     "output_type": "execute_result"
    }
   ],
   "source": [
    "df.shape"
   ]
  },
  {
   "cell_type": "code",
   "execution_count": 10,
   "id": "40c0e471",
   "metadata": {
    "execution": {
     "iopub.execute_input": "2023-06-12T17:49:56.472146Z",
     "iopub.status.busy": "2023-06-12T17:49:56.471186Z",
     "iopub.status.idle": "2023-06-12T17:49:56.494395Z",
     "shell.execute_reply": "2023-06-12T17:49:56.493649Z"
    },
    "papermill": {
     "duration": 0.037753,
     "end_time": "2023-06-12T17:49:56.496447",
     "exception": false,
     "start_time": "2023-06-12T17:49:56.458694",
     "status": "completed"
    },
    "tags": []
   },
   "outputs": [
    {
     "name": "stdout",
     "output_type": "stream",
     "text": [
      "<class 'pandas.core.frame.DataFrame'>\n",
      "RangeIndex: 2200 entries, 0 to 2199\n",
      "Data columns (total 8 columns):\n",
      " #   Column        Non-Null Count  Dtype  \n",
      "---  ------        --------------  -----  \n",
      " 0   Nitrogen      2200 non-null   int64  \n",
      " 1   Phosphorus    2200 non-null   int64  \n",
      " 2   K(Potassium)  2200 non-null   int64  \n",
      " 3   Temperature   2200 non-null   float64\n",
      " 4   Humidity      2200 non-null   float64\n",
      " 5   Ph Value      2200 non-null   float64\n",
      " 6   Rainfall      2200 non-null   float64\n",
      " 7   Crop Name     2200 non-null   object \n",
      "dtypes: float64(4), int64(3), object(1)\n",
      "memory usage: 137.6+ KB\n"
     ]
    }
   ],
   "source": [
    "df.info()"
   ]
  },
  {
   "cell_type": "code",
   "execution_count": 11,
   "id": "83afb18d",
   "metadata": {
    "execution": {
     "iopub.execute_input": "2023-06-12T17:49:56.528667Z",
     "iopub.status.busy": "2023-06-12T17:49:56.527982Z",
     "iopub.status.idle": "2023-06-12T17:49:56.534077Z",
     "shell.execute_reply": "2023-06-12T17:49:56.532994Z"
    },
    "papermill": {
     "duration": 0.026008,
     "end_time": "2023-06-12T17:49:56.536840",
     "exception": false,
     "start_time": "2023-06-12T17:49:56.510832",
     "status": "completed"
    },
    "tags": []
   },
   "outputs": [
    {
     "data": {
      "text/plain": [
       "pandas.core.frame.DataFrame"
      ]
     },
     "execution_count": 11,
     "metadata": {},
     "output_type": "execute_result"
    }
   ],
   "source": [
    "type(df)"
   ]
  },
  {
   "cell_type": "code",
   "execution_count": 12,
   "id": "b9cb1035",
   "metadata": {
    "execution": {
     "iopub.execute_input": "2023-06-12T17:49:56.565158Z",
     "iopub.status.busy": "2023-06-12T17:49:56.564548Z",
     "iopub.status.idle": "2023-06-12T17:49:56.571409Z",
     "shell.execute_reply": "2023-06-12T17:49:56.570567Z"
    },
    "papermill": {
     "duration": 0.02193,
     "end_time": "2023-06-12T17:49:56.573323",
     "exception": false,
     "start_time": "2023-06-12T17:49:56.551393",
     "status": "completed"
    },
    "tags": []
   },
   "outputs": [
    {
     "data": {
      "text/plain": [
       "Nitrogen          int64\n",
       "Phosphorus        int64\n",
       "K(Potassium)      int64\n",
       "Temperature     float64\n",
       "Humidity        float64\n",
       "Ph Value        float64\n",
       "Rainfall        float64\n",
       "Crop Name        object\n",
       "dtype: object"
      ]
     },
     "execution_count": 12,
     "metadata": {},
     "output_type": "execute_result"
    }
   ],
   "source": [
    "df.dtypes"
   ]
  },
  {
   "cell_type": "code",
   "execution_count": 13,
   "id": "d5901623",
   "metadata": {
    "execution": {
     "iopub.execute_input": "2023-06-12T17:49:56.598225Z",
     "iopub.status.busy": "2023-06-12T17:49:56.597889Z",
     "iopub.status.idle": "2023-06-12T17:49:56.608850Z",
     "shell.execute_reply": "2023-06-12T17:49:56.607688Z"
    },
    "papermill": {
     "duration": 0.02595,
     "end_time": "2023-06-12T17:49:56.611113",
     "exception": false,
     "start_time": "2023-06-12T17:49:56.585163",
     "status": "completed"
    },
    "tags": []
   },
   "outputs": [
    {
     "data": {
      "text/plain": [
       "Nitrogen         137\n",
       "Phosphorus       117\n",
       "K(Potassium)      73\n",
       "Temperature     2200\n",
       "Humidity        2200\n",
       "Ph Value        2200\n",
       "Rainfall        2200\n",
       "Crop Name         22\n",
       "dtype: int64"
      ]
     },
     "execution_count": 13,
     "metadata": {},
     "output_type": "execute_result"
    }
   ],
   "source": [
    "df.nunique()"
   ]
  },
  {
   "cell_type": "markdown",
   "id": "49a93f39",
   "metadata": {
    "papermill": {
     "duration": 0.011144,
     "end_time": "2023-06-12T17:49:56.634257",
     "exception": false,
     "start_time": "2023-06-12T17:49:56.623113",
     "status": "completed"
    },
    "tags": []
   },
   "source": [
    "# # DATA WRANGLING"
   ]
  },
  {
   "cell_type": "code",
   "execution_count": 14,
   "id": "eacfb118",
   "metadata": {
    "execution": {
     "iopub.execute_input": "2023-06-12T17:49:56.659994Z",
     "iopub.status.busy": "2023-06-12T17:49:56.659636Z",
     "iopub.status.idle": "2023-06-12T17:49:56.674067Z",
     "shell.execute_reply": "2023-06-12T17:49:56.672576Z"
    },
    "papermill": {
     "duration": 0.030627,
     "end_time": "2023-06-12T17:49:56.676576",
     "exception": false,
     "start_time": "2023-06-12T17:49:56.645949",
     "status": "completed"
    },
    "tags": []
   },
   "outputs": [
    {
     "data": {
      "text/html": [
       "<div>\n",
       "<style scoped>\n",
       "    .dataframe tbody tr th:only-of-type {\n",
       "        vertical-align: middle;\n",
       "    }\n",
       "\n",
       "    .dataframe tbody tr th {\n",
       "        vertical-align: top;\n",
       "    }\n",
       "\n",
       "    .dataframe thead th {\n",
       "        text-align: right;\n",
       "    }\n",
       "</style>\n",
       "<table border=\"1\" class=\"dataframe\">\n",
       "  <thead>\n",
       "    <tr style=\"text-align: right;\">\n",
       "      <th></th>\n",
       "      <th>Nitrogen</th>\n",
       "      <th>Phosphorus</th>\n",
       "      <th>K(Potassium)</th>\n",
       "      <th>Temperature</th>\n",
       "      <th>Humidity</th>\n",
       "      <th>Ph Value</th>\n",
       "      <th>Rainfall</th>\n",
       "      <th>Crop Name</th>\n",
       "    </tr>\n",
       "  </thead>\n",
       "  <tbody>\n",
       "    <tr>\n",
       "      <th>0</th>\n",
       "      <td>False</td>\n",
       "      <td>False</td>\n",
       "      <td>False</td>\n",
       "      <td>False</td>\n",
       "      <td>False</td>\n",
       "      <td>False</td>\n",
       "      <td>False</td>\n",
       "      <td>False</td>\n",
       "    </tr>\n",
       "    <tr>\n",
       "      <th>1</th>\n",
       "      <td>False</td>\n",
       "      <td>False</td>\n",
       "      <td>False</td>\n",
       "      <td>False</td>\n",
       "      <td>False</td>\n",
       "      <td>False</td>\n",
       "      <td>False</td>\n",
       "      <td>False</td>\n",
       "    </tr>\n",
       "    <tr>\n",
       "      <th>2</th>\n",
       "      <td>False</td>\n",
       "      <td>False</td>\n",
       "      <td>False</td>\n",
       "      <td>False</td>\n",
       "      <td>False</td>\n",
       "      <td>False</td>\n",
       "      <td>False</td>\n",
       "      <td>False</td>\n",
       "    </tr>\n",
       "    <tr>\n",
       "      <th>3</th>\n",
       "      <td>False</td>\n",
       "      <td>False</td>\n",
       "      <td>False</td>\n",
       "      <td>False</td>\n",
       "      <td>False</td>\n",
       "      <td>False</td>\n",
       "      <td>False</td>\n",
       "      <td>False</td>\n",
       "    </tr>\n",
       "    <tr>\n",
       "      <th>4</th>\n",
       "      <td>False</td>\n",
       "      <td>False</td>\n",
       "      <td>False</td>\n",
       "      <td>False</td>\n",
       "      <td>False</td>\n",
       "      <td>False</td>\n",
       "      <td>False</td>\n",
       "      <td>False</td>\n",
       "    </tr>\n",
       "    <tr>\n",
       "      <th>...</th>\n",
       "      <td>...</td>\n",
       "      <td>...</td>\n",
       "      <td>...</td>\n",
       "      <td>...</td>\n",
       "      <td>...</td>\n",
       "      <td>...</td>\n",
       "      <td>...</td>\n",
       "      <td>...</td>\n",
       "    </tr>\n",
       "    <tr>\n",
       "      <th>2195</th>\n",
       "      <td>False</td>\n",
       "      <td>False</td>\n",
       "      <td>False</td>\n",
       "      <td>False</td>\n",
       "      <td>False</td>\n",
       "      <td>False</td>\n",
       "      <td>False</td>\n",
       "      <td>False</td>\n",
       "    </tr>\n",
       "    <tr>\n",
       "      <th>2196</th>\n",
       "      <td>False</td>\n",
       "      <td>False</td>\n",
       "      <td>False</td>\n",
       "      <td>False</td>\n",
       "      <td>False</td>\n",
       "      <td>False</td>\n",
       "      <td>False</td>\n",
       "      <td>False</td>\n",
       "    </tr>\n",
       "    <tr>\n",
       "      <th>2197</th>\n",
       "      <td>False</td>\n",
       "      <td>False</td>\n",
       "      <td>False</td>\n",
       "      <td>False</td>\n",
       "      <td>False</td>\n",
       "      <td>False</td>\n",
       "      <td>False</td>\n",
       "      <td>False</td>\n",
       "    </tr>\n",
       "    <tr>\n",
       "      <th>2198</th>\n",
       "      <td>False</td>\n",
       "      <td>False</td>\n",
       "      <td>False</td>\n",
       "      <td>False</td>\n",
       "      <td>False</td>\n",
       "      <td>False</td>\n",
       "      <td>False</td>\n",
       "      <td>False</td>\n",
       "    </tr>\n",
       "    <tr>\n",
       "      <th>2199</th>\n",
       "      <td>False</td>\n",
       "      <td>False</td>\n",
       "      <td>False</td>\n",
       "      <td>False</td>\n",
       "      <td>False</td>\n",
       "      <td>False</td>\n",
       "      <td>False</td>\n",
       "      <td>False</td>\n",
       "    </tr>\n",
       "  </tbody>\n",
       "</table>\n",
       "<p>2200 rows × 8 columns</p>\n",
       "</div>"
      ],
      "text/plain": [
       "      Nitrogen  Phosphorus  K(Potassium)  Temperature  Humidity  Ph Value  \\\n",
       "0        False       False         False        False     False     False   \n",
       "1        False       False         False        False     False     False   \n",
       "2        False       False         False        False     False     False   \n",
       "3        False       False         False        False     False     False   \n",
       "4        False       False         False        False     False     False   \n",
       "...        ...         ...           ...          ...       ...       ...   \n",
       "2195     False       False         False        False     False     False   \n",
       "2196     False       False         False        False     False     False   \n",
       "2197     False       False         False        False     False     False   \n",
       "2198     False       False         False        False     False     False   \n",
       "2199     False       False         False        False     False     False   \n",
       "\n",
       "      Rainfall  Crop Name  \n",
       "0        False      False  \n",
       "1        False      False  \n",
       "2        False      False  \n",
       "3        False      False  \n",
       "4        False      False  \n",
       "...        ...        ...  \n",
       "2195     False      False  \n",
       "2196     False      False  \n",
       "2197     False      False  \n",
       "2198     False      False  \n",
       "2199     False      False  \n",
       "\n",
       "[2200 rows x 8 columns]"
      ]
     },
     "execution_count": 14,
     "metadata": {},
     "output_type": "execute_result"
    }
   ],
   "source": [
    "df.isna()"
   ]
  },
  {
   "cell_type": "code",
   "execution_count": 15,
   "id": "806c7da0",
   "metadata": {
    "execution": {
     "iopub.execute_input": "2023-06-12T17:49:56.703791Z",
     "iopub.status.busy": "2023-06-12T17:49:56.703455Z",
     "iopub.status.idle": "2023-06-12T17:49:56.713832Z",
     "shell.execute_reply": "2023-06-12T17:49:56.712909Z"
    },
    "papermill": {
     "duration": 0.026508,
     "end_time": "2023-06-12T17:49:56.715738",
     "exception": false,
     "start_time": "2023-06-12T17:49:56.689230",
     "status": "completed"
    },
    "tags": []
   },
   "outputs": [
    {
     "data": {
      "text/plain": [
       "Nitrogen        0\n",
       "Phosphorus      0\n",
       "K(Potassium)    0\n",
       "Temperature     0\n",
       "Humidity        0\n",
       "Ph Value        0\n",
       "Rainfall        0\n",
       "Crop Name       0\n",
       "dtype: int64"
      ]
     },
     "execution_count": 15,
     "metadata": {},
     "output_type": "execute_result"
    }
   ],
   "source": [
    "df.isna().sum()"
   ]
  },
  {
   "cell_type": "markdown",
   "id": "6eb6cd15",
   "metadata": {
    "papermill": {
     "duration": 0.012506,
     "end_time": "2023-06-12T17:49:56.741549",
     "exception": false,
     "start_time": "2023-06-12T17:49:56.729043",
     "status": "completed"
    },
    "tags": []
   },
   "source": [
    "# # **DATA VISUALIZATION**"
   ]
  },
  {
   "cell_type": "code",
   "execution_count": 16,
   "id": "813973da",
   "metadata": {
    "execution": {
     "iopub.execute_input": "2023-06-12T17:49:56.768078Z",
     "iopub.status.busy": "2023-06-12T17:49:56.767727Z",
     "iopub.status.idle": "2023-06-12T17:49:57.021270Z",
     "shell.execute_reply": "2023-06-12T17:49:57.020153Z"
    },
    "papermill": {
     "duration": 0.269533,
     "end_time": "2023-06-12T17:49:57.023488",
     "exception": false,
     "start_time": "2023-06-12T17:49:56.753955",
     "status": "completed"
    },
    "tags": []
   },
   "outputs": [
    {
     "data": {
      "image/png": "[encoded data removed]",
      "text/plain": [
       "<Figure size 640x480 with 1 Axes>"
      ]
     },
     "metadata": {},
     "output_type": "display_data"
    }
   ],
   "source": [
    "#Visualization of data using matplotlib.pyplot library\n",
    "import matplotlib.pyplot as plt\n",
    "plt.hist(df['Crop Name'],rwidth=0.9)\n",
    "plt.xticks(rotation='vertical')\n",
    "plt.show()"
   ]
  },
  {
   "cell_type": "code",
   "execution_count": 17,
   "id": "c3ff4f06",
   "metadata": {
    "execution": {
     "iopub.execute_input": "2023-06-12T17:49:57.050643Z",
     "iopub.status.busy": "2023-06-12T17:49:57.050244Z",
     "iopub.status.idle": "2023-06-12T17:49:57.059401Z",
     "shell.execute_reply": "2023-06-12T17:49:57.058406Z"
    },
    "papermill": {
     "duration": 0.024986,
     "end_time": "2023-06-12T17:49:57.061316",
     "exception": false,
     "start_time": "2023-06-12T17:49:57.036330",
     "status": "completed"
    },
    "tags": []
   },
   "outputs": [
    {
     "data": {
      "text/plain": [
       "Crop Name\n",
       "apple          100\n",
       "banana         100\n",
       "blackgram      100\n",
       "chickpea       100\n",
       "coconut        100\n",
       "coffee         100\n",
       "cotton         100\n",
       "grapes         100\n",
       "jute           100\n",
       "kidneybeans    100\n",
       "lentil         100\n",
       "maize          100\n",
       "mango          100\n",
       "mothbeans      100\n",
       "mungbean       100\n",
       "muskmelon      100\n",
       "orange         100\n",
       "papaya         100\n",
       "pigeonpeas     100\n",
       "pomegranate    100\n",
       "rice           100\n",
       "watermelon     100\n",
       "dtype: int64"
      ]
     },
     "execution_count": 17,
     "metadata": {},
     "output_type": "execute_result"
    }
   ],
   "source": [
    "#Another method\n",
    "df.groupby('Crop Name').size()"
   ]
  },
  {
   "cell_type": "code",
   "execution_count": 18,
   "id": "2c2d86c0",
   "metadata": {
    "execution": {
     "iopub.execute_input": "2023-06-12T17:49:57.087683Z",
     "iopub.status.busy": "2023-06-12T17:49:57.087339Z",
     "iopub.status.idle": "2023-06-12T17:49:57.093815Z",
     "shell.execute_reply": "2023-06-12T17:49:57.092831Z"
    },
    "papermill": {
     "duration": 0.022317,
     "end_time": "2023-06-12T17:49:57.096189",
     "exception": false,
     "start_time": "2023-06-12T17:49:57.073872",
     "status": "completed"
    },
    "tags": []
   },
   "outputs": [
    {
     "data": {
      "text/plain": [
       "array(['rice', 'rice', 'rice', ..., 'coffee', 'coffee', 'coffee'],\n",
       "      dtype=object)"
      ]
     },
     "execution_count": 18,
     "metadata": {},
     "output_type": "execute_result"
    }
   ],
   "source": [
    "#Getting all values of column crop Name\n",
    "df['Crop Name'].values"
   ]
  },
  {
   "cell_type": "code",
   "execution_count": 19,
   "id": "7965106b",
   "metadata": {
    "execution": {
     "iopub.execute_input": "2023-06-12T17:49:57.125358Z",
     "iopub.status.busy": "2023-06-12T17:49:57.124263Z",
     "iopub.status.idle": "2023-06-12T17:49:59.848007Z",
     "shell.execute_reply": "2023-06-12T17:49:59.846642Z"
    },
    "papermill": {
     "duration": 2.741322,
     "end_time": "2023-06-12T17:49:59.850820",
     "exception": false,
     "start_time": "2023-06-12T17:49:57.109498",
     "status": "completed"
    },
    "tags": []
   },
   "outputs": [
    {
     "data": {
      "image/png": "[encoded data removed]",
      "text/plain": [
       "<Figure size 640x480 with 1 Axes>"
      ]
     },
     "metadata": {},
     "output_type": "display_data"
    }
   ],
   "source": [
    "import matplotlib.pyplot as plt\n",
    "x=df['Crop Name']\n",
    "y=df['Temperature']\n",
    "plt.bar(x,y,width=0.3)\n",
    "plt.title(\"Barchart of crop name and temperature\")\n",
    "plt.xlabel(\"Crop Name\")\n",
    "plt.ylabel(\"Temperature\")\n",
    "plt.xticks(rotation='vertical')\n",
    "plt.show()"
   ]
  },
  {
   "cell_type": "code",
   "execution_count": 20,
   "id": "227862a8",
   "metadata": {
    "execution": {
     "iopub.execute_input": "2023-06-12T17:49:59.879738Z",
     "iopub.status.busy": "2023-06-12T17:49:59.879322Z",
     "iopub.status.idle": "2023-06-12T17:50:02.948284Z",
     "shell.execute_reply": "2023-06-12T17:50:02.947137Z"
    },
    "papermill": {
     "duration": 3.085546,
     "end_time": "2023-06-12T17:50:02.950304",
     "exception": false,
     "start_time": "2023-06-12T17:49:59.864758",
     "status": "completed"
    },
    "tags": []
   },
   "outputs": [
    {
     "data": {
      "image/png": "[encoded data removed]",
      "text/plain": [
       "<Figure size 640x480 with 1 Axes>"
      ]
     },
     "metadata": {},
     "output_type": "display_data"
    }
   ],
   "source": [
    "y=df['Humidity']\n",
    "x=df['Crop Name']\n",
    "plt.bar(x,y)\n",
    "plt.title('Barchart for crop  and humidity')\n",
    "plt.ylabel('Humidity')\n",
    "plt.xlabel('Crop Name')\n",
    "plt.show()"
   ]
  },
  {
   "cell_type": "markdown",
   "id": "51e3cc9c",
   "metadata": {
    "papermill": {
     "duration": 0.013698,
     "end_time": "2023-06-12T17:50:02.977749",
     "exception": false,
     "start_time": "2023-06-12T17:50:02.964051",
     "status": "completed"
    },
    "tags": []
   },
   "source": [
    "**LABEL ENCODING**"
   ]
  },
  {
   "cell_type": "code",
   "execution_count": 21,
   "id": "dcef2d3e",
   "metadata": {
    "execution": {
     "iopub.execute_input": "2023-06-12T17:50:03.007138Z",
     "iopub.status.busy": "2023-06-12T17:50:03.006613Z",
     "iopub.status.idle": "2023-06-12T17:50:03.186631Z",
     "shell.execute_reply": "2023-06-12T17:50:03.185267Z"
    },
    "papermill": {
     "duration": 0.197461,
     "end_time": "2023-06-12T17:50:03.189222",
     "exception": false,
     "start_time": "2023-06-12T17:50:02.991761",
     "status": "completed"
    },
    "tags": []
   },
   "outputs": [
    {
     "data": {
      "text/plain": [
       "array([20, 11,  3,  9, 18, 13, 14,  2, 10, 19,  1, 12,  7, 21, 15,  0, 16,\n",
       "       17,  4,  6,  8,  5])"
      ]
     },
     "execution_count": 21,
     "metadata": {},
     "output_type": "execute_result"
    }
   ],
   "source": [
    "from sklearn import preprocessing\n",
    "  \n",
    "# label_encoder object knows \n",
    "# how to understand word labels.\n",
    "label_encoder = preprocessing.LabelEncoder()\n",
    "  \n",
    "# Encode labels in column 'species'.\n",
    "df['Crop Name']= label_encoder.fit_transform(df['Crop Name'])\n",
    "  \n",
    "df['Crop Name'].unique()"
   ]
  },
  {
   "cell_type": "markdown",
   "id": "dbe23fb1",
   "metadata": {
    "papermill": {
     "duration": 0.013887,
     "end_time": "2023-06-12T17:50:03.217133",
     "exception": false,
     "start_time": "2023-06-12T17:50:03.203246",
     "status": "completed"
    },
    "tags": []
   },
   "source": [
    "# # **MODEL IMPLEMENTATION**"
   ]
  },
  {
   "cell_type": "code",
   "execution_count": 22,
   "id": "1bb4ecec",
   "metadata": {
    "execution": {
     "iopub.execute_input": "2023-06-12T17:50:03.248844Z",
     "iopub.status.busy": "2023-06-12T17:50:03.247885Z",
     "iopub.status.idle": "2023-06-12T17:50:03.257198Z",
     "shell.execute_reply": "2023-06-12T17:50:03.256166Z"
    },
    "papermill": {
     "duration": 0.027761,
     "end_time": "2023-06-12T17:50:03.259290",
     "exception": false,
     "start_time": "2023-06-12T17:50:03.231529",
     "status": "completed"
    },
    "tags": []
   },
   "outputs": [
    {
     "name": "stdout",
     "output_type": "stream",
     "text": [
      "[[ 90.          42.          43.         ...  82.00274423   6.50298529\n",
      "  202.9355362 ]\n",
      " [ 85.          58.          41.         ...  80.31964408   7.03809636\n",
      "  226.6555374 ]\n",
      " [ 60.          55.          44.         ...  82.3207629    7.84020714\n",
      "  263.9642476 ]\n",
      " ...\n",
      " [118.          33.          30.         ...  67.22512329   6.36260785\n",
      "  173.3228386 ]\n",
      " [117.          32.          34.         ...  52.12739421   6.75879255\n",
      "  127.1752928 ]\n",
      " [104.          18.          30.         ...  60.39647474   6.77983261\n",
      "  140.9370415 ]]\n"
     ]
    }
   ],
   "source": [
    "x=df.iloc[:,:7].values\n",
    "y=df.iloc[:,7].values\n",
    "print(x)"
   ]
  },
  {
   "cell_type": "code",
   "execution_count": 23,
   "id": "2be2fbac",
   "metadata": {
    "execution": {
     "iopub.execute_input": "2023-06-12T17:50:03.289999Z",
     "iopub.status.busy": "2023-06-12T17:50:03.289605Z",
     "iopub.status.idle": "2023-06-12T17:50:03.294892Z",
     "shell.execute_reply": "2023-06-12T17:50:03.293873Z"
    },
    "papermill": {
     "duration": 0.023277,
     "end_time": "2023-06-12T17:50:03.297406",
     "exception": false,
     "start_time": "2023-06-12T17:50:03.274129",
     "status": "completed"
    },
    "tags": []
   },
   "outputs": [
    {
     "name": "stdout",
     "output_type": "stream",
     "text": [
      "[20 20 20 ...  5  5  5]\n"
     ]
    }
   ],
   "source": [
    "print(y)"
   ]
  },
  {
   "cell_type": "code",
   "execution_count": 24,
   "id": "f5cc5928",
   "metadata": {
    "execution": {
     "iopub.execute_input": "2023-06-12T17:50:03.328245Z",
     "iopub.status.busy": "2023-06-12T17:50:03.327895Z",
     "iopub.status.idle": "2023-06-12T17:50:03.455176Z",
     "shell.execute_reply": "2023-06-12T17:50:03.453989Z"
    },
    "papermill": {
     "duration": 0.145418,
     "end_time": "2023-06-12T17:50:03.457394",
     "exception": false,
     "start_time": "2023-06-12T17:50:03.311976",
     "status": "completed"
    },
    "tags": []
   },
   "outputs": [],
   "source": [
    "from sklearn.model_selection import train_test_split\n",
    "x_train,x_test,y_train,y_test=train_test_split(x,y,test_size=0.20,random_state=0)"
   ]
  },
  {
   "cell_type": "code",
   "execution_count": 25,
   "id": "a2ce3138",
   "metadata": {
    "execution": {
     "iopub.execute_input": "2023-06-12T17:50:03.486496Z",
     "iopub.status.busy": "2023-06-12T17:50:03.486121Z",
     "iopub.status.idle": "2023-06-12T17:50:03.492443Z",
     "shell.execute_reply": "2023-06-12T17:50:03.491287Z"
    },
    "papermill": {
     "duration": 0.023521,
     "end_time": "2023-06-12T17:50:03.494796",
     "exception": false,
     "start_time": "2023-06-12T17:50:03.471275",
     "status": "completed"
    },
    "tags": []
   },
   "outputs": [
    {
     "data": {
      "text/plain": [
       "(1760, 7)"
      ]
     },
     "execution_count": 25,
     "metadata": {},
     "output_type": "execute_result"
    }
   ],
   "source": [
    "x_train.shape"
   ]
  },
  {
   "cell_type": "code",
   "execution_count": 26,
   "id": "7f6aa480",
   "metadata": {
    "execution": {
     "iopub.execute_input": "2023-06-12T17:50:03.524713Z",
     "iopub.status.busy": "2023-06-12T17:50:03.524387Z",
     "iopub.status.idle": "2023-06-12T17:50:03.531528Z",
     "shell.execute_reply": "2023-06-12T17:50:03.530221Z"
    },
    "papermill": {
     "duration": 0.024798,
     "end_time": "2023-06-12T17:50:03.533722",
     "exception": false,
     "start_time": "2023-06-12T17:50:03.508924",
     "status": "completed"
    },
    "tags": []
   },
   "outputs": [
    {
     "data": {
      "text/plain": [
       "(440, 7)"
      ]
     },
     "execution_count": 26,
     "metadata": {},
     "output_type": "execute_result"
    }
   ],
   "source": [
    "x_test.shape"
   ]
  },
  {
   "cell_type": "code",
   "execution_count": 27,
   "id": "f95ee12e",
   "metadata": {
    "execution": {
     "iopub.execute_input": "2023-06-12T17:50:03.565143Z",
     "iopub.status.busy": "2023-06-12T17:50:03.564809Z",
     "iopub.status.idle": "2023-06-12T17:50:03.571829Z",
     "shell.execute_reply": "2023-06-12T17:50:03.570453Z"
    },
    "papermill": {
     "duration": 0.025737,
     "end_time": "2023-06-12T17:50:03.574244",
     "exception": false,
     "start_time": "2023-06-12T17:50:03.548507",
     "status": "completed"
    },
    "tags": []
   },
   "outputs": [
    {
     "data": {
      "text/plain": [
       "(1760,)"
      ]
     },
     "execution_count": 27,
     "metadata": {},
     "output_type": "execute_result"
    }
   ],
   "source": [
    "y_train.shape"
   ]
  },
  {
   "cell_type": "code",
   "execution_count": 28,
   "id": "ec900048",
   "metadata": {
    "execution": {
     "iopub.execute_input": "2023-06-12T17:50:03.605281Z",
     "iopub.status.busy": "2023-06-12T17:50:03.604894Z",
     "iopub.status.idle": "2023-06-12T17:50:03.611831Z",
     "shell.execute_reply": "2023-06-12T17:50:03.610730Z"
    },
    "papermill": {
     "duration": 0.025255,
     "end_time": "2023-06-12T17:50:03.614356",
     "exception": false,
     "start_time": "2023-06-12T17:50:03.589101",
     "status": "completed"
    },
    "tags": []
   },
   "outputs": [
    {
     "data": {
      "text/plain": [
       "(440,)"
      ]
     },
     "execution_count": 28,
     "metadata": {},
     "output_type": "execute_result"
    }
   ],
   "source": [
    "y_test.shape"
   ]
  },
  {
   "cell_type": "markdown",
   "id": "cc399406",
   "metadata": {
    "papermill": {
     "duration": 0.014581,
     "end_time": "2023-06-12T17:50:03.643767",
     "exception": false,
     "start_time": "2023-06-12T17:50:03.629186",
     "status": "completed"
    },
    "tags": []
   },
   "source": [
    "**FEATURE SCALING**"
   ]
  },
  {
   "cell_type": "code",
   "execution_count": 29,
   "id": "03021c53",
   "metadata": {
    "execution": {
     "iopub.execute_input": "2023-06-12T17:50:03.675733Z",
     "iopub.status.busy": "2023-06-12T17:50:03.675321Z",
     "iopub.status.idle": "2023-06-12T17:50:03.683080Z",
     "shell.execute_reply": "2023-06-12T17:50:03.682045Z"
    },
    "papermill": {
     "duration": 0.02716,
     "end_time": "2023-06-12T17:50:03.685393",
     "exception": false,
     "start_time": "2023-06-12T17:50:03.658233",
     "status": "completed"
    },
    "tags": []
   },
   "outputs": [],
   "source": [
    "from sklearn.preprocessing import StandardScaler    \n",
    "st_x= StandardScaler()    \n",
    "x_train= st_x.fit_transform(x_train)    \n",
    "x_test= st_x.transform(x_test)"
   ]
  },
  {
   "cell_type": "markdown",
   "id": "3fd51e6d",
   "metadata": {
    "papermill": {
     "duration": 0.014413,
     "end_time": "2023-06-12T17:50:03.714410",
     "exception": false,
     "start_time": "2023-06-12T17:50:03.699997",
     "status": "completed"
    },
    "tags": []
   },
   "source": [
    "****LOGISTIC REGRESSION****"
   ]
  },
  {
   "cell_type": "code",
   "execution_count": 30,
   "id": "d40df18c",
   "metadata": {
    "execution": {
     "iopub.execute_input": "2023-06-12T17:50:03.744606Z",
     "iopub.status.busy": "2023-06-12T17:50:03.744257Z",
     "iopub.status.idle": "2023-06-12T17:50:04.040123Z",
     "shell.execute_reply": "2023-06-12T17:50:04.039415Z"
    },
    "papermill": {
     "duration": 0.312992,
     "end_time": "2023-06-12T17:50:04.041867",
     "exception": false,
     "start_time": "2023-06-12T17:50:03.728875",
     "status": "completed"
    },
    "tags": []
   },
   "outputs": [
    {
     "data": {
      "text/html": [
       "<style>#sk-container-id-1 {color: black;background-color: white;}#sk-container-id-1 pre{padding: 0;}#sk-container-id-1 div.sk-toggleable {background-color: white;}#sk-container-id-1 label.sk-toggleable__label {cursor: pointer;display: block;width: 100%;margin-bottom: 0;padding: 0.3em;box-sizing: border-box;text-align: center;}#sk-container-id-1 label.sk-toggleable__label-arrow:before {content: \"▸\";float: left;margin-right: 0.25em;color: #696969;}#sk-container-id-1 label.sk-toggleable__label-arrow:hover:before {color: black;}#sk-container-id-1 div.sk-estimator:hover label.sk-toggleable__label-arrow:before {color: black;}#sk-container-id-1 div.sk-toggleable__content {max-height: 0;max-width: 0;overflow: hidden;text-align: left;background-color: #f0f8ff;}#sk-container-id-1 div.sk-toggleable__content pre {margin: 0.2em;color: black;border-radius: 0.25em;background-color: #f0f8ff;}#sk-container-id-1 input.sk-toggleable__control:checked~div.sk-toggleable__content {max-height: 200px;max-width: 100%;overflow: auto;}#sk-container-id-1 input.sk-toggleable__control:checked~label.sk-toggleable__label-arrow:before {content: \"▾\";}#sk-container-id-1 div.sk-estimator input.sk-toggleable__control:checked~label.sk-toggleable__label {background-color: #d4ebff;}#sk-container-id-1 div.sk-label input.sk-toggleable__control:checked~label.sk-toggleable__label {background-color: #d4ebff;}#sk-container-id-1 input.sk-hidden--visually {border: 0;clip: rect(1px 1px 1px 1px);clip: rect(1px, 1px, 1px, 1px);height: 1px;margin: -1px;overflow: hidden;padding: 0;position: absolute;width: 1px;}#sk-container-id-1 div.sk-estimator {font-family: monospace;background-color: #f0f8ff;border: 1px dotted black;border-radius: 0.25em;box-sizing: border-box;margin-bottom: 0.5em;}#sk-container-id-1 div.sk-estimator:hover {background-color: #d4ebff;}#sk-container-id-1 div.sk-parallel-item::after {content: \"\";width: 100%;border-bottom: 1px solid gray;flex-grow: 1;}#sk-container-id-1 div.sk-label:hover label.sk-toggleable__label {background-color: #d4ebff;}#sk-container-id-1 div.sk-serial::before {content: \"\";position: absolute;border-left: 1px solid gray;box-sizing: border-box;top: 0;bottom: 0;left: 50%;z-index: 0;}#sk-container-id-1 div.sk-serial {display: flex;flex-direction: column;align-items: center;background-color: white;padding-right: 0.2em;padding-left: 0.2em;position: relative;}#sk-container-id-1 div.sk-item {position: relative;z-index: 1;}#sk-container-id-1 div.sk-parallel {display: flex;align-items: stretch;justify-content: center;background-color: white;position: relative;}#sk-container-id-1 div.sk-item::before, #sk-container-id-1 div.sk-parallel-item::before {content: \"\";position: absolute;border-left: 1px solid gray;box-sizing: border-box;top: 0;bottom: 0;left: 50%;z-index: -1;}#sk-container-id-1 div.sk-parallel-item {display: flex;flex-direction: column;z-index: 1;position: relative;background-color: white;}#sk-container-id-1 div.sk-parallel-item:first-child::after {align-self: flex-end;width: 50%;}#sk-container-id-1 div.sk-parallel-item:last-child::after {align-self: flex-start;width: 50%;}#sk-container-id-1 div.sk-parallel-item:only-child::after {width: 0;}#sk-container-id-1 div.sk-dashed-wrapped {border: 1px dashed gray;margin: 0 0.4em 0.5em 0.4em;box-sizing: border-box;padding-bottom: 0.4em;background-color: white;}#sk-container-id-1 div.sk-label label {font-family: monospace;font-weight: bold;display: inline-block;line-height: 1.2em;}#sk-container-id-1 div.sk-label-container {text-align: center;}#sk-container-id-1 div.sk-container {/* jupyter's `normalize.less` sets `[hidden] { display: none; }` but bootstrap.min.css set `[hidden] { display: none !important; }` so we also need the `!important` here to be able to override the default hidden behavior on the sphinx rendered scikit-learn.org. See: https://github.com/scikit-learn/scikit-learn/issues/21755 */display: inline-block !important;position: relative;}#sk-container-id-1 div.sk-text-repr-fallback {display: none;}</style><div id=\"sk-container-id-1\" class=\"sk-top-container\"><div class=\"sk-text-repr-fallback\"><pre>LogisticRegression(random_state=0)</pre><b>In a Jupyter environment, please rerun this cell to show the HTML representation or trust the notebook. <br />On GitHub, the HTML representation is unable to render, please try loading this page with nbviewer.org.</b></div><div class=\"sk-container\" hidden><div class=\"sk-item\"><div class=\"sk-estimator sk-toggleable\"><input class=\"sk-toggleable__control sk-hidden--visually\" id=\"sk-estimator-id-1\" type=\"checkbox\" checked><label for=\"sk-estimator-id-1\" class=\"sk-toggleable__label sk-toggleable__label-arrow\">LogisticRegression</label><div class=\"sk-toggleable__content\"><pre>LogisticRegression(random_state=0)</pre></div></div></div></div></div>"
      ],
      "text/plain": [
       "LogisticRegression(random_state=0)"
      ]
     },
     "execution_count": 30,
     "metadata": {},
     "output_type": "execute_result"
    }
   ],
   "source": [
    "from sklearn.linear_model import LogisticRegression  \n",
    "classifier1= LogisticRegression(random_state=0)  \n",
    "classifier1.fit(x_train, y_train)  "
   ]
  },
  {
   "cell_type": "code",
   "execution_count": 31,
   "id": "6f85ac0e",
   "metadata": {
    "execution": {
     "iopub.execute_input": "2023-06-12T17:50:04.080783Z",
     "iopub.status.busy": "2023-06-12T17:50:04.080061Z",
     "iopub.status.idle": "2023-06-12T17:50:04.091959Z",
     "shell.execute_reply": "2023-06-12T17:50:04.090993Z"
    },
    "papermill": {
     "duration": 0.03412,
     "end_time": "2023-06-12T17:50:04.094339",
     "exception": false,
     "start_time": "2023-06-12T17:50:04.060219",
     "status": "completed"
    },
    "tags": []
   },
   "outputs": [
    {
     "data": {
      "text/plain": [
       "array([21, 21,  7,  3,  2,  8, 13,  9, 15,  1, 13,  5, 10, 14, 12,  0,  5,\n",
       "       10,  5, 12,  4,  2,  9,  8,  6,  5, 10, 16, 13,  9, 19, 20, 11, 15,\n",
       "        4,  6, 12, 12, 21,  2, 11,  2, 18, 21, 18, 14,  9,  9,  6, 14, 13,\n",
       "        2,  0, 15, 18,  1, 17, 12, 10,  6, 16, 14, 21, 20, 15,  0,  7,  5,\n",
       "        0, 16,  4, 19,  9,  6,  7, 13,  3, 11,  8, 12, 20,  2, 21, 21, 15,\n",
       "        6, 11, 10, 18, 17,  2,  8, 14,  7, 14, 11,  5,  8, 10,  3, 16,  8,\n",
       "       14,  1,  1, 20, 21,  5, 18, 15, 15, 12,  5,  7, 16, 19, 14,  2, 11,\n",
       "        8, 19, 10, 16,  3,  3,  2, 19, 16,  3, 17, 13, 13, 15, 14, 11, 14,\n",
       "        4, 19, 16,  2, 10,  7,  0,  5,  3,  0,  8, 12, 21, 17, 16,  4, 18,\n",
       "        1, 19,  3, 21,  2,  0,  8, 10, 18,  8,  9,  9, 15, 20, 15,  1, 16,\n",
       "       18,  0, 13,  4,  6, 14,  9, 19, 17, 16, 20, 17, 17,  9,  9,  1,  4,\n",
       "       18, 20, 17, 11,  8, 13, 20, 11,  5, 18,  4,  3, 12,  4, 19, 11, 13,\n",
       "       13, 16, 15, 11, 18,  1,  3, 10, 18, 16, 13, 14, 12, 17, 15, 19,  8,\n",
       "       20,  2, 17,  2,  5, 11,  5, 16, 20, 13, 14, 16,  9, 19,  4, 12, 14,\n",
       "        6, 20,  3, 14,  0, 18,  2, 20, 21,  2, 19, 16, 11,  7,  3, 18,  8,\n",
       "       17, 19,  5, 12, 13,  8, 21, 19, 20,  7,  4,  8, 10,  3,  5,  5, 17,\n",
       "       19, 11, 20,  3, 18, 16, 19, 18,  4,  9, 19, 15, 13, 12, 10,  1,  2,\n",
       "       12,  9, 12,  6, 14, 17,  7,  7, 18, 17, 17, 20,  3, 15,  5, 21,  8,\n",
       "        8, 15,  7, 15,  2, 13, 13,  3,  2, 12,  1, 12, 19,  8, 16, 15,  3,\n",
       "       10,  6, 17,  7,  9, 10,  0, 20, 15,  0, 17,  2,  8,  3, 13, 10,  7,\n",
       "        8,  9, 15, 17,  7, 17, 20,  5, 15, 13,  1, 17, 16,  9, 21, 18,  0,\n",
       "       21, 21, 18,  9, 10,  9,  8,  4,  6,  9, 16,  6, 18, 19,  6,  6,  0,\n",
       "        6,  0, 16, 11,  7,  1,  0, 13, 20,  9,  1, 20,  2,  3, 19,  1,  3,\n",
       "       15, 19,  0, 10, 15, 16,  2, 15, 13, 12,  3, 19, 12,  3,  4, 15,  1,\n",
       "       18, 17,  8, 13,  6, 20,  1,  4, 20,  2, 11, 16, 21, 20,  0,  7, 18,\n",
       "        7,  3, 12,  8, 19, 11, 12,  7,  1, 14, 18,  1,  6,  2,  0])"
      ]
     },
     "execution_count": 31,
     "metadata": {},
     "output_type": "execute_result"
    }
   ],
   "source": [
    "pred1=classifier1.predict(x_test)\n",
    "pred1"
   ]
  },
  {
   "cell_type": "code",
   "execution_count": 32,
   "id": "d1da73cb",
   "metadata": {
    "execution": {
     "iopub.execute_input": "2023-06-12T17:50:04.134663Z",
     "iopub.status.busy": "2023-06-12T17:50:04.134304Z",
     "iopub.status.idle": "2023-06-12T17:50:04.140764Z",
     "shell.execute_reply": "2023-06-12T17:50:04.140082Z"
    },
    "papermill": {
     "duration": 0.031816,
     "end_time": "2023-06-12T17:50:04.145415",
     "exception": false,
     "start_time": "2023-06-12T17:50:04.113599",
     "status": "completed"
    },
    "tags": []
   },
   "outputs": [
    {
     "data": {
      "text/plain": [
       "array([21, 21,  7,  3,  2, 20, 13,  9, 15,  1, 13,  5, 10, 14, 12,  0,  5,\n",
       "       10,  5, 12,  4,  2,  9,  8,  6,  5, 10, 16, 13,  9, 19, 20, 11, 15,\n",
       "        4,  6, 12, 12, 21, 13, 11,  2, 18, 21, 18, 14,  9,  9,  6, 14, 13,\n",
       "        2,  0, 15, 18,  1, 17, 12, 10,  6, 16, 14, 21, 20, 15,  0,  7,  5,\n",
       "        0, 16,  4, 19,  9, 11,  7, 13,  3, 11,  8, 12, 20,  2, 21, 21, 15,\n",
       "        6, 11, 10, 13, 17,  2,  8, 14,  7, 14, 11,  5,  8, 10,  3, 16,  8,\n",
       "       14,  1,  1, 20, 21,  5, 18, 15, 15, 12,  5,  7, 16, 19, 14, 10, 11,\n",
       "        8, 19, 10, 16,  3,  3,  2, 19, 16,  3, 17, 13, 13, 15, 14, 11, 14,\n",
       "        4, 19, 16,  2,  2,  7,  0,  5,  3,  0,  8, 12, 21, 17, 16,  4, 13,\n",
       "        1, 19,  3, 21,  2,  0,  8, 10, 18,  8,  9,  9, 15, 20, 15,  1, 16,\n",
       "       18,  0, 13,  4,  6, 14,  9, 19, 17, 16, 20, 17, 17, 18,  9,  1,  4,\n",
       "       18, 20, 17, 11,  8, 13, 20, 11,  5, 18,  4,  3, 12,  4, 19, 11, 13,\n",
       "       13, 16, 15, 11, 18,  1,  3,  2, 18, 16, 13, 14, 12, 17, 15, 19, 20,\n",
       "       20,  2, 17,  2,  5, 11,  5, 16, 20, 13, 14, 16,  9, 19,  4, 12, 14,\n",
       "        6, 20,  3, 14,  0, 18,  2, 20, 21,  2, 19, 16, 11,  7,  3, 18,  8,\n",
       "       17, 19,  5, 12, 13,  8, 21, 19, 20,  7,  4,  8, 10,  3,  5,  5, 17,\n",
       "       19, 11, 20,  3, 18, 16, 19, 18,  4,  9, 19, 15, 13, 12, 10,  1,  2,\n",
       "       12,  9, 12,  6, 14, 17,  7,  7, 18, 17,  8, 20,  3, 15,  5, 21, 20,\n",
       "        8, 17,  7, 15,  2, 13, 13,  3,  2, 12,  1, 12, 19,  8, 16, 15,  3,\n",
       "       10,  6, 17,  7,  9, 10,  0, 20, 15,  0, 17,  2,  8,  3, 13, 10,  7,\n",
       "        8,  9, 15, 17,  7, 17, 20,  5, 15, 13,  1, 17, 16,  9, 21, 18,  0,\n",
       "       21, 21, 18,  9, 13,  9,  8,  4,  6,  9, 16,  6, 18, 19,  6,  6,  0,\n",
       "        6,  0, 16, 11,  7,  1,  0, 13, 20,  9,  1, 20, 10,  3, 19,  1,  3,\n",
       "       15, 19,  0, 10, 15, 16,  2, 15, 13, 12,  3, 19, 12,  3,  4, 15,  1,\n",
       "       18, 17,  8, 10,  6, 20,  1,  4, 20,  2, 11, 16, 21, 20,  0,  7, 18,\n",
       "        7,  3, 12,  8, 19, 11, 12,  7,  1, 14, 18,  1,  6,  2,  0])"
      ]
     },
     "execution_count": 32,
     "metadata": {},
     "output_type": "execute_result"
    }
   ],
   "source": [
    "y_test"
   ]
  },
  {
   "cell_type": "code",
   "execution_count": 33,
   "id": "b8791510",
   "metadata": {
    "execution": {
     "iopub.execute_input": "2023-06-12T17:50:04.176780Z",
     "iopub.status.busy": "2023-06-12T17:50:04.176347Z",
     "iopub.status.idle": "2023-06-12T17:50:04.181605Z",
     "shell.execute_reply": "2023-06-12T17:50:04.180730Z"
    },
    "papermill": {
     "duration": 0.022786,
     "end_time": "2023-06-12T17:50:04.183494",
     "exception": false,
     "start_time": "2023-06-12T17:50:04.160708",
     "status": "completed"
    },
    "tags": []
   },
   "outputs": [
    {
     "name": "stdout",
     "output_type": "stream",
     "text": [
      "0.9636363636363636\n"
     ]
    }
   ],
   "source": [
    "from sklearn.metrics import accuracy_score\n",
    "print(accuracy_score(y_test,pred1))"
   ]
  },
  {
   "cell_type": "code",
   "execution_count": 34,
   "id": "d21b44ce",
   "metadata": {
    "execution": {
     "iopub.execute_input": "2023-06-12T17:50:04.216122Z",
     "iopub.status.busy": "2023-06-12T17:50:04.215097Z",
     "iopub.status.idle": "2023-06-12T17:50:04.224955Z",
     "shell.execute_reply": "2023-06-12T17:50:04.223600Z"
    },
    "papermill": {
     "duration": 0.028537,
     "end_time": "2023-06-12T17:50:04.227329",
     "exception": false,
     "start_time": "2023-06-12T17:50:04.198792",
     "status": "completed"
    },
    "tags": []
   },
   "outputs": [
    {
     "data": {
      "text/plain": [
       "array([[18,  0,  0,  0,  0,  0,  0,  0,  0,  0,  0,  0,  0,  0,  0,  0,\n",
       "         0,  0,  0,  0,  0,  0],\n",
       "       [ 0, 18,  0,  0,  0,  0,  0,  0,  0,  0,  0,  0,  0,  0,  0,  0,\n",
       "         0,  0,  0,  0,  0,  0],\n",
       "       [ 0,  0, 20,  0,  0,  0,  0,  0,  0,  0,  2,  0,  0,  0,  0,  0,\n",
       "         0,  0,  0,  0,  0,  0],\n",
       "       [ 0,  0,  0, 23,  0,  0,  0,  0,  0,  0,  0,  0,  0,  0,  0,  0,\n",
       "         0,  0,  0,  0,  0,  0],\n",
       "       [ 0,  0,  0,  0, 15,  0,  0,  0,  0,  0,  0,  0,  0,  0,  0,  0,\n",
       "         0,  0,  0,  0,  0,  0],\n",
       "       [ 0,  0,  0,  0,  0, 17,  0,  0,  0,  0,  0,  0,  0,  0,  0,  0,\n",
       "         0,  0,  0,  0,  0,  0],\n",
       "       [ 0,  0,  0,  0,  0,  0, 16,  0,  0,  0,  0,  0,  0,  0,  0,  0,\n",
       "         0,  0,  0,  0,  0,  0],\n",
       "       [ 0,  0,  0,  0,  0,  0,  0, 18,  0,  0,  0,  0,  0,  0,  0,  0,\n",
       "         0,  0,  0,  0,  0,  0],\n",
       "       [ 0,  0,  0,  0,  0,  0,  0,  0, 20,  0,  0,  0,  0,  0,  0,  0,\n",
       "         0,  1,  0,  0,  0,  0],\n",
       "       [ 0,  0,  0,  0,  0,  0,  0,  0,  0, 20,  0,  0,  0,  0,  0,  0,\n",
       "         0,  0,  0,  0,  0,  0],\n",
       "       [ 0,  0,  2,  0,  0,  0,  0,  0,  0,  0, 14,  0,  0,  1,  0,  0,\n",
       "         0,  0,  0,  0,  0,  0],\n",
       "       [ 0,  0,  0,  0,  0,  0,  1,  0,  0,  0,  0, 17,  0,  0,  0,  0,\n",
       "         0,  0,  0,  0,  0,  0],\n",
       "       [ 0,  0,  0,  0,  0,  0,  0,  0,  0,  0,  0,  0, 21,  0,  0,  0,\n",
       "         0,  0,  0,  0,  0,  0],\n",
       "       [ 0,  0,  1,  0,  0,  0,  0,  0,  0,  0,  1,  0,  0, 21,  0,  0,\n",
       "         0,  0,  2,  0,  0,  0],\n",
       "       [ 0,  0,  0,  0,  0,  0,  0,  0,  0,  0,  0,  0,  0,  0, 17,  0,\n",
       "         0,  0,  0,  0,  0,  0],\n",
       "       [ 0,  0,  0,  0,  0,  0,  0,  0,  0,  0,  0,  0,  0,  0,  0, 23,\n",
       "         0,  0,  0,  0,  0,  0],\n",
       "       [ 0,  0,  0,  0,  0,  0,  0,  0,  0,  0,  0,  0,  0,  0,  0,  0,\n",
       "        23,  0,  0,  0,  0,  0],\n",
       "       [ 0,  0,  0,  0,  0,  0,  0,  0,  0,  0,  0,  0,  0,  0,  0,  1,\n",
       "         0, 20,  0,  0,  0,  0],\n",
       "       [ 0,  0,  0,  0,  0,  0,  0,  0,  0,  1,  0,  0,  0,  0,  0,  0,\n",
       "         0,  0, 21,  0,  0,  0],\n",
       "       [ 0,  0,  0,  0,  0,  0,  0,  0,  0,  0,  0,  0,  0,  0,  0,  0,\n",
       "         0,  0,  0, 23,  0,  0],\n",
       "       [ 0,  0,  0,  0,  0,  0,  0,  0,  3,  0,  0,  0,  0,  0,  0,  0,\n",
       "         0,  0,  0,  0, 22,  0],\n",
       "       [ 0,  0,  0,  0,  0,  0,  0,  0,  0,  0,  0,  0,  0,  0,  0,  0,\n",
       "         0,  0,  0,  0,  0, 17]])"
      ]
     },
     "execution_count": 34,
     "metadata": {},
     "output_type": "execute_result"
    }
   ],
   "source": [
    "from sklearn.metrics import confusion_matrix  \n",
    "cm= confusion_matrix(y_test,pred1)  \n",
    "cm"
   ]
  },
  {
   "cell_type": "markdown",
   "id": "4f0032e1",
   "metadata": {
    "papermill": {
     "duration": 0.015595,
     "end_time": "2023-06-12T17:50:04.258575",
     "exception": false,
     "start_time": "2023-06-12T17:50:04.242980",
     "status": "completed"
    },
    "tags": []
   },
   "source": [
    "**DECISION TREE CLASSIFIER**"
   ]
  },
  {
   "cell_type": "code",
   "execution_count": 35,
   "id": "6d2c3767",
   "metadata": {
    "execution": {
     "iopub.execute_input": "2023-06-12T17:50:04.291395Z",
     "iopub.status.busy": "2023-06-12T17:50:04.290994Z",
     "iopub.status.idle": "2023-06-12T17:50:04.483651Z",
     "shell.execute_reply": "2023-06-12T17:50:04.482618Z"
    },
    "papermill": {
     "duration": 0.211647,
     "end_time": "2023-06-12T17:50:04.485808",
     "exception": false,
     "start_time": "2023-06-12T17:50:04.274161",
     "status": "completed"
    },
    "tags": []
   },
   "outputs": [
    {
     "data": {
      "text/html": [
       "<style>#sk-container-id-2 {color: black;background-color: white;}#sk-container-id-2 pre{padding: 0;}#sk-container-id-2 div.sk-toggleable {background-color: white;}#sk-container-id-2 label.sk-toggleable__label {cursor: pointer;display: block;width: 100%;margin-bottom: 0;padding: 0.3em;box-sizing: border-box;text-align: center;}#sk-container-id-2 label.sk-toggleable__label-arrow:before {content: \"▸\";float: left;margin-right: 0.25em;color: #696969;}#sk-container-id-2 label.sk-toggleable__label-arrow:hover:before {color: black;}#sk-container-id-2 div.sk-estimator:hover label.sk-toggleable__label-arrow:before {color: black;}#sk-container-id-2 div.sk-toggleable__content {max-height: 0;max-width: 0;overflow: hidden;text-align: left;background-color: #f0f8ff;}#sk-container-id-2 div.sk-toggleable__content pre {margin: 0.2em;color: black;border-radius: 0.25em;background-color: #f0f8ff;}#sk-container-id-2 input.sk-toggleable__control:checked~div.sk-toggleable__content {max-height: 200px;max-width: 100%;overflow: auto;}#sk-container-id-2 input.sk-toggleable__control:checked~label.sk-toggleable__label-arrow:before {content: \"▾\";}#sk-container-id-2 div.sk-estimator input.sk-toggleable__control:checked~label.sk-toggleable__label {background-color: #d4ebff;}#sk-container-id-2 div.sk-label input.sk-toggleable__control:checked~label.sk-toggleable__label {background-color: #d4ebff;}#sk-container-id-2 input.sk-hidden--visually {border: 0;clip: rect(1px 1px 1px 1px);clip: rect(1px, 1px, 1px, 1px);height: 1px;margin: -1px;overflow: hidden;padding: 0;position: absolute;width: 1px;}#sk-container-id-2 div.sk-estimator {font-family: monospace;background-color: #f0f8ff;border: 1px dotted black;border-radius: 0.25em;box-sizing: border-box;margin-bottom: 0.5em;}#sk-container-id-2 div.sk-estimator:hover {background-color: #d4ebff;}#sk-container-id-2 div.sk-parallel-item::after {content: \"\";width: 100%;border-bottom: 1px solid gray;flex-grow: 1;}#sk-container-id-2 div.sk-label:hover label.sk-toggleable__label {background-color: #d4ebff;}#sk-container-id-2 div.sk-serial::before {content: \"\";position: absolute;border-left: 1px solid gray;box-sizing: border-box;top: 0;bottom: 0;left: 50%;z-index: 0;}#sk-container-id-2 div.sk-serial {display: flex;flex-direction: column;align-items: center;background-color: white;padding-right: 0.2em;padding-left: 0.2em;position: relative;}#sk-container-id-2 div.sk-item {position: relative;z-index: 1;}#sk-container-id-2 div.sk-parallel {display: flex;align-items: stretch;justify-content: center;background-color: white;position: relative;}#sk-container-id-2 div.sk-item::before, #sk-container-id-2 div.sk-parallel-item::before {content: \"\";position: absolute;border-left: 1px solid gray;box-sizing: border-box;top: 0;bottom: 0;left: 50%;z-index: -1;}#sk-container-id-2 div.sk-parallel-item {display: flex;flex-direction: column;z-index: 1;position: relative;background-color: white;}#sk-container-id-2 div.sk-parallel-item:first-child::after {align-self: flex-end;width: 50%;}#sk-container-id-2 div.sk-parallel-item:last-child::after {align-self: flex-start;width: 50%;}#sk-container-id-2 div.sk-parallel-item:only-child::after {width: 0;}#sk-container-id-2 div.sk-dashed-wrapped {border: 1px dashed gray;margin: 0 0.4em 0.5em 0.4em;box-sizing: border-box;padding-bottom: 0.4em;background-color: white;}#sk-container-id-2 div.sk-label label {font-family: monospace;font-weight: bold;display: inline-block;line-height: 1.2em;}#sk-container-id-2 div.sk-label-container {text-align: center;}#sk-container-id-2 div.sk-container {/* jupyter's `normalize.less` sets `[hidden] { display: none; }` but bootstrap.min.css set `[hidden] { display: none !important; }` so we also need the `!important` here to be able to override the default hidden behavior on the sphinx rendered scikit-learn.org. See: https://github.com/scikit-learn/scikit-learn/issues/21755 */display: inline-block !important;position: relative;}#sk-container-id-2 div.sk-text-repr-fallback {display: none;}</style><div id=\"sk-container-id-2\" class=\"sk-top-container\"><div class=\"sk-text-repr-fallback\"><pre>DecisionTreeClassifier(criterion=&#x27;entropy&#x27;, random_state=0)</pre><b>In a Jupyter environment, please rerun this cell to show the HTML representation or trust the notebook. <br />On GitHub, the HTML representation is unable to render, please try loading this page with nbviewer.org.</b></div><div class=\"sk-container\" hidden><div class=\"sk-item\"><div class=\"sk-estimator sk-toggleable\"><input class=\"sk-toggleable__control sk-hidden--visually\" id=\"sk-estimator-id-2\" type=\"checkbox\" checked><label for=\"sk-estimator-id-2\" class=\"sk-toggleable__label sk-toggleable__label-arrow\">DecisionTreeClassifier</label><div class=\"sk-toggleable__content\"><pre>DecisionTreeClassifier(criterion=&#x27;entropy&#x27;, random_state=0)</pre></div></div></div></div></div>"
      ],
      "text/plain": [
       "DecisionTreeClassifier(criterion='entropy', random_state=0)"
      ]
     },
     "execution_count": 35,
     "metadata": {},
     "output_type": "execute_result"
    }
   ],
   "source": [
    "from sklearn.tree import DecisionTreeClassifier  \n",
    "classifier2= DecisionTreeClassifier(criterion='entropy', random_state=0)  \n",
    "classifier2.fit(x_train, y_train)  "
   ]
  },
  {
   "cell_type": "code",
   "execution_count": 36,
   "id": "6157640f",
   "metadata": {
    "execution": {
     "iopub.execute_input": "2023-06-12T17:50:04.518989Z",
     "iopub.status.busy": "2023-06-12T17:50:04.518603Z",
     "iopub.status.idle": "2023-06-12T17:50:04.527968Z",
     "shell.execute_reply": "2023-06-12T17:50:04.526943Z"
    },
    "papermill": {
     "duration": 0.029449,
     "end_time": "2023-06-12T17:50:04.530654",
     "exception": false,
     "start_time": "2023-06-12T17:50:04.501205",
     "status": "completed"
    },
    "tags": []
   },
   "outputs": [
    {
     "data": {
      "text/plain": [
       "array([21, 21,  7,  3,  2, 20, 13,  9, 15,  1, 13,  5, 10, 14, 12,  0,  5,\n",
       "       10, 11, 12,  4,  2,  9,  8,  6,  5, 10, 16, 13,  9, 19, 20, 11, 15,\n",
       "        4,  6, 12, 12, 21, 13, 11,  2, 18, 21, 18, 14,  9,  9,  6, 14, 13,\n",
       "        2,  0, 15, 18,  1, 17, 12, 10,  6, 16, 14, 21, 20, 15,  0,  7,  5,\n",
       "        0, 16,  4, 19,  9, 11,  7, 13,  3, 11,  8, 12, 20, 13, 21, 21, 15,\n",
       "        6, 11, 10, 13, 17,  2,  8, 14,  7, 14, 11,  5,  8, 10,  3, 16,  8,\n",
       "       14,  1,  1, 20, 21,  5, 18, 15, 15, 12,  5,  7, 16, 19, 14, 10, 11,\n",
       "        8, 19, 10, 16,  3,  3,  2, 19, 16,  3, 17, 13, 11, 15, 14, 11, 14,\n",
       "        4, 19, 16,  2,  2,  7,  0,  5,  3,  0,  8, 12, 21, 17, 16,  4, 13,\n",
       "        1, 19,  3, 21,  2,  0,  8, 10, 18,  8,  9,  9, 15, 20, 15,  1, 16,\n",
       "       18,  0, 13,  4,  6, 14,  9, 19, 17, 16, 20, 17, 17, 18,  9,  1,  4,\n",
       "       18, 20, 17, 11,  8, 13, 20, 11,  5, 18,  4,  3, 12,  4, 19, 11, 13,\n",
       "       13, 16, 15, 11, 18,  1,  3,  2, 18, 16, 13, 14, 12, 17, 15, 19, 20,\n",
       "       20,  2, 17,  2,  5, 11, 11, 16, 20, 13, 14, 16,  9, 19,  4, 12, 14,\n",
       "        6, 20,  3, 14,  0, 18,  2, 20, 21,  2, 19, 16, 11,  7,  3, 18,  8,\n",
       "       17, 19,  5, 12, 13,  8, 21, 19, 20,  7,  4,  8, 10,  3,  5,  5, 17,\n",
       "       19, 11, 20,  3, 18, 16, 19, 18,  4,  9, 19, 15, 13, 12, 10,  1,  2,\n",
       "       12,  9, 12,  6, 14, 17,  7,  7, 18, 17,  8, 20,  3, 15,  5, 21, 20,\n",
       "        8, 17,  7, 15,  2, 13, 13,  3,  2, 12,  1, 12, 19,  8, 16, 15,  3,\n",
       "       10,  6, 17,  7,  9, 10,  0, 20, 15,  0, 17,  2,  8,  3, 13, 10,  7,\n",
       "        8,  9, 15, 17,  7, 17, 20,  5, 15, 13,  1, 17, 16,  9, 21, 18,  0,\n",
       "       21, 21, 18,  9, 13,  9,  8,  4,  6,  9, 16,  6, 18, 19,  6,  6,  0,\n",
       "        6,  0, 16, 11,  7,  1,  0, 13, 20,  9,  1, 20, 10,  3, 19,  1,  3,\n",
       "       15, 19,  0, 10, 15, 16,  2, 15, 13, 12,  3, 19, 12,  3,  4, 15,  1,\n",
       "       18, 17,  8, 10,  6, 20,  1,  4, 20,  2, 11, 16, 21, 20,  0,  7, 18,\n",
       "        7,  3, 12,  8, 19, 11, 12,  7,  1, 14, 18,  1,  6,  2,  0])"
      ]
     },
     "execution_count": 36,
     "metadata": {},
     "output_type": "execute_result"
    }
   ],
   "source": [
    "pred2=classifier2.predict(x_test)\n",
    "pred2"
   ]
  },
  {
   "cell_type": "code",
   "execution_count": 37,
   "id": "188e6191",
   "metadata": {
    "execution": {
     "iopub.execute_input": "2023-06-12T17:50:04.564425Z",
     "iopub.status.busy": "2023-06-12T17:50:04.563841Z",
     "iopub.status.idle": "2023-06-12T17:50:04.573041Z",
     "shell.execute_reply": "2023-06-12T17:50:04.571346Z"
    },
    "papermill": {
     "duration": 0.029119,
     "end_time": "2023-06-12T17:50:04.575840",
     "exception": false,
     "start_time": "2023-06-12T17:50:04.546721",
     "status": "completed"
    },
    "tags": []
   },
   "outputs": [
    {
     "data": {
      "text/plain": [
       "array([21, 21,  7,  3,  2, 20, 13,  9, 15,  1, 13,  5, 10, 14, 12,  0,  5,\n",
       "       10,  5, 12,  4,  2,  9,  8,  6,  5, 10, 16, 13,  9, 19, 20, 11, 15,\n",
       "        4,  6, 12, 12, 21, 13, 11,  2, 18, 21, 18, 14,  9,  9,  6, 14, 13,\n",
       "        2,  0, 15, 18,  1, 17, 12, 10,  6, 16, 14, 21, 20, 15,  0,  7,  5,\n",
       "        0, 16,  4, 19,  9, 11,  7, 13,  3, 11,  8, 12, 20,  2, 21, 21, 15,\n",
       "        6, 11, 10, 13, 17,  2,  8, 14,  7, 14, 11,  5,  8, 10,  3, 16,  8,\n",
       "       14,  1,  1, 20, 21,  5, 18, 15, 15, 12,  5,  7, 16, 19, 14, 10, 11,\n",
       "        8, 19, 10, 16,  3,  3,  2, 19, 16,  3, 17, 13, 13, 15, 14, 11, 14,\n",
       "        4, 19, 16,  2,  2,  7,  0,  5,  3,  0,  8, 12, 21, 17, 16,  4, 13,\n",
       "        1, 19,  3, 21,  2,  0,  8, 10, 18,  8,  9,  9, 15, 20, 15,  1, 16,\n",
       "       18,  0, 13,  4,  6, 14,  9, 19, 17, 16, 20, 17, 17, 18,  9,  1,  4,\n",
       "       18, 20, 17, 11,  8, 13, 20, 11,  5, 18,  4,  3, 12,  4, 19, 11, 13,\n",
       "       13, 16, 15, 11, 18,  1,  3,  2, 18, 16, 13, 14, 12, 17, 15, 19, 20,\n",
       "       20,  2, 17,  2,  5, 11,  5, 16, 20, 13, 14, 16,  9, 19,  4, 12, 14,\n",
       "        6, 20,  3, 14,  0, 18,  2, 20, 21,  2, 19, 16, 11,  7,  3, 18,  8,\n",
       "       17, 19,  5, 12, 13,  8, 21, 19, 20,  7,  4,  8, 10,  3,  5,  5, 17,\n",
       "       19, 11, 20,  3, 18, 16, 19, 18,  4,  9, 19, 15, 13, 12, 10,  1,  2,\n",
       "       12,  9, 12,  6, 14, 17,  7,  7, 18, 17,  8, 20,  3, 15,  5, 21, 20,\n",
       "        8, 17,  7, 15,  2, 13, 13,  3,  2, 12,  1, 12, 19,  8, 16, 15,  3,\n",
       "       10,  6, 17,  7,  9, 10,  0, 20, 15,  0, 17,  2,  8,  3, 13, 10,  7,\n",
       "        8,  9, 15, 17,  7, 17, 20,  5, 15, 13,  1, 17, 16,  9, 21, 18,  0,\n",
       "       21, 21, 18,  9, 13,  9,  8,  4,  6,  9, 16,  6, 18, 19,  6,  6,  0,\n",
       "        6,  0, 16, 11,  7,  1,  0, 13, 20,  9,  1, 20, 10,  3, 19,  1,  3,\n",
       "       15, 19,  0, 10, 15, 16,  2, 15, 13, 12,  3, 19, 12,  3,  4, 15,  1,\n",
       "       18, 17,  8, 10,  6, 20,  1,  4, 20,  2, 11, 16, 21, 20,  0,  7, 18,\n",
       "        7,  3, 12,  8, 19, 11, 12,  7,  1, 14, 18,  1,  6,  2,  0])"
      ]
     },
     "execution_count": 37,
     "metadata": {},
     "output_type": "execute_result"
    }
   ],
   "source": [
    "y_test"
   ]
  },
  {
   "cell_type": "code",
   "execution_count": 38,
   "id": "407a1ca4",
   "metadata": {
    "execution": {
     "iopub.execute_input": "2023-06-12T17:50:04.611356Z",
     "iopub.status.busy": "2023-06-12T17:50:04.610234Z",
     "iopub.status.idle": "2023-06-12T17:50:04.616790Z",
     "shell.execute_reply": "2023-06-12T17:50:04.615961Z"
    },
    "papermill": {
     "duration": 0.02624,
     "end_time": "2023-06-12T17:50:04.619126",
     "exception": false,
     "start_time": "2023-06-12T17:50:04.592886",
     "status": "completed"
    },
    "tags": []
   },
   "outputs": [
    {
     "name": "stdout",
     "output_type": "stream",
     "text": [
      "0.990909090909091\n"
     ]
    }
   ],
   "source": [
    "from sklearn.metrics import accuracy_score\n",
    "print(accuracy_score(y_test,pred2))"
   ]
  },
  {
   "cell_type": "markdown",
   "id": "1e633364",
   "metadata": {
    "papermill": {
     "duration": 0.016395,
     "end_time": "2023-06-12T17:50:04.651184",
     "exception": false,
     "start_time": "2023-06-12T17:50:04.634789",
     "status": "completed"
    },
    "tags": []
   },
   "source": [
    "**RANDOM FOREST CLASSIFIER**"
   ]
  },
  {
   "cell_type": "code",
   "execution_count": 39,
   "id": "0ff3d761",
   "metadata": {
    "execution": {
     "iopub.execute_input": "2023-06-12T17:50:04.686669Z",
     "iopub.status.busy": "2023-06-12T17:50:04.686300Z",
     "iopub.status.idle": "2023-06-12T17:50:05.155232Z",
     "shell.execute_reply": "2023-06-12T17:50:05.154149Z"
    },
    "papermill": {
     "duration": 0.489674,
     "end_time": "2023-06-12T17:50:05.157659",
     "exception": false,
     "start_time": "2023-06-12T17:50:04.667985",
     "status": "completed"
    },
    "tags": []
   },
   "outputs": [
    {
     "data": {
      "text/html": [
       "<style>#sk-container-id-3 {color: black;background-color: white;}#sk-container-id-3 pre{padding: 0;}#sk-container-id-3 div.sk-toggleable {background-color: white;}#sk-container-id-3 label.sk-toggleable__label {cursor: pointer;display: block;width: 100%;margin-bottom: 0;padding: 0.3em;box-sizing: border-box;text-align: center;}#sk-container-id-3 label.sk-toggleable__label-arrow:before {content: \"▸\";float: left;margin-right: 0.25em;color: #696969;}#sk-container-id-3 label.sk-toggleable__label-arrow:hover:before {color: black;}#sk-container-id-3 div.sk-estimator:hover label.sk-toggleable__label-arrow:before {color: black;}#sk-container-id-3 div.sk-toggleable__content {max-height: 0;max-width: 0;overflow: hidden;text-align: left;background-color: #f0f8ff;}#sk-container-id-3 div.sk-toggleable__content pre {margin: 0.2em;color: black;border-radius: 0.25em;background-color: #f0f8ff;}#sk-container-id-3 input.sk-toggleable__control:checked~div.sk-toggleable__content {max-height: 200px;max-width: 100%;overflow: auto;}#sk-container-id-3 input.sk-toggleable__control:checked~label.sk-toggleable__label-arrow:before {content: \"▾\";}#sk-container-id-3 div.sk-estimator input.sk-toggleable__control:checked~label.sk-toggleable__label {background-color: #d4ebff;}#sk-container-id-3 div.sk-label input.sk-toggleable__control:checked~label.sk-toggleable__label {background-color: #d4ebff;}#sk-container-id-3 input.sk-hidden--visually {border: 0;clip: rect(1px 1px 1px 1px);clip: rect(1px, 1px, 1px, 1px);height: 1px;margin: -1px;overflow: hidden;padding: 0;position: absolute;width: 1px;}#sk-container-id-3 div.sk-estimator {font-family: monospace;background-color: #f0f8ff;border: 1px dotted black;border-radius: 0.25em;box-sizing: border-box;margin-bottom: 0.5em;}#sk-container-id-3 div.sk-estimator:hover {background-color: #d4ebff;}#sk-container-id-3 div.sk-parallel-item::after {content: \"\";width: 100%;border-bottom: 1px solid gray;flex-grow: 1;}#sk-container-id-3 div.sk-label:hover label.sk-toggleable__label {background-color: #d4ebff;}#sk-container-id-3 div.sk-serial::before {content: \"\";position: absolute;border-left: 1px solid gray;box-sizing: border-box;top: 0;bottom: 0;left: 50%;z-index: 0;}#sk-container-id-3 div.sk-serial {display: flex;flex-direction: column;align-items: center;background-color: white;padding-right: 0.2em;padding-left: 0.2em;position: relative;}#sk-container-id-3 div.sk-item {position: relative;z-index: 1;}#sk-container-id-3 div.sk-parallel {display: flex;align-items: stretch;justify-content: center;background-color: white;position: relative;}#sk-container-id-3 div.sk-item::before, #sk-container-id-3 div.sk-parallel-item::before {content: \"\";position: absolute;border-left: 1px solid gray;box-sizing: border-box;top: 0;bottom: 0;left: 50%;z-index: -1;}#sk-container-id-3 div.sk-parallel-item {display: flex;flex-direction: column;z-index: 1;position: relative;background-color: white;}#sk-container-id-3 div.sk-parallel-item:first-child::after {align-self: flex-end;width: 50%;}#sk-container-id-3 div.sk-parallel-item:last-child::after {align-self: flex-start;width: 50%;}#sk-container-id-3 div.sk-parallel-item:only-child::after {width: 0;}#sk-container-id-3 div.sk-dashed-wrapped {border: 1px dashed gray;margin: 0 0.4em 0.5em 0.4em;box-sizing: border-box;padding-bottom: 0.4em;background-color: white;}#sk-container-id-3 div.sk-label label {font-family: monospace;font-weight: bold;display: inline-block;line-height: 1.2em;}#sk-container-id-3 div.sk-label-container {text-align: center;}#sk-container-id-3 div.sk-container {/* jupyter's `normalize.less` sets `[hidden] { display: none; }` but bootstrap.min.css set `[hidden] { display: none !important; }` so we also need the `!important` here to be able to override the default hidden behavior on the sphinx rendered scikit-learn.org. See: https://github.com/scikit-learn/scikit-learn/issues/21755 */display: inline-block !important;position: relative;}#sk-container-id-3 div.sk-text-repr-fallback {display: none;}</style><div id=\"sk-container-id-3\" class=\"sk-top-container\"><div class=\"sk-text-repr-fallback\"><pre>RandomForestClassifier(random_state=0)</pre><b>In a Jupyter environment, please rerun this cell to show the HTML representation or trust the notebook. <br />On GitHub, the HTML representation is unable to render, please try loading this page with nbviewer.org.</b></div><div class=\"sk-container\" hidden><div class=\"sk-item\"><div class=\"sk-estimator sk-toggleable\"><input class=\"sk-toggleable__control sk-hidden--visually\" id=\"sk-estimator-id-3\" type=\"checkbox\" checked><label for=\"sk-estimator-id-3\" class=\"sk-toggleable__label sk-toggleable__label-arrow\">RandomForestClassifier</label><div class=\"sk-toggleable__content\"><pre>RandomForestClassifier(random_state=0)</pre></div></div></div></div></div>"
      ],
      "text/plain": [
       "RandomForestClassifier(random_state=0)"
      ]
     },
     "execution_count": 39,
     "metadata": {},
     "output_type": "execute_result"
    }
   ],
   "source": [
    "from sklearn.ensemble import RandomForestClassifier\n",
    " \n",
    "# create classifier object\n",
    "classifier3= RandomForestClassifier(n_estimators=100,\n",
    "                                  random_state=0)\n",
    " \n",
    "# fit the classifier with x and y data\n",
    "classifier3.fit(x_train, y_train)"
   ]
  },
  {
   "cell_type": "code",
   "execution_count": 40,
   "id": "6d0aee47",
   "metadata": {
    "execution": {
     "iopub.execute_input": "2023-06-12T17:50:05.190876Z",
     "iopub.status.busy": "2023-06-12T17:50:05.190545Z",
     "iopub.status.idle": "2023-06-12T17:50:05.218477Z",
     "shell.execute_reply": "2023-06-12T17:50:05.216776Z"
    },
    "papermill": {
     "duration": 0.047434,
     "end_time": "2023-06-12T17:50:05.220840",
     "exception": false,
     "start_time": "2023-06-12T17:50:05.173406",
     "status": "completed"
    },
    "tags": []
   },
   "outputs": [
    {
     "data": {
      "text/plain": [
       "array([21, 21,  7,  3,  2, 20, 13,  9, 15,  1, 13,  5, 10, 14, 12,  0,  5,\n",
       "       10,  5, 12,  4,  2,  9,  8,  6,  5, 10, 16, 13,  9, 19, 20, 11, 15,\n",
       "        4,  6, 12, 12, 21, 13, 11,  2, 18, 21, 18, 14,  9,  9,  6, 14, 13,\n",
       "        2,  0, 15, 18,  1, 17, 12, 10,  6, 16, 14, 21, 20, 15,  0,  7,  5,\n",
       "        0, 16,  4, 19,  9, 11,  7, 13,  3, 11,  8, 12, 20,  2, 21, 21, 15,\n",
       "        6, 11, 10, 13, 17,  2,  8, 14,  7, 14, 11,  5,  8, 10,  3, 16,  8,\n",
       "       14,  1,  1, 20, 21,  5, 18, 15, 15, 12,  5,  7, 16, 19, 14, 10, 11,\n",
       "        8, 19, 10, 16,  3,  3,  2, 19, 16,  3, 17, 13, 13, 15, 14, 11, 14,\n",
       "        4, 19, 16,  2,  2,  7,  0,  5,  3,  0,  8, 12, 21, 17, 16,  4, 13,\n",
       "        1, 19,  3, 21,  2,  0,  8, 10, 18,  8,  9,  9, 15, 20, 15,  1, 16,\n",
       "       18,  0, 13,  4,  6, 14,  9, 19, 17, 16, 20, 17, 17, 18,  9,  1,  4,\n",
       "       18, 20, 17, 11,  8, 13, 20, 11,  5, 18,  4,  3, 12,  4, 19, 11, 13,\n",
       "       13, 16, 15, 11, 18,  1,  3,  2, 18, 16, 13, 14, 12, 17, 15, 19,  8,\n",
       "       20,  2, 17,  2,  5, 11,  5, 16, 20, 13, 14, 16,  9, 19,  4, 12, 14,\n",
       "        6, 20,  3, 14,  0, 18,  2, 20, 21,  2, 19, 16, 11,  7,  3, 18,  8,\n",
       "       17, 19,  5, 12, 13,  8, 21, 19, 20,  7,  4,  8, 10,  3,  5,  5, 17,\n",
       "       19, 11, 20,  3, 18, 16, 19, 18,  4,  9, 19, 15, 13, 12, 10,  1,  2,\n",
       "       12,  9, 12,  6, 14, 17,  7,  7, 18, 17,  8, 20,  3, 15,  5, 21, 20,\n",
       "        8, 17,  7, 15,  2, 13, 13,  3,  2, 12,  1, 12, 19,  8, 16, 15,  3,\n",
       "       10,  6, 17,  7,  9, 10,  0, 20, 15,  0, 17,  2,  8,  3, 13, 10,  7,\n",
       "        8,  9, 15, 17,  7, 17, 20,  5, 15, 13,  1, 17, 16,  9, 21, 18,  0,\n",
       "       21, 21, 18,  9, 13,  9,  8,  4,  6,  9, 16,  6, 18, 19,  6,  6,  0,\n",
       "        6,  0, 16, 11,  7,  1,  0, 13, 20,  9,  1, 20, 10,  3, 19,  1,  3,\n",
       "       15, 19,  0, 10, 15, 16,  2, 15, 13, 12,  3, 19, 12,  3,  4, 15,  1,\n",
       "       18, 17,  8, 10,  6, 20,  1,  4, 20,  2, 11, 16, 21, 20,  0,  7, 18,\n",
       "        7,  3, 12,  8, 19, 11, 12,  7,  1, 14, 18,  1,  6,  2,  0])"
      ]
     },
     "execution_count": 40,
     "metadata": {},
     "output_type": "execute_result"
    }
   ],
   "source": [
    "pred3=classifier3.predict(x_test)\n",
    "pred3"
   ]
  },
  {
   "cell_type": "code",
   "execution_count": 41,
   "id": "090cf893",
   "metadata": {
    "execution": {
     "iopub.execute_input": "2023-06-12T17:50:05.256426Z",
     "iopub.status.busy": "2023-06-12T17:50:05.256015Z",
     "iopub.status.idle": "2023-06-12T17:50:05.266211Z",
     "shell.execute_reply": "2023-06-12T17:50:05.264430Z"
    },
    "papermill": {
     "duration": 0.031303,
     "end_time": "2023-06-12T17:50:05.268886",
     "exception": false,
     "start_time": "2023-06-12T17:50:05.237583",
     "status": "completed"
    },
    "tags": []
   },
   "outputs": [
    {
     "data": {
      "text/plain": [
       "array([21, 21,  7,  3,  2, 20, 13,  9, 15,  1, 13,  5, 10, 14, 12,  0,  5,\n",
       "       10,  5, 12,  4,  2,  9,  8,  6,  5, 10, 16, 13,  9, 19, 20, 11, 15,\n",
       "        4,  6, 12, 12, 21, 13, 11,  2, 18, 21, 18, 14,  9,  9,  6, 14, 13,\n",
       "        2,  0, 15, 18,  1, 17, 12, 10,  6, 16, 14, 21, 20, 15,  0,  7,  5,\n",
       "        0, 16,  4, 19,  9, 11,  7, 13,  3, 11,  8, 12, 20,  2, 21, 21, 15,\n",
       "        6, 11, 10, 13, 17,  2,  8, 14,  7, 14, 11,  5,  8, 10,  3, 16,  8,\n",
       "       14,  1,  1, 20, 21,  5, 18, 15, 15, 12,  5,  7, 16, 19, 14, 10, 11,\n",
       "        8, 19, 10, 16,  3,  3,  2, 19, 16,  3, 17, 13, 13, 15, 14, 11, 14,\n",
       "        4, 19, 16,  2,  2,  7,  0,  5,  3,  0,  8, 12, 21, 17, 16,  4, 13,\n",
       "        1, 19,  3, 21,  2,  0,  8, 10, 18,  8,  9,  9, 15, 20, 15,  1, 16,\n",
       "       18,  0, 13,  4,  6, 14,  9, 19, 17, 16, 20, 17, 17, 18,  9,  1,  4,\n",
       "       18, 20, 17, 11,  8, 13, 20, 11,  5, 18,  4,  3, 12,  4, 19, 11, 13,\n",
       "       13, 16, 15, 11, 18,  1,  3,  2, 18, 16, 13, 14, 12, 17, 15, 19, 20,\n",
       "       20,  2, 17,  2,  5, 11,  5, 16, 20, 13, 14, 16,  9, 19,  4, 12, 14,\n",
       "        6, 20,  3, 14,  0, 18,  2, 20, 21,  2, 19, 16, 11,  7,  3, 18,  8,\n",
       "       17, 19,  5, 12, 13,  8, 21, 19, 20,  7,  4,  8, 10,  3,  5,  5, 17,\n",
       "       19, 11, 20,  3, 18, 16, 19, 18,  4,  9, 19, 15, 13, 12, 10,  1,  2,\n",
       "       12,  9, 12,  6, 14, 17,  7,  7, 18, 17,  8, 20,  3, 15,  5, 21, 20,\n",
       "        8, 17,  7, 15,  2, 13, 13,  3,  2, 12,  1, 12, 19,  8, 16, 15,  3,\n",
       "       10,  6, 17,  7,  9, 10,  0, 20, 15,  0, 17,  2,  8,  3, 13, 10,  7,\n",
       "        8,  9, 15, 17,  7, 17, 20,  5, 15, 13,  1, 17, 16,  9, 21, 18,  0,\n",
       "       21, 21, 18,  9, 13,  9,  8,  4,  6,  9, 16,  6, 18, 19,  6,  6,  0,\n",
       "        6,  0, 16, 11,  7,  1,  0, 13, 20,  9,  1, 20, 10,  3, 19,  1,  3,\n",
       "       15, 19,  0, 10, 15, 16,  2, 15, 13, 12,  3, 19, 12,  3,  4, 15,  1,\n",
       "       18, 17,  8, 10,  6, 20,  1,  4, 20,  2, 11, 16, 21, 20,  0,  7, 18,\n",
       "        7,  3, 12,  8, 19, 11, 12,  7,  1, 14, 18,  1,  6,  2,  0])"
      ]
     },
     "execution_count": 41,
     "metadata": {},
     "output_type": "execute_result"
    }
   ],
   "source": [
    "y_test"
   ]
  },
  {
   "cell_type": "markdown",
   "id": "2c571e0d",
   "metadata": {
    "papermill": {
     "duration": 0.015426,
     "end_time": "2023-06-12T17:50:05.300702",
     "exception": false,
     "start_time": "2023-06-12T17:50:05.285276",
     "status": "completed"
    },
    "tags": []
   },
   "source": []
  },
  {
   "cell_type": "code",
   "execution_count": 42,
   "id": "70188d13",
   "metadata": {
    "execution": {
     "iopub.execute_input": "2023-06-12T17:50:05.334517Z",
     "iopub.status.busy": "2023-06-12T17:50:05.334142Z",
     "iopub.status.idle": "2023-06-12T17:50:05.341317Z",
     "shell.execute_reply": "2023-06-12T17:50:05.339786Z"
    },
    "papermill": {
     "duration": 0.026616,
     "end_time": "2023-06-12T17:50:05.343248",
     "exception": false,
     "start_time": "2023-06-12T17:50:05.316632",
     "status": "completed"
    },
    "tags": []
   },
   "outputs": [
    {
     "name": "stdout",
     "output_type": "stream",
     "text": [
      "0.9977272727272727\n"
     ]
    }
   ],
   "source": [
    "from sklearn.metrics import accuracy_score\n",
    "print(accuracy_score(y_test,pred3))"
   ]
  },
  {
   "cell_type": "markdown",
   "id": "2d1d9102",
   "metadata": {
    "papermill": {
     "duration": 0.015549,
     "end_time": "2023-06-12T17:50:05.374838",
     "exception": false,
     "start_time": "2023-06-12T17:50:05.359289",
     "status": "completed"
    },
    "tags": []
   },
   "source": [
    "**SVM**"
   ]
  },
  {
   "cell_type": "code",
   "execution_count": 43,
   "id": "ae2d155b",
   "metadata": {
    "execution": {
     "iopub.execute_input": "2023-06-12T17:50:05.409039Z",
     "iopub.status.busy": "2023-06-12T17:50:05.408676Z",
     "iopub.status.idle": "2023-06-12T17:50:05.437976Z",
     "shell.execute_reply": "2023-06-12T17:50:05.436389Z"
    },
    "papermill": {
     "duration": 0.049825,
     "end_time": "2023-06-12T17:50:05.440894",
     "exception": false,
     "start_time": "2023-06-12T17:50:05.391069",
     "status": "completed"
    },
    "tags": []
   },
   "outputs": [
    {
     "data": {
      "text/html": [
       "<style>#sk-container-id-4 {color: black;background-color: white;}#sk-container-id-4 pre{padding: 0;}#sk-container-id-4 div.sk-toggleable {background-color: white;}#sk-container-id-4 label.sk-toggleable__label {cursor: pointer;display: block;width: 100%;margin-bottom: 0;padding: 0.3em;box-sizing: border-box;text-align: center;}#sk-container-id-4 label.sk-toggleable__label-arrow:before {content: \"▸\";float: left;margin-right: 0.25em;color: #696969;}#sk-container-id-4 label.sk-toggleable__label-arrow:hover:before {color: black;}#sk-container-id-4 div.sk-estimator:hover label.sk-toggleable__label-arrow:before {color: black;}#sk-container-id-4 div.sk-toggleable__content {max-height: 0;max-width: 0;overflow: hidden;text-align: left;background-color: #f0f8ff;}#sk-container-id-4 div.sk-toggleable__content pre {margin: 0.2em;color: black;border-radius: 0.25em;background-color: #f0f8ff;}#sk-container-id-4 input.sk-toggleable__control:checked~div.sk-toggleable__content {max-height: 200px;max-width: 100%;overflow: auto;}#sk-container-id-4 input.sk-toggleable__control:checked~label.sk-toggleable__label-arrow:before {content: \"▾\";}#sk-container-id-4 div.sk-estimator input.sk-toggleable__control:checked~label.sk-toggleable__label {background-color: #d4ebff;}#sk-container-id-4 div.sk-label input.sk-toggleable__control:checked~label.sk-toggleable__label {background-color: #d4ebff;}#sk-container-id-4 input.sk-hidden--visually {border: 0;clip: rect(1px 1px 1px 1px);clip: rect(1px, 1px, 1px, 1px);height: 1px;margin: -1px;overflow: hidden;padding: 0;position: absolute;width: 1px;}#sk-container-id-4 div.sk-estimator {font-family: monospace;background-color: #f0f8ff;border: 1px dotted black;border-radius: 0.25em;box-sizing: border-box;margin-bottom: 0.5em;}#sk-container-id-4 div.sk-estimator:hover {background-color: #d4ebff;}#sk-container-id-4 div.sk-parallel-item::after {content: \"\";width: 100%;border-bottom: 1px solid gray;flex-grow: 1;}#sk-container-id-4 div.sk-label:hover label.sk-toggleable__label {background-color: #d4ebff;}#sk-container-id-4 div.sk-serial::before {content: \"\";position: absolute;border-left: 1px solid gray;box-sizing: border-box;top: 0;bottom: 0;left: 50%;z-index: 0;}#sk-container-id-4 div.sk-serial {display: flex;flex-direction: column;align-items: center;background-color: white;padding-right: 0.2em;padding-left: 0.2em;position: relative;}#sk-container-id-4 div.sk-item {position: relative;z-index: 1;}#sk-container-id-4 div.sk-parallel {display: flex;align-items: stretch;justify-content: center;background-color: white;position: relative;}#sk-container-id-4 div.sk-item::before, #sk-container-id-4 div.sk-parallel-item::before {content: \"\";position: absolute;border-left: 1px solid gray;box-sizing: border-box;top: 0;bottom: 0;left: 50%;z-index: -1;}#sk-container-id-4 div.sk-parallel-item {display: flex;flex-direction: column;z-index: 1;position: relative;background-color: white;}#sk-container-id-4 div.sk-parallel-item:first-child::after {align-self: flex-end;width: 50%;}#sk-container-id-4 div.sk-parallel-item:last-child::after {align-self: flex-start;width: 50%;}#sk-container-id-4 div.sk-parallel-item:only-child::after {width: 0;}#sk-container-id-4 div.sk-dashed-wrapped {border: 1px dashed gray;margin: 0 0.4em 0.5em 0.4em;box-sizing: border-box;padding-bottom: 0.4em;background-color: white;}#sk-container-id-4 div.sk-label label {font-family: monospace;font-weight: bold;display: inline-block;line-height: 1.2em;}#sk-container-id-4 div.sk-label-container {text-align: center;}#sk-container-id-4 div.sk-container {/* jupyter's `normalize.less` sets `[hidden] { display: none; }` but bootstrap.min.css set `[hidden] { display: none !important; }` so we also need the `!important` here to be able to override the default hidden behavior on the sphinx rendered scikit-learn.org. See: https://github.com/scikit-learn/scikit-learn/issues/21755 */display: inline-block !important;position: relative;}#sk-container-id-4 div.sk-text-repr-fallback {display: none;}</style><div id=\"sk-container-id-4\" class=\"sk-top-container\"><div class=\"sk-text-repr-fallback\"><pre>SVC(kernel=&#x27;linear&#x27;, random_state=0)</pre><b>In a Jupyter environment, please rerun this cell to show the HTML representation or trust the notebook. <br />On GitHub, the HTML representation is unable to render, please try loading this page with nbviewer.org.</b></div><div class=\"sk-container\" hidden><div class=\"sk-item\"><div class=\"sk-estimator sk-toggleable\"><input class=\"sk-toggleable__control sk-hidden--visually\" id=\"sk-estimator-id-4\" type=\"checkbox\" checked><label for=\"sk-estimator-id-4\" class=\"sk-toggleable__label sk-toggleable__label-arrow\">SVC</label><div class=\"sk-toggleable__content\"><pre>SVC(kernel=&#x27;linear&#x27;, random_state=0)</pre></div></div></div></div></div>"
      ],
      "text/plain": [
       "SVC(kernel='linear', random_state=0)"
      ]
     },
     "execution_count": 43,
     "metadata": {},
     "output_type": "execute_result"
    }
   ],
   "source": [
    "from sklearn.svm import SVC # \"Support vector classifier\"  \n",
    "classifier4 = SVC(kernel='linear', random_state=0)  \n",
    "classifier4.fit(x_train, y_train)  "
   ]
  },
  {
   "cell_type": "code",
   "execution_count": 44,
   "id": "70de01f6",
   "metadata": {
    "execution": {
     "iopub.execute_input": "2023-06-12T17:50:05.474878Z",
     "iopub.status.busy": "2023-06-12T17:50:05.474516Z",
     "iopub.status.idle": "2023-06-12T17:50:05.491407Z",
     "shell.execute_reply": "2023-06-12T17:50:05.490404Z"
    },
    "papermill": {
     "duration": 0.035742,
     "end_time": "2023-06-12T17:50:05.493159",
     "exception": false,
     "start_time": "2023-06-12T17:50:05.457417",
     "status": "completed"
    },
    "tags": []
   },
   "outputs": [
    {
     "data": {
      "text/plain": [
       "array([21, 21,  7,  3,  2, 20, 13,  9, 15,  1, 13,  5, 10, 14, 12,  0,  5,\n",
       "       10,  5, 12,  4,  2,  9,  8,  6,  5, 10, 16, 13,  9, 19, 20, 11, 15,\n",
       "        4,  6, 12, 12, 21, 13, 11,  2, 18, 21, 18, 14,  9,  9,  6, 14, 13,\n",
       "        2,  0, 15, 18,  1, 17, 12, 10,  6, 16, 14, 21, 20, 15,  0,  7,  5,\n",
       "        0, 16,  4, 19,  9, 11,  7, 13,  3, 11,  8, 12, 20,  2, 21, 21, 15,\n",
       "        6, 11, 10, 13, 17,  2,  8, 14,  7, 14, 11,  5,  8, 10,  3, 16,  8,\n",
       "       14,  1,  1, 20, 21,  5, 18, 15, 15, 12,  5,  7, 16, 19, 14, 10, 11,\n",
       "        8, 19, 10, 16,  3,  3,  2, 19, 16,  3, 17, 13, 13, 15, 14, 11, 14,\n",
       "        4, 19, 16,  2,  2,  7,  0,  5,  3,  0,  8, 12, 21, 17, 16,  4, 13,\n",
       "        1, 19,  3, 21,  2,  0,  8, 10, 18,  8,  9,  9, 15, 20, 15,  1, 16,\n",
       "       18,  0, 13,  4,  6, 14,  9, 19, 17, 16, 20, 17, 17,  9,  9,  1,  4,\n",
       "       18, 20, 17, 11,  8, 13, 20, 11,  5, 18,  4,  3, 12,  4, 19, 11, 13,\n",
       "       13, 16, 15, 11, 18,  1,  3,  2, 18, 16, 13, 14, 12, 17, 15, 19,  8,\n",
       "       20,  2, 17,  2,  5, 11,  5, 16, 20, 13, 14, 16,  9, 19,  4, 12, 14,\n",
       "        6, 20,  3, 14,  0, 18,  2, 20, 21,  2, 19, 16, 11,  7,  3, 18,  8,\n",
       "       17, 19,  5, 12, 13,  8, 21, 19, 20,  7,  4,  8, 10,  3,  5,  5, 17,\n",
       "       19, 11, 20,  3, 18, 16, 19, 18,  4,  9, 19, 15, 13, 12, 10,  1,  2,\n",
       "       12,  9, 12,  6, 14, 17,  7,  7, 18, 17,  8, 20,  3, 15,  5, 21,  8,\n",
       "        8, 17,  7, 15,  2, 13, 13,  3,  2, 12,  1, 12, 19,  8, 16, 15,  3,\n",
       "       10,  6, 17,  7,  9, 10,  0, 20, 15,  0, 17,  2,  8,  3, 13, 10,  7,\n",
       "       20,  9, 15, 17,  7, 17, 20,  5, 15, 13,  1, 17, 16,  9, 21, 18,  0,\n",
       "       21, 21, 18,  9, 10,  9,  8,  4,  6,  9, 16,  6, 18, 19,  6,  6,  0,\n",
       "        6,  0, 16, 11,  7,  1,  0, 13, 20,  9,  1, 20, 10,  3, 19,  1,  3,\n",
       "       15, 19,  0, 10, 15, 16,  2, 15, 13, 12,  3, 19, 12,  3,  4, 15,  1,\n",
       "       18, 17,  8, 13,  6, 20,  1,  4, 20,  2, 11, 16, 21, 20,  0,  7, 18,\n",
       "        7,  3, 12,  8, 19, 11, 12,  7,  1, 14, 18,  1,  6,  2,  0])"
      ]
     },
     "execution_count": 44,
     "metadata": {},
     "output_type": "execute_result"
    }
   ],
   "source": [
    "pred4=classifier4.predict(x_test)\n",
    "pred4"
   ]
  },
  {
   "cell_type": "code",
   "execution_count": 45,
   "id": "7d24a918",
   "metadata": {
    "execution": {
     "iopub.execute_input": "2023-06-12T17:50:05.527308Z",
     "iopub.status.busy": "2023-06-12T17:50:05.526809Z",
     "iopub.status.idle": "2023-06-12T17:50:05.534076Z",
     "shell.execute_reply": "2023-06-12T17:50:05.532908Z"
    },
    "papermill": {
     "duration": 0.026428,
     "end_time": "2023-06-12T17:50:05.535973",
     "exception": false,
     "start_time": "2023-06-12T17:50:05.509545",
     "status": "completed"
    },
    "tags": []
   },
   "outputs": [
    {
     "data": {
      "text/plain": [
       "array([21, 21,  7,  3,  2, 20, 13,  9, 15,  1, 13,  5, 10, 14, 12,  0,  5,\n",
       "       10,  5, 12,  4,  2,  9,  8,  6,  5, 10, 16, 13,  9, 19, 20, 11, 15,\n",
       "        4,  6, 12, 12, 21, 13, 11,  2, 18, 21, 18, 14,  9,  9,  6, 14, 13,\n",
       "        2,  0, 15, 18,  1, 17, 12, 10,  6, 16, 14, 21, 20, 15,  0,  7,  5,\n",
       "        0, 16,  4, 19,  9, 11,  7, 13,  3, 11,  8, 12, 20,  2, 21, 21, 15,\n",
       "        6, 11, 10, 13, 17,  2,  8, 14,  7, 14, 11,  5,  8, 10,  3, 16,  8,\n",
       "       14,  1,  1, 20, 21,  5, 18, 15, 15, 12,  5,  7, 16, 19, 14, 10, 11,\n",
       "        8, 19, 10, 16,  3,  3,  2, 19, 16,  3, 17, 13, 13, 15, 14, 11, 14,\n",
       "        4, 19, 16,  2,  2,  7,  0,  5,  3,  0,  8, 12, 21, 17, 16,  4, 13,\n",
       "        1, 19,  3, 21,  2,  0,  8, 10, 18,  8,  9,  9, 15, 20, 15,  1, 16,\n",
       "       18,  0, 13,  4,  6, 14,  9, 19, 17, 16, 20, 17, 17, 18,  9,  1,  4,\n",
       "       18, 20, 17, 11,  8, 13, 20, 11,  5, 18,  4,  3, 12,  4, 19, 11, 13,\n",
       "       13, 16, 15, 11, 18,  1,  3,  2, 18, 16, 13, 14, 12, 17, 15, 19, 20,\n",
       "       20,  2, 17,  2,  5, 11,  5, 16, 20, 13, 14, 16,  9, 19,  4, 12, 14,\n",
       "        6, 20,  3, 14,  0, 18,  2, 20, 21,  2, 19, 16, 11,  7,  3, 18,  8,\n",
       "       17, 19,  5, 12, 13,  8, 21, 19, 20,  7,  4,  8, 10,  3,  5,  5, 17,\n",
       "       19, 11, 20,  3, 18, 16, 19, 18,  4,  9, 19, 15, 13, 12, 10,  1,  2,\n",
       "       12,  9, 12,  6, 14, 17,  7,  7, 18, 17,  8, 20,  3, 15,  5, 21, 20,\n",
       "        8, 17,  7, 15,  2, 13, 13,  3,  2, 12,  1, 12, 19,  8, 16, 15,  3,\n",
       "       10,  6, 17,  7,  9, 10,  0, 20, 15,  0, 17,  2,  8,  3, 13, 10,  7,\n",
       "        8,  9, 15, 17,  7, 17, 20,  5, 15, 13,  1, 17, 16,  9, 21, 18,  0,\n",
       "       21, 21, 18,  9, 13,  9,  8,  4,  6,  9, 16,  6, 18, 19,  6,  6,  0,\n",
       "        6,  0, 16, 11,  7,  1,  0, 13, 20,  9,  1, 20, 10,  3, 19,  1,  3,\n",
       "       15, 19,  0, 10, 15, 16,  2, 15, 13, 12,  3, 19, 12,  3,  4, 15,  1,\n",
       "       18, 17,  8, 10,  6, 20,  1,  4, 20,  2, 11, 16, 21, 20,  0,  7, 18,\n",
       "        7,  3, 12,  8, 19, 11, 12,  7,  1, 14, 18,  1,  6,  2,  0])"
      ]
     },
     "execution_count": 45,
     "metadata": {},
     "output_type": "execute_result"
    }
   ],
   "source": [
    "y_test"
   ]
  },
  {
   "cell_type": "code",
   "execution_count": 46,
   "id": "324f6f54",
   "metadata": {
    "execution": {
     "iopub.execute_input": "2023-06-12T17:50:05.574376Z",
     "iopub.status.busy": "2023-06-12T17:50:05.574037Z",
     "iopub.status.idle": "2023-06-12T17:50:05.581107Z",
     "shell.execute_reply": "2023-06-12T17:50:05.579389Z"
    },
    "papermill": {
     "duration": 0.029308,
     "end_time": "2023-06-12T17:50:05.583647",
     "exception": false,
     "start_time": "2023-06-12T17:50:05.554339",
     "status": "completed"
    },
    "tags": []
   },
   "outputs": [
    {
     "name": "stdout",
     "output_type": "stream",
     "text": [
      "0.9863636363636363\n"
     ]
    }
   ],
   "source": [
    "from sklearn.metrics import accuracy_score\n",
    "print(accuracy_score(y_test,pred4))"
   ]
  }
 ],
 "metadata": {
  "kernelspec": {
   "display_name": "Python 3",
   "language": "python",
   "name": "python3"
  },
  "language_info": {
   "codemirror_mode": {
    "name": "ipython",
    "version": 3
   },
   "file_extension": ".py",
   "mimetype": "text/x-python",
   "name": "python",
   "nbconvert_exporter": "python",
   "pygments_lexer": "ipython3",
   "version": "3.10.10"
  },
  "papermill": {
   "default_parameters": {},
   "duration": 21.512501,
   "end_time": "2023-06-12T17:50:06.825946",
   "environment_variables": {},
   "exception": null,
   "input_path": "__notebook__.ipynb",
   "output_path": "__notebook__.ipynb",
   "parameters": {},
   "start_time": "2023-06-12T17:49:45.313445",
   "version": "2.4.0"
  }
 },
 "nbformat": 4,
 "nbformat_minor": 5
}
